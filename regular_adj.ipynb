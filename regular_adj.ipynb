{
  "nbformat": 4,
  "nbformat_minor": 0,
  "metadata": {
    "colab": {
      "name": "regular-adj.ipynb",
      "provenance": [],
      "collapsed_sections": []
    },
    "kernelspec": {
      "name": "python3",
      "display_name": "Python 3"
    },
    "language_info": {
      "name": "python"
    },
    "accelerator": "GPU"
  },
  "cells": [
    {
      "cell_type": "code",
      "execution_count": 1,
      "metadata": {
        "colab": {
          "base_uri": "https://localhost:8080/"
        },
        "id": "vbvO3sVMm0pZ",
        "outputId": "e291db7d-0adb-4d44-bb86-3ac4ac2fe9f9"
      },
      "outputs": [
        {
          "output_type": "stream",
          "name": "stdout",
          "text": [
            "1.11.0+cu113\n",
            "\u001b[K     |████████████████████████████████| 7.9 MB 34.6 MB/s \n",
            "\u001b[K     |████████████████████████████████| 3.5 MB 28.3 MB/s \n",
            "\u001b[?25h  Building wheel for torch-geometric (setup.py) ... \u001b[?25l\u001b[?25hdone\n"
          ]
        }
      ],
      "source": [
        "# Install required packages.\n",
        "import os\n",
        "import torch\n",
        "os.environ['TORCH'] = torch.__version__\n",
        "print(torch.__version__)\n",
        "\n",
        "!pip install -q torch-scatter -f https://data.pyg.org/whl/torch-${TORCH}.html\n",
        "!pip install -q torch-sparse -f https://data.pyg.org/whl/torch-${TORCH}.html\n",
        "!pip install -q git+https://github.com/pyg-team/pytorch_geometric.git\n",
        "\n",
        "# Helper function for visualization.\n",
        "%matplotlib inline\n",
        "import networkx as nx\n",
        "import matplotlib.pyplot as plt\n"
      ]
    },
    {
      "cell_type": "code",
      "source": [
        "pip install deepchem"
      ],
      "metadata": {
        "colab": {
          "base_uri": "https://localhost:8080/"
        },
        "id": "qLsvClTa7a1O",
        "outputId": "179526de-7d9b-4d76-aa65-54e8458be3ed"
      },
      "execution_count": 2,
      "outputs": [
        {
          "output_type": "stream",
          "name": "stdout",
          "text": [
            "Looking in indexes: https://pypi.org/simple, https://us-python.pkg.dev/colab-wheels/public/simple/\n",
            "Collecting deepchem\n",
            "  Downloading deepchem-2.6.1-py3-none-any.whl (608 kB)\n",
            "\u001b[K     |████████████████████████████████| 608 kB 29.1 MB/s \n",
            "\u001b[?25hRequirement already satisfied: scikit-learn in /usr/local/lib/python3.7/dist-packages (from deepchem) (1.0.2)\n",
            "Requirement already satisfied: joblib in /usr/local/lib/python3.7/dist-packages (from deepchem) (1.1.0)\n",
            "Collecting rdkit-pypi\n",
            "  Downloading rdkit_pypi-2022.3.3-cp37-cp37m-manylinux_2_17_x86_64.manylinux2014_x86_64.whl (22.7 MB)\n",
            "\u001b[K     |████████████████████████████████| 22.7 MB 19.3 MB/s \n",
            "\u001b[?25hRequirement already satisfied: numpy>=1.21 in /usr/local/lib/python3.7/dist-packages (from deepchem) (1.21.6)\n",
            "Requirement already satisfied: pandas in /usr/local/lib/python3.7/dist-packages (from deepchem) (1.3.5)\n",
            "Requirement already satisfied: scipy in /usr/local/lib/python3.7/dist-packages (from deepchem) (1.4.1)\n",
            "Requirement already satisfied: pytz>=2017.3 in /usr/local/lib/python3.7/dist-packages (from pandas->deepchem) (2022.1)\n",
            "Requirement already satisfied: python-dateutil>=2.7.3 in /usr/local/lib/python3.7/dist-packages (from pandas->deepchem) (2.8.2)\n",
            "Requirement already satisfied: six>=1.5 in /usr/local/lib/python3.7/dist-packages (from python-dateutil>=2.7.3->pandas->deepchem) (1.15.0)\n",
            "Requirement already satisfied: Pillow in /usr/local/lib/python3.7/dist-packages (from rdkit-pypi->deepchem) (7.1.2)\n",
            "Requirement already satisfied: threadpoolctl>=2.0.0 in /usr/local/lib/python3.7/dist-packages (from scikit-learn->deepchem) (3.1.0)\n",
            "Installing collected packages: rdkit-pypi, deepchem\n",
            "Successfully installed deepchem-2.6.1 rdkit-pypi-2022.3.3\n"
          ]
        }
      ]
    },
    {
      "cell_type": "code",
      "source": [
        "import torch\n",
        "import pandas as pd\n",
        "import numpy as np\n",
        "import torch_geometric.transforms as T\n",
        "import torch_geometric\n",
        "from torch_geometric.data import Dataset\n",
        "import numpy as np \n",
        "import os\n",
        "import deepchem as dc\n",
        "import torch.nn as nn\n",
        "from torch.nn import Linear,BatchNorm1d\n",
        "from torch_geometric.nn import GCNConv,GATConv\n",
        "from torch_geometric.nn import BatchNorm\n",
        "from tqdm import tqdm\n",
        "from torch_geometric.data import DataLoader\n",
        "from sklearn.metrics import roc_curve\n",
        "from sklearn.metrics import roc_auc_score\n",
        "from sklearn.metrics import precision_recall_curve\n",
        "from matplotlib import pyplot\n",
        "from sklearn import metrics\n",
        "from sklearn.preprocessing import label_binarize\n",
        "from sklearn.metrics import average_precision_score\n",
        "import seaborn as sns\n",
        "import pandas as pd \n",
        "from sklearn.metrics import f1_score\n",
        "from sklearn.metrics import confusion_matrix\n",
        "import math\n",
        "from sklearn.metrics import accuracy_score\n",
        "import warnings\n",
        "warnings.filterwarnings(\"ignore\")"
      ],
      "metadata": {
        "id": "gk37d5PHm6w4"
      },
      "execution_count": 3,
      "outputs": []
    },
    {
      "cell_type": "code",
      "source": [
        "data = pd.read_csv('raw/totalData.csv')\n",
        "data.head() "
      ],
      "metadata": {
        "colab": {
          "base_uri": "https://localhost:8080/",
          "height": 204
        },
        "id": "fvfudyK3m9vy",
        "outputId": "41df0e37-09a1-4cc8-f7ea-48d8a740061a"
      },
      "execution_count": 4,
      "outputs": [
        {
          "output_type": "execute_result",
          "data": {
            "text/plain": [
              "   Unnamed: 0 Drug1_ID                                       Drug1_SMILES\n",
              "0           0  DB00706   CCOc1ccccc1OCCN[C@H](C)Cc1ccc(OC)c(S(N)(=O)=O)c1\n",
              "1           1  DB01023    CCOC(=O)C1=C(C)NC(C)=C(C(=O)OC)C1c1cccc(Cl)c1Cl\n",
              "2           2   3849.0  C[C@@H](Oc1ccc2[nH]nc(/C=C/c3cnn(CCO)c3)c2c1)c...\n",
              "3           3   3515.0      COc1ccc2c(c1)c(CC(=O)O)c(C)n2C(=O)c1ccc(I)cc1\n",
              "4           4   6380.0                      O=P(O)(O)OCCCc1c[nH]c2ccccc12"
            ],
            "text/html": [
              "\n",
              "  <div id=\"df-4122f179-3eb8-43d2-8da7-155b76d0b368\">\n",
              "    <div class=\"colab-df-container\">\n",
              "      <div>\n",
              "<style scoped>\n",
              "    .dataframe tbody tr th:only-of-type {\n",
              "        vertical-align: middle;\n",
              "    }\n",
              "\n",
              "    .dataframe tbody tr th {\n",
              "        vertical-align: top;\n",
              "    }\n",
              "\n",
              "    .dataframe thead th {\n",
              "        text-align: right;\n",
              "    }\n",
              "</style>\n",
              "<table border=\"1\" class=\"dataframe\">\n",
              "  <thead>\n",
              "    <tr style=\"text-align: right;\">\n",
              "      <th></th>\n",
              "      <th>Unnamed: 0</th>\n",
              "      <th>Drug1_ID</th>\n",
              "      <th>Drug1_SMILES</th>\n",
              "    </tr>\n",
              "  </thead>\n",
              "  <tbody>\n",
              "    <tr>\n",
              "      <th>0</th>\n",
              "      <td>0</td>\n",
              "      <td>DB00706</td>\n",
              "      <td>CCOc1ccccc1OCCN[C@H](C)Cc1ccc(OC)c(S(N)(=O)=O)c1</td>\n",
              "    </tr>\n",
              "    <tr>\n",
              "      <th>1</th>\n",
              "      <td>1</td>\n",
              "      <td>DB01023</td>\n",
              "      <td>CCOC(=O)C1=C(C)NC(C)=C(C(=O)OC)C1c1cccc(Cl)c1Cl</td>\n",
              "    </tr>\n",
              "    <tr>\n",
              "      <th>2</th>\n",
              "      <td>2</td>\n",
              "      <td>3849.0</td>\n",
              "      <td>C[C@@H](Oc1ccc2[nH]nc(/C=C/c3cnn(CCO)c3)c2c1)c...</td>\n",
              "    </tr>\n",
              "    <tr>\n",
              "      <th>3</th>\n",
              "      <td>3</td>\n",
              "      <td>3515.0</td>\n",
              "      <td>COc1ccc2c(c1)c(CC(=O)O)c(C)n2C(=O)c1ccc(I)cc1</td>\n",
              "    </tr>\n",
              "    <tr>\n",
              "      <th>4</th>\n",
              "      <td>4</td>\n",
              "      <td>6380.0</td>\n",
              "      <td>O=P(O)(O)OCCCc1c[nH]c2ccccc12</td>\n",
              "    </tr>\n",
              "  </tbody>\n",
              "</table>\n",
              "</div>\n",
              "      <button class=\"colab-df-convert\" onclick=\"convertToInteractive('df-4122f179-3eb8-43d2-8da7-155b76d0b368')\"\n",
              "              title=\"Convert this dataframe to an interactive table.\"\n",
              "              style=\"display:none;\">\n",
              "        \n",
              "  <svg xmlns=\"http://www.w3.org/2000/svg\" height=\"24px\"viewBox=\"0 0 24 24\"\n",
              "       width=\"24px\">\n",
              "    <path d=\"M0 0h24v24H0V0z\" fill=\"none\"/>\n",
              "    <path d=\"M18.56 5.44l.94 2.06.94-2.06 2.06-.94-2.06-.94-.94-2.06-.94 2.06-2.06.94zm-11 1L8.5 8.5l.94-2.06 2.06-.94-2.06-.94L8.5 2.5l-.94 2.06-2.06.94zm10 10l.94 2.06.94-2.06 2.06-.94-2.06-.94-.94-2.06-.94 2.06-2.06.94z\"/><path d=\"M17.41 7.96l-1.37-1.37c-.4-.4-.92-.59-1.43-.59-.52 0-1.04.2-1.43.59L10.3 9.45l-7.72 7.72c-.78.78-.78 2.05 0 2.83L4 21.41c.39.39.9.59 1.41.59.51 0 1.02-.2 1.41-.59l7.78-7.78 2.81-2.81c.8-.78.8-2.07 0-2.86zM5.41 20L4 18.59l7.72-7.72 1.47 1.35L5.41 20z\"/>\n",
              "  </svg>\n",
              "      </button>\n",
              "      \n",
              "  <style>\n",
              "    .colab-df-container {\n",
              "      display:flex;\n",
              "      flex-wrap:wrap;\n",
              "      gap: 12px;\n",
              "    }\n",
              "\n",
              "    .colab-df-convert {\n",
              "      background-color: #E8F0FE;\n",
              "      border: none;\n",
              "      border-radius: 50%;\n",
              "      cursor: pointer;\n",
              "      display: none;\n",
              "      fill: #1967D2;\n",
              "      height: 32px;\n",
              "      padding: 0 0 0 0;\n",
              "      width: 32px;\n",
              "    }\n",
              "\n",
              "    .colab-df-convert:hover {\n",
              "      background-color: #E2EBFA;\n",
              "      box-shadow: 0px 1px 2px rgba(60, 64, 67, 0.3), 0px 1px 3px 1px rgba(60, 64, 67, 0.15);\n",
              "      fill: #174EA6;\n",
              "    }\n",
              "\n",
              "    [theme=dark] .colab-df-convert {\n",
              "      background-color: #3B4455;\n",
              "      fill: #D2E3FC;\n",
              "    }\n",
              "\n",
              "    [theme=dark] .colab-df-convert:hover {\n",
              "      background-color: #434B5C;\n",
              "      box-shadow: 0px 1px 3px 1px rgba(0, 0, 0, 0.15);\n",
              "      filter: drop-shadow(0px 1px 2px rgba(0, 0, 0, 0.3));\n",
              "      fill: #FFFFFF;\n",
              "    }\n",
              "  </style>\n",
              "\n",
              "      <script>\n",
              "        const buttonEl =\n",
              "          document.querySelector('#df-4122f179-3eb8-43d2-8da7-155b76d0b368 button.colab-df-convert');\n",
              "        buttonEl.style.display =\n",
              "          google.colab.kernel.accessAllowed ? 'block' : 'none';\n",
              "\n",
              "        async function convertToInteractive(key) {\n",
              "          const element = document.querySelector('#df-4122f179-3eb8-43d2-8da7-155b76d0b368');\n",
              "          const dataTable =\n",
              "            await google.colab.kernel.invokeFunction('convertToInteractive',\n",
              "                                                     [key], {});\n",
              "          if (!dataTable) return;\n",
              "\n",
              "          const docLinkHtml = 'Like what you see? Visit the ' +\n",
              "            '<a target=\"_blank\" href=https://colab.research.google.com/notebooks/data_table.ipynb>data table notebook</a>'\n",
              "            + ' to learn more about interactive tables.';\n",
              "          element.innerHTML = '';\n",
              "          dataTable['output_type'] = 'display_data';\n",
              "          await google.colab.output.renderOutput(dataTable, element);\n",
              "          const docLink = document.createElement('div');\n",
              "          docLink.innerHTML = docLinkHtml;\n",
              "          element.appendChild(docLink);\n",
              "        }\n",
              "      </script>\n",
              "    </div>\n",
              "  </div>\n",
              "  "
            ]
          },
          "metadata": {},
          "execution_count": 4
        }
      ]
    },
    {
      "cell_type": "code",
      "source": [
        ""
      ],
      "metadata": {
        "id": "QiWgsKsInK2U"
      },
      "execution_count": 4,
      "outputs": []
    },
    {
      "cell_type": "code",
      "source": [
        "print(f\"Torch version: {torch.__version__}\")\n",
        "print(f\"Cuda available: {torch.cuda.is_available()}\")\n",
        "print(f\"Torch geometric version: {torch_geometric.__version__}\")\n",
        "\n",
        "remove = []\n",
        "\n",
        "class MoleculeDataset(Dataset):\n",
        "    def __init__(self, root, filename, test=False, transform=None, pre_transform=None):\n",
        "        \"\"\"\n",
        "        root = Where the dataset should be stored. This folder is split\n",
        "        into raw_dir (downloaded dataset) and processed_dir (processed data). \n",
        "        \"\"\"\n",
        "        self.test = test\n",
        "        self.filename = filename\n",
        "        self.sz = 0\n",
        "        super(MoleculeDataset, self).__init__(root, transform, pre_transform)\n",
        "        \n",
        "    @property\n",
        "    def raw_file_names(self):\n",
        "        \"\"\" If this file exists in raw_dir, the download is not triggered.\n",
        "            (The download func. is not implemented here)  \n",
        "        \"\"\"\n",
        "        return self.filename\n",
        "\n",
        "    @property\n",
        "    def processed_file_names(self):\n",
        "        \"\"\" If these files are found in raw_dir, processing is skipped\"\"\"\n",
        "        self.data = pd.read_csv(self.raw_paths[0]).reset_index()\n",
        "\n",
        "        if self.test:\n",
        "            return [f'data_test_{i}.pt' for i in list(self.data.index)]\n",
        "        else:\n",
        "            return [f'data_{i}.pt' for i in list(self.data.index)]\n",
        "        \n",
        "\n",
        "    def download(self):\n",
        "        pass\n",
        "\n",
        "    def process(self):\n",
        "        self.data = pd.read_csv(self.raw_paths[0]).reset_index()\n",
        "        featurizer = dc.feat.MolGraphConvFeaturizer(use_edges=True)\n",
        "        count = 0\n",
        "        for index, mol in tqdm(self.data.iterrows(), total=self.data.shape[0]):\n",
        "            # Featurize molecule\n",
        "            if type(mol[\"Drug1_SMILES\"])==float:\n",
        "              remove.append(mol[\"Drug1_ID\"])\n",
        "              continue\n",
        "            f = featurizer.featurize(mol[\"Drug1_SMILES\"])\n",
        "            if not f : \n",
        "              remove.append(mol[\"Drug1_ID\"])\n",
        "              print(count)\n",
        "              continue\n",
        "            data = f[0].to_pyg_graph()\n",
        "            data.y = 1\n",
        "            data.smiles = mol[\"Drug1_SMILES\"]\n",
        "            data.id = mol[\"Drug1_ID\"]\n",
        "            if self.test:\n",
        "                torch.save(data, \n",
        "                    os.path.join(self.processed_dir, \n",
        "                                f'data_test_{count}.pt'))\n",
        "            else:\n",
        "                torch.save(data, \n",
        "                    os.path.join(self.processed_dir, \n",
        "                                f'data_{count}.pt'))\n",
        "            count+=1\n",
        "        self.sz = count\n",
        "\n",
        "    def _get_label(self, label):\n",
        "        label = np.asarray([label])\n",
        "        return torch.tensor(label, dtype=torch.int64)\n",
        "\n",
        "    def len(self):\n",
        "        return self.sz\n",
        "        #return self.data.shape[0]\n",
        "\n",
        "    def get(self, idx):\n",
        "        \"\"\" - Equivalent to __getitem__ in pytorch\n",
        "            - Is not needed for PyG's InMemoryDataset\n",
        "        \"\"\"\n",
        "        if self.test:\n",
        "            data = torch.load(os.path.join(self.processed_dir, \n",
        "                                 f'data_test_{idx}.pt'))\n",
        "        else:\n",
        "            data = torch.load(os.path.join(self.processed_dir, \n",
        "                                 f'data_{idx}.pt'))        \n",
        "        return data\n",
        "\n",
        "encoder_set = MoleculeDataset(\"\",\"totalData.csv\")"
      ],
      "metadata": {
        "colab": {
          "base_uri": "https://localhost:8080/"
        },
        "id": "dM3rZVypnOrF",
        "outputId": "ba7db6bb-117f-440b-e685-a38201d3c853"
      },
      "execution_count": 5,
      "outputs": [
        {
          "output_type": "stream",
          "name": "stderr",
          "text": [
            "Processing...\n"
          ]
        },
        {
          "output_type": "stream",
          "name": "stdout",
          "text": [
            "Torch version: 1.11.0+cu113\n",
            "Cuda available: True\n",
            "Torch geometric version: 2.0.5\n"
          ]
        },
        {
          "output_type": "stream",
          "name": "stderr",
          "text": [
            "  1%|          | 59/10951 [00:00<01:58, 92.28it/s]Failed to featurize datapoint 0, [Mg+2].[OH-].[OH-]. Appending empty array\n",
            "Exception message: zero-size array to reduction operation maximum which has no identity\n",
            "  1%|          | 69/10951 [00:00<02:02, 89.07it/s]Failed to featurize datapoint 0, [Gd+3]. Appending empty array\n",
            "Exception message: More than one atom should be present in the molecule for this featurizer to work.\n",
            "  1%|          | 79/10951 [00:01<02:07, 85.13it/s]"
          ]
        },
        {
          "output_type": "stream",
          "name": "stdout",
          "text": [
            "68\n",
            "76\n"
          ]
        },
        {
          "output_type": "stream",
          "name": "stderr",
          "text": [
            "  1%|▏         | 149/10951 [00:02<02:43, 65.91it/s]Failed to featurize datapoint 0, [81Kr]. Appending empty array\n",
            "Exception message: More than one atom should be present in the molecule for this featurizer to work.\n",
            "  1%|▏         | 158/10951 [00:02<02:44, 65.61it/s]Failed to featurize datapoint 0, [Li+]. Appending empty array\n",
            "Exception message: More than one atom should be present in the molecule for this featurizer to work.\n"
          ]
        },
        {
          "output_type": "stream",
          "name": "stdout",
          "text": [
            "149\n",
            "163\n"
          ]
        },
        {
          "output_type": "stream",
          "name": "stderr",
          "text": [
            "  3%|▎         | 349/10951 [00:05<01:58, 89.12it/s]Failed to featurize datapoint 0, [Al+3].[OH-].[OH-].[OH-]. Appending empty array\n",
            "Exception message: zero-size array to reduction operation maximum which has no identity\n",
            "  3%|▎         | 369/10951 [00:05<02:04, 85.04it/s]"
          ]
        },
        {
          "output_type": "stream",
          "name": "stdout",
          "text": [
            "349\n"
          ]
        },
        {
          "output_type": "stream",
          "name": "stderr",
          "text": [
            "  4%|▍         | 425/10951 [00:06<02:06, 83.01it/s]Failed to featurize datapoint 0, [I-].[K+]. Appending empty array\n",
            "Exception message: zero-size array to reduction operation maximum which has no identity\n",
            "Failed to featurize datapoint 0, [Sb+5]. Appending empty array\n",
            "Exception message: More than one atom should be present in the molecule for this featurizer to work.\n",
            "  4%|▍         | 435/10951 [00:06<02:04, 84.18it/s]"
          ]
        },
        {
          "output_type": "stream",
          "name": "stdout",
          "text": [
            "420\n",
            "427\n"
          ]
        },
        {
          "output_type": "stream",
          "name": "stderr",
          "text": [
            "  5%|▍         | 495/10951 [00:07<01:56, 89.75it/s]Failed to featurize datapoint 0, [Cr+3]. Appending empty array\n",
            "Exception message: More than one atom should be present in the molecule for this featurizer to work.\n",
            "  5%|▍         | 515/10951 [00:07<01:55, 90.51it/s]"
          ]
        },
        {
          "output_type": "stream",
          "name": "stdout",
          "text": [
            "491\n"
          ]
        },
        {
          "output_type": "stream",
          "name": "stderr",
          "text": [
            "  5%|▌         | 595/10951 [00:08<01:58, 87.05it/s]Failed to featurize datapoint 0, [Fe]. Appending empty array\n",
            "Exception message: More than one atom should be present in the molecule for this featurizer to work.\n",
            "  6%|▌         | 616/10951 [00:08<01:58, 86.99it/s]"
          ]
        },
        {
          "output_type": "stream",
          "name": "stdout",
          "text": [
            "590\n"
          ]
        },
        {
          "output_type": "stream",
          "name": "stderr",
          "text": [
            "  6%|▌         | 636/10951 [00:08<02:03, 83.66it/s]Failed to featurize datapoint 0, [Cl-].[Cl-].[Mg+2]. Appending empty array\n",
            "Exception message: zero-size array to reduction operation maximum which has no identity\n",
            "  6%|▌         | 655/10951 [00:09<01:59, 85.97it/s]"
          ]
        },
        {
          "output_type": "stream",
          "name": "stdout",
          "text": [
            "629\n"
          ]
        },
        {
          "output_type": "stream",
          "name": "stderr",
          "text": [
            "  8%|▊         | 919/10951 [00:15<06:08, 27.22it/s]Failed to featurize datapoint 0, [Mg+2].[O-2]. Appending empty array\n",
            "Exception message: zero-size array to reduction operation maximum which has no identity\n",
            "  8%|▊         | 923/10951 [00:16<06:51, 24.36it/s]"
          ]
        },
        {
          "output_type": "stream",
          "name": "stdout",
          "text": [
            "911\n"
          ]
        },
        {
          "output_type": "stream",
          "name": "stderr",
          "text": [
            "  9%|▊         | 942/10951 [00:16<04:08, 40.34it/s]Failed to featurize datapoint 0, [13NH3]. Appending empty array\n",
            "Exception message: More than one atom should be present in the molecule for this featurizer to work.\n",
            "  9%|▊         | 955/10951 [00:16<03:28, 48.00it/s]"
          ]
        },
        {
          "output_type": "stream",
          "name": "stdout",
          "text": [
            "934\n"
          ]
        },
        {
          "output_type": "stream",
          "name": "stderr",
          "text": [
            "  9%|▉         | 1017/10951 [00:18<04:07, 40.16it/s]Failed to featurize datapoint 0, [Zn+2]. Appending empty array\n",
            "Exception message: More than one atom should be present in the molecule for this featurizer to work.\n",
            "  9%|▉         | 1030/10951 [00:18<03:40, 45.03it/s]"
          ]
        },
        {
          "output_type": "stream",
          "name": "stdout",
          "text": [
            "1008\n"
          ]
        },
        {
          "output_type": "stream",
          "name": "stderr",
          "text": [
            " 11%|█         | 1218/10951 [00:23<05:03, 32.10it/s]Failed to featurize datapoint 0, [I-].[K+]. Appending empty array\n",
            "Exception message: zero-size array to reduction operation maximum which has no identity\n",
            " 11%|█         | 1224/10951 [00:23<04:20, 37.35it/s]"
          ]
        },
        {
          "output_type": "stream",
          "name": "stdout",
          "text": [
            "1205\n"
          ]
        },
        {
          "output_type": "stream",
          "name": "stderr",
          "text": [
            " 11%|█▏        | 1237/10951 [00:24<03:37, 44.57it/s]Failed to featurize datapoint 0, [131I-]. Appending empty array\n",
            "Exception message: More than one atom should be present in the molecule for this featurizer to work.\n",
            " 11%|█▏        | 1242/10951 [00:24<03:57, 40.94it/s]"
          ]
        },
        {
          "output_type": "stream",
          "name": "stdout",
          "text": [
            "1224\n"
          ]
        },
        {
          "output_type": "stream",
          "name": "stderr",
          "text": [
            " 12%|█▏        | 1284/10951 [00:25<05:50, 27.58it/s]Failed to featurize datapoint 0, [Cl-].[NH4+]. Appending empty array\n",
            "Exception message: zero-size array to reduction operation maximum which has no identity\n",
            " 12%|█▏        | 1292/10951 [00:25<06:02, 26.67it/s]"
          ]
        },
        {
          "output_type": "stream",
          "name": "stdout",
          "text": [
            "1271\n"
          ]
        },
        {
          "output_type": "stream",
          "name": "stderr",
          "text": [
            " 12%|█▏        | 1316/10951 [00:26<05:13, 30.77it/s]Failed to featurize datapoint 0, [89Sr+2]. Appending empty array\n",
            "Exception message: More than one atom should be present in the molecule for this featurizer to work.\n",
            " 12%|█▏        | 1326/10951 [00:27<04:50, 33.09it/s]"
          ]
        },
        {
          "output_type": "stream",
          "name": "stdout",
          "text": [
            "1304\n"
          ]
        },
        {
          "output_type": "stream",
          "name": "stderr",
          "text": [
            " 14%|█▍        | 1533/10951 [00:33<03:54, 40.10it/s]Failed to featurize datapoint 0, [3He]. Appending empty array\n",
            "Exception message: More than one atom should be present in the molecule for this featurizer to work.\n",
            " 14%|█▍        | 1538/10951 [00:33<03:42, 42.24it/s]"
          ]
        },
        {
          "output_type": "stream",
          "name": "stdout",
          "text": [
            "1518\n"
          ]
        },
        {
          "output_type": "stream",
          "name": "stderr",
          "text": [
            " 14%|█▍        | 1557/10951 [00:34<03:12, 48.79it/s]Failed to featurize datapoint 0, [Cl-].[K+]. Appending empty array\n",
            "Exception message: zero-size array to reduction operation maximum which has no identity\n",
            " 14%|█▍        | 1571/10951 [00:34<03:05, 50.49it/s]"
          ]
        },
        {
          "output_type": "stream",
          "name": "stdout",
          "text": [
            "1545\n"
          ]
        },
        {
          "output_type": "stream",
          "name": "stderr",
          "text": [
            "Failed to featurize datapoint 0, [La+3]. Appending empty array\n",
            "Exception message: More than one atom should be present in the molecule for this featurizer to work.\n",
            "Failed to featurize datapoint 0, [Zn]. Appending empty array\n",
            "Exception message: More than one atom should be present in the molecule for this featurizer to work.\n",
            " 14%|█▍        | 1577/10951 [00:34<03:02, 51.34it/s]"
          ]
        },
        {
          "output_type": "stream",
          "name": "stdout",
          "text": [
            "1554\n",
            "1554\n"
          ]
        },
        {
          "output_type": "stream",
          "name": "stderr",
          "text": [
            " 15%|█▌        | 1670/10951 [00:39<13:27, 11.49it/s]Failed to featurize datapoint 0, [Co]. Appending empty array\n",
            "Exception message: More than one atom should be present in the molecule for this featurizer to work.\n",
            " 15%|█▌        | 1686/10951 [00:39<07:44, 19.95it/s]"
          ]
        },
        {
          "output_type": "stream",
          "name": "stdout",
          "text": [
            "1656\n"
          ]
        },
        {
          "output_type": "stream",
          "name": "stderr",
          "text": [
            " 17%|█▋        | 1833/10951 [00:41<02:06, 72.03it/s]Failed to featurize datapoint 0, O.O.O.O.[98Tc-]. Appending empty array\n",
            "Exception message: zero-size array to reduction operation maximum which has no identity\n",
            " 17%|█▋        | 1853/10951 [00:41<01:50, 82.14it/s]"
          ]
        },
        {
          "output_type": "stream",
          "name": "stdout",
          "text": [
            "1811\n"
          ]
        },
        {
          "output_type": "stream",
          "name": "stderr",
          "text": [
            " 18%|█▊        | 1932/10951 [00:42<01:57, 76.79it/s]Failed to featurize datapoint 0, [Na+]. Appending empty array\n",
            "Exception message: More than one atom should be present in the molecule for this featurizer to work.\n",
            " 18%|█▊        | 1940/10951 [00:42<02:11, 68.33it/s]"
          ]
        },
        {
          "output_type": "stream",
          "name": "stdout",
          "text": [
            "1913\n"
          ]
        },
        {
          "output_type": "stream",
          "name": "stderr",
          "text": [
            " 18%|█▊        | 1957/10951 [00:42<02:04, 71.98it/s]Failed to featurize datapoint 0, [Cl-].[Cl-].[Sn+2]. Appending empty array\n",
            "Exception message: zero-size array to reduction operation maximum which has no identity\n",
            " 18%|█▊        | 1977/10951 [00:42<01:49, 81.62it/s]Failed to featurize datapoint 0, [Mg+2].[OH-].[OH-]. Appending empty array\n",
            "Exception message: zero-size array to reduction operation maximum which has no identity\n"
          ]
        },
        {
          "output_type": "stream",
          "name": "stdout",
          "text": [
            "1942\n",
            "1961\n"
          ]
        },
        {
          "output_type": "stream",
          "name": "stderr",
          "text": [
            " 20%|█▉        | 2140/10951 [00:44<01:37, 90.37it/s] Failed to featurize datapoint 0, O. Appending empty array\n",
            "Exception message: More than one atom should be present in the molecule for this featurizer to work.\n",
            " 20%|█▉        | 2165/10951 [00:44<01:25, 102.61it/s]"
          ]
        },
        {
          "output_type": "stream",
          "name": "stdout",
          "text": [
            "2116\n"
          ]
        },
        {
          "output_type": "stream",
          "name": "stderr",
          "text": [
            " 24%|██▍       | 2666/10951 [00:50<01:24, 98.48it/s]Failed to featurize datapoint 0, [89Sr+2].[Cl-].[Cl-]. Appending empty array\n",
            "Exception message: zero-size array to reduction operation maximum which has no identity\n",
            " 25%|██▍       | 2686/10951 [00:50<01:32, 88.95it/s]"
          ]
        },
        {
          "output_type": "stream",
          "name": "stdout",
          "text": [
            "2643\n"
          ]
        },
        {
          "output_type": "stream",
          "name": "stderr",
          "text": [
            " 26%|██▌       | 2809/10951 [00:52<01:24, 96.60it/s] Failed to featurize datapoint 0, [Cl-].[Cl-].[Zn+2]. Appending empty array\n",
            "Exception message: zero-size array to reduction operation maximum which has no identity\n",
            " 26%|██▌       | 2819/10951 [00:52<01:26, 94.05it/s]Failed to featurize datapoint 0, [Pt]. Appending empty array\n",
            "Exception message: More than one atom should be present in the molecule for this featurizer to work.\n",
            " 26%|██▌       | 2829/10951 [00:52<01:30, 89.43it/s]"
          ]
        },
        {
          "output_type": "stream",
          "name": "stdout",
          "text": [
            "2788\n",
            "2795\n"
          ]
        },
        {
          "output_type": "stream",
          "name": "stderr",
          "text": [
            "\r 26%|██▌       | 2840/10951 [00:52<01:27, 92.38it/s]Failed to featurize datapoint 0, [223Ra+2]. Appending empty array\n",
            "Exception message: More than one atom should be present in the molecule for this featurizer to work.\n",
            "Failed to featurize datapoint 0, [67Ga+3]. Appending empty array\n",
            "Exception message: More than one atom should be present in the molecule for this featurizer to work.\n",
            " 26%|██▌       | 2861/10951 [00:52<01:27, 92.51it/s]"
          ]
        },
        {
          "output_type": "stream",
          "name": "stdout",
          "text": [
            "2811\n",
            "2815\n"
          ]
        },
        {
          "output_type": "stream",
          "name": "stderr",
          "text": [
            "\r 26%|██▌       | 2871/10951 [00:52<01:34, 85.88it/s]Failed to featurize datapoint 0, [Ne]. Appending empty array\n",
            "Exception message: More than one atom should be present in the molecule for this featurizer to work.\n",
            " 26%|██▋       | 2884/10951 [00:53<01:23, 96.33it/s]"
          ]
        },
        {
          "output_type": "stream",
          "name": "stdout",
          "text": [
            "2848\n"
          ]
        },
        {
          "output_type": "stream",
          "name": "stderr",
          "text": [
            " 29%|██▊       | 3138/10951 [00:56<02:04, 62.84it/s]Failed to featurize datapoint 0, [32PH3]. Appending empty array\n",
            "Exception message: More than one atom should be present in the molecule for this featurizer to work.\n",
            " 29%|██▉       | 3151/10951 [00:56<01:37, 79.81it/s]Failed to featurize datapoint 0, [K+].[OH-]. Appending empty array\n",
            "Exception message: zero-size array to reduction operation maximum which has no identity\n",
            " 29%|██▉       | 3164/10951 [00:56<01:24, 91.92it/s]"
          ]
        },
        {
          "output_type": "stream",
          "name": "stdout",
          "text": [
            "3111\n",
            "3128\n"
          ]
        },
        {
          "output_type": "stream",
          "name": "stderr",
          "text": [
            " 30%|██▉       | 3239/10951 [00:57<01:17, 99.45it/s]Failed to featurize datapoint 0, [Ac]. Appending empty array\n",
            "Exception message: More than one atom should be present in the molecule for this featurizer to work.\n",
            " 30%|██▉       | 3250/10951 [00:57<01:16, 101.24it/s]Failed to featurize datapoint 0, F. Appending empty array\n",
            "Exception message: More than one atom should be present in the molecule for this featurizer to work.\n",
            " 30%|██▉       | 3261/10951 [00:57<01:15, 102.24it/s]"
          ]
        },
        {
          "output_type": "stream",
          "name": "stdout",
          "text": [
            "3212\n",
            "3222\n"
          ]
        },
        {
          "output_type": "stream",
          "name": "stderr",
          "text": [
            " 30%|███       | 3295/10951 [00:58<01:18, 97.09it/s] Failed to featurize datapoint 0, [Al+3].[Al+3].[O-2].[O-2].[O-2]. Appending empty array\n",
            "Exception message: zero-size array to reduction operation maximum which has no identity\n",
            " 30%|███       | 3305/10951 [00:58<01:33, 81.69it/s]"
          ]
        },
        {
          "output_type": "stream",
          "name": "stdout",
          "text": [
            "3258\n"
          ]
        },
        {
          "output_type": "stream",
          "name": "stderr",
          "text": [
            "\r 30%|███       | 3315/10951 [00:58<01:29, 85.70it/s]Failed to featurize datapoint 0, [Cl-]. Appending empty array\n",
            "Exception message: More than one atom should be present in the molecule for this featurizer to work.\n",
            " 30%|███       | 3326/10951 [00:58<01:23, 90.87it/s]"
          ]
        },
        {
          "output_type": "stream",
          "name": "stdout",
          "text": [
            "3283\n"
          ]
        },
        {
          "output_type": "stream",
          "name": "stderr",
          "text": [
            " 32%|███▏      | 3480/10951 [01:00<01:25, 87.14it/s]Failed to featurize datapoint 0, [Ag+]. Appending empty array\n",
            "Exception message: More than one atom should be present in the molecule for this featurizer to work.\n",
            " 32%|███▏      | 3489/10951 [01:00<01:26, 86.12it/s]"
          ]
        },
        {
          "output_type": "stream",
          "name": "stdout",
          "text": [
            "3444\n"
          ]
        },
        {
          "output_type": "stream",
          "name": "stderr",
          "text": [
            " 33%|███▎      | 3585/10951 [01:01<01:25, 86.46it/s]Failed to featurize datapoint 0, [Ca+2]. Appending empty array\n",
            "Exception message: More than one atom should be present in the molecule for this featurizer to work.\n",
            " 33%|███▎      | 3596/10951 [01:01<01:21, 90.79it/s]Failed to featurize datapoint 0, [Cl-].[NH4+]. Appending empty array\n",
            "Exception message: zero-size array to reduction operation maximum which has no identity\n"
          ]
        },
        {
          "output_type": "stream",
          "name": "stdout",
          "text": [
            "3546\n",
            "3563\n"
          ]
        },
        {
          "output_type": "stream",
          "name": "stderr",
          "text": [
            " 34%|███▍      | 3767/10951 [01:04<01:41, 71.08it/s]Failed to featurize datapoint 0, [Al+3].[OH-].[OH-].[OH-]. Appending empty array\n",
            "Exception message: zero-size array to reduction operation maximum which has no identity\n",
            " 34%|███▍      | 3776/10951 [01:04<01:38, 72.99it/s]Failed to featurize datapoint 0, [Ca+2].[Cl-].[Cl-]. Appending empty array\n",
            "Exception message: zero-size array to reduction operation maximum which has no identity\n",
            " 35%|███▍      | 3787/10951 [01:04<01:27, 81.54it/s]"
          ]
        },
        {
          "output_type": "stream",
          "name": "stdout",
          "text": [
            "3733\n",
            "3741\n"
          ]
        },
        {
          "output_type": "stream",
          "name": "stderr",
          "text": [
            " 35%|███▍      | 3828/10951 [01:05<01:19, 89.24it/s]Failed to featurize datapoint 0, [Ta]. Appending empty array\n",
            "Exception message: More than one atom should be present in the molecule for this featurizer to work.\n",
            " 35%|███▌      | 3838/10951 [01:05<01:21, 87.18it/s]Failed to featurize datapoint 0, [Bk]. Appending empty array\n",
            "Exception message: More than one atom should be present in the molecule for this featurizer to work.\n",
            " 35%|███▌      | 3849/10951 [01:05<01:18, 90.31it/s]"
          ]
        },
        {
          "output_type": "stream",
          "name": "stdout",
          "text": [
            "3787\n",
            "3802\n"
          ]
        },
        {
          "output_type": "stream",
          "name": "stderr",
          "text": [
            " 36%|███▋      | 3984/10951 [01:06<01:20, 86.07it/s]Failed to featurize datapoint 0, [Li+].[OH-]. Appending empty array\n",
            "Exception message: zero-size array to reduction operation maximum which has no identity\n",
            " 36%|███▋      | 3994/10951 [01:06<01:18, 88.28it/s]"
          ]
        },
        {
          "output_type": "stream",
          "name": "stdout",
          "text": [
            "3940\n"
          ]
        },
        {
          "output_type": "stream",
          "name": "stderr",
          "text": [
            " 37%|███▋      | 4045/10951 [01:08<02:45, 41.81it/s]Failed to featurize datapoint 0, [Ti]. Appending empty array\n",
            "Exception message: More than one atom should be present in the molecule for this featurizer to work.\n",
            " 37%|███▋      | 4060/10951 [01:08<02:18, 49.63it/s]"
          ]
        },
        {
          "output_type": "stream",
          "name": "stdout",
          "text": [
            "4000\n"
          ]
        },
        {
          "output_type": "stream",
          "name": "stderr",
          "text": [
            "Failed to featurize datapoint 0, [Co+2]. Appending empty array\n",
            "Exception message: More than one atom should be present in the molecule for this featurizer to work.\n",
            " 37%|███▋      | 4080/10951 [01:08<01:43, 66.37it/s]"
          ]
        },
        {
          "output_type": "stream",
          "name": "stdout",
          "text": [
            "4015\n"
          ]
        },
        {
          "output_type": "stream",
          "name": "stderr",
          "text": [
            " 38%|███▊      | 4150/10951 [01:09<01:20, 83.99it/s]Failed to featurize datapoint 0, [Fe]. Appending empty array\n",
            "Exception message: More than one atom should be present in the molecule for this featurizer to work.\n",
            " 38%|███▊      | 4171/10951 [01:09<01:19, 84.76it/s]"
          ]
        },
        {
          "output_type": "stream",
          "name": "stdout",
          "text": [
            "4108\n"
          ]
        },
        {
          "output_type": "stream",
          "name": "stderr",
          "text": [
            "\r 38%|███▊      | 4180/10951 [01:09<01:24, 80.01it/s]Failed to featurize datapoint 0, [Cl-].[Cl-].[Cl-].[Cr+3]. Appending empty array\n",
            "Exception message: zero-size array to reduction operation maximum which has no identity\n",
            " 38%|███▊      | 4200/10951 [01:09<01:19, 85.12it/s]"
          ]
        },
        {
          "output_type": "stream",
          "name": "stdout",
          "text": [
            "4138\n"
          ]
        },
        {
          "output_type": "stream",
          "name": "stderr",
          "text": [
            " 39%|███▉      | 4249/10951 [01:10<01:21, 81.84it/s]Failed to featurize datapoint 0, [99Tc]. Appending empty array\n",
            "Exception message: More than one atom should be present in the molecule for this featurizer to work.\n",
            " 39%|███▉      | 4271/10951 [01:10<01:24, 79.39it/s]"
          ]
        },
        {
          "output_type": "stream",
          "name": "stdout",
          "text": [
            "4206\n"
          ]
        },
        {
          "output_type": "stream",
          "name": "stderr",
          "text": [
            " 41%|████      | 4443/10951 [01:13<01:23, 78.22it/s]Failed to featurize datapoint 0, [131I-]. Appending empty array\n",
            "Exception message: More than one atom should be present in the molecule for this featurizer to work.\n",
            " 41%|████      | 4463/10951 [01:13<01:17, 83.99it/s]"
          ]
        },
        {
          "output_type": "stream",
          "name": "stdout",
          "text": [
            "4395\n"
          ]
        },
        {
          "output_type": "stream",
          "name": "stderr",
          "text": [
            " 41%|████      | 4500/10951 [01:13<01:19, 80.71it/s]Failed to featurize datapoint 0, [Ba]. Appending empty array\n",
            "Exception message: More than one atom should be present in the molecule for this featurizer to work.\n",
            "Failed to featurize datapoint 0, [Mo]. Appending empty array\n",
            "Exception message: More than one atom should be present in the molecule for this featurizer to work.\n",
            " 41%|████▏     | 4518/10951 [01:14<01:17, 82.70it/s]"
          ]
        },
        {
          "output_type": "stream",
          "name": "stdout",
          "text": [
            "4452\n",
            "4453\n"
          ]
        },
        {
          "output_type": "stream",
          "name": "stderr",
          "text": [
            " 43%|████▎     | 4724/10951 [01:16<01:32, 67.21it/s]Failed to featurize datapoint 0, [Cd]. Appending empty array\n",
            "Exception message: More than one atom should be present in the molecule for this featurizer to work.\n",
            " 43%|████▎     | 4734/10951 [01:16<01:23, 74.37it/s]"
          ]
        },
        {
          "output_type": "stream",
          "name": "stdout",
          "text": [
            "4676\n"
          ]
        },
        {
          "output_type": "stream",
          "name": "stderr",
          "text": [
            " 43%|████▎     | 4751/10951 [01:17<02:06, 48.87it/s]Failed to featurize datapoint 0, [123I-]. Appending empty array\n",
            "Exception message: More than one atom should be present in the molecule for this featurizer to work.\n",
            " 44%|████▎     | 4774/10951 [01:17<01:28, 69.45it/s]"
          ]
        },
        {
          "output_type": "stream",
          "name": "stdout",
          "text": [
            "4703\n"
          ]
        },
        {
          "output_type": "stream",
          "name": "stderr",
          "text": [
            " 45%|████▌     | 4955/10951 [01:19<01:14, 80.33it/s]Failed to featurize datapoint 0, [P]. Appending empty array\n",
            "Exception message: More than one atom should be present in the molecule for this featurizer to work.\n",
            " 45%|████▌     | 4973/10951 [01:19<01:11, 83.24it/s]"
          ]
        },
        {
          "output_type": "stream",
          "name": "stdout",
          "text": [
            "4899\n"
          ]
        },
        {
          "output_type": "stream",
          "name": "stderr",
          "text": [
            " 46%|████▌     | 5011/10951 [01:20<01:12, 81.38it/s]Failed to featurize datapoint 0, [Li+]. Appending empty array\n",
            "Exception message: More than one atom should be present in the molecule for this featurizer to work.\n",
            " 46%|████▌     | 5032/10951 [01:20<01:06, 88.54it/s]"
          ]
        },
        {
          "output_type": "stream",
          "name": "stdout",
          "text": [
            "4962\n"
          ]
        },
        {
          "output_type": "stream",
          "name": "stderr",
          "text": [
            "\r 46%|████▌     | 5044/10951 [01:20<01:01, 96.32it/s]Failed to featurize datapoint 0, [OH-]. Appending empty array\n",
            "Exception message: More than one atom should be present in the molecule for this featurizer to work.\n",
            " 46%|████▌     | 5063/10951 [01:21<01:11, 81.96it/s]"
          ]
        },
        {
          "output_type": "stream",
          "name": "stdout",
          "text": [
            "4994\n"
          ]
        },
        {
          "output_type": "stream",
          "name": "stderr",
          "text": [
            " 47%|████▋     | 5197/10951 [01:22<01:06, 86.69it/s]Failed to featurize datapoint 0, [Se]. Appending empty array\n",
            "Exception message: More than one atom should be present in the molecule for this featurizer to work.\n",
            " 48%|████▊     | 5217/10951 [01:22<01:02, 92.12it/s]"
          ]
        },
        {
          "output_type": "stream",
          "name": "stdout",
          "text": [
            "5143\n"
          ]
        },
        {
          "output_type": "stream",
          "name": "stderr",
          "text": [
            " 48%|████▊     | 5254/10951 [01:23<01:12, 78.82it/s]Failed to featurize datapoint 0, [I-]. Appending empty array\n",
            "Exception message: More than one atom should be present in the molecule for this featurizer to work.\n",
            " 48%|████▊     | 5273/10951 [01:23<01:08, 83.20it/s]"
          ]
        },
        {
          "output_type": "stream",
          "name": "stdout",
          "text": [
            "5201\n"
          ]
        },
        {
          "output_type": "stream",
          "name": "stderr",
          "text": [
            " 49%|████▉     | 5348/10951 [01:24<00:55, 101.04it/s]Failed to featurize datapoint 0, [Cl-].[Tl+]. Appending empty array\n",
            "Exception message: zero-size array to reduction operation maximum which has no identity\n",
            " 49%|████▉     | 5369/10951 [01:24<01:03, 88.27it/s]Failed to featurize datapoint 0, [18F]. Appending empty array\n",
            "Exception message: More than one atom should be present in the molecule for this featurizer to work.\n"
          ]
        },
        {
          "output_type": "stream",
          "name": "stdout",
          "text": [
            "5296\n",
            "5312\n"
          ]
        },
        {
          "output_type": "stream",
          "name": "stderr",
          "text": [
            " 50%|████▉     | 5448/10951 [01:25<00:57, 95.12it/s]Failed to featurize datapoint 0, [V]. Appending empty array\n",
            "Exception message: More than one atom should be present in the molecule for this featurizer to work.\n",
            " 50%|████▉     | 5468/10951 [01:25<00:57, 95.00it/s]"
          ]
        },
        {
          "output_type": "stream",
          "name": "stdout",
          "text": [
            "5385\n"
          ]
        },
        {
          "output_type": "stream",
          "name": "stderr",
          "text": [
            "Failed to featurize datapoint 0, [82Rb+]. Appending empty array\n",
            "Exception message: More than one atom should be present in the molecule for this featurizer to work.\n",
            " 50%|█████     | 5478/10951 [01:25<01:05, 83.20it/s]"
          ]
        },
        {
          "output_type": "stream",
          "name": "stdout",
          "text": [
            "5406\n"
          ]
        },
        {
          "output_type": "stream",
          "name": "stderr",
          "text": [
            " 51%|█████     | 5545/10951 [01:26<01:16, 70.62it/s]Failed to featurize datapoint 0, [Cl-].[K+]. Appending empty array\n",
            "Exception message: zero-size array to reduction operation maximum which has no identity\n",
            " 51%|█████     | 5555/10951 [01:26<01:10, 76.41it/s]Failed to featurize datapoint 0, [51Cr]. Appending empty array\n",
            "Exception message: More than one atom should be present in the molecule for this featurizer to work.\n",
            " 51%|█████     | 5566/10951 [01:26<01:03, 84.77it/s]"
          ]
        },
        {
          "output_type": "stream",
          "name": "stdout",
          "text": [
            "5487\n",
            "5491\n"
          ]
        },
        {
          "output_type": "stream",
          "name": "stderr",
          "text": [
            " 51%|█████     | 5588/10951 [01:27<00:57, 93.22it/s]Failed to featurize datapoint 0, [Sb]. Appending empty array\n",
            "Exception message: More than one atom should be present in the molecule for this featurizer to work.\n",
            " 51%|█████     | 5602/10951 [01:27<00:51, 104.24it/s]Failed to featurize datapoint 0, [177Lu]. Appending empty array\n",
            "Exception message: More than one atom should be present in the molecule for this featurizer to work.\n",
            " 51%|█████▏    | 5613/10951 [01:27<00:52, 102.00it/s]"
          ]
        },
        {
          "output_type": "stream",
          "name": "stdout",
          "text": [
            "5526\n",
            "5533\n"
          ]
        },
        {
          "output_type": "stream",
          "name": "stderr",
          "text": [
            " 52%|█████▏    | 5667/10951 [01:27<00:53, 99.28it/s]Failed to featurize datapoint 0, [C]. Appending empty array\n",
            "Exception message: More than one atom should be present in the molecule for this featurizer to work.\n",
            " 52%|█████▏    | 5688/10951 [01:28<01:04, 81.22it/s]"
          ]
        },
        {
          "output_type": "stream",
          "name": "stdout",
          "text": [
            "5604\n"
          ]
        },
        {
          "output_type": "stream",
          "name": "stderr",
          "text": [
            " 52%|█████▏    | 5709/10951 [01:28<00:58, 90.35it/s]Failed to featurize datapoint 0, [Rb]. Appending empty array\n",
            "Exception message: More than one atom should be present in the molecule for this featurizer to work.\n",
            " 52%|█████▏    | 5731/10951 [01:28<00:53, 98.17it/s]"
          ]
        },
        {
          "output_type": "stream",
          "name": "stdout",
          "text": [
            "5640\n"
          ]
        },
        {
          "output_type": "stream",
          "name": "stderr",
          "text": [
            " 53%|█████▎    | 5797/10951 [01:29<00:50, 101.16it/s]Failed to featurize datapoint 0, [Zn]. Appending empty array\n",
            "Exception message: More than one atom should be present in the molecule for this featurizer to work.\n",
            " 53%|█████▎    | 5820/10951 [01:29<00:49, 103.50it/s]"
          ]
        },
        {
          "output_type": "stream",
          "name": "stdout",
          "text": [
            "5729\n"
          ]
        },
        {
          "output_type": "stream",
          "name": "stderr",
          "text": [
            " 56%|█████▋    | 6180/10951 [01:36<01:33, 51.05it/s]Failed to featurize datapoint 0, [Fe+3].[O-2].[OH-]. Appending empty array\n",
            "Exception message: zero-size array to reduction operation maximum which has no identity\n",
            " 57%|█████▋    | 6203/10951 [01:36<01:05, 72.85it/s]"
          ]
        },
        {
          "output_type": "stream",
          "name": "stdout",
          "text": [
            "6112\n"
          ]
        },
        {
          "output_type": "stream",
          "name": "stderr",
          "text": [
            " 59%|█████▉    | 6489/10951 [01:43<01:18, 56.53it/s]Failed to featurize datapoint 0, [90Y]. Appending empty array\n",
            "Exception message: More than one atom should be present in the molecule for this featurizer to work.\n",
            " 59%|█████▉    | 6507/10951 [01:43<01:14, 59.97it/s]"
          ]
        },
        {
          "output_type": "stream",
          "name": "stdout",
          "text": [
            "6422\n"
          ]
        },
        {
          "output_type": "stream",
          "name": "stderr",
          "text": [
            " 60%|█████▉    | 6544/10951 [01:44<01:09, 63.08it/s]Failed to featurize datapoint 0, O.O.O.O.O.O.O.O.O.O.O.O.O.O.O.O.O.O.[Mo].[Mo].[Mo].[Mo].[Mo].[Mo].[Mo].[OH-].[OH-].[OH-].[OH-].[OH-].[OH-]. Appending empty array\n",
            "Exception message: zero-size array to reduction operation maximum which has no identity\n",
            " 60%|█████▉    | 6563/10951 [01:44<01:02, 70.33it/s]"
          ]
        },
        {
          "output_type": "stream",
          "name": "stdout",
          "text": [
            "6479\n"
          ]
        },
        {
          "output_type": "stream",
          "name": "stderr",
          "text": [
            "\r 60%|██████    | 6573/10951 [01:44<00:56, 77.44it/s]Failed to featurize datapoint 0, [153Sm]. Appending empty array\n",
            "Exception message: More than one atom should be present in the molecule for this featurizer to work.\n",
            " 60%|██████    | 6591/10951 [01:44<00:54, 80.42it/s]"
          ]
        },
        {
          "output_type": "stream",
          "name": "stdout",
          "text": [
            "6502\n"
          ]
        },
        {
          "output_type": "stream",
          "name": "stderr",
          "text": [
            " 62%|██████▏   | 6775/10951 [01:48<00:41, 100.13it/s]Failed to featurize datapoint 0, [Cr]. Appending empty array\n",
            "Exception message: More than one atom should be present in the molecule for this featurizer to work.\n",
            " 62%|██████▏   | 6787/10951 [01:48<00:39, 104.28it/s]Failed to featurize datapoint 0, [Na+].[Na+].[S-2]. Appending empty array\n",
            "Exception message: zero-size array to reduction operation maximum which has no identity\n",
            " 62%|██████▏   | 6798/10951 [01:48<00:42, 98.40it/s] "
          ]
        },
        {
          "output_type": "stream",
          "name": "stdout",
          "text": [
            "6707\n",
            "6717\n"
          ]
        },
        {
          "output_type": "stream",
          "name": "stderr",
          "text": [
            " 63%|██████▎   | 6853/10951 [01:49<00:43, 93.36it/s]Failed to featurize datapoint 0, [201Tl+]. Appending empty array\n",
            "Exception message: More than one atom should be present in the molecule for this featurizer to work.\n",
            " 63%|██████▎   | 6864/10951 [01:49<00:42, 96.99it/s]"
          ]
        },
        {
          "output_type": "stream",
          "name": "stdout",
          "text": [
            "6776\n"
          ]
        },
        {
          "output_type": "stream",
          "name": "stderr",
          "text": [
            " 65%|██████▌   | 7125/10951 [01:52<01:02, 61.69it/s]Failed to featurize datapoint 0, [B]. Appending empty array\n",
            "Exception message: More than one atom should be present in the molecule for this featurizer to work.\n",
            " 65%|██████▌   | 7141/10951 [01:52<00:58, 64.63it/s]"
          ]
        },
        {
          "output_type": "stream",
          "name": "stdout",
          "text": [
            "7050\n"
          ]
        },
        {
          "output_type": "stream",
          "name": "stderr",
          "text": [
            "\r 65%|██████▌   | 7154/10951 [01:52<00:47, 79.85it/s]Failed to featurize datapoint 0, O.[Al+3].[Al+3].[Cl-].[OH-].[OH-].[OH-].[OH-].[OH-]. Appending empty array\n",
            "Exception message: zero-size array to reduction operation maximum which has no identity\n",
            " 66%|██████▌   | 7175/10951 [01:52<00:45, 83.55it/s]"
          ]
        },
        {
          "output_type": "stream",
          "name": "stdout",
          "text": [
            "7079\n"
          ]
        },
        {
          "output_type": "stream",
          "name": "stderr",
          "text": [
            " 67%|██████▋   | 7303/10951 [01:54<00:41, 88.92it/s]Failed to featurize datapoint 0, [Mg+2]. Appending empty array\n",
            "Exception message: More than one atom should be present in the molecule for this featurizer to work.\n",
            " 67%|██████▋   | 7324/10951 [01:54<00:38, 93.88it/s]"
          ]
        },
        {
          "output_type": "stream",
          "name": "stdout",
          "text": [
            "7229\n"
          ]
        },
        {
          "output_type": "stream",
          "name": "stderr",
          "text": [
            " 67%|██████▋   | 7344/10951 [01:54<00:41, 86.74it/s]Failed to featurize datapoint 0, Br.Br.Br.Br.Br.Br.Br.Br.Br.Br.Br.[Br-].[Ta+].[Ta].[Ta].[Ta].[Ta].[Ta]. Appending empty array\n",
            "Exception message: zero-size array to reduction operation maximum which has no identity\n",
            " 67%|██████▋   | 7353/10951 [01:54<00:41, 87.06it/s]"
          ]
        },
        {
          "output_type": "stream",
          "name": "stdout",
          "text": [
            "7261\n"
          ]
        },
        {
          "output_type": "stream",
          "name": "stderr",
          "text": [
            " 68%|██████▊   | 7409/10951 [01:55<00:43, 80.99it/s]Failed to featurize datapoint 0, [Fe+2].[Fe+3].[Fe+3].[O-2].[O-2].[O-2].[O-2]. Appending empty array\n",
            "Exception message: zero-size array to reduction operation maximum which has no identity\n",
            " 68%|██████▊   | 7430/10951 [01:55<00:41, 85.31it/s]"
          ]
        },
        {
          "output_type": "stream",
          "name": "stdout",
          "text": [
            "7329\n"
          ]
        },
        {
          "output_type": "stream",
          "name": "stderr",
          "text": [
            " 68%|██████▊   | 7450/10951 [01:55<00:40, 86.68it/s]Failed to featurize datapoint 0, [Ca+2].[Cl-].[Cl-]. Appending empty array\n",
            "Exception message: zero-size array to reduction operation maximum which has no identity\n",
            " 68%|██████▊   | 7469/10951 [01:56<00:40, 85.12it/s]"
          ]
        },
        {
          "output_type": "stream",
          "name": "stdout",
          "text": [
            "7370\n"
          ]
        },
        {
          "output_type": "stream",
          "name": "stderr",
          "text": [
            " 69%|██████▊   | 7515/10951 [02:02<07:44,  7.40it/s]Failed to featurize datapoint 0, [Al]. Appending empty array\n",
            "Exception message: More than one atom should be present in the molecule for this featurizer to work.\n",
            " 69%|██████▊   | 7521/10951 [02:03<06:32,  8.73it/s]"
          ]
        },
        {
          "output_type": "stream",
          "name": "stdout",
          "text": [
            "7432\n"
          ]
        },
        {
          "output_type": "stream",
          "name": "stderr",
          "text": [
            " 69%|██████▉   | 7549/10951 [02:03<02:19, 24.40it/s]Failed to featurize datapoint 0, [Mn+2]. Appending empty array\n",
            "Exception message: More than one atom should be present in the molecule for this featurizer to work.\n",
            " 69%|██████▉   | 7569/10951 [02:03<01:18, 42.92it/s]"
          ]
        },
        {
          "output_type": "stream",
          "name": "stdout",
          "text": [
            "7466\n"
          ]
        },
        {
          "output_type": "stream",
          "name": "stderr",
          "text": [
            " 69%|██████▉   | 7587/10951 [02:04<00:58, 57.75it/s]Failed to featurize datapoint 0, [223Ra]. Appending empty array\n",
            "Exception message: More than one atom should be present in the molecule for this featurizer to work.\n",
            " 69%|██████▉   | 7597/10951 [02:04<00:51, 64.53it/s]"
          ]
        },
        {
          "output_type": "stream",
          "name": "stdout",
          "text": [
            "7507\n"
          ]
        },
        {
          "output_type": "stream",
          "name": "stderr",
          "text": [
            " 71%|███████   | 7732/10951 [02:06<00:40, 78.94it/s]Failed to featurize datapoint 0, [I-].[Na+]. Appending empty array\n",
            "Exception message: zero-size array to reduction operation maximum which has no identity\n",
            " 71%|███████   | 7751/10951 [02:06<00:38, 83.88it/s]"
          ]
        },
        {
          "output_type": "stream",
          "name": "stdout",
          "text": [
            "7646\n"
          ]
        },
        {
          "output_type": "stream",
          "name": "stderr",
          "text": [
            " 72%|███████▏  | 7847/10951 [02:07<00:55, 56.18it/s]Failed to featurize datapoint 0, [Ag]. Appending empty array\n",
            "Exception message: More than one atom should be present in the molecule for this featurizer to work.\n",
            " 72%|███████▏  | 7868/10951 [02:08<00:42, 73.31it/s]"
          ]
        },
        {
          "output_type": "stream",
          "name": "stdout",
          "text": [
            "7758\n"
          ]
        },
        {
          "output_type": "stream",
          "name": "stderr",
          "text": [
            " 76%|███████▌  | 8269/10951 [02:13<00:34, 77.23it/s]Failed to featurize datapoint 0, [C]. Appending empty array\n",
            "Exception message: More than one atom should be present in the molecule for this featurizer to work.\n",
            " 76%|███████▌  | 8286/10951 [02:13<00:39, 67.33it/s]"
          ]
        },
        {
          "output_type": "stream",
          "name": "stdout",
          "text": [
            "8184\n"
          ]
        },
        {
          "output_type": "stream",
          "name": "stderr",
          "text": [
            " 76%|███████▌  | 8343/10951 [02:14<00:32, 81.05it/s]Failed to featurize datapoint 0, [Si]. Appending empty array\n",
            "Exception message: More than one atom should be present in the molecule for this featurizer to work.\n",
            " 76%|███████▋  | 8363/10951 [02:14<00:29, 86.40it/s]"
          ]
        },
        {
          "output_type": "stream",
          "name": "stdout",
          "text": [
            "8251\n"
          ]
        },
        {
          "output_type": "stream",
          "name": "stderr",
          "text": [
            "\r 76%|███████▋  | 8372/10951 [02:14<00:31, 81.58it/s]Failed to featurize datapoint 0, O.O.O.O.[Al+3].[Mg+2].[O-2].[O-2].[O-2].[O-2].[O-2].[O-2].[O-2].[O-2].[O-2].[O-2].[OH-].[Si+4].[Si+4].[Si+4].[Si+4]. Appending empty array\n",
            "Exception message: zero-size array to reduction operation maximum which has no identity\n",
            " 77%|███████▋  | 8394/10951 [02:15<00:31, 80.27it/s]"
          ]
        },
        {
          "output_type": "stream",
          "name": "stdout",
          "text": [
            "8289\n"
          ]
        },
        {
          "output_type": "stream",
          "name": "stderr",
          "text": [
            " 77%|███████▋  | 8446/10951 [02:15<00:28, 87.48it/s]Failed to featurize datapoint 0, [Bi+3]. Appending empty array\n",
            "Exception message: More than one atom should be present in the molecule for this featurizer to work.\n",
            " 77%|███████▋  | 8466/10951 [02:15<00:29, 84.24it/s]"
          ]
        },
        {
          "output_type": "stream",
          "name": "stdout",
          "text": [
            "8357\n"
          ]
        },
        {
          "output_type": "stream",
          "name": "stderr",
          "text": [
            "\r 77%|███████▋  | 8477/10951 [02:16<00:27, 90.76it/s]Failed to featurize datapoint 0, [Cl-].[Na+]. Appending empty array\n",
            "Exception message: zero-size array to reduction operation maximum which has no identity\n",
            " 78%|███████▊  | 8489/10951 [02:16<00:25, 96.68it/s]"
          ]
        },
        {
          "output_type": "stream",
          "name": "stdout",
          "text": [
            "8383\n"
          ]
        },
        {
          "output_type": "stream",
          "name": "stderr",
          "text": [
            " 78%|███████▊  | 8544/10951 [02:16<00:25, 95.59it/s]Failed to featurize datapoint 0, [F-].[Na+]. Appending empty array\n",
            "Exception message: zero-size array to reduction operation maximum which has no identity\n",
            " 78%|███████▊  | 8564/10951 [02:17<00:31, 76.99it/s]"
          ]
        },
        {
          "output_type": "stream",
          "name": "stdout",
          "text": [
            "8456\n"
          ]
        },
        {
          "output_type": "stream",
          "name": "stderr",
          "text": [
            " 79%|███████▊  | 8608/10951 [02:17<00:24, 96.60it/s]Failed to featurize datapoint 0, [F-]. Appending empty array\n",
            "Exception message: More than one atom should be present in the molecule for this featurizer to work.\n",
            " 79%|███████▉  | 8630/10951 [02:17<00:23, 98.87it/s]"
          ]
        },
        {
          "output_type": "stream",
          "name": "stdout",
          "text": [
            "8520\n"
          ]
        },
        {
          "output_type": "stream",
          "name": "stderr",
          "text": [
            " 80%|████████  | 8780/10951 [02:19<00:31, 69.61it/s]Failed to featurize datapoint 0, [KH]. Appending empty array\n",
            "Exception message: More than one atom should be present in the molecule for this featurizer to work.\n",
            " 80%|████████  | 8800/10951 [02:19<00:26, 81.25it/s]"
          ]
        },
        {
          "output_type": "stream",
          "name": "stdout",
          "text": [
            "8687\n"
          ]
        },
        {
          "output_type": "stream",
          "name": "stderr",
          "text": [
            " 83%|████████▎ | 9045/10951 [02:22<00:22, 84.53it/s]Failed to featurize datapoint 0, [Cu+2].[O-2]. Appending empty array\n",
            "Exception message: zero-size array to reduction operation maximum which has no identity\n",
            " 83%|████████▎ | 9066/10951 [02:22<00:20, 92.29it/s]"
          ]
        },
        {
          "output_type": "stream",
          "name": "stdout",
          "text": [
            "8954\n"
          ]
        },
        {
          "output_type": "stream",
          "name": "stderr",
          "text": [
            " 83%|████████▎ | 9100/10951 [02:23<00:18, 99.47it/s]Failed to featurize datapoint 0, [Al+3]. Appending empty array\n",
            "Exception message: More than one atom should be present in the molecule for this featurizer to work.\n",
            " 83%|████████▎ | 9110/10951 [02:23<00:19, 94.24it/s]"
          ]
        },
        {
          "output_type": "stream",
          "name": "stdout",
          "text": [
            "9001\n"
          ]
        },
        {
          "output_type": "stream",
          "name": "stderr",
          "text": [
            " 84%|████████▎ | 9170/10951 [02:23<00:22, 79.17it/s]Failed to featurize datapoint 0, [Cu]. Appending empty array\n",
            "Exception message: More than one atom should be present in the molecule for this featurizer to work.\n",
            " 84%|████████▍ | 9188/10951 [02:24<00:22, 78.63it/s]Failed to featurize datapoint 0, [MgH2]. Appending empty array\n",
            "Exception message: More than one atom should be present in the molecule for this featurizer to work.\n"
          ]
        },
        {
          "output_type": "stream",
          "name": "stdout",
          "text": [
            "9073\n",
            "9087\n"
          ]
        },
        {
          "output_type": "stream",
          "name": "stderr",
          "text": [
            " 86%|████████▌ | 9389/10951 [02:26<00:16, 97.58it/s]Failed to featurize datapoint 0, [Fe+2]. Appending empty array\n",
            "Exception message: More than one atom should be present in the molecule for this featurizer to work.\n",
            " 86%|████████▌ | 9409/10951 [02:26<00:16, 94.21it/s]"
          ]
        },
        {
          "output_type": "stream",
          "name": "stdout",
          "text": [
            "9293\n"
          ]
        },
        {
          "output_type": "stream",
          "name": "stderr",
          "text": [
            " 87%|████████▋ | 9494/10951 [02:27<00:18, 79.50it/s]Failed to featurize datapoint 0, [Cu+2]. Appending empty array\n",
            "Exception message: More than one atom should be present in the molecule for this featurizer to work.\n",
            " 87%|████████▋ | 9516/10951 [02:27<00:15, 91.71it/s]"
          ]
        },
        {
          "output_type": "stream",
          "name": "stdout",
          "text": [
            "9399\n"
          ]
        },
        {
          "output_type": "stream",
          "name": "stderr",
          "text": [
            " 87%|████████▋ | 9539/10951 [02:28<00:16, 85.97it/s]Failed to featurize datapoint 0, [Cl-].[Cl-].[Co+2]. Appending empty array\n",
            "Exception message: zero-size array to reduction operation maximum which has no identity\n",
            " 87%|████████▋ | 9549/10951 [02:28<00:16, 87.16it/s]Failed to featurize datapoint 0, [Nb]. Appending empty array\n",
            "Exception message: More than one atom should be present in the molecule for this featurizer to work.\n",
            " 87%|████████▋ | 9561/10951 [02:28<00:14, 94.58it/s]"
          ]
        },
        {
          "output_type": "stream",
          "name": "stdout",
          "text": [
            "9436\n",
            "9454\n"
          ]
        },
        {
          "output_type": "stream",
          "name": "stderr",
          "text": [
            " 88%|████████▊ | 9592/10951 [02:28<00:14, 92.22it/s]Failed to featurize datapoint 0, [Au]. Appending empty array\n",
            "Exception message: More than one atom should be present in the molecule for this featurizer to work.\n",
            " 88%|████████▊ | 9615/10951 [02:29<00:13, 97.93it/s]"
          ]
        },
        {
          "output_type": "stream",
          "name": "stdout",
          "text": [
            "9485\n"
          ]
        },
        {
          "output_type": "stream",
          "name": "stderr",
          "text": [
            " 88%|████████▊ | 9644/10951 [02:29<00:15, 85.15it/s]Failed to featurize datapoint 0, [133Xe]. Appending empty array\n",
            "Exception message: More than one atom should be present in the molecule for this featurizer to work.\n",
            " 88%|████████▊ | 9669/10951 [02:29<00:12, 102.65it/s]"
          ]
        },
        {
          "output_type": "stream",
          "name": "stdout",
          "text": [
            "9541\n"
          ]
        },
        {
          "output_type": "stream",
          "name": "stderr",
          "text": [
            " 89%|████████▉ | 9774/10951 [02:30<00:12, 92.09it/s]Failed to featurize datapoint 0, [Sm]. Appending empty array\n",
            "Exception message: More than one atom should be present in the molecule for this featurizer to work.\n",
            " 89%|████████▉ | 9792/10951 [02:31<00:16, 72.01it/s]"
          ]
        },
        {
          "output_type": "stream",
          "name": "stdout",
          "text": [
            "9669\n"
          ]
        },
        {
          "output_type": "stream",
          "name": "stderr",
          "text": [
            " 90%|████████▉ | 9818/10951 [02:31<00:14, 76.44it/s]Failed to featurize datapoint 0, [Na+].[OH-]. Appending empty array\n",
            "Exception message: zero-size array to reduction operation maximum which has no identity\n",
            " 90%|████████▉ | 9828/10951 [02:31<00:13, 81.72it/s]"
          ]
        },
        {
          "output_type": "stream",
          "name": "stdout",
          "text": [
            "9709\n"
          ]
        },
        {
          "output_type": "stream",
          "name": "stderr",
          "text": [
            " 91%|█████████ | 9962/10951 [02:33<00:13, 76.03it/s]Failed to featurize datapoint 0, [He]. Appending empty array\n",
            "Exception message: More than one atom should be present in the molecule for this featurizer to work.\n",
            " 91%|█████████ | 9972/10951 [02:33<00:12, 81.13it/s]Failed to featurize datapoint 0, [Cl-].[Cl-].[Mg+2]. Appending empty array\n",
            "Exception message: zero-size array to reduction operation maximum which has no identity\n",
            "Failed to featurize datapoint 0, [Mg+2].[O-2]. Appending empty array\n",
            "Exception message: zero-size array to reduction operation maximum which has no identity\n",
            " 91%|█████████ | 9982/10951 [02:33<00:11, 84.46it/s]"
          ]
        },
        {
          "output_type": "stream",
          "name": "stdout",
          "text": [
            "9857\n",
            "9864\n",
            "9866\n"
          ]
        },
        {
          "output_type": "stream",
          "name": "stderr",
          "text": [
            " 93%|█████████▎| 10146/10951 [02:35<00:08, 90.87it/s]Failed to featurize datapoint 0, [Fe+3]. Appending empty array\n",
            "Exception message: More than one atom should be present in the molecule for this featurizer to work.\n",
            " 93%|█████████▎| 10167/10951 [02:35<00:08, 91.11it/s]"
          ]
        },
        {
          "output_type": "stream",
          "name": "stdout",
          "text": [
            "10038\n"
          ]
        },
        {
          "output_type": "stream",
          "name": "stderr",
          "text": [
            " 93%|█████████▎| 10190/10951 [02:35<00:08, 94.83it/s]Failed to featurize datapoint 0, [111In+3]. Appending empty array\n",
            "Exception message: More than one atom should be present in the molecule for this featurizer to work.\n",
            "Failed to featurize datapoint 0, [67Ga+3].[Cl-].[Cl-].[Cl-]. Appending empty array\n",
            "Exception message: zero-size array to reduction operation maximum which has no identity\n",
            " 93%|█████████▎| 10202/10951 [02:35<00:07, 101.22it/s]"
          ]
        },
        {
          "output_type": "stream",
          "name": "stdout",
          "text": [
            "10077\n",
            "10082\n"
          ]
        },
        {
          "output_type": "stream",
          "name": "stderr",
          "text": [
            "\r 93%|█████████▎| 10213/10951 [02:35<00:09, 79.35it/s] Failed to featurize datapoint 0, [Ni+2]. Appending empty array\n",
            "Exception message: More than one atom should be present in the molecule for this featurizer to work.\n",
            "Failed to featurize datapoint 0, [Se]. Appending empty array\n",
            "Exception message: More than one atom should be present in the molecule for this featurizer to work.\n",
            " 93%|█████████▎| 10233/10951 [02:36<00:08, 83.86it/s]"
          ]
        },
        {
          "output_type": "stream",
          "name": "stdout",
          "text": [
            "10101\n",
            "10103\n"
          ]
        },
        {
          "output_type": "stream",
          "name": "stderr",
          "text": [
            " 94%|█████████▎| 10252/10951 [02:36<00:07, 87.38it/s]Failed to featurize datapoint 0, [Ca]. Appending empty array\n",
            "Exception message: More than one atom should be present in the molecule for this featurizer to work.\n",
            " 94%|█████████▍| 10272/10951 [02:36<00:07, 86.90it/s]Failed to featurize datapoint 0, [K+]. Appending empty array\n",
            "Exception message: More than one atom should be present in the molecule for this featurizer to work.\n"
          ]
        },
        {
          "output_type": "stream",
          "name": "stdout",
          "text": [
            "10138\n",
            "10154\n"
          ]
        },
        {
          "output_type": "stream",
          "name": "stderr",
          "text": [
            " 95%|█████████▌| 10409/10951 [02:38<00:09, 56.93it/s]Failed to featurize datapoint 0, [Ga+3]. Appending empty array\n",
            "Exception message: More than one atom should be present in the molecule for this featurizer to work.\n",
            " 95%|█████████▌| 10428/10951 [02:38<00:07, 71.03it/s]"
          ]
        },
        {
          "output_type": "stream",
          "name": "stdout",
          "text": [
            "10295\n"
          ]
        },
        {
          "output_type": "stream",
          "name": "stderr",
          "text": [
            " 95%|█████████▌| 10448/10951 [02:39<00:09, 54.07it/s]Failed to featurize datapoint 0, [Gd]. Appending empty array\n",
            "Exception message: More than one atom should be present in the molecule for this featurizer to work.\n",
            " 96%|█████████▌| 10466/10951 [02:39<00:07, 67.38it/s]"
          ]
        },
        {
          "output_type": "stream",
          "name": "stdout",
          "text": [
            "10328\n"
          ]
        },
        {
          "output_type": "stream",
          "name": "stderr",
          "text": [
            " 96%|█████████▌| 10486/10951 [02:39<00:05, 78.23it/s]Failed to featurize datapoint 0, O.O.O.O.[Mo+6].[Mo+6].[Mo+6].[Mo+6].[Mo+6].[Mo+6].[Mo+6].[NH4+].[NH4+].[NH4+].[NH4+].[NH4+].[NH4+].[O-2].[O-2].[O-2].[O-2].[O-2].[O-2].[O-2].[O-2].[O-2].[O-2].[O-2].[O-2].[O-2].[O-2].[O-2].[O-2].[O-2].[O-2].[O-2].[O-2].[O-2].[O-2].[O-2].[O-2]. Appending empty array\n",
            "Exception message: zero-size array to reduction operation maximum which has no identity\n",
            " 96%|█████████▌| 10506/10951 [02:39<00:05, 85.55it/s]Failed to featurize datapoint 0, [Mg+2].[O-2].[O-2].[O-2].[Si+4]. Appending empty array\n",
            "Exception message: zero-size array to reduction operation maximum which has no identity\n"
          ]
        },
        {
          "output_type": "stream",
          "name": "stdout",
          "text": [
            "10370\n",
            "10383\n"
          ]
        },
        {
          "output_type": "stream",
          "name": "stderr",
          "text": [
            " 97%|█████████▋| 10647/10951 [02:41<00:03, 83.34it/s]Failed to featurize datapoint 0, [18F-]. Appending empty array\n",
            "Exception message: More than one atom should be present in the molecule for this featurizer to work.\n",
            " 97%|█████████▋| 10667/10951 [02:41<00:03, 84.87it/s]"
          ]
        },
        {
          "output_type": "stream",
          "name": "stdout",
          "text": [
            "10529\n"
          ]
        },
        {
          "output_type": "stream",
          "name": "stderr",
          "text": [
            " 98%|█████████▊| 10753/10951 [02:42<00:02, 72.20it/s]Failed to featurize datapoint 0, [Au+]. Appending empty array\n",
            "Exception message: More than one atom should be present in the molecule for this featurizer to work.\n",
            " 98%|█████████▊| 10766/10951 [02:42<00:02, 85.02it/s]"
          ]
        },
        {
          "output_type": "stream",
          "name": "stdout",
          "text": [
            "10627\n"
          ]
        },
        {
          "output_type": "stream",
          "name": "stderr",
          "text": [
            " 99%|█████████▉| 10845/10951 [02:43<00:01, 87.70it/s]Failed to featurize datapoint 0, [In]. Appending empty array\n",
            "Exception message: More than one atom should be present in the molecule for this featurizer to work.\n"
          ]
        },
        {
          "output_type": "stream",
          "name": "stdout",
          "text": [
            "10718\n"
          ]
        },
        {
          "output_type": "stream",
          "name": "stderr",
          "text": [
            "100%|█████████▉| 10900/10951 [02:44<00:00, 84.17it/s]Failed to featurize datapoint 0, [Cl-].[Cl-].[Sr+2]. Appending empty array\n",
            "Exception message: zero-size array to reduction operation maximum which has no identity\n",
            "100%|█████████▉| 10910/10951 [02:44<00:00, 85.51it/s]Failed to featurize datapoint 0, [111In]. Appending empty array\n",
            "Exception message: More than one atom should be present in the molecule for this featurizer to work.\n"
          ]
        },
        {
          "output_type": "stream",
          "name": "stdout",
          "text": [
            "10778\n",
            "10782\n"
          ]
        },
        {
          "output_type": "stream",
          "name": "stderr",
          "text": [
            "\r100%|█████████▉| 10919/10951 [02:44<00:00, 65.93it/s]Failed to featurize datapoint 0, [Cl-].[Na+]. Appending empty array\n",
            "Exception message: zero-size array to reduction operation maximum which has no identity\n"
          ]
        },
        {
          "output_type": "stream",
          "name": "stdout",
          "text": [
            "10789\n"
          ]
        },
        {
          "output_type": "stream",
          "name": "stderr",
          "text": [
            "100%|██████████| 10951/10951 [02:46<00:00, 65.96it/s]\n",
            "Done!\n"
          ]
        }
      ]
    },
    {
      "cell_type": "code",
      "source": [
        "device = torch.device(\"cuda:0\" if torch.cuda.is_available() else \"cpu\")\n",
        "device"
      ],
      "metadata": {
        "colab": {
          "base_uri": "https://localhost:8080/"
        },
        "id": "UpX0kmqOnU_s",
        "outputId": "f0568507-7a0b-448d-b656-9c7107db50ce"
      },
      "execution_count": 6,
      "outputs": [
        {
          "output_type": "execute_result",
          "data": {
            "text/plain": [
              "device(type='cuda', index=0)"
            ]
          },
          "metadata": {},
          "execution_count": 6
        }
      ]
    },
    {
      "cell_type": "code",
      "source": [
        "class GVAE(nn.Module):\n",
        "    def __init__(self, feature_size, edge_size):\n",
        "        super(GVAE, self).__init__()\n",
        "        self.encoder_embedding_size = 64\n",
        "        self.edge_dim = edge_size\n",
        "        self.latent_embedding_size = 8\n",
        "        self.decoder_hidden_neurons = 64\n",
        "        decoder_size = 64\n",
        "\n",
        "        # Encoder layers\n",
        "        self.conv1 = GATConv(feature_size, self.encoder_embedding_size,edge_dim=self.edge_dim)\n",
        "        self.bn1 = BatchNorm(self.encoder_embedding_size)\n",
        "        self.conv2 = GCNConv(self.encoder_embedding_size, self.encoder_embedding_size)\n",
        "        self.bn2 = BatchNorm(self.encoder_embedding_size)\n",
        "        self.conv3 = GCNConv(self.encoder_embedding_size, self.encoder_embedding_size)\n",
        "        self.bn3 = BatchNorm(self.encoder_embedding_size)\n",
        "        \n",
        "\n",
        "        # Latent transform layers\n",
        "        self.mu_transform = Linear(self.encoder_embedding_size, \n",
        "                                            self.latent_embedding_size)\n",
        "\n",
        "\n",
        "        self.decoder_dense_3 = Linear(self.latent_embedding_size*2, decoder_size)\n",
        "        self.decoder_bn_3 = BatchNorm1d(decoder_size)\n",
        "        self.decoder_dense_4 = Linear(decoder_size, 1)\n",
        "        \n",
        "\n",
        "    def encode(self, x, edge_attr, edge_index, batch_index):\n",
        "        # GNN layers\n",
        "        x = self.conv1(x, edge_index, edge_attr).relu()\n",
        "        x = self.bn1(x)\n",
        "        x = self.conv2(x, edge_index).relu()\n",
        "        x = self.bn2(x)\n",
        "        x = self.conv3(x, edge_index).relu()\n",
        "        x = self.bn3(x)\n",
        "        \n",
        "        # Latent transform layers\n",
        "        mu = self.mu_transform(x)\n",
        "        return mu\n",
        "\n",
        "\n",
        "    def decode(self, z, batch_index):\n",
        "        \"\"\"\n",
        "        Takes n latent vectors (one per node) and decodes them\n",
        "        into the upper triangular part of their adjacency matrix.\n",
        "        \"\"\"\n",
        "        inputs = []\n",
        "\n",
        "        # Iterate over molecules in batch\n",
        "        for graph_id in torch.unique(batch_index):\n",
        "            graph_mask = torch.eq(batch_index, graph_id)\n",
        "            graph_z = z[graph_mask]\n",
        "\n",
        "            # Get indices for triangular upper part of adjacency matrix\n",
        "            edge_indices = torch.triu_indices(graph_z.shape[0], graph_z.shape[0], offset=1)\n",
        "\n",
        "            # Repeat indices to match dim of latent codes\n",
        "            dim = self.latent_embedding_size\n",
        "            source_indices = torch.reshape(edge_indices[0].repeat_interleave(dim), (edge_indices.shape[1], dim))\n",
        "            target_indices = torch.reshape(edge_indices[1].repeat_interleave(dim), (edge_indices.shape[1], dim))\n",
        "\n",
        "            # Gather features\n",
        "            sources_feats = torch.gather(graph_z, 0, source_indices.to(device))\n",
        "            target_feats = torch.gather(graph_z, 0, target_indices.to(device))\n",
        "\n",
        "            # Concatenate inputs of all source and target nodes\n",
        "            graph_inputs = torch.cat([sources_feats, target_feats], axis=1)\n",
        "            inputs.append(graph_inputs)\n",
        "\n",
        "        # Concatenate all inputs of all graphs in the batch\n",
        "        inputs = torch.cat(inputs)\n",
        "\n",
        "       \n",
        "        x = self.decoder_dense_3(inputs).relu()\n",
        "        x = self.decoder_bn_3(x)\n",
        "        edge_logits = self.decoder_dense_4(x)\n",
        "\n",
        "        return edge_logits\n",
        "\n",
        "\n",
        "    def reparameterize(self, mu):\n",
        "        \"\"\"\n",
        "        The reparametrization trick is required to \n",
        "        backpropagate through the network.\n",
        "        We cannot backpropagate through a \"sampled\"\n",
        "        node as it is not deterministic.\n",
        "        The trick is to separate the randomness\n",
        "        from the network.\n",
        "        \"\"\"\n",
        "        return mu\n",
        "\n",
        "    def forward(self, x, edge_attr, edge_index, batch_index):\n",
        "        # Encode the molecule\n",
        "        mu = self.encode(x, edge_attr, edge_index, batch_index)\n",
        "        # Sample latent vector (per atom)\n",
        "        z = self.reparameterize(mu)\n",
        "        # Decode latent vector into original molecule\n",
        "        triu_logits = self.decode(z, batch_index)\n",
        "\n",
        "        return triu_logits, mu\n",
        "\n",
        "    \n",
        "   \n",
        "model = GVAE(feature_size=encoder_set[0].x.shape[1],edge_size=encoder_set[0].edge_attr.shape[1])\n",
        "print(model)\n",
        "print(\"Number of parameters: \", sum(p.numel() for p in model.parameters()))"
      ],
      "metadata": {
        "colab": {
          "base_uri": "https://localhost:8080/"
        },
        "id": "m4qzJTu_nWfb",
        "outputId": "b5d59abb-a827-4ed7-8d14-df9eb0a9d672"
      },
      "execution_count": 7,
      "outputs": [
        {
          "output_type": "stream",
          "name": "stdout",
          "text": [
            "GVAE(\n",
            "  (conv1): GATConv(30, 64, heads=1)\n",
            "  (bn1): BatchNorm(64)\n",
            "  (conv2): GCNConv(64, 64)\n",
            "  (bn2): BatchNorm(64)\n",
            "  (conv3): GCNConv(64, 64)\n",
            "  (bn3): BatchNorm(64)\n",
            "  (mu_transform): Linear(in_features=64, out_features=8, bias=True)\n",
            "  (decoder_dense_3): Linear(in_features=16, out_features=64, bias=True)\n",
            "  (decoder_bn_3): BatchNorm1d(64, eps=1e-05, momentum=0.1, affine=True, track_running_stats=True)\n",
            "  (decoder_dense_4): Linear(in_features=64, out_features=1, bias=True)\n",
            ")\n",
            "Number of parameters:  13385\n"
          ]
        }
      ]
    },
    {
      "cell_type": "code",
      "source": [
        "data_size = len(encoder_set)\n",
        "NUM_GRAPHS_PER_BATCH = 64\n",
        "frac = 0.5\n",
        "train_loader = DataLoader(encoder_set[:int(data_size * frac)], \n",
        "                    batch_size=NUM_GRAPHS_PER_BATCH, shuffle=True)\n",
        "test_loader = DataLoader(encoder_set[int(data_size * frac):], \n",
        "                         batch_size=NUM_GRAPHS_PER_BATCH, shuffle=True)\n",
        "\n",
        "\n",
        "model = model.to(device)\n"
      ],
      "metadata": {
        "id": "AwF7JZnRnzQb"
      },
      "execution_count": 8,
      "outputs": []
    },
    {
      "cell_type": "code",
      "source": [
        "from torch_geometric.utils import to_dense_adj\n",
        "\n",
        "def slice_graph_targets(graph_id, batch_targets, batch_index):\n",
        "    \"\"\"\n",
        "    Slices out the upper triangular part of an adjacency matrix for\n",
        "    a single graph from a large adjacency matrix for a full batch.\n",
        "    --------\n",
        "    graph_id: The ID of the graph (in the batch index) to slice\n",
        "    batch_targets: A dense adjacency matrix for the whole batch\n",
        "    batch_index: The node to graph map for the batch\n",
        "    \"\"\"\n",
        "    # Create mask for nodes of this graph id\n",
        "    graph_mask = torch.eq(batch_index, graph_id)\n",
        "    # Row slice and column slice batch targets to get graph targets\n",
        "    graph_targets = batch_targets[graph_mask][:, graph_mask]\n",
        "    # Get triangular upper part of adjacency matrix for targets\n",
        "    triu_indices = torch.triu_indices(graph_targets.shape[0], graph_targets.shape[0], offset=1)\n",
        "    triu_mask = torch.squeeze(to_dense_adj(triu_indices)).bool()\n",
        "    return graph_targets[triu_mask]\n",
        "\n",
        "def slice_graph_predictions(triu_logits, graph_triu_size, start_point):\n",
        "    \"\"\"\n",
        "    Slices out the corresponding section from a list of batch triu values.\n",
        "    Given a start point and the size of a graph's triu, simply slices\n",
        "    the section from the batch list.\n",
        "    -------\n",
        "    triu_logits: A batch of triu predictions of different graphs\n",
        "    graph_triu_size: Size of the triu of the graph to slice\n",
        "    start_point: Index of the first node of this graph\n",
        "    \"\"\"\n",
        "    graph_logits_triu = torch.squeeze(\n",
        "                    triu_logits[start_point:start_point + graph_triu_size]\n",
        "                    )  \n",
        "    return graph_logits_triu\n",
        "\n",
        "def slice_node_features(graph_id, node_features, batch_index):\n",
        "    # Create mask for nodes of this graph id\n",
        "    graph_mask = torch.eq(batch_index, graph_id)\n",
        "    # Row slice and column slice batch targets to get graph targets\n",
        "    graph_node_features = node_features[graph_mask]\n",
        "    return graph_node_features\n",
        "\n",
        "  \n",
        "\n",
        "def gvae_loss(triu_logits, edge_index, mu, batch_index, kl_beta):\n",
        "    \"\"\"\n",
        "    Calculates a weighted ELBO loss for a batch of graphs for the graph\n",
        "    variational autoencoder model.\n",
        "    \"\"\"\n",
        "    # Convert target edge index to dense adjacency matrix\n",
        "    batch_targets = torch.squeeze(to_dense_adj(edge_index))\n",
        "\n",
        "    # Reconstruction loss per graph\n",
        "    batch_recon_loss = []\n",
        "    batch_node_counter = 0\n",
        "\n",
        "    # Loop over graphs in this batch\n",
        "    for graph_id in torch.unique(batch_index):\n",
        "        # Get upper triangular targets for this graph from the whole batch\n",
        "        graph_targets_triu = slice_graph_targets(graph_id, \n",
        "                                                batch_targets, \n",
        "                                                batch_index)\n",
        "\n",
        "        # Get upper triangular predictions for this graph from the whole batch\n",
        "        graph_predictions_triu = slice_graph_predictions(triu_logits, \n",
        "                                                        graph_targets_triu.shape[0], \n",
        "                                                        batch_node_counter)\n",
        "        \n",
        "        # Update counter to the index of the next graph\n",
        "        batch_node_counter = batch_node_counter + graph_targets_triu.shape[0]\n",
        "\n",
        "        # Calculate edge-weighted binary cross entropy\n",
        "        weight = graph_targets_triu.shape[0]/sum(graph_targets_triu)\n",
        "        bce = torch.nn.BCEWithLogitsLoss(pos_weight=weight).to(device)\n",
        "        graph_recon_loss = bce(graph_predictions_triu.view(-1), graph_targets_triu.view(-1))\n",
        "        batch_recon_loss.append(graph_recon_loss)   \n",
        "\n",
        "    # Take average of all losses\n",
        "    num_graphs = torch.unique(batch_index).shape[0]\n",
        "    batch_recon_loss = sum(batch_recon_loss) / num_graphs\n",
        "    \n",
        "    # KL Divergence\n",
        "\n",
        "    return batch_recon_loss \n",
        "\n",
        "\n",
        "def reconstruction_accuracy(triu_logits, edge_index, batch_index, node_features):\n",
        "    # Convert edge index to adjacency matrix\n",
        "    batch_targets = torch.squeeze(to_dense_adj(edge_index))\n",
        "    # Store target trius\n",
        "    batch_targets_triu = []\n",
        "    # Iterate over batch and collect each of the trius\n",
        "    batch_node_counter = 0\n",
        "    num_recon = 0\n",
        "    for graph_id in torch.unique(batch_index):\n",
        "        # Get triu parts for this graph\n",
        "        graph_targets_triu = slice_graph_targets(graph_id, \n",
        "                                                batch_targets, \n",
        "                                                batch_index)\n",
        "        graph_predictions_triu = slice_graph_predictions(triu_logits, \n",
        "                                                        graph_targets_triu.shape[0], \n",
        "                                                        batch_node_counter)\n",
        "\n",
        "        # Update counter to the index of the next graph\n",
        "        batch_node_counter = batch_node_counter + graph_targets_triu.shape[0]\n",
        "\n",
        "        # Slice node features of this batch\n",
        "        graph_node_features = slice_node_features(graph_id, node_features, batch_index)\n",
        "\n",
        "        # Check if graph is successfully reconstructed\n",
        "        num_nodes = sum(torch.eq(batch_index, graph_id))\n",
        "      \n",
        "        batch_targets_triu.append(graph_targets_triu)\n",
        " \n",
        "    batch_targets_triu = torch.cat(batch_targets_triu).detach()\n",
        "    triu_discrete = torch.squeeze(torch.tensor(torch.sigmoid(triu_logits) > 0.5, dtype=torch.int32))\n",
        "    #triu_discrete = triu_discrete.detach().cpu()\n",
        "    acc = torch.true_divide(torch.sum(batch_targets_triu==triu_discrete), batch_targets_triu.shape[0]) \n",
        "    return acc.detach().cpu().numpy(), num_recon\n",
        "    \n",
        "\n",
        "\n"
      ],
      "metadata": {
        "id": "jBdjgajtn4Gl"
      },
      "execution_count": 13,
      "outputs": []
    },
    {
      "cell_type": "code",
      "source": [
        "loss_fn = gvae_loss\n",
        "optimizer = torch.optim.Adam(model.parameters(), lr=0.002)\n",
        "kl_beta = 0.005"
      ],
      "metadata": {
        "id": "IJ04UOm4oKgr"
      },
      "execution_count": 14,
      "outputs": []
    },
    {
      "cell_type": "code",
      "source": [
        "\n",
        "def run_one_epoch(data_loader, type, epoch, kl_beta):\n",
        "    # Store per batch loss and accuracy \n",
        "    all_losses = []\n",
        "    all_accs = []\n",
        "    all_kldivs = []\n",
        "\n",
        "    # Iterate over data loader\n",
        "    for i, batch in enumerate(tqdm(data_loader)):\n",
        "        # Some of the data points have invalid adjacency matrices \n",
        "        try:\n",
        "            # Use GPU\n",
        "            batch.to(device)  \n",
        "            # Reset gradients\n",
        "            optimizer.zero_grad() \n",
        "            # Call model\n",
        "            triu_logits, mu = model(batch.x.float(), \n",
        "                                            batch.edge_attr.float(),\n",
        "                                            batch.edge_index, \n",
        "                                            batch.batch) \n",
        "            # Calculate loss and backpropagate\n",
        "            loss = loss_fn(triu_logits, batch.edge_index, mu, batch.batch, kl_beta)\n",
        "            if type == \"Train\":\n",
        "                loss.backward()  \n",
        "                optimizer.step()  \n",
        "            \n",
        "            acc = reconstruction_accuracy(triu_logits, batch.edge_index, batch.batch, batch.x.float())\n",
        "            \n",
        "\n",
        "            # Store loss and metrics\n",
        "            all_losses.append(loss.detach().cpu().numpy())\n",
        "            all_accs.append(acc)\n",
        "            \n",
        "            \n",
        "\n",
        "        except IndexError as error:\n",
        "            # For a few graphs the edge information is not correct\n",
        "            # Simply skip the batch containing those\n",
        "            print(\"Error: \", error)\n",
        "    \n",
        "    print(f\"{type} epoch {epoch} loss: \", np.array(all_losses).mean())\n",
        "    print(f\"{type} epoch {epoch} accuracy: \", np.array(all_accs).mean())\n",
        "   "
      ],
      "metadata": {
        "id": "Y_UNRzSzoM3z"
      },
      "execution_count": 15,
      "outputs": []
    },
    {
      "cell_type": "code",
      "source": [
        "for epoch in range(6): \n",
        "  model.train()\n",
        "  run_one_epoch(train_loader, type=\"Train\", epoch=epoch, kl_beta=kl_beta)\n",
        "  if epoch % 5 == 0:\n",
        "      print(\"Start test epoch...\")\n",
        "      model.eval()\n",
        "      run_one_epoch(test_loader, type=\"Test\", epoch=epoch, kl_beta=kl_beta)"
      ],
      "metadata": {
        "colab": {
          "base_uri": "https://localhost:8080/"
        },
        "id": "Ze5k3fYQoWPp",
        "outputId": "ef721d78-4549-4e37-b015-a8401a2039eb"
      },
      "execution_count": 16,
      "outputs": [
        {
          "output_type": "stream",
          "name": "stderr",
          "text": [
            "100%|██████████| 85/85 [01:54<00:00,  1.34s/it]\n"
          ]
        },
        {
          "output_type": "stream",
          "name": "stdout",
          "text": [
            "Train epoch 0 loss:  0.913607\n",
            "Train epoch 0 accuracy:  0.3195020898300059\n",
            "Start test epoch...\n"
          ]
        },
        {
          "output_type": "stream",
          "name": "stderr",
          "text": [
            "100%|██████████| 85/85 [01:57<00:00,  1.39s/it]\n"
          ]
        },
        {
          "output_type": "stream",
          "name": "stdout",
          "text": [
            "Test epoch 0 loss:  0.71974295\n",
            "Test epoch 0 accuracy:  0.35006491471739376\n"
          ]
        },
        {
          "output_type": "stream",
          "name": "stderr",
          "text": [
            "100%|██████████| 85/85 [01:52<00:00,  1.33s/it]\n"
          ]
        },
        {
          "output_type": "stream",
          "name": "stdout",
          "text": [
            "Train epoch 1 loss:  0.60126173\n",
            "Train epoch 1 accuracy:  0.40033579714158\n"
          ]
        },
        {
          "output_type": "stream",
          "name": "stderr",
          "text": [
            "100%|██████████| 85/85 [01:52<00:00,  1.33s/it]\n"
          ]
        },
        {
          "output_type": "stream",
          "name": "stdout",
          "text": [
            "Train epoch 2 loss:  0.49424797\n",
            "Train epoch 2 accuracy:  0.42015123823109796\n"
          ]
        },
        {
          "output_type": "stream",
          "name": "stderr",
          "text": [
            "100%|██████████| 85/85 [01:52<00:00,  1.32s/it]\n"
          ]
        },
        {
          "output_type": "stream",
          "name": "stdout",
          "text": [
            "Train epoch 3 loss:  0.4384451\n",
            "Train epoch 3 accuracy:  0.42980131226427415\n"
          ]
        },
        {
          "output_type": "stream",
          "name": "stderr",
          "text": [
            "100%|██████████| 85/85 [01:52<00:00,  1.33s/it]\n"
          ]
        },
        {
          "output_type": "stream",
          "name": "stdout",
          "text": [
            "Train epoch 4 loss:  0.41407144\n",
            "Train epoch 4 accuracy:  0.4352007855387295\n"
          ]
        },
        {
          "output_type": "stream",
          "name": "stderr",
          "text": [
            "100%|██████████| 85/85 [01:51<00:00,  1.31s/it]\n"
          ]
        },
        {
          "output_type": "stream",
          "name": "stdout",
          "text": [
            "Train epoch 5 loss:  0.38461196\n",
            "Train epoch 5 accuracy:  0.4391724449746749\n",
            "Start test epoch...\n"
          ]
        },
        {
          "output_type": "stream",
          "name": "stderr",
          "text": [
            "100%|██████████| 85/85 [01:56<00:00,  1.37s/it]"
          ]
        },
        {
          "output_type": "stream",
          "name": "stdout",
          "text": [
            "Test epoch 5 loss:  0.38289946\n",
            "Test epoch 5 accuracy:  0.4308698310571558\n"
          ]
        },
        {
          "output_type": "stream",
          "name": "stderr",
          "text": [
            "\n"
          ]
        }
      ]
    },
    {
      "cell_type": "code",
      "source": [
        "NUM_GRAPHS_PER_BATCH = 1\n",
        "loader = DataLoader(encoder_set, \n",
        "                    batch_size=NUM_GRAPHS_PER_BATCH, shuffle=False)\n",
        "\n",
        "dictval = {}\n",
        "for batch in loader : \n",
        "  batch.to(device)\n",
        "  decode_pred, mu = model(batch.x.float(), \n",
        "                          batch.edge_attr.float(),\n",
        "                          batch.edge_index, \n",
        "                          batch.batch) \n",
        "  \n",
        "  \n",
        "  dictval[batch.id[0]] = [mu]\n",
        "  \n",
        "print(\"done!!!\")\n",
        "  \n",
        "\n",
        "      "
      ],
      "metadata": {
        "colab": {
          "base_uri": "https://localhost:8080/"
        },
        "id": "vkrgutTUo4lO",
        "outputId": "b8c190da-e51b-46e6-c9f2-36b6f0951f88"
      },
      "execution_count": 17,
      "outputs": [
        {
          "output_type": "stream",
          "name": "stdout",
          "text": [
            "done!!!\n"
          ]
        }
      ]
    },
    {
      "cell_type": "code",
      "source": [
        "temp = pd.read_csv(\"sup_train_val.csv\")\n",
        "temp.head()"
      ],
      "metadata": {
        "colab": {
          "base_uri": "https://localhost:8080/",
          "height": 285
        },
        "id": "PTanVdCtpFyh",
        "outputId": "a10dce7f-8092-47ba-ea19-1294affbdc81"
      },
      "execution_count": 18,
      "outputs": [
        {
          "output_type": "execute_result",
          "data": {
            "text/plain": [
              "   Unnamed: 0 Drug1_ID                                       Drug1_SMILES  \\\n",
              "0           0  DB00706   CCOc1ccccc1OCCN[C@H](C)Cc1ccc(OC)c(S(N)(=O)=O)c1   \n",
              "1           1   3849.0  C[C@@H](Oc1ccc2[nH]nc(/C=C/c3cnn(CCO)c3)c2c1)c...   \n",
              "2           2   6380.0                      O=P(O)(O)OCCCc1c[nH]c2ccccc12   \n",
              "3           3   7947.0  CCCC(=O)O[C@]1(C(=O)COC(C)=O)CC[C@H]2[C@@H]3C[...   \n",
              "4           4  DB00802   CCC(=O)N(c1ccccc1)C1(COC)CCN(CCn2nnn(CC)c2=O)CC1   \n",
              "\n",
              "  Drug2_ID                                       Drug2_SMILES  label  \n",
              "0  DB01023    CCOC(=O)C1=C(C)NC(C)=C(C(=O)OC)C1c1cccc(Cl)c1Cl    1.0  \n",
              "1   3515.0      COc1ccc2c(c1)c(CC(=O)O)c(C)n2C(=O)c1ccc(I)cc1    0.0  \n",
              "2   8290.0       N[C@@H](c1ccccc1)c1ccc(-c2ncnc3[nH]cnc23)cc1    0.0  \n",
              "3   3010.0                                       CNCCc1ccccn1    0.0  \n",
              "4  DB00872  Cc1nc2c([nH]1)CCN(C(=O)c1ccc(NC(=O)c3ccccc3-c3...    1.0  "
            ],
            "text/html": [
              "\n",
              "  <div id=\"df-2d240ed8-a137-41ba-9ce7-65a28fd67a43\">\n",
              "    <div class=\"colab-df-container\">\n",
              "      <div>\n",
              "<style scoped>\n",
              "    .dataframe tbody tr th:only-of-type {\n",
              "        vertical-align: middle;\n",
              "    }\n",
              "\n",
              "    .dataframe tbody tr th {\n",
              "        vertical-align: top;\n",
              "    }\n",
              "\n",
              "    .dataframe thead th {\n",
              "        text-align: right;\n",
              "    }\n",
              "</style>\n",
              "<table border=\"1\" class=\"dataframe\">\n",
              "  <thead>\n",
              "    <tr style=\"text-align: right;\">\n",
              "      <th></th>\n",
              "      <th>Unnamed: 0</th>\n",
              "      <th>Drug1_ID</th>\n",
              "      <th>Drug1_SMILES</th>\n",
              "      <th>Drug2_ID</th>\n",
              "      <th>Drug2_SMILES</th>\n",
              "      <th>label</th>\n",
              "    </tr>\n",
              "  </thead>\n",
              "  <tbody>\n",
              "    <tr>\n",
              "      <th>0</th>\n",
              "      <td>0</td>\n",
              "      <td>DB00706</td>\n",
              "      <td>CCOc1ccccc1OCCN[C@H](C)Cc1ccc(OC)c(S(N)(=O)=O)c1</td>\n",
              "      <td>DB01023</td>\n",
              "      <td>CCOC(=O)C1=C(C)NC(C)=C(C(=O)OC)C1c1cccc(Cl)c1Cl</td>\n",
              "      <td>1.0</td>\n",
              "    </tr>\n",
              "    <tr>\n",
              "      <th>1</th>\n",
              "      <td>1</td>\n",
              "      <td>3849.0</td>\n",
              "      <td>C[C@@H](Oc1ccc2[nH]nc(/C=C/c3cnn(CCO)c3)c2c1)c...</td>\n",
              "      <td>3515.0</td>\n",
              "      <td>COc1ccc2c(c1)c(CC(=O)O)c(C)n2C(=O)c1ccc(I)cc1</td>\n",
              "      <td>0.0</td>\n",
              "    </tr>\n",
              "    <tr>\n",
              "      <th>2</th>\n",
              "      <td>2</td>\n",
              "      <td>6380.0</td>\n",
              "      <td>O=P(O)(O)OCCCc1c[nH]c2ccccc12</td>\n",
              "      <td>8290.0</td>\n",
              "      <td>N[C@@H](c1ccccc1)c1ccc(-c2ncnc3[nH]cnc23)cc1</td>\n",
              "      <td>0.0</td>\n",
              "    </tr>\n",
              "    <tr>\n",
              "      <th>3</th>\n",
              "      <td>3</td>\n",
              "      <td>7947.0</td>\n",
              "      <td>CCCC(=O)O[C@]1(C(=O)COC(C)=O)CC[C@H]2[C@@H]3C[...</td>\n",
              "      <td>3010.0</td>\n",
              "      <td>CNCCc1ccccn1</td>\n",
              "      <td>0.0</td>\n",
              "    </tr>\n",
              "    <tr>\n",
              "      <th>4</th>\n",
              "      <td>4</td>\n",
              "      <td>DB00802</td>\n",
              "      <td>CCC(=O)N(c1ccccc1)C1(COC)CCN(CCn2nnn(CC)c2=O)CC1</td>\n",
              "      <td>DB00872</td>\n",
              "      <td>Cc1nc2c([nH]1)CCN(C(=O)c1ccc(NC(=O)c3ccccc3-c3...</td>\n",
              "      <td>1.0</td>\n",
              "    </tr>\n",
              "  </tbody>\n",
              "</table>\n",
              "</div>\n",
              "      <button class=\"colab-df-convert\" onclick=\"convertToInteractive('df-2d240ed8-a137-41ba-9ce7-65a28fd67a43')\"\n",
              "              title=\"Convert this dataframe to an interactive table.\"\n",
              "              style=\"display:none;\">\n",
              "        \n",
              "  <svg xmlns=\"http://www.w3.org/2000/svg\" height=\"24px\"viewBox=\"0 0 24 24\"\n",
              "       width=\"24px\">\n",
              "    <path d=\"M0 0h24v24H0V0z\" fill=\"none\"/>\n",
              "    <path d=\"M18.56 5.44l.94 2.06.94-2.06 2.06-.94-2.06-.94-.94-2.06-.94 2.06-2.06.94zm-11 1L8.5 8.5l.94-2.06 2.06-.94-2.06-.94L8.5 2.5l-.94 2.06-2.06.94zm10 10l.94 2.06.94-2.06 2.06-.94-2.06-.94-.94-2.06-.94 2.06-2.06.94z\"/><path d=\"M17.41 7.96l-1.37-1.37c-.4-.4-.92-.59-1.43-.59-.52 0-1.04.2-1.43.59L10.3 9.45l-7.72 7.72c-.78.78-.78 2.05 0 2.83L4 21.41c.39.39.9.59 1.41.59.51 0 1.02-.2 1.41-.59l7.78-7.78 2.81-2.81c.8-.78.8-2.07 0-2.86zM5.41 20L4 18.59l7.72-7.72 1.47 1.35L5.41 20z\"/>\n",
              "  </svg>\n",
              "      </button>\n",
              "      \n",
              "  <style>\n",
              "    .colab-df-container {\n",
              "      display:flex;\n",
              "      flex-wrap:wrap;\n",
              "      gap: 12px;\n",
              "    }\n",
              "\n",
              "    .colab-df-convert {\n",
              "      background-color: #E8F0FE;\n",
              "      border: none;\n",
              "      border-radius: 50%;\n",
              "      cursor: pointer;\n",
              "      display: none;\n",
              "      fill: #1967D2;\n",
              "      height: 32px;\n",
              "      padding: 0 0 0 0;\n",
              "      width: 32px;\n",
              "    }\n",
              "\n",
              "    .colab-df-convert:hover {\n",
              "      background-color: #E2EBFA;\n",
              "      box-shadow: 0px 1px 2px rgba(60, 64, 67, 0.3), 0px 1px 3px 1px rgba(60, 64, 67, 0.15);\n",
              "      fill: #174EA6;\n",
              "    }\n",
              "\n",
              "    [theme=dark] .colab-df-convert {\n",
              "      background-color: #3B4455;\n",
              "      fill: #D2E3FC;\n",
              "    }\n",
              "\n",
              "    [theme=dark] .colab-df-convert:hover {\n",
              "      background-color: #434B5C;\n",
              "      box-shadow: 0px 1px 3px 1px rgba(0, 0, 0, 0.15);\n",
              "      filter: drop-shadow(0px 1px 2px rgba(0, 0, 0, 0.3));\n",
              "      fill: #FFFFFF;\n",
              "    }\n",
              "  </style>\n",
              "\n",
              "      <script>\n",
              "        const buttonEl =\n",
              "          document.querySelector('#df-2d240ed8-a137-41ba-9ce7-65a28fd67a43 button.colab-df-convert');\n",
              "        buttonEl.style.display =\n",
              "          google.colab.kernel.accessAllowed ? 'block' : 'none';\n",
              "\n",
              "        async function convertToInteractive(key) {\n",
              "          const element = document.querySelector('#df-2d240ed8-a137-41ba-9ce7-65a28fd67a43');\n",
              "          const dataTable =\n",
              "            await google.colab.kernel.invokeFunction('convertToInteractive',\n",
              "                                                     [key], {});\n",
              "          if (!dataTable) return;\n",
              "\n",
              "          const docLinkHtml = 'Like what you see? Visit the ' +\n",
              "            '<a target=\"_blank\" href=https://colab.research.google.com/notebooks/data_table.ipynb>data table notebook</a>'\n",
              "            + ' to learn more about interactive tables.';\n",
              "          element.innerHTML = '';\n",
              "          dataTable['output_type'] = 'display_data';\n",
              "          await google.colab.output.renderOutput(dataTable, element);\n",
              "          const docLink = document.createElement('div');\n",
              "          docLink.innerHTML = docLinkHtml;\n",
              "          element.appendChild(docLink);\n",
              "        }\n",
              "      </script>\n",
              "    </div>\n",
              "  </div>\n",
              "  "
            ]
          },
          "metadata": {},
          "execution_count": 18
        }
      ]
    },
    {
      "cell_type": "code",
      "source": [
        "df = temp"
      ],
      "metadata": {
        "id": "qqTflPw1pIcl"
      },
      "execution_count": 19,
      "outputs": []
    },
    {
      "cell_type": "code",
      "source": [
        "df = df.sample(frac=1)\n",
        "df = df.reset_index(drop=True)\n",
        "len(df)"
      ],
      "metadata": {
        "colab": {
          "base_uri": "https://localhost:8080/"
        },
        "id": "FlCo047PpKuF",
        "outputId": "21eee8db-5926-4673-c32f-3e5c368bfed1"
      },
      "execution_count": 20,
      "outputs": [
        {
          "output_type": "execute_result",
          "data": {
            "text/plain": [
              "66432"
            ]
          },
          "metadata": {},
          "execution_count": 20
        }
      ]
    },
    {
      "cell_type": "code",
      "source": [
        "n_classes = len(df['label'].unique())\n",
        "n_classes"
      ],
      "metadata": {
        "colab": {
          "base_uri": "https://localhost:8080/"
        },
        "id": "DqdK74MCpM5D",
        "outputId": "a3bba33d-5be5-4df7-a075-8d4da38c74bf"
      },
      "execution_count": 21,
      "outputs": [
        {
          "output_type": "execute_result",
          "data": {
            "text/plain": [
              "2"
            ]
          },
          "metadata": {},
          "execution_count": 21
        }
      ]
    },
    {
      "cell_type": "code",
      "source": [
        "df['label'].value_counts()"
      ],
      "metadata": {
        "colab": {
          "base_uri": "https://localhost:8080/"
        },
        "id": "UqBIA3sgpO3b",
        "outputId": "7901dd0d-f610-4b88-f542-5358a7ac38fc"
      },
      "execution_count": 22,
      "outputs": [
        {
          "output_type": "execute_result",
          "data": {
            "text/plain": [
              "1.0    33243\n",
              "0.0    33189\n",
              "Name: label, dtype: int64"
            ]
          },
          "metadata": {},
          "execution_count": 22
        }
      ]
    },
    {
      "cell_type": "code",
      "source": [
        "dftrain = df\n",
        "dftest = pd.read_csv('sup_test.csv')\n",
        "len(dftest)"
      ],
      "metadata": {
        "colab": {
          "base_uri": "https://localhost:8080/"
        },
        "id": "D0vsrxxcpSbS",
        "outputId": "2c71958b-de1d-477b-bfc1-1dc258b75e1d"
      },
      "execution_count": 23,
      "outputs": [
        {
          "output_type": "execute_result",
          "data": {
            "text/plain": [
              "16608"
            ]
          },
          "metadata": {},
          "execution_count": 23
        }
      ]
    },
    {
      "cell_type": "code",
      "source": [
        "dftest['label'].value_counts()"
      ],
      "metadata": {
        "colab": {
          "base_uri": "https://localhost:8080/"
        },
        "id": "Mf3WkJuLpXWC",
        "outputId": "46fe05eb-0311-4730-fc34-e9a7908b04d7"
      },
      "execution_count": 24,
      "outputs": [
        {
          "output_type": "execute_result",
          "data": {
            "text/plain": [
              "0.0    8331\n",
              "1.0    8277\n",
              "Name: label, dtype: int64"
            ]
          },
          "metadata": {},
          "execution_count": 24
        }
      ]
    },
    {
      "cell_type": "code",
      "source": [
        "class NumbersDataset(Dataset):\n",
        "    def __init__(self,filename):\n",
        "        datat = dftrain\n",
        "        # datat = datat.head(partition) \n",
        "        self.samples = list(range(2*len(datat)))\n",
        "        self.label = list(range(2*len(datat)))\n",
        "        self.sz = 0\n",
        "        idx = 0\n",
        "        for index in range(len(datat)) :\n",
        "          str1 = datat['Drug1_ID'][index]\n",
        "          str2 = datat['Drug2_ID'][index]\n",
        "\n",
        "          if (str1 in dictval) and (str2 in dictval) :\n",
        "            mat1 = dictval[str1][0]\n",
        "            mat2 = dictval[str2][0]\n",
        "            mean1 = torch.mean(mat1, axis = 0)\n",
        "            std1 = torch.std(mat1, axis = 0)\n",
        "            mean2 = torch.mean(mat2, axis = 0)\n",
        "            std2 = torch.std(mat2, axis = 0)\n",
        "            vect = torch.cat([mean1, mean2, std1, std2], dim=0)\n",
        "            self.samples[idx] = vect.detach().cpu()\n",
        "            self.label[idx] = datat['label'][index]\n",
        "            self.label[idx] = torch.tensor(self.label[idx], dtype=torch.int64)\n",
        "            idx+=1\n",
        "            \n",
        "             \n",
        "        self.sz = idx\n",
        "\n",
        "\n",
        "    def __len__(self):\n",
        "        return self.sz\n",
        "\n",
        "    def __getitem__(self, idx):\n",
        "        return self.samples[idx],self.label[idx]\n",
        "\n",
        "dataset = NumbersDataset(\"sup_train_val.csv\")\n",
        "len(dataset)"
      ],
      "metadata": {
        "colab": {
          "base_uri": "https://localhost:8080/"
        },
        "id": "n7Dk8mPcpaRE",
        "outputId": "b1dfa1e5-a970-44dc-8475-91c6549e6980"
      },
      "execution_count": 25,
      "outputs": [
        {
          "output_type": "execute_result",
          "data": {
            "text/plain": [
              "65075"
            ]
          },
          "metadata": {},
          "execution_count": 25
        }
      ]
    },
    {
      "cell_type": "code",
      "source": [
        "data = dataset\n",
        "data[0][0].shape[0]"
      ],
      "metadata": {
        "colab": {
          "base_uri": "https://localhost:8080/"
        },
        "id": "783AxfvNpc5H",
        "outputId": "afddf54d-fd70-42e9-f3b3-21d032376fdd"
      },
      "execution_count": 26,
      "outputs": [
        {
          "output_type": "execute_result",
          "data": {
            "text/plain": [
              "32"
            ]
          },
          "metadata": {},
          "execution_count": 26
        }
      ]
    },
    {
      "cell_type": "code",
      "source": [
        "# import torch.nn.functional as F \n",
        "\n",
        "\n",
        "# class NeuralNet(torch.nn.Module):\n",
        "#     def __init__(self, input_size, hidden_size):\n",
        "#         super(NeuralNet, self).__init__()\n",
        "#         self.input_size = input_size\n",
        "#         self.hidden_size  = hidden_size\n",
        "#         self.fc1 = torch.nn.Linear(self.input_size, self.hidden_size)\n",
        "#         self.relu = torch.nn.ReLU()\n",
        "#         self.fc2 = torch.nn.Linear(self.hidden_size, self.hidden_size)\n",
        "#         self.fc3 = torch.nn.Linear(self.hidden_size, n_classes)\n",
        "        \n",
        "#     def forward(self, x):\n",
        "#         x = self.fc1(x)\n",
        "#         x = self.relu(x)\n",
        "#         x = self.fc2(x)\n",
        "#         x = self.relu(x)\n",
        "#         x = self.fc3(x)\n",
        "#         x = F.softmax(x, dim=1)\n",
        "#         return x\n",
        "# model_ff = NeuralNet(data[0][0].shape[0],64)\n",
        "# print(model_ff)\n",
        "# print(\"Number of parameters: \", sum(p.numel() for p in model_ff.parameters()))"
      ],
      "metadata": {
        "id": "rchTD_oWpfw6"
      },
      "execution_count": 27,
      "outputs": []
    },
    {
      "cell_type": "code",
      "source": [
        "import torch.nn.functional as F \n",
        "torch.manual_seed(42)\n",
        "\n",
        "class NeuralNet(torch.nn.Module):\n",
        "    def __init__(self, input_size, hidden_size):\n",
        "        super(NeuralNet, self).__init__()\n",
        "        self.input_size = input_size\n",
        "        self.hidden_size  = hidden_size\n",
        "        self.fc1 = torch.nn.Linear(self.input_size, self.hidden_size)\n",
        "        self.relu = torch.nn.ReLU()\n",
        "        self.fc2 = torch.nn.Linear(self.hidden_size, n_classes)\n",
        "        \n",
        "    def forward(self, x):\n",
        "        x = self.fc1(x)\n",
        "        x = self.relu(x)\n",
        "        x = self.fc2(x)\n",
        "        x = F.softmax(x, dim=1)\n",
        "        return x\n",
        "model_ff = NeuralNet(data[0][0].shape[0],128)\n",
        "print(model_ff)\n",
        "print(\"Number of parameters: \", sum(p.numel() for p in model_ff.parameters()))"
      ],
      "metadata": {
        "colab": {
          "base_uri": "https://localhost:8080/"
        },
        "id": "Pim_CYo18alp",
        "outputId": "f4e47f55-cbdb-48b1-800a-168dae501d14"
      },
      "execution_count": 28,
      "outputs": [
        {
          "output_type": "stream",
          "name": "stdout",
          "text": [
            "NeuralNet(\n",
            "  (fc1): Linear(in_features=32, out_features=128, bias=True)\n",
            "  (relu): ReLU()\n",
            "  (fc2): Linear(in_features=128, out_features=2, bias=True)\n",
            ")\n",
            "Number of parameters:  4482\n"
          ]
        }
      ]
    },
    {
      "cell_type": "code",
      "source": [
        "\n",
        "\n",
        "\n",
        "loss_fn = nn.CrossEntropyLoss()\n",
        "optimizer = torch.optim.Adam(model_ff.parameters(), lr=0.001)  \n",
        "\n",
        "# Use GPU for training\n",
        "model_ff = model_ff.to(device)\n",
        "loss_fn = loss_fn.to(device)\n",
        "\n",
        "# Wrap data in a data loader\n",
        "data_size = len(data)\n",
        "NUM_GRAPHS_PER_BATCH = 128\n",
        "loader = DataLoader(data,batch_size=NUM_GRAPHS_PER_BATCH, shuffle=True)\n",
        "\n",
        "\n",
        "\n",
        "def train(data):\n",
        "    # Enumerate over the data\n",
        "    for batch in loader:\n",
        "      # Use GPU\n",
        "      batch[0] = batch[0].to(device) \n",
        "      batch[1] = batch[1].to(device)  \n",
        "      # Reset gradients\n",
        "      optimizer.zero_grad() \n",
        "      # Passing the node features and the connection info\n",
        "      \n",
        "      pred = model_ff(batch[0]) \n",
        "      \n",
        "      # Calculating the loss and gradients\n",
        "      \n",
        "      \n",
        "      loss = (loss_fn(pred, batch[1]))      \n",
        "      loss.backward()  \n",
        "      # Update using the gradients\n",
        "      optimizer.step()   \n",
        "    return loss\n",
        "\n",
        "print(\"Starting training...\")\n",
        "losses = []\n",
        "for epoch in range(251):\n",
        "    loss = train(data)\n",
        "    losses.append(loss)\n",
        "    if epoch % 50 == 0:\n",
        "      print(f\"Epoch {epoch} | Train Loss {loss}\")"
      ],
      "metadata": {
        "colab": {
          "base_uri": "https://localhost:8080/"
        },
        "id": "K6IU1YEcpjbk",
        "outputId": "337bebe0-253d-4575-f96c-528c0f94fc5b"
      },
      "execution_count": 43,
      "outputs": [
        {
          "output_type": "stream",
          "name": "stdout",
          "text": [
            "Starting training...\n",
            "Epoch 0 | Train Loss 0.38907843828201294\n"
          ]
        }
      ]
    },
    {
      "cell_type": "code",
      "source": [
        "# Visualize learning (training loss)\n",
        "import seaborn as sns\n",
        "losses_float = [float(loss.cpu().detach().numpy()) for loss in losses] \n",
        "loss_indices = [i for i,l in enumerate(losses_float)] \n",
        "plt = sns.lineplot(loss_indices, losses_float)\n",
        "plt"
      ],
      "metadata": {
        "colab": {
          "base_uri": "https://localhost:8080/",
          "height": 282
        },
        "id": "YslzxihqpmH5",
        "outputId": "785ad99f-700a-46a1-e848-3d3f41389b7b"
      },
      "execution_count": 30,
      "outputs": [
        {
          "output_type": "execute_result",
          "data": {
            "text/plain": [
              "<matplotlib.axes._subplots.AxesSubplot at 0x7fd45b00df10>"
            ]
          },
          "metadata": {},
          "execution_count": 30
        },
        {
          "output_type": "display_data",
          "data": {
            "text/plain": [
              "<Figure size 432x288 with 1 Axes>"
            ],
            "image/png": "[encoded data removed]"
          },
          "metadata": {
            "needs_background": "light"
          }
        }
      ]
    },
    {
      "cell_type": "code",
      "source": [
        "class TestDataset(Dataset):\n",
        "    def __init__(self,filename):\n",
        "        datat = dftest\n",
        "       \n",
        "        self.samples = list(range(len(datat)))\n",
        "        self.label = list(range(len(datat)))\n",
        "        self.sz = 0\n",
        "        idx = 0\n",
        "        for index in range(len(datat)) :\n",
        "          str1 = datat['Drug1_ID'][index]\n",
        "          str2 = datat['Drug2_ID'][index]\n",
        "\n",
        "          \n",
        "          if (str1 in dictval) and (str2 in dictval) :\n",
        "            mat1 = dictval[str1][0]\n",
        "            mat2 = dictval[str2][0]\n",
        "            mean1 = torch.mean(mat1, axis = 0)\n",
        "            std1 = torch.std(mat1, axis = 0)\n",
        "            mean2 = torch.mean(mat2, axis = 0)\n",
        "            std2 = torch.std(mat2, axis = 0)\n",
        "            vect = torch.cat([mean1, mean2, std1, std2], dim=0)\n",
        "            self.samples[idx] = vect.detach().cpu()\n",
        "            self.label[idx] = datat['label'][index]\n",
        "            self.label[idx] = torch.tensor(self.label[idx], dtype=torch.int64)\n",
        "            idx+=1\n",
        "        self.sz = idx\n",
        "\n",
        "\n",
        "    def __len__(self):\n",
        "        return self.sz\n",
        "\n",
        "    def __getitem__(self, idx):\n",
        "        return self.samples[idx],self.label[idx]\n",
        "\n",
        "datatest = TestDataset(\"sup_test.csv\")\n",
        "len(datatest)"
      ],
      "metadata": {
        "colab": {
          "base_uri": "https://localhost:8080/"
        },
        "id": "SXaIIbHNpo64",
        "outputId": "5283251e-41b4-4fba-8815-99bd48fda7e1"
      },
      "execution_count": 31,
      "outputs": [
        {
          "output_type": "execute_result",
          "data": {
            "text/plain": [
              "16234"
            ]
          },
          "metadata": {},
          "execution_count": 31
        }
      ]
    },
    {
      "cell_type": "code",
      "source": [
        "test_loader = DataLoader(datatest,batch_size=len(datatest), shuffle=True)\n",
        "dffull = pd.DataFrame(columns = ['y_real','y_pred'])\n",
        "with torch.no_grad():\n",
        "    for test_batch in test_loader : \n",
        "      test_batch[0] = test_batch[0].to(device)\n",
        "      test_batch[1] = test_batch[1].to(device)\n",
        "      pred = model_ff(test_batch[0]) \n",
        "      pred_frac0 = pred[:,0]\n",
        "      pred_frac1 = pred[:,1]\n",
        "      if n_classes == 3 : \n",
        "        pred_frac2 = pred[:,2]\n",
        "      pred = pred.argmax(dim=1)  \n",
        "      dftt = pd.DataFrame()\n",
        "      dftt[\"y_real\"] = test_batch[1].tolist()\n",
        "      dftt[\"y_pred\"] = pred.tolist()\n",
        "      dftt[\"y_predfrac0\"] = pred_frac0.tolist()\n",
        "      dftt[\"y_predfrac1\"] = pred_frac1.tolist()\n",
        "      if n_classes == 3 : \n",
        "        dftt[\"y_predfrac2\"] = pred_frac2.tolist()\n",
        "      dffull = dffull.append(dftt)\n",
        "      print(f1_score(dftt['y_real'], dftt['y_pred'],average='macro'))\n",
        "\n",
        "dffull.to_csv('tt.csv')\n",
        "dffull.tail()"
      ],
      "metadata": {
        "colab": {
          "base_uri": "https://localhost:8080/",
          "height": 221
        },
        "id": "Cn29Y6CcpuVv",
        "outputId": "c6f7b09e-a1b8-499f-9795-8d1f34b9c427"
      },
      "execution_count": 32,
      "outputs": [
        {
          "output_type": "stream",
          "name": "stdout",
          "text": [
            "0.8867639856331047\n"
          ]
        },
        {
          "output_type": "execute_result",
          "data": {
            "text/plain": [
              "      y_real y_pred  y_predfrac0   y_predfrac1\n",
              "16229      0      1     0.000298  9.997020e-01\n",
              "16230      1      1     0.459506  5.404943e-01\n",
              "16231      0      0     0.838414  1.615857e-01\n",
              "16232      0      0     0.999979  2.122029e-05\n",
              "16233      0      0     1.000000  3.885778e-14"
            ],
            "text/html": [
              "\n",
              "  <div id=\"df-6759a574-9087-42ed-af01-0bfc5329e8c0\">\n",
              "    <div class=\"colab-df-container\">\n",
              "      <div>\n",
              "<style scoped>\n",
              "    .dataframe tbody tr th:only-of-type {\n",
              "        vertical-align: middle;\n",
              "    }\n",
              "\n",
              "    .dataframe tbody tr th {\n",
              "        vertical-align: top;\n",
              "    }\n",
              "\n",
              "    .dataframe thead th {\n",
              "        text-align: right;\n",
              "    }\n",
              "</style>\n",
              "<table border=\"1\" class=\"dataframe\">\n",
              "  <thead>\n",
              "    <tr style=\"text-align: right;\">\n",
              "      <th></th>\n",
              "      <th>y_real</th>\n",
              "      <th>y_pred</th>\n",
              "      <th>y_predfrac0</th>\n",
              "      <th>y_predfrac1</th>\n",
              "    </tr>\n",
              "  </thead>\n",
              "  <tbody>\n",
              "    <tr>\n",
              "      <th>16229</th>\n",
              "      <td>0</td>\n",
              "      <td>1</td>\n",
              "      <td>0.000298</td>\n",
              "      <td>9.997020e-01</td>\n",
              "    </tr>\n",
              "    <tr>\n",
              "      <th>16230</th>\n",
              "      <td>1</td>\n",
              "      <td>1</td>\n",
              "      <td>0.459506</td>\n",
              "      <td>5.404943e-01</td>\n",
              "    </tr>\n",
              "    <tr>\n",
              "      <th>16231</th>\n",
              "      <td>0</td>\n",
              "      <td>0</td>\n",
              "      <td>0.838414</td>\n",
              "      <td>1.615857e-01</td>\n",
              "    </tr>\n",
              "    <tr>\n",
              "      <th>16232</th>\n",
              "      <td>0</td>\n",
              "      <td>0</td>\n",
              "      <td>0.999979</td>\n",
              "      <td>2.122029e-05</td>\n",
              "    </tr>\n",
              "    <tr>\n",
              "      <th>16233</th>\n",
              "      <td>0</td>\n",
              "      <td>0</td>\n",
              "      <td>1.000000</td>\n",
              "      <td>3.885778e-14</td>\n",
              "    </tr>\n",
              "  </tbody>\n",
              "</table>\n",
              "</div>\n",
              "      <button class=\"colab-df-convert\" onclick=\"convertToInteractive('df-6759a574-9087-42ed-af01-0bfc5329e8c0')\"\n",
              "              title=\"Convert this dataframe to an interactive table.\"\n",
              "              style=\"display:none;\">\n",
              "        \n",
              "  <svg xmlns=\"http://www.w3.org/2000/svg\" height=\"24px\"viewBox=\"0 0 24 24\"\n",
              "       width=\"24px\">\n",
              "    <path d=\"M0 0h24v24H0V0z\" fill=\"none\"/>\n",
              "    <path d=\"M18.56 5.44l.94 2.06.94-2.06 2.06-.94-2.06-.94-.94-2.06-.94 2.06-2.06.94zm-11 1L8.5 8.5l.94-2.06 2.06-.94-2.06-.94L8.5 2.5l-.94 2.06-2.06.94zm10 10l.94 2.06.94-2.06 2.06-.94-2.06-.94-.94-2.06-.94 2.06-2.06.94z\"/><path d=\"M17.41 7.96l-1.37-1.37c-.4-.4-.92-.59-1.43-.59-.52 0-1.04.2-1.43.59L10.3 9.45l-7.72 7.72c-.78.78-.78 2.05 0 2.83L4 21.41c.39.39.9.59 1.41.59.51 0 1.02-.2 1.41-.59l7.78-7.78 2.81-2.81c.8-.78.8-2.07 0-2.86zM5.41 20L4 18.59l7.72-7.72 1.47 1.35L5.41 20z\"/>\n",
              "  </svg>\n",
              "      </button>\n",
              "      \n",
              "  <style>\n",
              "    .colab-df-container {\n",
              "      display:flex;\n",
              "      flex-wrap:wrap;\n",
              "      gap: 12px;\n",
              "    }\n",
              "\n",
              "    .colab-df-convert {\n",
              "      background-color: #E8F0FE;\n",
              "      border: none;\n",
              "      border-radius: 50%;\n",
              "      cursor: pointer;\n",
              "      display: none;\n",
              "      fill: #1967D2;\n",
              "      height: 32px;\n",
              "      padding: 0 0 0 0;\n",
              "      width: 32px;\n",
              "    }\n",
              "\n",
              "    .colab-df-convert:hover {\n",
              "      background-color: #E2EBFA;\n",
              "      box-shadow: 0px 1px 2px rgba(60, 64, 67, 0.3), 0px 1px 3px 1px rgba(60, 64, 67, 0.15);\n",
              "      fill: #174EA6;\n",
              "    }\n",
              "\n",
              "    [theme=dark] .colab-df-convert {\n",
              "      background-color: #3B4455;\n",
              "      fill: #D2E3FC;\n",
              "    }\n",
              "\n",
              "    [theme=dark] .colab-df-convert:hover {\n",
              "      background-color: #434B5C;\n",
              "      box-shadow: 0px 1px 3px 1px rgba(0, 0, 0, 0.15);\n",
              "      filter: drop-shadow(0px 1px 2px rgba(0, 0, 0, 0.3));\n",
              "      fill: #FFFFFF;\n",
              "    }\n",
              "  </style>\n",
              "\n",
              "      <script>\n",
              "        const buttonEl =\n",
              "          document.querySelector('#df-6759a574-9087-42ed-af01-0bfc5329e8c0 button.colab-df-convert');\n",
              "        buttonEl.style.display =\n",
              "          google.colab.kernel.accessAllowed ? 'block' : 'none';\n",
              "\n",
              "        async function convertToInteractive(key) {\n",
              "          const element = document.querySelector('#df-6759a574-9087-42ed-af01-0bfc5329e8c0');\n",
              "          const dataTable =\n",
              "            await google.colab.kernel.invokeFunction('convertToInteractive',\n",
              "                                                     [key], {});\n",
              "          if (!dataTable) return;\n",
              "\n",
              "          const docLinkHtml = 'Like what you see? Visit the ' +\n",
              "            '<a target=\"_blank\" href=https://colab.research.google.com/notebooks/data_table.ipynb>data table notebook</a>'\n",
              "            + ' to learn more about interactive tables.';\n",
              "          element.innerHTML = '';\n",
              "          dataTable['output_type'] = 'display_data';\n",
              "          await google.colab.output.renderOutput(dataTable, element);\n",
              "          const docLink = document.createElement('div');\n",
              "          docLink.innerHTML = docLinkHtml;\n",
              "          element.appendChild(docLink);\n",
              "        }\n",
              "      </script>\n",
              "    </div>\n",
              "  </div>\n",
              "  "
            ]
          },
          "metadata": {},
          "execution_count": 32
        }
      ]
    },
    {
      "cell_type": "code",
      "source": [
        "datahead = pd.read_csv('tt.csv')\n",
        "\n",
        "print(f1_score(datahead['y_real'], datahead['y_pred'],average='macro'))\n",
        "print(f1_score(datahead['y_real'], datahead['y_pred'],average='micro'))\n",
        "print(accuracy_score(datahead['y_real'], datahead['y_pred']))\n",
        "\n",
        "confusion_matrix(datahead['y_real'], datahead['y_pred'])"
      ],
      "metadata": {
        "colab": {
          "base_uri": "https://localhost:8080/"
        },
        "id": "Y6JI7nQWpx5a",
        "outputId": "b88e38cf-44e1-462e-8b6e-ac0b1ed1a0e6"
      },
      "execution_count": 34,
      "outputs": [
        {
          "output_type": "stream",
          "name": "stdout",
          "text": [
            "0.8867639856331047\n",
            "0.8867808303560428\n",
            "0.8867808303560428\n"
          ]
        },
        {
          "output_type": "execute_result",
          "data": {
            "text/plain": [
              "array([[7099, 1010],\n",
              "       [ 828, 7297]])"
            ]
          },
          "metadata": {},
          "execution_count": 34
        }
      ]
    },
    {
      "cell_type": "code",
      "source": [
        "dfttt = datahead.iloc[:,3:]\n",
        "dfttt.head()"
      ],
      "metadata": {
        "colab": {
          "base_uri": "https://localhost:8080/",
          "height": 204
        },
        "id": "4uZFG3INew9l",
        "outputId": "17523be6-15cc-4d21-ae71-774466d060ae"
      },
      "execution_count": 35,
      "outputs": [
        {
          "output_type": "execute_result",
          "data": {
            "text/plain": [
              "    y_predfrac0   y_predfrac1\n",
              "0  5.311038e-07  9.999995e-01\n",
              "1  1.000000e+00  1.595180e-32\n",
              "2  1.775531e-03  9.982244e-01\n",
              "3  2.196935e-06  9.999979e-01\n",
              "4  3.737973e-05  9.999626e-01"
            ],
            "text/html": [
              "\n",
              "  <div id=\"df-3c45a345-7a7f-4131-ac20-17c6f61da2ae\">\n",
              "    <div class=\"colab-df-container\">\n",
              "      <div>\n",
              "<style scoped>\n",
              "    .dataframe tbody tr th:only-of-type {\n",
              "        vertical-align: middle;\n",
              "    }\n",
              "\n",
              "    .dataframe tbody tr th {\n",
              "        vertical-align: top;\n",
              "    }\n",
              "\n",
              "    .dataframe thead th {\n",
              "        text-align: right;\n",
              "    }\n",
              "</style>\n",
              "<table border=\"1\" class=\"dataframe\">\n",
              "  <thead>\n",
              "    <tr style=\"text-align: right;\">\n",
              "      <th></th>\n",
              "      <th>y_predfrac0</th>\n",
              "      <th>y_predfrac1</th>\n",
              "    </tr>\n",
              "  </thead>\n",
              "  <tbody>\n",
              "    <tr>\n",
              "      <th>0</th>\n",
              "      <td>5.311038e-07</td>\n",
              "      <td>9.999995e-01</td>\n",
              "    </tr>\n",
              "    <tr>\n",
              "      <th>1</th>\n",
              "      <td>1.000000e+00</td>\n",
              "      <td>1.595180e-32</td>\n",
              "    </tr>\n",
              "    <tr>\n",
              "      <th>2</th>\n",
              "      <td>1.775531e-03</td>\n",
              "      <td>9.982244e-01</td>\n",
              "    </tr>\n",
              "    <tr>\n",
              "      <th>3</th>\n",
              "      <td>2.196935e-06</td>\n",
              "      <td>9.999979e-01</td>\n",
              "    </tr>\n",
              "    <tr>\n",
              "      <th>4</th>\n",
              "      <td>3.737973e-05</td>\n",
              "      <td>9.999626e-01</td>\n",
              "    </tr>\n",
              "  </tbody>\n",
              "</table>\n",
              "</div>\n",
              "      <button class=\"colab-df-convert\" onclick=\"convertToInteractive('df-3c45a345-7a7f-4131-ac20-17c6f61da2ae')\"\n",
              "              title=\"Convert this dataframe to an interactive table.\"\n",
              "              style=\"display:none;\">\n",
              "        \n",
              "  <svg xmlns=\"http://www.w3.org/2000/svg\" height=\"24px\"viewBox=\"0 0 24 24\"\n",
              "       width=\"24px\">\n",
              "    <path d=\"M0 0h24v24H0V0z\" fill=\"none\"/>\n",
              "    <path d=\"M18.56 5.44l.94 2.06.94-2.06 2.06-.94-2.06-.94-.94-2.06-.94 2.06-2.06.94zm-11 1L8.5 8.5l.94-2.06 2.06-.94-2.06-.94L8.5 2.5l-.94 2.06-2.06.94zm10 10l.94 2.06.94-2.06 2.06-.94-2.06-.94-.94-2.06-.94 2.06-2.06.94z\"/><path d=\"M17.41 7.96l-1.37-1.37c-.4-.4-.92-.59-1.43-.59-.52 0-1.04.2-1.43.59L10.3 9.45l-7.72 7.72c-.78.78-.78 2.05 0 2.83L4 21.41c.39.39.9.59 1.41.59.51 0 1.02-.2 1.41-.59l7.78-7.78 2.81-2.81c.8-.78.8-2.07 0-2.86zM5.41 20L4 18.59l7.72-7.72 1.47 1.35L5.41 20z\"/>\n",
              "  </svg>\n",
              "      </button>\n",
              "      \n",
              "  <style>\n",
              "    .colab-df-container {\n",
              "      display:flex;\n",
              "      flex-wrap:wrap;\n",
              "      gap: 12px;\n",
              "    }\n",
              "\n",
              "    .colab-df-convert {\n",
              "      background-color: #E8F0FE;\n",
              "      border: none;\n",
              "      border-radius: 50%;\n",
              "      cursor: pointer;\n",
              "      display: none;\n",
              "      fill: #1967D2;\n",
              "      height: 32px;\n",
              "      padding: 0 0 0 0;\n",
              "      width: 32px;\n",
              "    }\n",
              "\n",
              "    .colab-df-convert:hover {\n",
              "      background-color: #E2EBFA;\n",
              "      box-shadow: 0px 1px 2px rgba(60, 64, 67, 0.3), 0px 1px 3px 1px rgba(60, 64, 67, 0.15);\n",
              "      fill: #174EA6;\n",
              "    }\n",
              "\n",
              "    [theme=dark] .colab-df-convert {\n",
              "      background-color: #3B4455;\n",
              "      fill: #D2E3FC;\n",
              "    }\n",
              "\n",
              "    [theme=dark] .colab-df-convert:hover {\n",
              "      background-color: #434B5C;\n",
              "      box-shadow: 0px 1px 3px 1px rgba(0, 0, 0, 0.15);\n",
              "      filter: drop-shadow(0px 1px 2px rgba(0, 0, 0, 0.3));\n",
              "      fill: #FFFFFF;\n",
              "    }\n",
              "  </style>\n",
              "\n",
              "      <script>\n",
              "        const buttonEl =\n",
              "          document.querySelector('#df-3c45a345-7a7f-4131-ac20-17c6f61da2ae button.colab-df-convert');\n",
              "        buttonEl.style.display =\n",
              "          google.colab.kernel.accessAllowed ? 'block' : 'none';\n",
              "\n",
              "        async function convertToInteractive(key) {\n",
              "          const element = document.querySelector('#df-3c45a345-7a7f-4131-ac20-17c6f61da2ae');\n",
              "          const dataTable =\n",
              "            await google.colab.kernel.invokeFunction('convertToInteractive',\n",
              "                                                     [key], {});\n",
              "          if (!dataTable) return;\n",
              "\n",
              "          const docLinkHtml = 'Like what you see? Visit the ' +\n",
              "            '<a target=\"_blank\" href=https://colab.research.google.com/notebooks/data_table.ipynb>data table notebook</a>'\n",
              "            + ' to learn more about interactive tables.';\n",
              "          element.innerHTML = '';\n",
              "          dataTable['output_type'] = 'display_data';\n",
              "          await google.colab.output.renderOutput(dataTable, element);\n",
              "          const docLink = document.createElement('div');\n",
              "          docLink.innerHTML = docLinkHtml;\n",
              "          element.appendChild(docLink);\n",
              "        }\n",
              "      </script>\n",
              "    </div>\n",
              "  </div>\n",
              "  "
            ]
          },
          "metadata": {},
          "execution_count": 35
        }
      ]
    },
    {
      "cell_type": "code",
      "source": [
        "probab = dfttt.to_numpy()"
      ],
      "metadata": {
        "id": "5gtBJLrzp5V7"
      },
      "execution_count": 36,
      "outputs": []
    },
    {
      "cell_type": "code",
      "source": [
        "if n_classes==3 : \n",
        "  macro_roc_auc_ovo = roc_auc_score(datahead['y_real'],probab, multi_class=\"ovo\", average=\"macro\")\n",
        "  print(macro_roc_auc_ovo)\n",
        "  macro_roc_auc_ovo = roc_auc_score(datahead['y_real'],probab, multi_class=\"ovr\", average=\"weighted\")\n",
        "  print(macro_roc_auc_ovo)\n",
        "else : \n",
        "  auc = roc_auc_score(datahead['y_real'],datahead['y_predfrac1'])\n",
        "  print('AUC: %.3f' % auc)"
      ],
      "metadata": {
        "colab": {
          "base_uri": "https://localhost:8080/"
        },
        "id": "3qGRom2OI4KL",
        "outputId": "7a218c99-c055-45ee-b057-65f5df9565bc"
      },
      "execution_count": 37,
      "outputs": [
        {
          "output_type": "stream",
          "name": "stdout",
          "text": [
            "AUC: 0.931\n"
          ]
        }
      ]
    },
    {
      "cell_type": "code",
      "source": [
        "if n_classes == 3 : \n",
        "  Y_test = datahead['y_real']\n",
        "  y_score = probab\n",
        "  # Use label_binarize to be multi-label like settings\n",
        "  Y = label_binarize(Y_test, classes=[0, 1, 2])\n",
        "  n_classes = Y.shape[1]\n",
        "\n",
        "  Y_test = Y\n",
        "\n",
        "\n",
        "  # For each class\n",
        "  precision = dict()\n",
        "  recall = dict()\n",
        "  average_precision = dict()\n",
        "  for i in range(n_classes):\n",
        "      precision[i], recall[i], _ = precision_recall_curve(Y_test[:, i], y_score[:, i])\n",
        "      average_precision[i] = average_precision_score(Y_test[:, i], y_score[:, i])\n",
        "\n",
        "  # A \"micro-average\": quantifying score on all classes jointly\n",
        "  precision[\"micro\"], recall[\"micro\"], _ = precision_recall_curve(\n",
        "      Y_test.ravel(), y_score.ravel()\n",
        "  )\n",
        "  average_precision[\"micro\"] = average_precision_score(Y_test, y_score, average=\"micro\")\n",
        "  average_precision[\"macro\"] = average_precision_score(Y_test, y_score, average=\"macro\")\n",
        "  print(average_precision[\"micro\"])\n",
        "  print(average_precision[\"macro\"])"
      ],
      "metadata": {
        "id": "_WA6UIELI4OH"
      },
      "execution_count": 38,
      "outputs": []
    },
    {
      "cell_type": "code",
      "source": [
        "if n_classes == 3 :\n",
        "  display = PrecisionRecallDisplay(\n",
        "      recall=recall[\"micro\"],\n",
        "      precision=precision[\"micro\"],\n",
        "      average_precision=average_precision[\"micro\"],\n",
        "  )\n",
        "  display.plot()\n",
        "  _ = display.ax_.set_title(\"Micro-averaged over all classes\")"
      ],
      "metadata": {
        "id": "92KlqhVbI4Rv"
      },
      "execution_count": 39,
      "outputs": []
    },
    {
      "cell_type": "code",
      "source": [
        "\n",
        "lr_auc = roc_auc_score(datahead['y_real'],datahead['y_predfrac1'])\n",
        "# summarize scores\n",
        "\n",
        "print('Model: ROC AUC=%.3f' % (lr_auc))\n",
        "# calculate roc curves\n",
        "\n",
        "lr_fpr, lr_tpr, _ = roc_curve(datahead['y_real'],datahead['y_predfrac1'])\n",
        "# plot the roc curve for the model\n",
        "pyplot.plot(lr_fpr, lr_tpr, marker='.', label='Model')\n",
        "# axis labels\n",
        "pyplot.xlabel('False Positive Rate')\n",
        "pyplot.ylabel('True Positive Rate')\n",
        "# show the legend\n",
        "pyplot.legend()\n",
        "# show the plot\n",
        "pyplot.show()"
      ],
      "metadata": {
        "colab": {
          "base_uri": "https://localhost:8080/",
          "height": 296
        },
        "id": "Ic_BuLxZI9uK",
        "outputId": "0742437a-f18a-49e9-e213-a2a3ca031fb2"
      },
      "execution_count": 40,
      "outputs": [
        {
          "output_type": "stream",
          "name": "stdout",
          "text": [
            "Model: ROC AUC=0.931\n"
          ]
        },
        {
          "output_type": "display_data",
          "data": {
            "text/plain": [
              "<Figure size 432x288 with 1 Axes>"
            ],
            "image/png": "[encoded data removed]"
          },
          "metadata": {
            "needs_background": "light"
          }
        }
      ]
    },
    {
      "cell_type": "code",
      "source": [
        "lr_precision, lr_recall, _ = precision_recall_curve(datahead['y_real'],datahead['y_predfrac1'])\n",
        "lr_f1, lr_auc = f1_score(datahead['y_real'], datahead['y_pred']), metrics.auc(lr_recall, lr_precision)\n",
        "# summarize scores\n",
        "print('Logistic: f1=%.3f auc=%.3f' % (lr_f1, lr_auc))\n",
        "# plot the precision-recall curves\n",
        "no_skill = len(datahead['y_real'][datahead['y_real']==1]) / len(datahead['y_real'])\n",
        "pyplot.plot([0, 1], [no_skill, no_skill], linestyle='--', label='No Skill')\n",
        "pyplot.plot(lr_recall, lr_precision, marker='.', label='Logistic')\n",
        "# axis labels\n",
        "pyplot.xlabel('Recall')\n",
        "pyplot.ylabel('Precision')\n",
        "# show the legend\n",
        "pyplot.legend()\n",
        "# show the plot\n",
        "pyplot.show()"
      ],
      "metadata": {
        "colab": {
          "base_uri": "https://localhost:8080/",
          "height": 296
        },
        "id": "yMY7O1i9I-O5",
        "outputId": "8d1b39bf-951d-43b0-cf7b-770140730bbe"
      },
      "execution_count": 41,
      "outputs": [
        {
          "output_type": "stream",
          "name": "stdout",
          "text": [
            "Logistic: f1=0.888 auc=0.926\n"
          ]
        },
        {
          "output_type": "display_data",
          "data": {
            "text/plain": [
              "<Figure size 432x288 with 1 Axes>"
            ],
            "image/png": "[encoded data removed]"
          },
          "metadata": {
            "needs_background": "light"
          }
        }
      ]
    },
    {
      "cell_type": "code",
      "source": [
        "\n",
        "\n",
        "precision, recall, thresholds  = precision_recall_curve(datahead['y_real'], datahead['y_predfrac1'])\n",
        "auc_score = metrics.auc(recall, precision)\n",
        "auc_score"
      ],
      "metadata": {
        "colab": {
          "base_uri": "https://localhost:8080/"
        },
        "id": "4iqG4aUBJCBM",
        "outputId": "ce58d9b7-35f7-43f3-a23a-f6c0315a1400"
      },
      "execution_count": 42,
      "outputs": [
        {
          "output_type": "execute_result",
          "data": {
            "text/plain": [
              "0.9258876164854745"
            ]
          },
          "metadata": {},
          "execution_count": 42
        }
      ]
    }
  ]
}