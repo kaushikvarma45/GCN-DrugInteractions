{
  "cells": [
    {
      "cell_type": "code",
      "execution_count": 18,
      "metadata": {
        "colab": {
          "base_uri": "https://localhost:8080/"
        },
        "id": "1nILhjSTjRZj",
        "outputId": "d5017cf8-10ef-4980-b282-38ce8c65d3ef"
      },
      "outputs": [
        {
          "output_type": "stream",
          "name": "stdout",
          "text": [
            "1.11.0+cu113\n"
          ]
        }
      ],
      "source": [
        "# Install required packages.\n",
        "import os\n",
        "import torch\n",
        "os.environ['TORCH'] = torch.__version__\n",
        "print(torch.__version__)\n",
        "\n",
        "!pip install -q torch-scatter -f https://data.pyg.org/whl/torch-${TORCH}.html\n",
        "!pip install -q torch-sparse -f https://data.pyg.org/whl/torch-${TORCH}.html\n",
        "!pip install -q git+https://github.com/pyg-team/pytorch_geometric.git\n",
        "\n",
        "# Helper function for visualization.\n",
        "%matplotlib inline\n",
        "import networkx as nx\n",
        "import matplotlib.pyplot as plt\n"
      ]
    },
    {
      "cell_type": "code",
      "execution_count": 19,
      "metadata": {
        "id": "OXlnE_1Lp0UK",
        "colab": {
          "base_uri": "https://localhost:8080/"
        },
        "outputId": "b34b3668-b064-4e8b-8c2e-113ba80a9803"
      },
      "outputs": [
        {
          "output_type": "stream",
          "name": "stdout",
          "text": [
            "Looking in indexes: https://pypi.org/simple, https://us-python.pkg.dev/colab-wheels/public/simple/\n",
            "Requirement already satisfied: deepchem in /usr/local/lib/python3.7/dist-packages (2.6.1)\n",
            "Requirement already satisfied: joblib in /usr/local/lib/python3.7/dist-packages (from deepchem) (1.1.0)\n",
            "Requirement already satisfied: numpy>=1.21 in /usr/local/lib/python3.7/dist-packages (from deepchem) (1.21.6)\n",
            "Requirement already satisfied: scipy in /usr/local/lib/python3.7/dist-packages (from deepchem) (1.4.1)\n",
            "Requirement already satisfied: rdkit-pypi in /usr/local/lib/python3.7/dist-packages (from deepchem) (2022.3.3)\n",
            "Requirement already satisfied: pandas in /usr/local/lib/python3.7/dist-packages (from deepchem) (1.3.5)\n",
            "Requirement already satisfied: scikit-learn in /usr/local/lib/python3.7/dist-packages (from deepchem) (1.0.2)\n",
            "Requirement already satisfied: python-dateutil>=2.7.3 in /usr/local/lib/python3.7/dist-packages (from pandas->deepchem) (2.8.2)\n",
            "Requirement already satisfied: pytz>=2017.3 in /usr/local/lib/python3.7/dist-packages (from pandas->deepchem) (2022.1)\n",
            "Requirement already satisfied: six>=1.5 in /usr/local/lib/python3.7/dist-packages (from python-dateutil>=2.7.3->pandas->deepchem) (1.15.0)\n",
            "Requirement already satisfied: Pillow in /usr/local/lib/python3.7/dist-packages (from rdkit-pypi->deepchem) (7.1.2)\n",
            "Requirement already satisfied: threadpoolctl>=2.0.0 in /usr/local/lib/python3.7/dist-packages (from scikit-learn->deepchem) (3.1.0)\n"
          ]
        }
      ],
      "source": [
        "pip install deepchem"
      ]
    },
    {
      "cell_type": "code",
      "execution_count": 64,
      "metadata": {
        "id": "eafj4UGxjX7G"
      },
      "outputs": [],
      "source": [
        "import torch\n",
        "import pandas as pd\n",
        "import numpy as np\n",
        "import torch_geometric.transforms as T\n",
        "import torch_geometric\n",
        "from torch_geometric.data import Dataset\n",
        "import numpy as np \n",
        "import os\n",
        "import deepchem as dc\n",
        "import torch.nn as nn\n",
        "from torch.nn import Linear,BatchNorm1d\n",
        "from torch_geometric.nn import GCNConv,GATConv\n",
        "from torch_geometric.nn import BatchNorm\n",
        "from tqdm import tqdm\n",
        "from torch_geometric.data import DataLoader\n",
        "from sklearn.metrics import roc_curve\n",
        "from sklearn.metrics import roc_auc_score\n",
        "from sklearn.metrics import precision_recall_curve\n",
        "from matplotlib import pyplot\n",
        "from sklearn import metrics\n",
        "from sklearn.preprocessing import label_binarize\n",
        "from sklearn.metrics import average_precision_score\n",
        "import seaborn as sns\n",
        "import pandas as pd \n",
        "from sklearn.metrics import f1_score\n",
        "from sklearn.metrics import confusion_matrix\n",
        "import math\n",
        "from sklearn.metrics import accuracy_score\n",
        "import warnings\n",
        "warnings.filterwarnings(\"ignore\")"
      ]
    },
    {
      "cell_type": "code",
      "execution_count": 20,
      "metadata": {
        "id": "_FbBgdyRjX-D"
      },
      "outputs": [],
      "source": [
        ""
      ]
    },
    {
      "cell_type": "code",
      "execution_count": 21,
      "metadata": {
        "colab": {
          "base_uri": "https://localhost:8080/",
          "height": 204
        },
        "id": "gRWg2yKIjYBL",
        "outputId": "fc84c22e-c650-4b3f-b85b-5d80f43b7181"
      },
      "outputs": [
        {
          "output_type": "execute_result",
          "data": {
            "text/plain": [
              "   Unnamed: 0 Drug1_ID                                       Drug1_SMILES\n",
              "0           0  DB00706   CCOc1ccccc1OCCN[C@H](C)Cc1ccc(OC)c(S(N)(=O)=O)c1\n",
              "1           1  DB01023    CCOC(=O)C1=C(C)NC(C)=C(C(=O)OC)C1c1cccc(Cl)c1Cl\n",
              "2           2   3849.0  C[C@@H](Oc1ccc2[nH]nc(/C=C/c3cnn(CCO)c3)c2c1)c...\n",
              "3           3   3515.0      COc1ccc2c(c1)c(CC(=O)O)c(C)n2C(=O)c1ccc(I)cc1\n",
              "4           4   6380.0                      O=P(O)(O)OCCCc1c[nH]c2ccccc12"
            ],
            "text/html": [
              "\n",
              "  <div id=\"df-3a896301-e5ee-4870-bc53-eb87c67b5c11\">\n",
              "    <div class=\"colab-df-container\">\n",
              "      <div>\n",
              "<style scoped>\n",
              "    .dataframe tbody tr th:only-of-type {\n",
              "        vertical-align: middle;\n",
              "    }\n",
              "\n",
              "    .dataframe tbody tr th {\n",
              "        vertical-align: top;\n",
              "    }\n",
              "\n",
              "    .dataframe thead th {\n",
              "        text-align: right;\n",
              "    }\n",
              "</style>\n",
              "<table border=\"1\" class=\"dataframe\">\n",
              "  <thead>\n",
              "    <tr style=\"text-align: right;\">\n",
              "      <th></th>\n",
              "      <th>Unnamed: 0</th>\n",
              "      <th>Drug1_ID</th>\n",
              "      <th>Drug1_SMILES</th>\n",
              "    </tr>\n",
              "  </thead>\n",
              "  <tbody>\n",
              "    <tr>\n",
              "      <th>0</th>\n",
              "      <td>0</td>\n",
              "      <td>DB00706</td>\n",
              "      <td>CCOc1ccccc1OCCN[C@H](C)Cc1ccc(OC)c(S(N)(=O)=O)c1</td>\n",
              "    </tr>\n",
              "    <tr>\n",
              "      <th>1</th>\n",
              "      <td>1</td>\n",
              "      <td>DB01023</td>\n",
              "      <td>CCOC(=O)C1=C(C)NC(C)=C(C(=O)OC)C1c1cccc(Cl)c1Cl</td>\n",
              "    </tr>\n",
              "    <tr>\n",
              "      <th>2</th>\n",
              "      <td>2</td>\n",
              "      <td>3849.0</td>\n",
              "      <td>C[C@@H](Oc1ccc2[nH]nc(/C=C/c3cnn(CCO)c3)c2c1)c...</td>\n",
              "    </tr>\n",
              "    <tr>\n",
              "      <th>3</th>\n",
              "      <td>3</td>\n",
              "      <td>3515.0</td>\n",
              "      <td>COc1ccc2c(c1)c(CC(=O)O)c(C)n2C(=O)c1ccc(I)cc1</td>\n",
              "    </tr>\n",
              "    <tr>\n",
              "      <th>4</th>\n",
              "      <td>4</td>\n",
              "      <td>6380.0</td>\n",
              "      <td>O=P(O)(O)OCCCc1c[nH]c2ccccc12</td>\n",
              "    </tr>\n",
              "  </tbody>\n",
              "</table>\n",
              "</div>\n",
              "      <button class=\"colab-df-convert\" onclick=\"convertToInteractive('df-3a896301-e5ee-4870-bc53-eb87c67b5c11')\"\n",
              "              title=\"Convert this dataframe to an interactive table.\"\n",
              "              style=\"display:none;\">\n",
              "        \n",
              "  <svg xmlns=\"http://www.w3.org/2000/svg\" height=\"24px\"viewBox=\"0 0 24 24\"\n",
              "       width=\"24px\">\n",
              "    <path d=\"M0 0h24v24H0V0z\" fill=\"none\"/>\n",
              "    <path d=\"M18.56 5.44l.94 2.06.94-2.06 2.06-.94-2.06-.94-.94-2.06-.94 2.06-2.06.94zm-11 1L8.5 8.5l.94-2.06 2.06-.94-2.06-.94L8.5 2.5l-.94 2.06-2.06.94zm10 10l.94 2.06.94-2.06 2.06-.94-2.06-.94-.94-2.06-.94 2.06-2.06.94z\"/><path d=\"M17.41 7.96l-1.37-1.37c-.4-.4-.92-.59-1.43-.59-.52 0-1.04.2-1.43.59L10.3 9.45l-7.72 7.72c-.78.78-.78 2.05 0 2.83L4 21.41c.39.39.9.59 1.41.59.51 0 1.02-.2 1.41-.59l7.78-7.78 2.81-2.81c.8-.78.8-2.07 0-2.86zM5.41 20L4 18.59l7.72-7.72 1.47 1.35L5.41 20z\"/>\n",
              "  </svg>\n",
              "      </button>\n",
              "      \n",
              "  <style>\n",
              "    .colab-df-container {\n",
              "      display:flex;\n",
              "      flex-wrap:wrap;\n",
              "      gap: 12px;\n",
              "    }\n",
              "\n",
              "    .colab-df-convert {\n",
              "      background-color: #E8F0FE;\n",
              "      border: none;\n",
              "      border-radius: 50%;\n",
              "      cursor: pointer;\n",
              "      display: none;\n",
              "      fill: #1967D2;\n",
              "      height: 32px;\n",
              "      padding: 0 0 0 0;\n",
              "      width: 32px;\n",
              "    }\n",
              "\n",
              "    .colab-df-convert:hover {\n",
              "      background-color: #E2EBFA;\n",
              "      box-shadow: 0px 1px 2px rgba(60, 64, 67, 0.3), 0px 1px 3px 1px rgba(60, 64, 67, 0.15);\n",
              "      fill: #174EA6;\n",
              "    }\n",
              "\n",
              "    [theme=dark] .colab-df-convert {\n",
              "      background-color: #3B4455;\n",
              "      fill: #D2E3FC;\n",
              "    }\n",
              "\n",
              "    [theme=dark] .colab-df-convert:hover {\n",
              "      background-color: #434B5C;\n",
              "      box-shadow: 0px 1px 3px 1px rgba(0, 0, 0, 0.15);\n",
              "      filter: drop-shadow(0px 1px 2px rgba(0, 0, 0, 0.3));\n",
              "      fill: #FFFFFF;\n",
              "    }\n",
              "  </style>\n",
              "\n",
              "      <script>\n",
              "        const buttonEl =\n",
              "          document.querySelector('#df-3a896301-e5ee-4870-bc53-eb87c67b5c11 button.colab-df-convert');\n",
              "        buttonEl.style.display =\n",
              "          google.colab.kernel.accessAllowed ? 'block' : 'none';\n",
              "\n",
              "        async function convertToInteractive(key) {\n",
              "          const element = document.querySelector('#df-3a896301-e5ee-4870-bc53-eb87c67b5c11');\n",
              "          const dataTable =\n",
              "            await google.colab.kernel.invokeFunction('convertToInteractive',\n",
              "                                                     [key], {});\n",
              "          if (!dataTable) return;\n",
              "\n",
              "          const docLinkHtml = 'Like what you see? Visit the ' +\n",
              "            '<a target=\"_blank\" href=https://colab.research.google.com/notebooks/data_table.ipynb>data table notebook</a>'\n",
              "            + ' to learn more about interactive tables.';\n",
              "          element.innerHTML = '';\n",
              "          dataTable['output_type'] = 'display_data';\n",
              "          await google.colab.output.renderOutput(dataTable, element);\n",
              "          const docLink = document.createElement('div');\n",
              "          docLink.innerHTML = docLinkHtml;\n",
              "          element.appendChild(docLink);\n",
              "        }\n",
              "      </script>\n",
              "    </div>\n",
              "  </div>\n",
              "  "
            ]
          },
          "metadata": {},
          "execution_count": 21
        }
      ],
      "source": [
        "data = pd.read_csv('raw/totalData.csv')\n",
        "data.head() "
      ]
    },
    {
      "cell_type": "code",
      "execution_count": 21,
      "metadata": {
        "id": "zkIY-LqZ_16v"
      },
      "outputs": [],
      "source": [
        ""
      ]
    },
    {
      "cell_type": "code",
      "execution_count": 66,
      "metadata": {
        "id": "QxVmizt3jYEE"
      },
      "outputs": [],
      "source": [
        "\n",
        "\n",
        "remove = []\n",
        "\n",
        "class MoleculeDataset(Dataset):\n",
        "    def __init__(self, root, filename, test=False, transform=None, pre_transform=None):\n",
        "        \"\"\"\n",
        "        root = Where the dataset should be stored. This folder is split\n",
        "        into raw_dir (downloaded dataset) and processed_dir (processed data). \n",
        "        \"\"\"\n",
        "        self.test = test\n",
        "        self.filename = filename\n",
        "        self.sz = 0\n",
        "        super(MoleculeDataset, self).__init__(root, transform, pre_transform)\n",
        "        \n",
        "    @property\n",
        "    def raw_file_names(self):\n",
        "        \"\"\" If this file exists in raw_dir, the download is not triggered.\n",
        "            (The download func. is not implemented here)  \n",
        "        \"\"\"\n",
        "        return self.filename\n",
        "\n",
        "    @property\n",
        "    def processed_file_names(self):\n",
        "        \"\"\" If these files are found in raw_dir, processing is skipped\"\"\"\n",
        "        self.data = pd.read_csv(self.raw_paths[0]).reset_index()\n",
        "\n",
        "        if self.test:\n",
        "            return [f'data_test_{i}.pt' for i in list(self.data.index)]\n",
        "        else:\n",
        "            return [f'data_{i}.pt' for i in list(self.data.index)]\n",
        "        \n",
        "\n",
        "    def download(self):\n",
        "        pass\n",
        "\n",
        "    def process(self):\n",
        "        self.data = pd.read_csv(self.raw_paths[0]).reset_index()\n",
        "        featurizer = dc.feat.MolGraphConvFeaturizer(use_edges=True)\n",
        "        count = 0\n",
        "        for index, mol in tqdm(self.data.iterrows(), total=self.data.shape[0]):\n",
        "            if type(mol[\"Drug1_SMILES\"])==float:\n",
        "              remove.append(mol[\"Drug1_ID\"])\n",
        "              continue\n",
        "            f = featurizer.featurize(mol[\"Drug1_SMILES\"])\n",
        "            if not f : \n",
        "              remove.append(mol[\"Drug1_ID\"])\n",
        "              continue\n",
        "            data = f[0].to_pyg_graph()\n",
        "            data.y = 1\n",
        "            data.smiles = mol[\"Drug1_SMILES\"]\n",
        "            data.id = mol[\"Drug1_ID\"]\n",
        "            if self.test:\n",
        "                torch.save(data, \n",
        "                    os.path.join(self.processed_dir, \n",
        "                                f'data_test_{count}.pt'))\n",
        "            else:\n",
        "                torch.save(data, \n",
        "                    os.path.join(self.processed_dir, \n",
        "                                f'data_{count}.pt'))\n",
        "            count+=1\n",
        "        self.sz = count\n",
        "\n",
        "    def _get_label(self, label):\n",
        "        label = np.asarray([label])\n",
        "        return torch.tensor(label, dtype=torch.int64)\n",
        "\n",
        "    def len(self):\n",
        "        return self.sz\n",
        "        #return self.data.shape[0]\n",
        "\n",
        "    def get(self, idx):\n",
        "        \"\"\" - Equivalent to __getitem__ in pytorch\n",
        "            - Is not needed for PyG's InMemoryDataset\n",
        "        \"\"\"\n",
        "        if self.test:\n",
        "            data = torch.load(os.path.join(self.processed_dir, \n",
        "                                 f'data_test_{idx}.pt'))\n",
        "        else:\n",
        "            data = torch.load(os.path.join(self.processed_dir, \n",
        "                                 f'data_{idx}.pt'))        \n",
        "        return data\n",
        "\n",
        "encoder_set = MoleculeDataset(\"\",\"totalData.csv\")"
      ]
    },
    {
      "cell_type": "code",
      "execution_count": 29,
      "metadata": {
        "colab": {
          "base_uri": "https://localhost:8080/"
        },
        "id": "_AJ0Loe0jYG7",
        "outputId": "42c9f6a9-37be-4f0c-a0f3-ea374239f7be"
      },
      "outputs": [
        {
          "output_type": "execute_result",
          "data": {
            "text/plain": [
              "device(type='cuda', index=0)"
            ]
          },
          "metadata": {},
          "execution_count": 29
        }
      ],
      "source": [
        "device = torch.device(\"cuda:0\" if torch.cuda.is_available() else \"cpu\")\n",
        "device"
      ]
    },
    {
      "cell_type": "code",
      "execution_count": 30,
      "metadata": {
        "colab": {
          "base_uri": "https://localhost:8080/"
        },
        "id": "YROrPRyPbAtQ",
        "outputId": "fb955584-237e-426d-b980-8b4b2618aeac"
      },
      "outputs": [
        {
          "output_type": "execute_result",
          "data": {
            "text/plain": [
              "10820"
            ]
          },
          "metadata": {},
          "execution_count": 30
        }
      ],
      "source": [
        "len(encoder_set)"
      ]
    },
    {
      "cell_type": "code",
      "execution_count": 31,
      "metadata": {
        "colab": {
          "base_uri": "https://localhost:8080/"
        },
        "id": "_fgzZ7WbjYKk",
        "outputId": "57675a39-8157-4aa4-89bc-c2e4f8b0449a"
      },
      "outputs": [
        {
          "output_type": "stream",
          "name": "stdout",
          "text": [
            "GVAE(\n",
            "  (conv1): GATConv(30, 48, heads=1)\n",
            "  (bn1): BatchNorm(48)\n",
            "  (conv2): GCNConv(48, 48)\n",
            "  (bn2): BatchNorm(48)\n",
            "  (conv3): GCNConv(48, 48)\n",
            "  (bn3): BatchNorm(48)\n",
            "  (mu_transform): Linear(in_features=48, out_features=8, bias=True)\n",
            "  (logvar_transform): Linear(in_features=48, out_features=8, bias=True)\n",
            "  (decoder_dense_3): Linear(in_features=8, out_features=64, bias=True)\n",
            "  (decoder_bn_3): BatchNorm1d(64, eps=1e-05, momentum=0.1, affine=True, track_running_stats=True)\n",
            "  (decoder_dense_4): Linear(in_features=64, out_features=30, bias=True)\n",
            ")\n",
            "Number of parameters:  10590\n"
          ]
        }
      ],
      "source": [
        "class GVAE(nn.Module):\n",
        "    def __init__(self, feature_size, edge_size):\n",
        "        super(GVAE, self).__init__()\n",
        "        self.encoder_embedding_size = 48\n",
        "        self.feature_size = feature_size\n",
        "        self.edge_dim = edge_size\n",
        "        self.latent_embedding_size = 8\n",
        "        self.decoder_hidden_neurons = 64\n",
        "        decoder_size = 64\n",
        "\n",
        "        # Encoder layers\n",
        "        self.conv1 = GATConv(feature_size, self.encoder_embedding_size,edge_dim=self.edge_dim)\n",
        "        #self.conv1 = GCNConv(feature_size, self.encoder_embedding_size)\n",
        "        self.bn1 = BatchNorm(self.encoder_embedding_size)\n",
        "        self.conv2 = GCNConv(self.encoder_embedding_size, self.encoder_embedding_size)\n",
        "        self.bn2 = BatchNorm(self.encoder_embedding_size)\n",
        "        self.conv3 = GCNConv(self.encoder_embedding_size, self.encoder_embedding_size)\n",
        "        self.bn3 = BatchNorm(self.encoder_embedding_size)\n",
        "\n",
        "        # Latent transform layers\n",
        "        self.mu_transform = Linear(self.encoder_embedding_size, \n",
        "                                            self.latent_embedding_size)\n",
        "        self.logvar_transform = Linear(self.encoder_embedding_size, \n",
        "                                            self.latent_embedding_size)\n",
        " \n",
        "        \n",
        "      \n",
        "        self.decoder_dense_3 = Linear(self.latent_embedding_size, decoder_size)\n",
        "        self.decoder_bn_3 = BatchNorm1d(decoder_size)\n",
        "        self.decoder_dense_4 = Linear(decoder_size, self.feature_size)\n",
        "        \n",
        "\n",
        "    def encode(self, x, edge_attr, edge_index, batch_index):\n",
        "        # GNN layers\n",
        "        #x = self.conv1(x, edge_index).relu()\n",
        "        x = self.conv1(x, edge_index, edge_attr).relu()\n",
        "        x = self.bn1(x)\n",
        "        x = self.conv2(x, edge_index).relu()\n",
        "        x = self.bn2(x)\n",
        "        x = self.conv3(x, edge_index).relu()\n",
        "        x = self.bn3(x)\n",
        "        \n",
        "        # Latent transform layers\n",
        "        mu = self.mu_transform(x)\n",
        "        logvar = self.logvar_transform(x)\n",
        "        return mu, logvar\n",
        "\n",
        "\n",
        "    def decode(self, z, batch_index):\n",
        "        x = self.decoder_dense_3(z).relu()\n",
        "        x = self.decoder_bn_3(x)\n",
        "        x = self.decoder_dense_4(x)\n",
        "        return x\n",
        "\n",
        "\n",
        "    def reparameterize(self, mu, logvar):\n",
        "        if self.training:\n",
        "            std = torch.exp(logvar)\n",
        "            eps = torch.randn_like(std)\n",
        "            return eps.mul(std).add_(mu)\n",
        "        else:\n",
        "            return mu\n",
        "\n",
        "    def forward(self, x, edge_attr, edge_index, batch_index):\n",
        "        mu, logvar = self.encode(x, edge_attr, edge_index, batch_index)\n",
        "        z = self.reparameterize(mu, logvar)\n",
        "        triu_logits = self.decode(z, batch_index)\n",
        "\n",
        "        return triu_logits, mu, logvar\n",
        "\n",
        "    \n",
        "   \n",
        "model = GVAE(feature_size=encoder_set[0].x.shape[1],edge_size=encoder_set[0].edge_attr.shape[1])\n",
        "print(model)\n",
        "print(\"Number of parameters: \", sum(p.numel() for p in model.parameters()))"
      ]
    },
    {
      "cell_type": "code",
      "execution_count": 32,
      "metadata": {
        "id": "P0dyCU1BjlUD"
      },
      "outputs": [],
      "source": [
        "data_size = len(encoder_set)\n",
        "NUM_GRAPHS_PER_BATCH = 64\n",
        "frac = 0.75\n",
        "train_loader = DataLoader(encoder_set[:int(data_size * frac)], \n",
        "                    batch_size=NUM_GRAPHS_PER_BATCH, shuffle=True)\n",
        "test_loader = DataLoader(encoder_set[int(data_size * frac):], \n",
        "                         batch_size=NUM_GRAPHS_PER_BATCH, shuffle=True)\n",
        "\n",
        "\n",
        "model = model.to(device)\n"
      ]
    },
    {
      "cell_type": "code",
      "execution_count": 32,
      "metadata": {
        "id": "fRkSppddf_xZ"
      },
      "outputs": [],
      "source": [
        ""
      ]
    },
    {
      "cell_type": "code",
      "execution_count": 33,
      "metadata": {
        "id": "ZQBxcgGQjnRE"
      },
      "outputs": [],
      "source": [
        "def kl_loss(mu=None, logstd=None):\n",
        "    \"\"\"\n",
        "    Closed formula of the KL divergence for normal distributions\n",
        "    \"\"\"\n",
        "    MAX_LOGSTD = 10\n",
        "    logstd =  logstd.clamp(max=MAX_LOGSTD)\n",
        "    kl_div = -0.5 * torch.mean(torch.sum(1 + 2 * logstd - mu**2 - logstd.exp()**2, dim=1))\n",
        "\n",
        "    # Limit numeric errors\n",
        "    kl_div = kl_div.clamp(max=1000)\n",
        "    return kl_div\n",
        "\n"
      ]
    },
    {
      "cell_type": "code",
      "execution_count": 34,
      "metadata": {
        "id": "cjy8r9qKjpSK"
      },
      "outputs": [],
      "source": [
        "def gvae_loss(decode_pred, edge_index, node_feats, mu, logvar, batch_index, kl_beta):\n",
        "    # Convert target edge index to dense adjacency matrix\n",
        "    batch_targets = torch.squeeze(to_dense_adj(edge_index))\n",
        "    batch_targets = batch_targets + torch.eye(batch_targets.shape[0]).to(device)\n",
        "    degree = torch.diag(torch.sum(batch_targets, axis=1))\n",
        "    dinv = torch.linalg.inv(degree)\n",
        "    dinvsqrt = torch.sqrt(dinv)\n",
        "    mat = torch.matmul(dinvsqrt,batch_targets)\n",
        "    mat = torch.matmul(mat,dinvsqrt)\n",
        "    mat = torch.matmul(mat,node_feats)\n",
        "    \n",
        "    # Reconstruction loss per graph\n",
        "    res = mat - decode_pred\n",
        "    \n",
        "    ssq = (torch.diag(torch.mm(res,res.T)))\n",
        "    batch_recon_loss = torch.sum(ssq)/(ssq.shape[0])\n",
        "    \n",
        "    \n",
        "    # KL Divergence\n",
        "    kl_divergence = kl_loss(mu, logvar)\n",
        "\n",
        "    return batch_recon_loss + kl_beta * kl_divergence, kl_divergence"
      ]
    },
    {
      "cell_type": "code",
      "execution_count": 35,
      "metadata": {
        "id": "lwa3Qnaxjrtn"
      },
      "outputs": [],
      "source": [
        "loss_fn = gvae_loss\n",
        "optimizer = torch.optim.Adam(model.parameters(), lr=0.002)\n",
        "kl_beta = 0.005"
      ]
    },
    {
      "cell_type": "code",
      "execution_count": 36,
      "metadata": {
        "id": "ucYraE5ijttR"
      },
      "outputs": [],
      "source": [
        "\n",
        "def run_one_epoch(data_loader, type, epoch, kl_beta):\n",
        "    # Store per batch loss and accuracy \n",
        "    all_losses = []\n",
        "    all_accs = []\n",
        "    all_kldivs = []\n",
        "\n",
        "    # Iterate over data loader\n",
        "    for i, batch in enumerate(tqdm(data_loader)):\n",
        "        # Some of the data points have invalid adjacency matrices \n",
        "        try:\n",
        "            # Use GPU\n",
        "            batch.to(device)  \n",
        "            # Reset gradients\n",
        "            optimizer.zero_grad() \n",
        "            # Call model\n",
        "            decode_pred, mu, logvar = model(batch.x.float(), \n",
        "                                            batch.edge_attr.float(),\n",
        "                                            batch.edge_index, \n",
        "                                            batch.batch) \n",
        "            # Calculate loss and backpropagate\n",
        "            \n",
        "            \n",
        "            loss, kl_div = loss_fn(decode_pred, batch.edge_index, batch.x.float(), mu, logvar, batch.batch, kl_beta)\n",
        "            if type == \"Train\":\n",
        "                loss.backward()  \n",
        "                optimizer.step()  \n",
        "            # Calculate metrics\n",
        "            # Store loss and metrics\n",
        "            all_losses.append(loss.detach().cpu().numpy())\n",
        "            all_kldivs.append(kl_div.detach().cpu().numpy())\n",
        "            \n",
        "\n",
        "        except IndexError as error:\n",
        "            print(\"Error: \", error)\n",
        "    \n",
        "    print(f\"{type} epoch {epoch} loss: \", np.array(all_losses).mean())\n",
        "    print(f\"{type} epoch {epoch} KL-loss: \", np.array(all_kldivs).mean())\n",
        "    "
      ]
    },
    {
      "cell_type": "code",
      "execution_count": 37,
      "metadata": {
        "colab": {
          "base_uri": "https://localhost:8080/"
        },
        "id": "HqKZUNcljvZB",
        "outputId": "74415e4f-5e59-47e3-dec9-b0aa73aba2c9"
      },
      "outputs": [
        {
          "output_type": "stream",
          "name": "stderr",
          "text": [
            "100%|██████████| 127/127 [00:08<00:00, 14.92it/s]\n"
          ]
        },
        {
          "output_type": "stream",
          "name": "stdout",
          "text": [
            "Train epoch 0 loss:  6.9501114\n",
            "Train epoch 0 KL-loss:  846.89764\n",
            "Start test epoch...\n"
          ]
        },
        {
          "output_type": "stream",
          "name": "stderr",
          "text": [
            "100%|██████████| 43/43 [00:02<00:00, 16.87it/s]\n"
          ]
        },
        {
          "output_type": "stream",
          "name": "stdout",
          "text": [
            "Test epoch 0 loss:  5.256702\n",
            "Test epoch 0 KL-loss:  764.58575\n"
          ]
        },
        {
          "output_type": "stream",
          "name": "stderr",
          "text": [
            "100%|██████████| 127/127 [00:07<00:00, 16.06it/s]\n"
          ]
        },
        {
          "output_type": "stream",
          "name": "stdout",
          "text": [
            "Train epoch 1 loss:  2.5992348\n",
            "Train epoch 1 KL-loss:  363.68423\n"
          ]
        },
        {
          "output_type": "stream",
          "name": "stderr",
          "text": [
            "100%|██████████| 127/127 [00:08<00:00, 15.68it/s]\n"
          ]
        },
        {
          "output_type": "stream",
          "name": "stdout",
          "text": [
            "Train epoch 2 loss:  0.55579513\n",
            "Train epoch 2 KL-loss:  17.16624\n"
          ]
        },
        {
          "output_type": "stream",
          "name": "stderr",
          "text": [
            "100%|██████████| 127/127 [00:07<00:00, 16.01it/s]\n"
          ]
        },
        {
          "output_type": "stream",
          "name": "stdout",
          "text": [
            "Train epoch 3 loss:  0.45089385\n",
            "Train epoch 3 KL-loss:  15.207352\n"
          ]
        },
        {
          "output_type": "stream",
          "name": "stderr",
          "text": [
            "100%|██████████| 127/127 [00:07<00:00, 16.11it/s]\n"
          ]
        },
        {
          "output_type": "stream",
          "name": "stdout",
          "text": [
            "Train epoch 4 loss:  0.39065725\n",
            "Train epoch 4 KL-loss:  14.328433\n"
          ]
        },
        {
          "output_type": "stream",
          "name": "stderr",
          "text": [
            "100%|██████████| 127/127 [00:07<00:00, 16.13it/s]\n"
          ]
        },
        {
          "output_type": "stream",
          "name": "stdout",
          "text": [
            "Train epoch 5 loss:  0.34828806\n",
            "Train epoch 5 KL-loss:  13.764778\n",
            "Start test epoch...\n"
          ]
        },
        {
          "output_type": "stream",
          "name": "stderr",
          "text": [
            "100%|██████████| 43/43 [00:02<00:00, 17.40it/s]\n"
          ]
        },
        {
          "output_type": "stream",
          "name": "stdout",
          "text": [
            "Test epoch 5 loss:  0.28201818\n",
            "Test epoch 5 KL-loss:  13.855026\n"
          ]
        },
        {
          "output_type": "stream",
          "name": "stderr",
          "text": [
            "100%|██████████| 127/127 [00:07<00:00, 15.92it/s]\n"
          ]
        },
        {
          "output_type": "stream",
          "name": "stdout",
          "text": [
            "Train epoch 6 loss:  0.32218957\n",
            "Train epoch 6 KL-loss:  13.455456\n"
          ]
        },
        {
          "output_type": "stream",
          "name": "stderr",
          "text": [
            "100%|██████████| 127/127 [00:09<00:00, 13.99it/s]\n"
          ]
        },
        {
          "output_type": "stream",
          "name": "stdout",
          "text": [
            "Train epoch 7 loss:  0.30057326\n",
            "Train epoch 7 KL-loss:  13.204031\n"
          ]
        },
        {
          "output_type": "stream",
          "name": "stderr",
          "text": [
            "100%|██████████| 127/127 [00:07<00:00, 16.00it/s]\n"
          ]
        },
        {
          "output_type": "stream",
          "name": "stdout",
          "text": [
            "Train epoch 8 loss:  0.28554648\n",
            "Train epoch 8 KL-loss:  13.067445\n"
          ]
        },
        {
          "output_type": "stream",
          "name": "stderr",
          "text": [
            "100%|██████████| 127/127 [00:08<00:00, 15.73it/s]\n"
          ]
        },
        {
          "output_type": "stream",
          "name": "stdout",
          "text": [
            "Train epoch 9 loss:  0.27616805\n",
            "Train epoch 9 KL-loss:  12.956231\n"
          ]
        },
        {
          "output_type": "stream",
          "name": "stderr",
          "text": [
            "100%|██████████| 127/127 [00:07<00:00, 16.01it/s]\n"
          ]
        },
        {
          "output_type": "stream",
          "name": "stdout",
          "text": [
            "Train epoch 10 loss:  0.26413715\n",
            "Train epoch 10 KL-loss:  12.85483\n",
            "Start test epoch...\n"
          ]
        },
        {
          "output_type": "stream",
          "name": "stderr",
          "text": [
            "100%|██████████| 43/43 [00:02<00:00, 17.10it/s]"
          ]
        },
        {
          "output_type": "stream",
          "name": "stdout",
          "text": [
            "Test epoch 10 loss:  0.22354986\n",
            "Test epoch 10 KL-loss:  12.943735\n"
          ]
        },
        {
          "output_type": "stream",
          "name": "stderr",
          "text": [
            "\n"
          ]
        }
      ],
      "source": [
        "for epoch in range(11): \n",
        "  model.train()\n",
        "  run_one_epoch(train_loader, type=\"Train\", epoch=epoch, kl_beta=kl_beta)\n",
        "  if epoch % 5 == 0:\n",
        "      print(\"Start test epoch...\")\n",
        "      model.eval()\n",
        "      run_one_epoch(test_loader, type=\"Test\", epoch=epoch, kl_beta=kl_beta)"
      ]
    },
    {
      "cell_type": "code",
      "execution_count": 38,
      "metadata": {
        "colab": {
          "base_uri": "https://localhost:8080/"
        },
        "id": "WYTcUr9rjxWI",
        "outputId": "f449f789-6843-4cb7-c471-519abdde1aed"
      },
      "outputs": [
        {
          "output_type": "stream",
          "name": "stdout",
          "text": [
            "done!!!\n"
          ]
        }
      ],
      "source": [
        "NUM_GRAPHS_PER_BATCH = 1\n",
        "loader = DataLoader(encoder_set, \n",
        "                    batch_size=NUM_GRAPHS_PER_BATCH, shuffle=False)\n",
        "\n",
        "dictval = {}\n",
        "for batch in loader : \n",
        "  batch.to(device)\n",
        "  decode_pred, mu, logvar = model(batch.x.float(), \n",
        "                            batch.edge_attr.float(),\n",
        "                            batch.edge_index, \n",
        "                            batch.batch) \n",
        "  \n",
        "  \n",
        "  dictval[batch.id[0]] = [mu,logvar]\n",
        "  \n",
        "print(\"done!!!\")\n",
        "  \n",
        "\n",
        "      "
      ]
    },
    {
      "cell_type": "code",
      "execution_count": 39,
      "metadata": {
        "colab": {
          "base_uri": "https://localhost:8080/",
          "height": 285
        },
        "id": "T_nKz93skFiv",
        "outputId": "646af266-9124-4ed4-8a20-9424b8a47e5c"
      },
      "outputs": [
        {
          "output_type": "execute_result",
          "data": {
            "text/plain": [
              "   Unnamed: 0 Drug1_ID                                       Drug1_SMILES  \\\n",
              "0           0  DB00706   CCOc1ccccc1OCCN[C@H](C)Cc1ccc(OC)c(S(N)(=O)=O)c1   \n",
              "1           1   3849.0  C[C@@H](Oc1ccc2[nH]nc(/C=C/c3cnn(CCO)c3)c2c1)c...   \n",
              "2           2   6380.0                      O=P(O)(O)OCCCc1c[nH]c2ccccc12   \n",
              "3           3   7947.0  CCCC(=O)O[C@]1(C(=O)COC(C)=O)CC[C@H]2[C@@H]3C[...   \n",
              "4           4  DB00802   CCC(=O)N(c1ccccc1)C1(COC)CCN(CCn2nnn(CC)c2=O)CC1   \n",
              "\n",
              "  Drug2_ID                                       Drug2_SMILES  label  \n",
              "0  DB01023    CCOC(=O)C1=C(C)NC(C)=C(C(=O)OC)C1c1cccc(Cl)c1Cl    1.0  \n",
              "1   3515.0      COc1ccc2c(c1)c(CC(=O)O)c(C)n2C(=O)c1ccc(I)cc1    0.0  \n",
              "2   8290.0       N[C@@H](c1ccccc1)c1ccc(-c2ncnc3[nH]cnc23)cc1    0.0  \n",
              "3   3010.0                                       CNCCc1ccccn1    0.0  \n",
              "4  DB00872  Cc1nc2c([nH]1)CCN(C(=O)c1ccc(NC(=O)c3ccccc3-c3...    1.0  "
            ],
            "text/html": [
              "\n",
              "  <div id=\"df-67871524-96e5-4090-89a8-c03c5c6e6395\">\n",
              "    <div class=\"colab-df-container\">\n",
              "      <div>\n",
              "<style scoped>\n",
              "    .dataframe tbody tr th:only-of-type {\n",
              "        vertical-align: middle;\n",
              "    }\n",
              "\n",
              "    .dataframe tbody tr th {\n",
              "        vertical-align: top;\n",
              "    }\n",
              "\n",
              "    .dataframe thead th {\n",
              "        text-align: right;\n",
              "    }\n",
              "</style>\n",
              "<table border=\"1\" class=\"dataframe\">\n",
              "  <thead>\n",
              "    <tr style=\"text-align: right;\">\n",
              "      <th></th>\n",
              "      <th>Unnamed: 0</th>\n",
              "      <th>Drug1_ID</th>\n",
              "      <th>Drug1_SMILES</th>\n",
              "      <th>Drug2_ID</th>\n",
              "      <th>Drug2_SMILES</th>\n",
              "      <th>label</th>\n",
              "    </tr>\n",
              "  </thead>\n",
              "  <tbody>\n",
              "    <tr>\n",
              "      <th>0</th>\n",
              "      <td>0</td>\n",
              "      <td>DB00706</td>\n",
              "      <td>CCOc1ccccc1OCCN[C@H](C)Cc1ccc(OC)c(S(N)(=O)=O)c1</td>\n",
              "      <td>DB01023</td>\n",
              "      <td>CCOC(=O)C1=C(C)NC(C)=C(C(=O)OC)C1c1cccc(Cl)c1Cl</td>\n",
              "      <td>1.0</td>\n",
              "    </tr>\n",
              "    <tr>\n",
              "      <th>1</th>\n",
              "      <td>1</td>\n",
              "      <td>3849.0</td>\n",
              "      <td>C[C@@H](Oc1ccc2[nH]nc(/C=C/c3cnn(CCO)c3)c2c1)c...</td>\n",
              "      <td>3515.0</td>\n",
              "      <td>COc1ccc2c(c1)c(CC(=O)O)c(C)n2C(=O)c1ccc(I)cc1</td>\n",
              "      <td>0.0</td>\n",
              "    </tr>\n",
              "    <tr>\n",
              "      <th>2</th>\n",
              "      <td>2</td>\n",
              "      <td>6380.0</td>\n",
              "      <td>O=P(O)(O)OCCCc1c[nH]c2ccccc12</td>\n",
              "      <td>8290.0</td>\n",
              "      <td>N[C@@H](c1ccccc1)c1ccc(-c2ncnc3[nH]cnc23)cc1</td>\n",
              "      <td>0.0</td>\n",
              "    </tr>\n",
              "    <tr>\n",
              "      <th>3</th>\n",
              "      <td>3</td>\n",
              "      <td>7947.0</td>\n",
              "      <td>CCCC(=O)O[C@]1(C(=O)COC(C)=O)CC[C@H]2[C@@H]3C[...</td>\n",
              "      <td>3010.0</td>\n",
              "      <td>CNCCc1ccccn1</td>\n",
              "      <td>0.0</td>\n",
              "    </tr>\n",
              "    <tr>\n",
              "      <th>4</th>\n",
              "      <td>4</td>\n",
              "      <td>DB00802</td>\n",
              "      <td>CCC(=O)N(c1ccccc1)C1(COC)CCN(CCn2nnn(CC)c2=O)CC1</td>\n",
              "      <td>DB00872</td>\n",
              "      <td>Cc1nc2c([nH]1)CCN(C(=O)c1ccc(NC(=O)c3ccccc3-c3...</td>\n",
              "      <td>1.0</td>\n",
              "    </tr>\n",
              "  </tbody>\n",
              "</table>\n",
              "</div>\n",
              "      <button class=\"colab-df-convert\" onclick=\"convertToInteractive('df-67871524-96e5-4090-89a8-c03c5c6e6395')\"\n",
              "              title=\"Convert this dataframe to an interactive table.\"\n",
              "              style=\"display:none;\">\n",
              "        \n",
              "  <svg xmlns=\"http://www.w3.org/2000/svg\" height=\"24px\"viewBox=\"0 0 24 24\"\n",
              "       width=\"24px\">\n",
              "    <path d=\"M0 0h24v24H0V0z\" fill=\"none\"/>\n",
              "    <path d=\"M18.56 5.44l.94 2.06.94-2.06 2.06-.94-2.06-.94-.94-2.06-.94 2.06-2.06.94zm-11 1L8.5 8.5l.94-2.06 2.06-.94-2.06-.94L8.5 2.5l-.94 2.06-2.06.94zm10 10l.94 2.06.94-2.06 2.06-.94-2.06-.94-.94-2.06-.94 2.06-2.06.94z\"/><path d=\"M17.41 7.96l-1.37-1.37c-.4-.4-.92-.59-1.43-.59-.52 0-1.04.2-1.43.59L10.3 9.45l-7.72 7.72c-.78.78-.78 2.05 0 2.83L4 21.41c.39.39.9.59 1.41.59.51 0 1.02-.2 1.41-.59l7.78-7.78 2.81-2.81c.8-.78.8-2.07 0-2.86zM5.41 20L4 18.59l7.72-7.72 1.47 1.35L5.41 20z\"/>\n",
              "  </svg>\n",
              "      </button>\n",
              "      \n",
              "  <style>\n",
              "    .colab-df-container {\n",
              "      display:flex;\n",
              "      flex-wrap:wrap;\n",
              "      gap: 12px;\n",
              "    }\n",
              "\n",
              "    .colab-df-convert {\n",
              "      background-color: #E8F0FE;\n",
              "      border: none;\n",
              "      border-radius: 50%;\n",
              "      cursor: pointer;\n",
              "      display: none;\n",
              "      fill: #1967D2;\n",
              "      height: 32px;\n",
              "      padding: 0 0 0 0;\n",
              "      width: 32px;\n",
              "    }\n",
              "\n",
              "    .colab-df-convert:hover {\n",
              "      background-color: #E2EBFA;\n",
              "      box-shadow: 0px 1px 2px rgba(60, 64, 67, 0.3), 0px 1px 3px 1px rgba(60, 64, 67, 0.15);\n",
              "      fill: #174EA6;\n",
              "    }\n",
              "\n",
              "    [theme=dark] .colab-df-convert {\n",
              "      background-color: #3B4455;\n",
              "      fill: #D2E3FC;\n",
              "    }\n",
              "\n",
              "    [theme=dark] .colab-df-convert:hover {\n",
              "      background-color: #434B5C;\n",
              "      box-shadow: 0px 1px 3px 1px rgba(0, 0, 0, 0.15);\n",
              "      filter: drop-shadow(0px 1px 2px rgba(0, 0, 0, 0.3));\n",
              "      fill: #FFFFFF;\n",
              "    }\n",
              "  </style>\n",
              "\n",
              "      <script>\n",
              "        const buttonEl =\n",
              "          document.querySelector('#df-67871524-96e5-4090-89a8-c03c5c6e6395 button.colab-df-convert');\n",
              "        buttonEl.style.display =\n",
              "          google.colab.kernel.accessAllowed ? 'block' : 'none';\n",
              "\n",
              "        async function convertToInteractive(key) {\n",
              "          const element = document.querySelector('#df-67871524-96e5-4090-89a8-c03c5c6e6395');\n",
              "          const dataTable =\n",
              "            await google.colab.kernel.invokeFunction('convertToInteractive',\n",
              "                                                     [key], {});\n",
              "          if (!dataTable) return;\n",
              "\n",
              "          const docLinkHtml = 'Like what you see? Visit the ' +\n",
              "            '<a target=\"_blank\" href=https://colab.research.google.com/notebooks/data_table.ipynb>data table notebook</a>'\n",
              "            + ' to learn more about interactive tables.';\n",
              "          element.innerHTML = '';\n",
              "          dataTable['output_type'] = 'display_data';\n",
              "          await google.colab.output.renderOutput(dataTable, element);\n",
              "          const docLink = document.createElement('div');\n",
              "          docLink.innerHTML = docLinkHtml;\n",
              "          element.appendChild(docLink);\n",
              "        }\n",
              "      </script>\n",
              "    </div>\n",
              "  </div>\n",
              "  "
            ]
          },
          "metadata": {},
          "execution_count": 39
        }
      ],
      "source": [
        "temp = pd.read_csv(\"sup_train_val.csv\")\n",
        "temp.head()"
      ]
    },
    {
      "cell_type": "code",
      "execution_count": 40,
      "metadata": {
        "id": "gS5DC4d2ybyC"
      },
      "outputs": [],
      "source": [
        "df = temp\n",
        "\n",
        "# df = pd.DataFrame(columns = ['Drug1_ID', 'Drug1_SMILES', 'Drug2_ID','Drug2_SMILES','label'])\n",
        "\n",
        "# sz = len(temp)\n",
        "\n",
        "# for i in range(sz):\n",
        "#   id1 = temp['Drug1_ID'][i]\n",
        "#   id2 = temp['Drug2_ID'][i]\n",
        "#   if (id1 in dictval) and (id2 in dictval) : \n",
        "#     df = df.append({'Drug1_ID' : id1, 'Drug1_SMILES' : temp['Drug1_SMILES'][i], 'Drug2_ID' : id2,'Drug2_SMILES' : temp['Drug2_SMILES'][i],'label' : temp['label'][i]}, \n",
        "#                   ignore_index = True)\n",
        "\n",
        "# df.head()"
      ]
    },
    {
      "cell_type": "code",
      "execution_count": 41,
      "metadata": {
        "id": "PXuJAPzDboTq",
        "colab": {
          "base_uri": "https://localhost:8080/"
        },
        "outputId": "f81fd8b4-253a-4831-c9ba-3f635f7c7d19"
      },
      "outputs": [
        {
          "output_type": "execute_result",
          "data": {
            "text/plain": [
              "2"
            ]
          },
          "metadata": {},
          "execution_count": 41
        }
      ],
      "source": [
        "n_classes = len(df['label'].unique())\n",
        "n_classes"
      ]
    },
    {
      "cell_type": "code",
      "execution_count": 42,
      "metadata": {
        "id": "yy-TMjNMFlYE",
        "colab": {
          "base_uri": "https://localhost:8080/"
        },
        "outputId": "a690c755-921f-4d64-a420-864c07c0c03b"
      },
      "outputs": [
        {
          "output_type": "execute_result",
          "data": {
            "text/plain": [
              "1.0    33243\n",
              "0.0    33189\n",
              "Name: label, dtype: int64"
            ]
          },
          "metadata": {},
          "execution_count": 42
        }
      ],
      "source": [
        "df['label'].value_counts()"
      ]
    },
    {
      "cell_type": "code",
      "execution_count": 43,
      "metadata": {
        "id": "dIWcJh2U6H_z"
      },
      "outputs": [],
      "source": [
        "dftrain = df\n",
        "dftest = pd.read_csv(\"sup_test.csv\")"
      ]
    },
    {
      "cell_type": "code",
      "execution_count": 44,
      "metadata": {
        "id": "E3bZvh9FVj0t",
        "colab": {
          "base_uri": "https://localhost:8080/"
        },
        "outputId": "6386cd8b-a673-4ea3-d300-3618b51ed58b"
      },
      "outputs": [
        {
          "output_type": "execute_result",
          "data": {
            "text/plain": [
              "65075"
            ]
          },
          "metadata": {},
          "execution_count": 44
        }
      ],
      "source": [
        "\n",
        "class NumbersDataset(Dataset):\n",
        "    def __init__(self,filename):\n",
        "        datat = dftrain\n",
        "        \n",
        "        self.samples = list(range(2*len(datat)))\n",
        "        self.label = list(range(2*len(datat)))\n",
        "        self.sz = 0\n",
        "        idx = 0\n",
        "        for index in range(len(datat)) :\n",
        "          str1 = datat['Drug1_ID'][index]\n",
        "          str2 = datat['Drug2_ID'][index]\n",
        "\n",
        "          if (str1 in dictval) and (str2 in dictval) :\n",
        "            loop = 0\n",
        "            if datat['label'][index]==0 :\n",
        "              loop = 0\n",
        "            elif datat['label'][index]==1 :\n",
        "              loop = 0\n",
        "            else :\n",
        "              loop = 0\n",
        "\n",
        "            mat1 = dictval[str1][0]\n",
        "            mat2 = dictval[str2][0]\n",
        "            mean1 = torch.mean(mat1, axis = 0)\n",
        "            std1 = torch.std(mat1, axis = 0)\n",
        "            mean2 = torch.mean(mat2, axis = 0)\n",
        "            std2 = torch.std(mat2, axis = 0)\n",
        "            vect = torch.cat([mean1, mean2, std1, std2], dim=0)\n",
        "            self.samples[idx] = vect.detach().cpu()\n",
        "            self.label[idx] = datat['label'][index]\n",
        "            self.label[idx] = torch.tensor(self.label[idx], dtype=torch.int64)\n",
        "            idx+=1\n",
        "            for genvar in range(0,loop) : \n",
        "              eps = torch.randn_like(dictval[str1][1])\n",
        "              std = torch.exp(dictval[str1][1])\n",
        "              mat1 = eps.mul(std).add_(dictval[str1][0])\n",
        "              eps = torch.randn_like(dictval[str2][1])\n",
        "              std = torch.exp(dictval[str2][1])\n",
        "              mat2 = eps.mul(std).add_(dictval[str2][0])\n",
        "              mean1 = torch.mean(mat1, axis = 0)\n",
        "              std1 = torch.std(mat1, axis = 0)\n",
        "              mean2 = torch.mean(mat2, axis = 0)\n",
        "              std2 = torch.std(mat2, axis = 0)\n",
        "              vect = torch.cat([mean1, mean2, std1, std2], dim=0)\n",
        "              self.samples[idx] = vect.detach().cpu()\n",
        "              self.label[idx] = datat['label'][index]\n",
        "              self.label[idx] = torch.tensor(self.label[idx], dtype=torch.int64)\n",
        "              idx+=1\n",
        "        self.sz = idx\n",
        "\n",
        "\n",
        "    def __len__(self):\n",
        "        return self.sz\n",
        "\n",
        "    def __getitem__(self, idx):\n",
        "        return self.samples[idx],self.label[idx]\n",
        "\n",
        "dataset = NumbersDataset(\"sup_train_val.csv\")\n",
        "len(dataset)"
      ]
    },
    {
      "cell_type": "code",
      "execution_count": 45,
      "metadata": {
        "id": "7CDyDAXd8Gt9"
      },
      "outputs": [],
      "source": [
        "data = dataset"
      ]
    },
    {
      "cell_type": "code",
      "execution_count": 46,
      "metadata": {
        "id": "R0UQvDj_TjdJ",
        "colab": {
          "base_uri": "https://localhost:8080/"
        },
        "outputId": "7146d669-d6a3-457c-e62a-075bb5af30d1"
      },
      "outputs": [
        {
          "output_type": "execute_result",
          "data": {
            "text/plain": [
              "tensor(1)"
            ]
          },
          "metadata": {},
          "execution_count": 46
        }
      ],
      "source": [
        "data[0][1]"
      ]
    },
    {
      "cell_type": "code",
      "execution_count": 47,
      "metadata": {
        "id": "TXNCCatS4cfg",
        "colab": {
          "base_uri": "https://localhost:8080/"
        },
        "outputId": "033b61a3-99f4-4a89-b59e-33454aa91428"
      },
      "outputs": [
        {
          "output_type": "stream",
          "name": "stdout",
          "text": [
            "NeuralNet(\n",
            "  (fc1): Linear(in_features=32, out_features=128, bias=True)\n",
            "  (relu): ReLU()\n",
            "  (fc2): Linear(in_features=128, out_features=2, bias=True)\n",
            ")\n",
            "Number of parameters:  4482\n"
          ]
        }
      ],
      "source": [
        "import torch.nn.functional as F \n",
        "\n",
        "\n",
        "class NeuralNet(torch.nn.Module):\n",
        "    def __init__(self, input_size, hidden_size):\n",
        "        super(NeuralNet, self).__init__()\n",
        "        self.input_size = input_size\n",
        "        self.hidden_size  = hidden_size\n",
        "        self.fc1 = torch.nn.Linear(self.input_size, self.hidden_size)\n",
        "        self.relu = torch.nn.ReLU()\n",
        "        self.fc2 = torch.nn.Linear(self.hidden_size, n_classes)\n",
        "        \n",
        "    def forward(self, x):\n",
        "        x = self.fc1(x)\n",
        "        x = self.relu(x)\n",
        "        x = self.fc2(x)\n",
        "        x = F.softmax(x, dim=1)\n",
        "        return x\n",
        "model_ff = NeuralNet(data[0][0].shape[0],128)\n",
        "print(model_ff)\n",
        "print(\"Number of parameters: \", sum(p.numel() for p in model_ff.parameters()))"
      ]
    },
    {
      "cell_type": "code",
      "execution_count": 48,
      "metadata": {
        "id": "pV-miKcqF7jW"
      },
      "outputs": [],
      "source": [
        "# import torch.nn.functional as F \n",
        "\n",
        "\n",
        "# class NeuralNet(torch.nn.Module):\n",
        "#     def __init__(self, input_size, hidden_size):\n",
        "#         super(NeuralNet, self).__init__()\n",
        "#         self.input_size = input_size\n",
        "#         self.hidden_size  = hidden_size\n",
        "#         self.fc1 = torch.nn.Linear(self.input_size, self.hidden_size)\n",
        "#         self.relu = torch.nn.ReLU()\n",
        "#         self.fc2 = torch.nn.Linear(self.hidden_size, self.hidden_size)\n",
        "#         self.fc3 = torch.nn.Linear(self.hidden_size, n_classes)\n",
        "        \n",
        "#     def forward(self, x):\n",
        "#         x = self.fc1(x)\n",
        "#         x = self.relu(x)\n",
        "#         x = self.fc2(x)\n",
        "#         x = self.relu(x)\n",
        "#         x = self.fc3(x)\n",
        "#         x = F.softmax(x, dim=1)\n",
        "#         return x\n",
        "# model_ff = NeuralNet(data[0][0].shape[0],64)\n",
        "# print(model_ff)\n",
        "# #print(\"Number of parameters: \", sum(p.numel() for p in model_ff.parameters()))"
      ]
    },
    {
      "cell_type": "code",
      "execution_count": 49,
      "metadata": {
        "id": "AQr-TU1A7jw_",
        "colab": {
          "base_uri": "https://localhost:8080/"
        },
        "outputId": "4f7b1db2-2fba-4f89-9aea-315e03469a9d"
      },
      "outputs": [
        {
          "output_type": "stream",
          "name": "stdout",
          "text": [
            "Starting training...\n",
            "Epoch 0 | Train Loss 0.5785036087036133\n",
            "Epoch 50 | Train Loss 0.44032445549964905\n",
            "Epoch 100 | Train Loss 0.38921141624450684\n",
            "Epoch 150 | Train Loss 0.3734346926212311\n",
            "Epoch 200 | Train Loss 0.36412668228149414\n",
            "Epoch 250 | Train Loss 0.36788520216941833\n",
            "Epoch 300 | Train Loss 0.399596631526947\n"
          ]
        }
      ],
      "source": [
        "loss_fn = nn.CrossEntropyLoss()\n",
        "optimizer = torch.optim.Adam(model_ff.parameters(), lr=0.001)  \n",
        "model_ff = model_ff.to(device)\n",
        "loss_fn = loss_fn.to(device)\n",
        "\n",
        "# Wrap data in a data loader\n",
        "data_size = len(data)\n",
        "NUM_GRAPHS_PER_BATCH = 128\n",
        "loader = DataLoader(data,batch_size=NUM_GRAPHS_PER_BATCH, shuffle=True)\n",
        "\n",
        "\n",
        "\n",
        "def train(data):\n",
        "    for batch in loader:\n",
        "      # Use GPU\n",
        "      \n",
        "      batch[0] = batch[0].to(device) \n",
        "      batch[1] = batch[1].to(device)  \n",
        "      # Reset gradients\n",
        "      optimizer.zero_grad() \n",
        "      # Passing the node features and the connection info\n",
        "      pred = model_ff(batch[0]) \n",
        "      \n",
        "      loss = (loss_fn(pred, batch[1]))      \n",
        "      loss.backward()  \n",
        "      # Update using the gradients\n",
        "      optimizer.step()   \n",
        "    return loss\n",
        "\n",
        "print(\"Starting training...\")\n",
        "losses = []\n",
        "for epoch in range(301):\n",
        "    loss = train(data)\n",
        "    losses.append(loss)\n",
        "    if epoch % 50 == 0:\n",
        "      print(f\"Epoch {epoch} | Train Loss {loss}\")"
      ]
    },
    {
      "cell_type": "code",
      "execution_count": 50,
      "metadata": {
        "id": "796GCsqc8-l3",
        "colab": {
          "base_uri": "https://localhost:8080/",
          "height": 282
        },
        "outputId": "18b01477-c83d-4ad3-f2e6-8af52b3ebdb0"
      },
      "outputs": [
        {
          "output_type": "execute_result",
          "data": {
            "text/plain": [
              "<matplotlib.axes._subplots.AxesSubplot at 0x7f19076fa350>"
            ]
          },
          "metadata": {},
          "execution_count": 50
        },
        {
          "output_type": "display_data",
          "data": {
            "text/plain": [
              "<Figure size 432x288 with 1 Axes>"
            ],
            "image/png": "[encoded data removed]"
          },
          "metadata": {
            "needs_background": "light"
          }
        }
      ],
      "source": [
        "# Visualize learning (training loss)\n",
        "losses_float = [float(loss.cpu().detach().numpy()) for loss in losses] \n",
        "loss_indices = [i for i,l in enumerate(losses_float)] \n",
        "plt = sns.lineplot(loss_indices, losses_float)\n",
        "plt"
      ]
    },
    {
      "cell_type": "code",
      "execution_count": 51,
      "metadata": {
        "id": "ZiazZ2qe8zVT",
        "colab": {
          "base_uri": "https://localhost:8080/"
        },
        "outputId": "b630268b-00b5-48d1-a502-af7581576f58"
      },
      "outputs": [
        {
          "output_type": "execute_result",
          "data": {
            "text/plain": [
              "16234"
            ]
          },
          "metadata": {},
          "execution_count": 51
        }
      ],
      "source": [
        "\n",
        "class TestDataset(Dataset):\n",
        "    def __init__(self,filename):\n",
        "        datat = dftest\n",
        "        #datat = datat.tail(tailpp).reset_index(drop=True)\n",
        "       \n",
        "        self.samples = list(range(len(datat)))\n",
        "        self.label = list(range(len(datat)))\n",
        "        self.sz = 0\n",
        "        idx = 0\n",
        "        for index in range(len(datat)) :\n",
        "          str1 = datat['Drug1_ID'][index]\n",
        "          str2 = datat['Drug2_ID'][index]\n",
        "\n",
        "          \n",
        "          if (str1 in dictval) and (str2 in dictval) :\n",
        "            mat1 = dictval[str1][0]\n",
        "            mat2 = dictval[str2][0]\n",
        "            mean1 = torch.mean(mat1, axis = 0)\n",
        "            std1 = torch.std(mat1, axis = 0)\n",
        "            mean2 = torch.mean(mat2, axis = 0)\n",
        "            std2 = torch.std(mat2, axis = 0)\n",
        "            vect = torch.cat([mean1, mean2, std1, std2], dim=0)\n",
        "            self.samples[idx] = vect.detach().cpu()\n",
        "            self.label[idx] = datat['label'][index]\n",
        "            self.label[idx] = torch.tensor(self.label[idx], dtype=torch.int64)\n",
        "            idx+=1\n",
        "        self.sz = idx\n",
        "\n",
        "\n",
        "    def __len__(self):\n",
        "        return self.sz\n",
        "\n",
        "    def __getitem__(self, idx):\n",
        "        return self.samples[idx],self.label[idx]\n",
        "\n",
        "datatest = TestDataset(\"sup_test.csv\")\n",
        "len(datatest)"
      ]
    },
    {
      "cell_type": "code",
      "execution_count": 52,
      "metadata": {
        "id": "6E5qdBNtRew3",
        "colab": {
          "base_uri": "https://localhost:8080/",
          "height": 221
        },
        "outputId": "f0c16f52-f119-4e7a-a9f5-6da8e8069056"
      },
      "outputs": [
        {
          "output_type": "stream",
          "name": "stdout",
          "text": [
            "0.8857755823808908\n"
          ]
        },
        {
          "output_type": "execute_result",
          "data": {
            "text/plain": [
              "      y_real y_pred   y_predfrac0  y_predfrac1\n",
              "16229      1      1  1.366280e-03     0.998634\n",
              "16230      0      0  9.999909e-01     0.000009\n",
              "16231      1      1  4.056687e-05     0.999959\n",
              "16232      1      1  2.187318e-04     0.999781\n",
              "16233      1      1  8.393649e-08     1.000000"
            ],
            "text/html": [
              "\n",
              "  <div id=\"df-4c52f0f4-96e7-4d81-b1f6-b088915169fe\">\n",
              "    <div class=\"colab-df-container\">\n",
              "      <div>\n",
              "<style scoped>\n",
              "    .dataframe tbody tr th:only-of-type {\n",
              "        vertical-align: middle;\n",
              "    }\n",
              "\n",
              "    .dataframe tbody tr th {\n",
              "        vertical-align: top;\n",
              "    }\n",
              "\n",
              "    .dataframe thead th {\n",
              "        text-align: right;\n",
              "    }\n",
              "</style>\n",
              "<table border=\"1\" class=\"dataframe\">\n",
              "  <thead>\n",
              "    <tr style=\"text-align: right;\">\n",
              "      <th></th>\n",
              "      <th>y_real</th>\n",
              "      <th>y_pred</th>\n",
              "      <th>y_predfrac0</th>\n",
              "      <th>y_predfrac1</th>\n",
              "    </tr>\n",
              "  </thead>\n",
              "  <tbody>\n",
              "    <tr>\n",
              "      <th>16229</th>\n",
              "      <td>1</td>\n",
              "      <td>1</td>\n",
              "      <td>1.366280e-03</td>\n",
              "      <td>0.998634</td>\n",
              "    </tr>\n",
              "    <tr>\n",
              "      <th>16230</th>\n",
              "      <td>0</td>\n",
              "      <td>0</td>\n",
              "      <td>9.999909e-01</td>\n",
              "      <td>0.000009</td>\n",
              "    </tr>\n",
              "    <tr>\n",
              "      <th>16231</th>\n",
              "      <td>1</td>\n",
              "      <td>1</td>\n",
              "      <td>4.056687e-05</td>\n",
              "      <td>0.999959</td>\n",
              "    </tr>\n",
              "    <tr>\n",
              "      <th>16232</th>\n",
              "      <td>1</td>\n",
              "      <td>1</td>\n",
              "      <td>2.187318e-04</td>\n",
              "      <td>0.999781</td>\n",
              "    </tr>\n",
              "    <tr>\n",
              "      <th>16233</th>\n",
              "      <td>1</td>\n",
              "      <td>1</td>\n",
              "      <td>8.393649e-08</td>\n",
              "      <td>1.000000</td>\n",
              "    </tr>\n",
              "  </tbody>\n",
              "</table>\n",
              "</div>\n",
              "      <button class=\"colab-df-convert\" onclick=\"convertToInteractive('df-4c52f0f4-96e7-4d81-b1f6-b088915169fe')\"\n",
              "              title=\"Convert this dataframe to an interactive table.\"\n",
              "              style=\"display:none;\">\n",
              "        \n",
              "  <svg xmlns=\"http://www.w3.org/2000/svg\" height=\"24px\"viewBox=\"0 0 24 24\"\n",
              "       width=\"24px\">\n",
              "    <path d=\"M0 0h24v24H0V0z\" fill=\"none\"/>\n",
              "    <path d=\"M18.56 5.44l.94 2.06.94-2.06 2.06-.94-2.06-.94-.94-2.06-.94 2.06-2.06.94zm-11 1L8.5 8.5l.94-2.06 2.06-.94-2.06-.94L8.5 2.5l-.94 2.06-2.06.94zm10 10l.94 2.06.94-2.06 2.06-.94-2.06-.94-.94-2.06-.94 2.06-2.06.94z\"/><path d=\"M17.41 7.96l-1.37-1.37c-.4-.4-.92-.59-1.43-.59-.52 0-1.04.2-1.43.59L10.3 9.45l-7.72 7.72c-.78.78-.78 2.05 0 2.83L4 21.41c.39.39.9.59 1.41.59.51 0 1.02-.2 1.41-.59l7.78-7.78 2.81-2.81c.8-.78.8-2.07 0-2.86zM5.41 20L4 18.59l7.72-7.72 1.47 1.35L5.41 20z\"/>\n",
              "  </svg>\n",
              "      </button>\n",
              "      \n",
              "  <style>\n",
              "    .colab-df-container {\n",
              "      display:flex;\n",
              "      flex-wrap:wrap;\n",
              "      gap: 12px;\n",
              "    }\n",
              "\n",
              "    .colab-df-convert {\n",
              "      background-color: #E8F0FE;\n",
              "      border: none;\n",
              "      border-radius: 50%;\n",
              "      cursor: pointer;\n",
              "      display: none;\n",
              "      fill: #1967D2;\n",
              "      height: 32px;\n",
              "      padding: 0 0 0 0;\n",
              "      width: 32px;\n",
              "    }\n",
              "\n",
              "    .colab-df-convert:hover {\n",
              "      background-color: #E2EBFA;\n",
              "      box-shadow: 0px 1px 2px rgba(60, 64, 67, 0.3), 0px 1px 3px 1px rgba(60, 64, 67, 0.15);\n",
              "      fill: #174EA6;\n",
              "    }\n",
              "\n",
              "    [theme=dark] .colab-df-convert {\n",
              "      background-color: #3B4455;\n",
              "      fill: #D2E3FC;\n",
              "    }\n",
              "\n",
              "    [theme=dark] .colab-df-convert:hover {\n",
              "      background-color: #434B5C;\n",
              "      box-shadow: 0px 1px 3px 1px rgba(0, 0, 0, 0.15);\n",
              "      filter: drop-shadow(0px 1px 2px rgba(0, 0, 0, 0.3));\n",
              "      fill: #FFFFFF;\n",
              "    }\n",
              "  </style>\n",
              "\n",
              "      <script>\n",
              "        const buttonEl =\n",
              "          document.querySelector('#df-4c52f0f4-96e7-4d81-b1f6-b088915169fe button.colab-df-convert');\n",
              "        buttonEl.style.display =\n",
              "          google.colab.kernel.accessAllowed ? 'block' : 'none';\n",
              "\n",
              "        async function convertToInteractive(key) {\n",
              "          const element = document.querySelector('#df-4c52f0f4-96e7-4d81-b1f6-b088915169fe');\n",
              "          const dataTable =\n",
              "            await google.colab.kernel.invokeFunction('convertToInteractive',\n",
              "                                                     [key], {});\n",
              "          if (!dataTable) return;\n",
              "\n",
              "          const docLinkHtml = 'Like what you see? Visit the ' +\n",
              "            '<a target=\"_blank\" href=https://colab.research.google.com/notebooks/data_table.ipynb>data table notebook</a>'\n",
              "            + ' to learn more about interactive tables.';\n",
              "          element.innerHTML = '';\n",
              "          dataTable['output_type'] = 'display_data';\n",
              "          await google.colab.output.renderOutput(dataTable, element);\n",
              "          const docLink = document.createElement('div');\n",
              "          docLink.innerHTML = docLinkHtml;\n",
              "          element.appendChild(docLink);\n",
              "        }\n",
              "      </script>\n",
              "    </div>\n",
              "  </div>\n",
              "  "
            ]
          },
          "metadata": {},
          "execution_count": 52
        }
      ],
      "source": [
        "test_loader = DataLoader(datatest,batch_size=len(datatest), shuffle=True)\n",
        "dffull = pd.DataFrame(columns = ['y_real','y_pred'])\n",
        "with torch.no_grad():\n",
        "    for test_batch in test_loader : \n",
        "      test_batch[0] = test_batch[0].to(device)\n",
        "      test_batch[1] = test_batch[1].to(device)\n",
        "      pred = model_ff(test_batch[0]) \n",
        "      pred_frac0 = pred[:,0]\n",
        "      pred_frac1 = pred[:,1]\n",
        "      if n_classes == 3 : \n",
        "        pred_frac2 = pred[:,2]\n",
        "      pred = pred.argmax(dim=1)  \n",
        "      dftt = pd.DataFrame()\n",
        "      dftt[\"y_real\"] = test_batch[1].tolist()\n",
        "      dftt[\"y_pred\"] = pred.tolist()\n",
        "      dftt[\"y_predfrac0\"] = pred_frac0.tolist()\n",
        "      dftt[\"y_predfrac1\"] = pred_frac1.tolist()\n",
        "      if n_classes == 3 : \n",
        "        dftt[\"y_predfrac2\"] = pred_frac2.tolist()\n",
        "      dffull = dffull.append(dftt)\n",
        "      print(f1_score(dftt['y_real'], dftt['y_pred'],average='macro'))\n",
        "\n",
        "dffull.to_csv('tt.csv')\n",
        "dffull.tail()"
      ]
    },
    {
      "cell_type": "code",
      "execution_count": 53,
      "metadata": {
        "id": "pvUqpVggR0ZN",
        "colab": {
          "base_uri": "https://localhost:8080/"
        },
        "outputId": "2796bbbf-48f7-45a4-da26-b5ce4455cdf2"
      },
      "outputs": [
        {
          "output_type": "stream",
          "name": "stdout",
          "text": [
            "0.8857755823808908\n",
            "0.8858568436614512\n",
            "0.8858568436614512\n"
          ]
        },
        {
          "output_type": "execute_result",
          "data": {
            "text/plain": [
              "array([[6974, 1135],\n",
              "       [ 718, 7407]])"
            ]
          },
          "metadata": {},
          "execution_count": 53
        }
      ],
      "source": [
        "datahead = pd.read_csv('tt.csv')\n",
        "print(f1_score(datahead['y_real'], datahead['y_pred'],average='macro'))\n",
        "print(f1_score(datahead['y_real'], datahead['y_pred'],average='micro'))\n",
        "print(accuracy_score(datahead['y_real'], datahead['y_pred']))\n",
        "\n",
        "confusion_matrix(datahead['y_real'], datahead['y_pred'])"
      ]
    },
    {
      "cell_type": "code",
      "execution_count": 54,
      "metadata": {
        "id": "eLtbd3M3lacF",
        "colab": {
          "base_uri": "https://localhost:8080/",
          "height": 204
        },
        "outputId": "d2062da7-e1a1-4810-f42c-62f21c712d65"
      },
      "outputs": [
        {
          "output_type": "execute_result",
          "data": {
            "text/plain": [
              "    y_predfrac0   y_predfrac1\n",
              "0  1.000000e+00  1.274436e-31\n",
              "1  9.999951e-01  4.886387e-06\n",
              "2  1.376538e-09  1.000000e+00\n",
              "3  1.000000e+00  2.981653e-11\n",
              "4  1.000000e+00  3.357204e-09"
            ],
            "text/html": [
              "\n",
              "  <div id=\"df-d5b1bf90-ef2a-479f-910e-c6a49df22596\">\n",
              "    <div class=\"colab-df-container\">\n",
              "      <div>\n",
              "<style scoped>\n",
              "    .dataframe tbody tr th:only-of-type {\n",
              "        vertical-align: middle;\n",
              "    }\n",
              "\n",
              "    .dataframe tbody tr th {\n",
              "        vertical-align: top;\n",
              "    }\n",
              "\n",
              "    .dataframe thead th {\n",
              "        text-align: right;\n",
              "    }\n",
              "</style>\n",
              "<table border=\"1\" class=\"dataframe\">\n",
              "  <thead>\n",
              "    <tr style=\"text-align: right;\">\n",
              "      <th></th>\n",
              "      <th>y_predfrac0</th>\n",
              "      <th>y_predfrac1</th>\n",
              "    </tr>\n",
              "  </thead>\n",
              "  <tbody>\n",
              "    <tr>\n",
              "      <th>0</th>\n",
              "      <td>1.000000e+00</td>\n",
              "      <td>1.274436e-31</td>\n",
              "    </tr>\n",
              "    <tr>\n",
              "      <th>1</th>\n",
              "      <td>9.999951e-01</td>\n",
              "      <td>4.886387e-06</td>\n",
              "    </tr>\n",
              "    <tr>\n",
              "      <th>2</th>\n",
              "      <td>1.376538e-09</td>\n",
              "      <td>1.000000e+00</td>\n",
              "    </tr>\n",
              "    <tr>\n",
              "      <th>3</th>\n",
              "      <td>1.000000e+00</td>\n",
              "      <td>2.981653e-11</td>\n",
              "    </tr>\n",
              "    <tr>\n",
              "      <th>4</th>\n",
              "      <td>1.000000e+00</td>\n",
              "      <td>3.357204e-09</td>\n",
              "    </tr>\n",
              "  </tbody>\n",
              "</table>\n",
              "</div>\n",
              "      <button class=\"colab-df-convert\" onclick=\"convertToInteractive('df-d5b1bf90-ef2a-479f-910e-c6a49df22596')\"\n",
              "              title=\"Convert this dataframe to an interactive table.\"\n",
              "              style=\"display:none;\">\n",
              "        \n",
              "  <svg xmlns=\"http://www.w3.org/2000/svg\" height=\"24px\"viewBox=\"0 0 24 24\"\n",
              "       width=\"24px\">\n",
              "    <path d=\"M0 0h24v24H0V0z\" fill=\"none\"/>\n",
              "    <path d=\"M18.56 5.44l.94 2.06.94-2.06 2.06-.94-2.06-.94-.94-2.06-.94 2.06-2.06.94zm-11 1L8.5 8.5l.94-2.06 2.06-.94-2.06-.94L8.5 2.5l-.94 2.06-2.06.94zm10 10l.94 2.06.94-2.06 2.06-.94-2.06-.94-.94-2.06-.94 2.06-2.06.94z\"/><path d=\"M17.41 7.96l-1.37-1.37c-.4-.4-.92-.59-1.43-.59-.52 0-1.04.2-1.43.59L10.3 9.45l-7.72 7.72c-.78.78-.78 2.05 0 2.83L4 21.41c.39.39.9.59 1.41.59.51 0 1.02-.2 1.41-.59l7.78-7.78 2.81-2.81c.8-.78.8-2.07 0-2.86zM5.41 20L4 18.59l7.72-7.72 1.47 1.35L5.41 20z\"/>\n",
              "  </svg>\n",
              "      </button>\n",
              "      \n",
              "  <style>\n",
              "    .colab-df-container {\n",
              "      display:flex;\n",
              "      flex-wrap:wrap;\n",
              "      gap: 12px;\n",
              "    }\n",
              "\n",
              "    .colab-df-convert {\n",
              "      background-color: #E8F0FE;\n",
              "      border: none;\n",
              "      border-radius: 50%;\n",
              "      cursor: pointer;\n",
              "      display: none;\n",
              "      fill: #1967D2;\n",
              "      height: 32px;\n",
              "      padding: 0 0 0 0;\n",
              "      width: 32px;\n",
              "    }\n",
              "\n",
              "    .colab-df-convert:hover {\n",
              "      background-color: #E2EBFA;\n",
              "      box-shadow: 0px 1px 2px rgba(60, 64, 67, 0.3), 0px 1px 3px 1px rgba(60, 64, 67, 0.15);\n",
              "      fill: #174EA6;\n",
              "    }\n",
              "\n",
              "    [theme=dark] .colab-df-convert {\n",
              "      background-color: #3B4455;\n",
              "      fill: #D2E3FC;\n",
              "    }\n",
              "\n",
              "    [theme=dark] .colab-df-convert:hover {\n",
              "      background-color: #434B5C;\n",
              "      box-shadow: 0px 1px 3px 1px rgba(0, 0, 0, 0.15);\n",
              "      filter: drop-shadow(0px 1px 2px rgba(0, 0, 0, 0.3));\n",
              "      fill: #FFFFFF;\n",
              "    }\n",
              "  </style>\n",
              "\n",
              "      <script>\n",
              "        const buttonEl =\n",
              "          document.querySelector('#df-d5b1bf90-ef2a-479f-910e-c6a49df22596 button.colab-df-convert');\n",
              "        buttonEl.style.display =\n",
              "          google.colab.kernel.accessAllowed ? 'block' : 'none';\n",
              "\n",
              "        async function convertToInteractive(key) {\n",
              "          const element = document.querySelector('#df-d5b1bf90-ef2a-479f-910e-c6a49df22596');\n",
              "          const dataTable =\n",
              "            await google.colab.kernel.invokeFunction('convertToInteractive',\n",
              "                                                     [key], {});\n",
              "          if (!dataTable) return;\n",
              "\n",
              "          const docLinkHtml = 'Like what you see? Visit the ' +\n",
              "            '<a target=\"_blank\" href=https://colab.research.google.com/notebooks/data_table.ipynb>data table notebook</a>'\n",
              "            + ' to learn more about interactive tables.';\n",
              "          element.innerHTML = '';\n",
              "          dataTable['output_type'] = 'display_data';\n",
              "          await google.colab.output.renderOutput(dataTable, element);\n",
              "          const docLink = document.createElement('div');\n",
              "          docLink.innerHTML = docLinkHtml;\n",
              "          element.appendChild(docLink);\n",
              "        }\n",
              "      </script>\n",
              "    </div>\n",
              "  </div>\n",
              "  "
            ]
          },
          "metadata": {},
          "execution_count": 54
        }
      ],
      "source": [
        "dfttt = datahead.iloc[:,3:]\n",
        "dfttt.head()"
      ]
    },
    {
      "cell_type": "code",
      "execution_count": 55,
      "metadata": {
        "id": "FHdLh88KlIVh"
      },
      "outputs": [],
      "source": [
        "probab = dfttt.to_numpy()"
      ]
    },
    {
      "cell_type": "code",
      "execution_count": 56,
      "metadata": {
        "id": "cnZRP13Bb_8T"
      },
      "outputs": [],
      "source": [
        "if n_classes==3 : \n",
        "  macro_roc_auc_ovo = roc_auc_score(datahead['y_real'],probab, multi_class=\"ovo\", average=\"macro\")\n",
        "  print(macro_roc_auc_ovo)\n",
        "  macro_roc_auc_ovo = roc_auc_score(datahead['y_real'],probab, multi_class=\"ovr\", average=\"weighted\")\n",
        "  print(macro_roc_auc_ovo)"
      ]
    },
    {
      "cell_type": "code",
      "execution_count": 57,
      "metadata": {
        "id": "XKrM0UZBfgNj"
      },
      "outputs": [],
      "source": [
        "if n_classes == 3 : \n",
        "  Y_test = datahead['y_real']\n",
        "  y_score = probab\n",
        "  # Use label_binarize to be multi-label like settings\n",
        "  Y = label_binarize(Y_test, classes=[0, 1, 2])\n",
        "  n_classes = Y.shape[1]\n",
        "\n",
        "  Y_test = Y\n",
        "\n",
        "\n",
        "  # For each class\n",
        "  precision = dict()\n",
        "  recall = dict()\n",
        "  average_precision = dict()\n",
        "  for i in range(n_classes):\n",
        "      precision[i], recall[i], _ = precision_recall_curve(Y_test[:, i], y_score[:, i])\n",
        "      average_precision[i] = average_precision_score(Y_test[:, i], y_score[:, i])\n",
        "\n",
        "  # A \"micro-average\": quantifying score on all classes jointly\n",
        "  precision[\"micro\"], recall[\"micro\"], _ = precision_recall_curve(\n",
        "      Y_test.ravel(), y_score.ravel()\n",
        "  )\n",
        "  average_precision[\"micro\"] = average_precision_score(Y_test, y_score, average=\"micro\")\n",
        "  average_precision[\"macro\"] = average_precision_score(Y_test, y_score, average=\"macro\")\n",
        "  print(average_precision[\"micro\"])\n",
        "  print(average_precision[\"macro\"])"
      ]
    },
    {
      "cell_type": "code",
      "execution_count": 58,
      "metadata": {
        "id": "xODurCa8eDB9"
      },
      "outputs": [],
      "source": [
        "from sklearn.metrics import PrecisionRecallDisplay\n",
        "if n_classes == 3 :\n",
        "  display = PrecisionRecallDisplay(\n",
        "      recall=recall[\"micro\"],\n",
        "      precision=precision[\"micro\"],\n",
        "      average_precision=average_precision[\"micro\"],\n",
        "  )\n",
        "  display.plot()\n",
        "  _ = display.ax_.set_title(\"Micro-averaged over all classes\")"
      ]
    },
    {
      "cell_type": "code",
      "execution_count": 58,
      "metadata": {
        "id": "XfHifRsEeNC4"
      },
      "outputs": [],
      "source": [
        ""
      ]
    },
    {
      "cell_type": "code",
      "execution_count": 58,
      "metadata": {
        "id": "uiDe7UINd8v3"
      },
      "outputs": [],
      "source": [
        ""
      ]
    },
    {
      "cell_type": "code",
      "execution_count": 59,
      "metadata": {
        "id": "O8qSxp8vgWYS"
      },
      "outputs": [],
      "source": [
        "#NEXT CELLS FOR NUMBER OF CLASSES = 2"
      ]
    },
    {
      "cell_type": "code",
      "execution_count": 60,
      "metadata": {
        "id": "zF6w3Y4kSUMo",
        "colab": {
          "base_uri": "https://localhost:8080/"
        },
        "outputId": "461b0915-bb06-4d8a-cbd4-aa392f079cd1"
      },
      "outputs": [
        {
          "output_type": "stream",
          "name": "stdout",
          "text": [
            "AUC: 0.932\n"
          ]
        }
      ],
      "source": [
        "auc = roc_auc_score(datahead['y_real'],datahead['y_predfrac1'])\n",
        "print('AUC: %.3f' % auc)"
      ]
    },
    {
      "cell_type": "code",
      "execution_count": 61,
      "metadata": {
        "id": "Y2SNYvsMSokW",
        "colab": {
          "base_uri": "https://localhost:8080/",
          "height": 296
        },
        "outputId": "506e8bb3-e0c6-4dcc-e59f-88d682297105"
      },
      "outputs": [
        {
          "output_type": "stream",
          "name": "stdout",
          "text": [
            "Model: ROC AUC=0.932\n"
          ]
        },
        {
          "output_type": "display_data",
          "data": {
            "text/plain": [
              "<Figure size 432x288 with 1 Axes>"
            ],
            "image/png": "[encoded data removed]"
          },
          "metadata": {
            "needs_background": "light"
          }
        }
      ],
      "source": [
        "lr_auc = roc_auc_score(datahead['y_real'],datahead['y_predfrac1'])\n",
        "# summarize scores\n",
        "\n",
        "print('Model: ROC AUC=%.3f' % (lr_auc))\n",
        "# calculate roc curves\n",
        "\n",
        "lr_fpr, lr_tpr, _ = roc_curve(datahead['y_real'],datahead['y_predfrac1'])\n",
        "# plot the roc curve for the model\n",
        "pyplot.plot(lr_fpr, lr_tpr, marker='.', label='Model')\n",
        "# axis labels\n",
        "pyplot.xlabel('False Positive Rate')\n",
        "pyplot.ylabel('True Positive Rate')\n",
        "# show the legend\n",
        "pyplot.legend()\n",
        "# show the plot\n",
        "pyplot.show()"
      ]
    },
    {
      "cell_type": "code",
      "execution_count": 62,
      "metadata": {
        "id": "X9Zg9xlbS6kv",
        "colab": {
          "base_uri": "https://localhost:8080/",
          "height": 296
        },
        "outputId": "35f29eb8-95eb-49c5-88ad-578e652a6477"
      },
      "outputs": [
        {
          "output_type": "stream",
          "name": "stdout",
          "text": [
            "Logistic: f1=0.889 auc=0.930\n"
          ]
        },
        {
          "output_type": "display_data",
          "data": {
            "text/plain": [
              "<Figure size 432x288 with 1 Axes>"
            ],
            "image/png": "[encoded data removed]"
          },
          "metadata": {
            "needs_background": "light"
          }
        }
      ],
      "source": [
        "lr_precision, lr_recall, _ = precision_recall_curve(datahead['y_real'],datahead['y_predfrac1'])\n",
        "lr_f1, lr_auc = f1_score(datahead['y_real'], datahead['y_pred']), metrics.auc(lr_recall, lr_precision)\n",
        "# summarize scores\n",
        "print('Logistic: f1=%.3f auc=%.3f' % (lr_f1, lr_auc))\n",
        "# plot the precision-recall curves\n",
        "no_skill = len(datahead['y_real'][datahead['y_real']==1]) / len(datahead['y_real'])\n",
        "pyplot.plot([0, 1], [no_skill, no_skill], linestyle='--', label='No Skill')\n",
        "pyplot.plot(lr_recall, lr_precision, marker='.', label='Logistic')\n",
        "# axis labels\n",
        "pyplot.xlabel('Recall')\n",
        "pyplot.ylabel('Precision')\n",
        "# show the legend\n",
        "pyplot.legend()\n",
        "# show the plot\n",
        "pyplot.show()"
      ]
    },
    {
      "cell_type": "code",
      "execution_count": 63,
      "metadata": {
        "id": "Lah0flI3B5-H",
        "colab": {
          "base_uri": "https://localhost:8080/"
        },
        "outputId": "c115c960-ddb1-4cf0-f13d-76ee60694804"
      },
      "outputs": [
        {
          "output_type": "execute_result",
          "data": {
            "text/plain": [
              "0.9297242736187928"
            ]
          },
          "metadata": {},
          "execution_count": 63
        }
      ],
      "source": [
        "precision, recall, thresholds  = precision_recall_curve(datahead['y_real'], datahead['y_predfrac1'])\n",
        "auc_score = metrics.auc(recall, precision)\n",
        "auc_score"
      ]
    },
    {
      "cell_type": "code",
      "execution_count": 63,
      "metadata": {
        "id": "t9bJ4uvNDF0n"
      },
      "outputs": [],
      "source": [
        ""
      ]
    },
    {
      "cell_type": "code",
      "execution_count": 63,
      "metadata": {
        "id": "elmQGbThtjkR"
      },
      "outputs": [],
      "source": [
        ""
      ]
    }
  ],
  "metadata": {
    "accelerator": "GPU",
    "colab": {
      "collapsed_sections": [],
      "machine_shape": "hm",
      "name": "variational(gcn).ipynb",
      "provenance": []
    },
    "kernelspec": {
      "display_name": "Python 3",
      "name": "python3"
    },
    "language_info": {
      "name": "python"
    }
  },
  "nbformat": 4,
  "nbformat_minor": 0
}