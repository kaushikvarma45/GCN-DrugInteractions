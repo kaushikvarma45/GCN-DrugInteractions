{
  "cells": [
    {
      "cell_type": "code",
      "execution_count": 1,
      "metadata": {
        "colab": {
          "base_uri": "https://localhost:8080/"
        },
        "id": "y4XuYUZ45w9_",
        "outputId": "80f0da6d-de32-4225-c246-ab8a68cea193"
      },
      "outputs": [
        {
          "output_type": "stream",
          "name": "stdout",
          "text": [
            "1.11.0+cu113\n",
            "\u001b[K     |████████████████████████████████| 7.9 MB 46.6 MB/s \n",
            "\u001b[K     |████████████████████████████████| 3.5 MB 22.3 MB/s \n",
            "\u001b[?25h  Building wheel for torch-geometric (setup.py) ... \u001b[?25l\u001b[?25hdone\n"
          ]
        }
      ],
      "source": [
        "# Install required packages.\n",
        "import os\n",
        "import torch\n",
        "os.environ['TORCH'] = torch.__version__\n",
        "print(torch.__version__)\n",
        "\n",
        "!pip install -q torch-scatter -f https://data.pyg.org/whl/torch-${TORCH}.html\n",
        "!pip install -q torch-sparse -f https://data.pyg.org/whl/torch-${TORCH}.html\n",
        "!pip install -q git+https://github.com/pyg-team/pytorch_geometric.git\n",
        "\n",
        "# Helper function for visualization.\n",
        "%matplotlib inline\n",
        "import networkx as nx\n",
        "import matplotlib.pyplot as plt\n"
      ]
    },
    {
      "cell_type": "code",
      "execution_count": 3,
      "metadata": {
        "id": "reMyhxz40dp5",
        "colab": {
          "base_uri": "https://localhost:8080/"
        },
        "outputId": "763722e8-16b8-4896-cfdb-cd51b27996d9"
      },
      "outputs": [
        {
          "output_type": "stream",
          "name": "stdout",
          "text": [
            "Looking in indexes: https://pypi.org/simple, https://us-python.pkg.dev/colab-wheels/public/simple/\n",
            "Collecting deepchem\n",
            "  Downloading deepchem-2.6.1-py3-none-any.whl (608 kB)\n",
            "\u001b[K     |████████████████████████████████| 608 kB 9.4 MB/s \n",
            "\u001b[?25hRequirement already satisfied: numpy>=1.21 in /usr/local/lib/python3.7/dist-packages (from deepchem) (1.21.6)\n",
            "Collecting rdkit-pypi\n",
            "  Downloading rdkit_pypi-2022.3.3-cp37-cp37m-manylinux_2_17_x86_64.manylinux2014_x86_64.whl (22.7 MB)\n",
            "\u001b[K     |████████████████████████████████| 22.7 MB 1.4 MB/s \n",
            "\u001b[?25hRequirement already satisfied: joblib in /usr/local/lib/python3.7/dist-packages (from deepchem) (1.1.0)\n",
            "Requirement already satisfied: scikit-learn in /usr/local/lib/python3.7/dist-packages (from deepchem) (1.0.2)\n",
            "Requirement already satisfied: pandas in /usr/local/lib/python3.7/dist-packages (from deepchem) (1.3.5)\n",
            "Requirement already satisfied: scipy in /usr/local/lib/python3.7/dist-packages (from deepchem) (1.4.1)\n",
            "Requirement already satisfied: pytz>=2017.3 in /usr/local/lib/python3.7/dist-packages (from pandas->deepchem) (2022.1)\n",
            "Requirement already satisfied: python-dateutil>=2.7.3 in /usr/local/lib/python3.7/dist-packages (from pandas->deepchem) (2.8.2)\n",
            "Requirement already satisfied: six>=1.5 in /usr/local/lib/python3.7/dist-packages (from python-dateutil>=2.7.3->pandas->deepchem) (1.15.0)\n",
            "Requirement already satisfied: Pillow in /usr/local/lib/python3.7/dist-packages (from rdkit-pypi->deepchem) (7.1.2)\n",
            "Requirement already satisfied: threadpoolctl>=2.0.0 in /usr/local/lib/python3.7/dist-packages (from scikit-learn->deepchem) (3.1.0)\n",
            "Installing collected packages: rdkit-pypi, deepchem\n",
            "Successfully installed deepchem-2.6.1 rdkit-pypi-2022.3.3\n"
          ]
        }
      ],
      "source": [
        "pip install deepchem"
      ]
    },
    {
      "cell_type": "code",
      "execution_count": 4,
      "metadata": {
        "id": "IP0tLwINx9ot"
      },
      "outputs": [],
      "source": [
        "import torch\n",
        "import pandas as pd\n",
        "import numpy as np\n",
        "import torch_geometric.transforms as T\n",
        "import torch_geometric\n",
        "from torch_geometric.data import Dataset\n",
        "import numpy as np \n",
        "import os\n",
        "import deepchem as dc\n",
        "import torch.nn as nn\n",
        "from torch.nn import Linear,BatchNorm1d\n",
        "from torch_geometric.nn import GCNConv,GATConv\n",
        "from torch_geometric.nn import BatchNorm\n",
        "from tqdm import tqdm\n",
        "from torch_geometric.data import DataLoader\n",
        "from sklearn.metrics import roc_curve\n",
        "from sklearn.metrics import roc_auc_score\n",
        "from sklearn.metrics import precision_recall_curve\n",
        "from matplotlib import pyplot\n",
        "from sklearn import metrics\n",
        "from sklearn.preprocessing import label_binarize\n",
        "from sklearn.metrics import average_precision_score\n",
        "import seaborn as sns\n",
        "import pandas as pd \n",
        "from sklearn.metrics import f1_score\n",
        "from sklearn.metrics import confusion_matrix\n",
        "import math\n",
        "from sklearn.metrics import accuracy_score\n",
        "import warnings\n",
        "warnings.filterwarnings(\"ignore\")"
      ]
    },
    {
      "cell_type": "code",
      "execution_count": 5,
      "metadata": {
        "colab": {
          "base_uri": "https://localhost:8080/",
          "height": 204
        },
        "id": "CKwOflB6YXiE",
        "outputId": "56a16f7b-f4bd-49df-e425-8e4db2e795c6"
      },
      "outputs": [
        {
          "output_type": "execute_result",
          "data": {
            "text/plain": [
              "   Unnamed: 0 Drug1_ID                                       Drug1_SMILES\n",
              "0           0  DB00706   CCOc1ccccc1OCCN[C@H](C)Cc1ccc(OC)c(S(N)(=O)=O)c1\n",
              "1           1  DB01023    CCOC(=O)C1=C(C)NC(C)=C(C(=O)OC)C1c1cccc(Cl)c1Cl\n",
              "2           2   3849.0  C[C@@H](Oc1ccc2[nH]nc(/C=C/c3cnn(CCO)c3)c2c1)c...\n",
              "3           3   3515.0      COc1ccc2c(c1)c(CC(=O)O)c(C)n2C(=O)c1ccc(I)cc1\n",
              "4           4   6380.0                      O=P(O)(O)OCCCc1c[nH]c2ccccc12"
            ],
            "text/html": [
              "\n",
              "  <div id=\"df-2334bd3c-d354-4e5f-b7c6-7c42da751bfa\">\n",
              "    <div class=\"colab-df-container\">\n",
              "      <div>\n",
              "<style scoped>\n",
              "    .dataframe tbody tr th:only-of-type {\n",
              "        vertical-align: middle;\n",
              "    }\n",
              "\n",
              "    .dataframe tbody tr th {\n",
              "        vertical-align: top;\n",
              "    }\n",
              "\n",
              "    .dataframe thead th {\n",
              "        text-align: right;\n",
              "    }\n",
              "</style>\n",
              "<table border=\"1\" class=\"dataframe\">\n",
              "  <thead>\n",
              "    <tr style=\"text-align: right;\">\n",
              "      <th></th>\n",
              "      <th>Unnamed: 0</th>\n",
              "      <th>Drug1_ID</th>\n",
              "      <th>Drug1_SMILES</th>\n",
              "    </tr>\n",
              "  </thead>\n",
              "  <tbody>\n",
              "    <tr>\n",
              "      <th>0</th>\n",
              "      <td>0</td>\n",
              "      <td>DB00706</td>\n",
              "      <td>CCOc1ccccc1OCCN[C@H](C)Cc1ccc(OC)c(S(N)(=O)=O)c1</td>\n",
              "    </tr>\n",
              "    <tr>\n",
              "      <th>1</th>\n",
              "      <td>1</td>\n",
              "      <td>DB01023</td>\n",
              "      <td>CCOC(=O)C1=C(C)NC(C)=C(C(=O)OC)C1c1cccc(Cl)c1Cl</td>\n",
              "    </tr>\n",
              "    <tr>\n",
              "      <th>2</th>\n",
              "      <td>2</td>\n",
              "      <td>3849.0</td>\n",
              "      <td>C[C@@H](Oc1ccc2[nH]nc(/C=C/c3cnn(CCO)c3)c2c1)c...</td>\n",
              "    </tr>\n",
              "    <tr>\n",
              "      <th>3</th>\n",
              "      <td>3</td>\n",
              "      <td>3515.0</td>\n",
              "      <td>COc1ccc2c(c1)c(CC(=O)O)c(C)n2C(=O)c1ccc(I)cc1</td>\n",
              "    </tr>\n",
              "    <tr>\n",
              "      <th>4</th>\n",
              "      <td>4</td>\n",
              "      <td>6380.0</td>\n",
              "      <td>O=P(O)(O)OCCCc1c[nH]c2ccccc12</td>\n",
              "    </tr>\n",
              "  </tbody>\n",
              "</table>\n",
              "</div>\n",
              "      <button class=\"colab-df-convert\" onclick=\"convertToInteractive('df-2334bd3c-d354-4e5f-b7c6-7c42da751bfa')\"\n",
              "              title=\"Convert this dataframe to an interactive table.\"\n",
              "              style=\"display:none;\">\n",
              "        \n",
              "  <svg xmlns=\"http://www.w3.org/2000/svg\" height=\"24px\"viewBox=\"0 0 24 24\"\n",
              "       width=\"24px\">\n",
              "    <path d=\"M0 0h24v24H0V0z\" fill=\"none\"/>\n",
              "    <path d=\"M18.56 5.44l.94 2.06.94-2.06 2.06-.94-2.06-.94-.94-2.06-.94 2.06-2.06.94zm-11 1L8.5 8.5l.94-2.06 2.06-.94-2.06-.94L8.5 2.5l-.94 2.06-2.06.94zm10 10l.94 2.06.94-2.06 2.06-.94-2.06-.94-.94-2.06-.94 2.06-2.06.94z\"/><path d=\"M17.41 7.96l-1.37-1.37c-.4-.4-.92-.59-1.43-.59-.52 0-1.04.2-1.43.59L10.3 9.45l-7.72 7.72c-.78.78-.78 2.05 0 2.83L4 21.41c.39.39.9.59 1.41.59.51 0 1.02-.2 1.41-.59l7.78-7.78 2.81-2.81c.8-.78.8-2.07 0-2.86zM5.41 20L4 18.59l7.72-7.72 1.47 1.35L5.41 20z\"/>\n",
              "  </svg>\n",
              "      </button>\n",
              "      \n",
              "  <style>\n",
              "    .colab-df-container {\n",
              "      display:flex;\n",
              "      flex-wrap:wrap;\n",
              "      gap: 12px;\n",
              "    }\n",
              "\n",
              "    .colab-df-convert {\n",
              "      background-color: #E8F0FE;\n",
              "      border: none;\n",
              "      border-radius: 50%;\n",
              "      cursor: pointer;\n",
              "      display: none;\n",
              "      fill: #1967D2;\n",
              "      height: 32px;\n",
              "      padding: 0 0 0 0;\n",
              "      width: 32px;\n",
              "    }\n",
              "\n",
              "    .colab-df-convert:hover {\n",
              "      background-color: #E2EBFA;\n",
              "      box-shadow: 0px 1px 2px rgba(60, 64, 67, 0.3), 0px 1px 3px 1px rgba(60, 64, 67, 0.15);\n",
              "      fill: #174EA6;\n",
              "    }\n",
              "\n",
              "    [theme=dark] .colab-df-convert {\n",
              "      background-color: #3B4455;\n",
              "      fill: #D2E3FC;\n",
              "    }\n",
              "\n",
              "    [theme=dark] .colab-df-convert:hover {\n",
              "      background-color: #434B5C;\n",
              "      box-shadow: 0px 1px 3px 1px rgba(0, 0, 0, 0.15);\n",
              "      filter: drop-shadow(0px 1px 2px rgba(0, 0, 0, 0.3));\n",
              "      fill: #FFFFFF;\n",
              "    }\n",
              "  </style>\n",
              "\n",
              "      <script>\n",
              "        const buttonEl =\n",
              "          document.querySelector('#df-2334bd3c-d354-4e5f-b7c6-7c42da751bfa button.colab-df-convert');\n",
              "        buttonEl.style.display =\n",
              "          google.colab.kernel.accessAllowed ? 'block' : 'none';\n",
              "\n",
              "        async function convertToInteractive(key) {\n",
              "          const element = document.querySelector('#df-2334bd3c-d354-4e5f-b7c6-7c42da751bfa');\n",
              "          const dataTable =\n",
              "            await google.colab.kernel.invokeFunction('convertToInteractive',\n",
              "                                                     [key], {});\n",
              "          if (!dataTable) return;\n",
              "\n",
              "          const docLinkHtml = 'Like what you see? Visit the ' +\n",
              "            '<a target=\"_blank\" href=https://colab.research.google.com/notebooks/data_table.ipynb>data table notebook</a>'\n",
              "            + ' to learn more about interactive tables.';\n",
              "          element.innerHTML = '';\n",
              "          dataTable['output_type'] = 'display_data';\n",
              "          await google.colab.output.renderOutput(dataTable, element);\n",
              "          const docLink = document.createElement('div');\n",
              "          docLink.innerHTML = docLinkHtml;\n",
              "          element.appendChild(docLink);\n",
              "        }\n",
              "      </script>\n",
              "    </div>\n",
              "  </div>\n",
              "  "
            ]
          },
          "metadata": {},
          "execution_count": 5
        }
      ],
      "source": [
        "\n",
        "\n",
        "data = pd.read_csv('raw/totalData.csv')\n",
        "\n",
        "data.head() "
      ]
    },
    {
      "cell_type": "code",
      "execution_count": 6,
      "metadata": {
        "colab": {
          "base_uri": "https://localhost:8080/"
        },
        "id": "bGfB5EZPG_Ui",
        "outputId": "fbfa814b-976b-44c7-d61e-baea551c1ad4"
      },
      "outputs": [
        {
          "output_type": "stream",
          "name": "stderr",
          "text": [
            "Processing...\n",
            "  1%|          | 60/10951 [00:00<01:37, 111.21it/s]Failed to featurize datapoint 0, [Mg+2].[OH-].[OH-]. Appending empty array\n",
            "Exception message: zero-size array to reduction operation maximum which has no identity\n",
            "  1%|          | 72/10951 [00:00<01:43, 104.85it/s]Failed to featurize datapoint 0, [Gd+3]. Appending empty array\n",
            "Exception message: More than one atom should be present in the molecule for this featurizer to work.\n"
          ]
        },
        {
          "output_type": "stream",
          "name": "stdout",
          "text": [
            "68\n",
            "76\n"
          ]
        },
        {
          "output_type": "stream",
          "name": "stderr",
          "text": [
            "  1%|▏         | 139/10951 [00:01<02:37, 68.59it/s]Failed to featurize datapoint 0, [81Kr]. Appending empty array\n",
            "Exception message: More than one atom should be present in the molecule for this featurizer to work.\n",
            "  1%|▏         | 163/10951 [00:02<02:16, 79.04it/s]Failed to featurize datapoint 0, [Li+]. Appending empty array\n",
            "Exception message: More than one atom should be present in the molecule for this featurizer to work.\n"
          ]
        },
        {
          "output_type": "stream",
          "name": "stdout",
          "text": [
            "149\n",
            "163\n"
          ]
        },
        {
          "output_type": "stream",
          "name": "stderr",
          "text": [
            "  3%|▎         | 348/10951 [00:04<01:41, 104.53it/s]Failed to featurize datapoint 0, [Al+3].[OH-].[OH-].[OH-]. Appending empty array\n",
            "Exception message: zero-size array to reduction operation maximum which has no identity\n",
            "  3%|▎         | 371/10951 [00:05<01:48, 97.42it/s] "
          ]
        },
        {
          "output_type": "stream",
          "name": "stdout",
          "text": [
            "349\n"
          ]
        },
        {
          "output_type": "stream",
          "name": "stderr",
          "text": [
            "  4%|▍         | 422/10951 [00:05<01:54, 91.66it/s]Failed to featurize datapoint 0, [I-].[K+]. Appending empty array\n",
            "Exception message: zero-size array to reduction operation maximum which has no identity\n",
            "  4%|▍         | 432/10951 [00:05<01:57, 89.70it/s]Failed to featurize datapoint 0, [Sb+5]. Appending empty array\n",
            "Exception message: More than one atom should be present in the molecule for this featurizer to work.\n",
            "  4%|▍         | 442/10951 [00:05<01:56, 89.86it/s]"
          ]
        },
        {
          "output_type": "stream",
          "name": "stdout",
          "text": [
            "420\n",
            "427\n"
          ]
        },
        {
          "output_type": "stream",
          "name": "stderr",
          "text": [
            "  5%|▍         | 494/10951 [00:06<01:51, 93.76it/s]Failed to featurize datapoint 0, [Cr+3]. Appending empty array\n",
            "Exception message: More than one atom should be present in the molecule for this featurizer to work.\n",
            "  5%|▍         | 515/10951 [00:06<01:51, 93.86it/s]"
          ]
        },
        {
          "output_type": "stream",
          "name": "stdout",
          "text": [
            "491\n"
          ]
        },
        {
          "output_type": "stream",
          "name": "stderr",
          "text": [
            "  5%|▌         | 595/10951 [00:07<01:50, 94.03it/s]Failed to featurize datapoint 0, [Fe]. Appending empty array\n",
            "Exception message: More than one atom should be present in the molecule for this featurizer to work.\n",
            "  6%|▌         | 607/10951 [00:07<01:45, 97.87it/s]"
          ]
        },
        {
          "output_type": "stream",
          "name": "stdout",
          "text": [
            "590\n"
          ]
        },
        {
          "output_type": "stream",
          "name": "stderr",
          "text": [
            "  6%|▌         | 629/10951 [00:07<01:50, 93.39it/s]Failed to featurize datapoint 0, [Cl-].[Cl-].[Mg+2]. Appending empty array\n",
            "Exception message: zero-size array to reduction operation maximum which has no identity\n",
            "  6%|▌         | 649/10951 [00:08<01:53, 90.75it/s]"
          ]
        },
        {
          "output_type": "stream",
          "name": "stdout",
          "text": [
            "629\n"
          ]
        },
        {
          "output_type": "stream",
          "name": "stderr",
          "text": [
            "  8%|▊         | 921/10951 [00:13<04:40, 35.78it/s]Failed to featurize datapoint 0, [Mg+2].[O-2]. Appending empty array\n",
            "Exception message: zero-size array to reduction operation maximum which has no identity\n",
            "  9%|▊         | 933/10951 [00:13<03:42, 45.11it/s]"
          ]
        },
        {
          "output_type": "stream",
          "name": "stdout",
          "text": [
            "911\n"
          ]
        },
        {
          "output_type": "stream",
          "name": "stderr",
          "text": [
            "  9%|▊         | 945/10951 [00:13<03:17, 50.59it/s]Failed to featurize datapoint 0, [13NH3]. Appending empty array\n",
            "Exception message: More than one atom should be present in the molecule for this featurizer to work.\n",
            "  9%|▊         | 951/10951 [00:13<03:14, 51.53it/s]"
          ]
        },
        {
          "output_type": "stream",
          "name": "stdout",
          "text": [
            "934\n"
          ]
        },
        {
          "output_type": "stream",
          "name": "stderr",
          "text": [
            "  9%|▉         | 1017/10951 [00:15<03:31, 47.04it/s]Failed to featurize datapoint 0, [Zn+2]. Appending empty array\n",
            "Exception message: More than one atom should be present in the molecule for this featurizer to work.\n",
            "  9%|▉         | 1023/10951 [00:15<03:21, 49.32it/s]"
          ]
        },
        {
          "output_type": "stream",
          "name": "stdout",
          "text": [
            "1008\n"
          ]
        },
        {
          "output_type": "stream",
          "name": "stderr",
          "text": [
            " 11%|█         | 1215/10951 [00:19<03:29, 46.41it/s]Failed to featurize datapoint 0, [I-].[K+]. Appending empty array\n",
            "Exception message: zero-size array to reduction operation maximum which has no identity\n",
            " 11%|█         | 1228/10951 [00:20<03:16, 49.60it/s]"
          ]
        },
        {
          "output_type": "stream",
          "name": "stdout",
          "text": [
            "1205\n"
          ]
        },
        {
          "output_type": "stream",
          "name": "stderr",
          "text": [
            "\r 11%|█▏        | 1236/10951 [00:20<02:50, 57.12it/s]Failed to featurize datapoint 0, [131I-]. Appending empty array\n",
            "Exception message: More than one atom should be present in the molecule for this featurizer to work.\n",
            " 11%|█▏        | 1242/10951 [00:20<03:00, 53.90it/s]"
          ]
        },
        {
          "output_type": "stream",
          "name": "stdout",
          "text": [
            "1224\n"
          ]
        },
        {
          "output_type": "stream",
          "name": "stderr",
          "text": [
            " 12%|█▏        | 1283/10951 [00:21<03:40, 43.76it/s]Failed to featurize datapoint 0, [Cl-].[NH4+]. Appending empty array\n",
            "Exception message: zero-size array to reduction operation maximum which has no identity\n",
            " 12%|█▏        | 1293/10951 [00:21<03:49, 42.02it/s]"
          ]
        },
        {
          "output_type": "stream",
          "name": "stdout",
          "text": [
            "1271\n"
          ]
        },
        {
          "output_type": "stream",
          "name": "stderr",
          "text": [
            " 12%|█▏        | 1317/10951 [00:22<04:10, 38.45it/s]Failed to featurize datapoint 0, [89Sr+2]. Appending empty array\n",
            "Exception message: More than one atom should be present in the molecule for this featurizer to work.\n",
            " 12%|█▏        | 1330/10951 [00:22<03:23, 47.27it/s]"
          ]
        },
        {
          "output_type": "stream",
          "name": "stdout",
          "text": [
            "1304\n"
          ]
        },
        {
          "output_type": "stream",
          "name": "stderr",
          "text": [
            " 14%|█▍        | 1535/10951 [00:29<03:34, 43.83it/s]Failed to featurize datapoint 0, [3He]. Appending empty array\n",
            "Exception message: More than one atom should be present in the molecule for this featurizer to work.\n",
            " 14%|█▍        | 1541/10951 [00:29<04:07, 37.96it/s]"
          ]
        },
        {
          "output_type": "stream",
          "name": "stdout",
          "text": [
            "1518\n"
          ]
        },
        {
          "output_type": "stream",
          "name": "stderr",
          "text": [
            " 14%|█▍        | 1558/10951 [00:29<03:56, 39.69it/s]Failed to featurize datapoint 0, [Cl-].[K+]. Appending empty array\n",
            "Exception message: zero-size array to reduction operation maximum which has no identity\n",
            " 14%|█▍        | 1569/10951 [00:30<03:32, 44.05it/s]"
          ]
        },
        {
          "output_type": "stream",
          "name": "stdout",
          "text": [
            "1545\n"
          ]
        },
        {
          "output_type": "stream",
          "name": "stderr",
          "text": [
            "Failed to featurize datapoint 0, [La+3]. Appending empty array\n",
            "Exception message: More than one atom should be present in the molecule for this featurizer to work.\n",
            " 14%|█▍        | 1574/10951 [00:30<03:56, 39.66it/s]Failed to featurize datapoint 0, [Zn]. Appending empty array\n",
            "Exception message: More than one atom should be present in the molecule for this featurizer to work.\n",
            " 14%|█▍        | 1579/10951 [00:30<04:32, 34.36it/s]"
          ]
        },
        {
          "output_type": "stream",
          "name": "stdout",
          "text": [
            "1554\n",
            "1554\n"
          ]
        },
        {
          "output_type": "stream",
          "name": "stderr",
          "text": [
            " 15%|█▌        | 1673/10951 [00:35<11:29, 13.45it/s]Failed to featurize datapoint 0, [Co]. Appending empty array\n",
            "Exception message: More than one atom should be present in the molecule for this featurizer to work.\n",
            " 15%|█▌        | 1685/10951 [00:35<06:55, 22.32it/s]"
          ]
        },
        {
          "output_type": "stream",
          "name": "stdout",
          "text": [
            "1656\n"
          ]
        },
        {
          "output_type": "stream",
          "name": "stderr",
          "text": [
            " 17%|█▋        | 1832/10951 [00:37<01:57, 77.49it/s]Failed to featurize datapoint 0, O.O.O.O.[98Tc-]. Appending empty array\n",
            "Exception message: zero-size array to reduction operation maximum which has no identity\n",
            " 17%|█▋        | 1851/10951 [00:38<01:48, 83.62it/s]"
          ]
        },
        {
          "output_type": "stream",
          "name": "stdout",
          "text": [
            "1811\n"
          ]
        },
        {
          "output_type": "stream",
          "name": "stderr",
          "text": [
            " 18%|█▊        | 1932/10951 [00:39<01:53, 79.21it/s]Failed to featurize datapoint 0, [Na+]. Appending empty array\n",
            "Exception message: More than one atom should be present in the molecule for this featurizer to work.\n",
            " 18%|█▊        | 1941/10951 [00:39<02:11, 68.48it/s]"
          ]
        },
        {
          "output_type": "stream",
          "name": "stdout",
          "text": [
            "1913\n"
          ]
        },
        {
          "output_type": "stream",
          "name": "stderr",
          "text": [
            " 18%|█▊        | 1959/10951 [00:39<01:57, 76.48it/s]Failed to featurize datapoint 0, [Cl-].[Cl-].[Sn+2]. Appending empty array\n",
            "Exception message: zero-size array to reduction operation maximum which has no identity\n",
            " 18%|█▊        | 1980/10951 [00:39<01:43, 86.77it/s]Failed to featurize datapoint 0, [Mg+2].[OH-].[OH-]. Appending empty array\n",
            "Exception message: zero-size array to reduction operation maximum which has no identity\n"
          ]
        },
        {
          "output_type": "stream",
          "name": "stdout",
          "text": [
            "1942\n",
            "1961\n"
          ]
        },
        {
          "output_type": "stream",
          "name": "stderr",
          "text": [
            " 20%|█▉        | 2142/10951 [00:41<01:36, 91.41it/s] Failed to featurize datapoint 0, O. Appending empty array\n",
            "Exception message: More than one atom should be present in the molecule for this featurizer to work.\n",
            " 20%|█▉        | 2155/10951 [00:41<01:28, 99.29it/s]"
          ]
        },
        {
          "output_type": "stream",
          "name": "stdout",
          "text": [
            "2116\n"
          ]
        },
        {
          "output_type": "stream",
          "name": "stderr",
          "text": [
            " 24%|██▍       | 2662/10951 [00:46<01:21, 101.68it/s]Failed to featurize datapoint 0, [89Sr+2].[Cl-].[Cl-]. Appending empty array\n",
            "Exception message: zero-size array to reduction operation maximum which has no identity\n",
            " 25%|██▍       | 2684/10951 [00:47<01:24, 97.80it/s] "
          ]
        },
        {
          "output_type": "stream",
          "name": "stdout",
          "text": [
            "2643\n"
          ]
        },
        {
          "output_type": "stream",
          "name": "stderr",
          "text": [
            " 26%|██▌       | 2815/10951 [00:48<01:21, 100.20it/s]Failed to featurize datapoint 0, [Cl-].[Cl-].[Zn+2]. Appending empty array\n",
            "Exception message: zero-size array to reduction operation maximum which has no identity\n",
            "Failed to featurize datapoint 0, [Pt]. Appending empty array\n",
            "Exception message: More than one atom should be present in the molecule for this featurizer to work.\n",
            " 26%|██▌       | 2836/10951 [00:48<01:23, 96.86it/s]"
          ]
        },
        {
          "output_type": "stream",
          "name": "stdout",
          "text": [
            "2788\n",
            "2795\n"
          ]
        },
        {
          "output_type": "stream",
          "name": "stderr",
          "text": [
            "Failed to featurize datapoint 0, [223Ra+2]. Appending empty array\n",
            "Exception message: More than one atom should be present in the molecule for this featurizer to work.\n",
            " 26%|██▌       | 2846/10951 [00:48<01:24, 95.56it/s]Failed to featurize datapoint 0, [67Ga+3]. Appending empty array\n",
            "Exception message: More than one atom should be present in the molecule for this featurizer to work.\n",
            " 26%|██▌       | 2859/10951 [00:48<01:24, 95.63it/s]"
          ]
        },
        {
          "output_type": "stream",
          "name": "stdout",
          "text": [
            "2811\n",
            "2815\n"
          ]
        },
        {
          "output_type": "stream",
          "name": "stderr",
          "text": [
            "\r 26%|██▌       | 2869/10951 [00:49<01:29, 90.67it/s]Failed to featurize datapoint 0, [Ne]. Appending empty array\n",
            "Exception message: More than one atom should be present in the molecule for this featurizer to work.\n",
            " 26%|██▋       | 2882/10951 [00:49<01:21, 99.37it/s]"
          ]
        },
        {
          "output_type": "stream",
          "name": "stdout",
          "text": [
            "2848\n"
          ]
        },
        {
          "output_type": "stream",
          "name": "stderr",
          "text": [
            " 29%|██▊       | 3138/10951 [00:52<01:32, 84.78it/s]Failed to featurize datapoint 0, [32PH3]. Appending empty array\n",
            "Exception message: More than one atom should be present in the molecule for this featurizer to work.\n",
            " 29%|██▉       | 3152/10951 [00:52<01:19, 97.67it/s]Failed to featurize datapoint 0, [K+].[OH-]. Appending empty array\n",
            "Exception message: zero-size array to reduction operation maximum which has no identity\n",
            " 29%|██▉       | 3165/10951 [00:52<01:14, 103.98it/s]"
          ]
        },
        {
          "output_type": "stream",
          "name": "stdout",
          "text": [
            "3111\n",
            "3128\n"
          ]
        },
        {
          "output_type": "stream",
          "name": "stderr",
          "text": [
            " 30%|██▉       | 3247/10951 [00:53<01:11, 107.50it/s]Failed to featurize datapoint 0, [Ac]. Appending empty array\n",
            "Exception message: More than one atom should be present in the molecule for this featurizer to work.\n",
            " 30%|██▉       | 3258/10951 [00:53<01:12, 105.61it/s]Failed to featurize datapoint 0, F. Appending empty array\n",
            "Exception message: More than one atom should be present in the molecule for this featurizer to work.\n",
            " 30%|██▉       | 3271/10951 [00:53<01:09, 110.54it/s]"
          ]
        },
        {
          "output_type": "stream",
          "name": "stdout",
          "text": [
            "3212\n",
            "3222\n"
          ]
        },
        {
          "output_type": "stream",
          "name": "stderr",
          "text": [
            " 30%|███       | 3294/10951 [00:53<01:15, 100.96it/s]Failed to featurize datapoint 0, [Al+3].[Al+3].[O-2].[O-2].[O-2]. Appending empty array\n",
            "Exception message: zero-size array to reduction operation maximum which has no identity\n",
            " 30%|███       | 3305/10951 [00:53<01:29, 85.06it/s] "
          ]
        },
        {
          "output_type": "stream",
          "name": "stdout",
          "text": [
            "3258\n"
          ]
        },
        {
          "output_type": "stream",
          "name": "stderr",
          "text": [
            "\r 30%|███       | 3315/10951 [00:53<01:26, 88.17it/s]Failed to featurize datapoint 0, [Cl-]. Appending empty array\n",
            "Exception message: More than one atom should be present in the molecule for this featurizer to work.\n",
            " 30%|███       | 3327/10951 [00:53<01:20, 94.76it/s]"
          ]
        },
        {
          "output_type": "stream",
          "name": "stdout",
          "text": [
            "3283\n"
          ]
        },
        {
          "output_type": "stream",
          "name": "stderr",
          "text": [
            " 32%|███▏      | 3476/10951 [00:55<01:19, 94.16it/s]Failed to featurize datapoint 0, [Ag+]. Appending empty array\n",
            "Exception message: More than one atom should be present in the molecule for this featurizer to work.\n",
            " 32%|███▏      | 3496/10951 [00:55<01:33, 79.84it/s]"
          ]
        },
        {
          "output_type": "stream",
          "name": "stdout",
          "text": [
            "3444\n"
          ]
        },
        {
          "output_type": "stream",
          "name": "stderr",
          "text": [
            " 33%|███▎      | 3577/10951 [00:56<01:24, 86.77it/s] Failed to featurize datapoint 0, [Ca+2]. Appending empty array\n",
            "Exception message: More than one atom should be present in the molecule for this featurizer to work.\n",
            " 33%|███▎      | 3600/10951 [00:56<01:16, 95.93it/s]Failed to featurize datapoint 0, [Cl-].[NH4+]. Appending empty array\n",
            "Exception message: zero-size array to reduction operation maximum which has no identity\n"
          ]
        },
        {
          "output_type": "stream",
          "name": "stdout",
          "text": [
            "3546\n",
            "3563\n"
          ]
        },
        {
          "output_type": "stream",
          "name": "stderr",
          "text": [
            " 34%|███▍      | 3772/10951 [00:59<01:31, 78.71it/s]Failed to featurize datapoint 0, [Al+3].[OH-].[OH-].[OH-]. Appending empty array\n",
            "Exception message: zero-size array to reduction operation maximum which has no identity\n",
            " 35%|███▍      | 3782/10951 [00:59<01:26, 82.80it/s]Failed to featurize datapoint 0, [Ca+2].[Cl-].[Cl-]. Appending empty array\n",
            "Exception message: zero-size array to reduction operation maximum which has no identity\n",
            " 35%|███▍      | 3794/10951 [00:59<01:17, 91.94it/s]"
          ]
        },
        {
          "output_type": "stream",
          "name": "stdout",
          "text": [
            "3733\n",
            "3741\n"
          ]
        },
        {
          "output_type": "stream",
          "name": "stderr",
          "text": [
            " 35%|███▍      | 3827/10951 [00:59<01:17, 92.27it/s]Failed to featurize datapoint 0, [Ta]. Appending empty array\n",
            "Exception message: More than one atom should be present in the molecule for this featurizer to work.\n",
            " 35%|███▌      | 3837/10951 [01:00<01:17, 92.21it/s]Failed to featurize datapoint 0, [Bk]. Appending empty array\n",
            "Exception message: More than one atom should be present in the molecule for this featurizer to work.\n",
            " 35%|███▌      | 3849/10951 [01:00<01:12, 98.58it/s]"
          ]
        },
        {
          "output_type": "stream",
          "name": "stdout",
          "text": [
            "3787\n",
            "3802\n"
          ]
        },
        {
          "output_type": "stream",
          "name": "stderr",
          "text": [
            " 36%|███▋      | 3980/10951 [01:01<01:13, 95.08it/s]Failed to featurize datapoint 0, [Li+].[OH-]. Appending empty array\n",
            "Exception message: zero-size array to reduction operation maximum which has no identity\n",
            " 37%|███▋      | 4000/10951 [01:01<01:20, 85.96it/s]"
          ]
        },
        {
          "output_type": "stream",
          "name": "stdout",
          "text": [
            "3940\n"
          ]
        },
        {
          "output_type": "stream",
          "name": "stderr",
          "text": [
            " 37%|███▋      | 4045/10951 [01:02<02:32, 45.34it/s] Failed to featurize datapoint 0, [Ti]. Appending empty array\n",
            "Exception message: More than one atom should be present in the molecule for this featurizer to work.\n",
            " 37%|███▋      | 4061/10951 [01:02<02:09, 53.00it/s]"
          ]
        },
        {
          "output_type": "stream",
          "name": "stdout",
          "text": [
            "4000\n"
          ]
        },
        {
          "output_type": "stream",
          "name": "stderr",
          "text": [
            "Failed to featurize datapoint 0, [Co+2]. Appending empty array\n",
            "Exception message: More than one atom should be present in the molecule for this featurizer to work.\n",
            " 37%|███▋      | 4080/10951 [01:03<01:40, 68.15it/s]"
          ]
        },
        {
          "output_type": "stream",
          "name": "stdout",
          "text": [
            "4015\n"
          ]
        },
        {
          "output_type": "stream",
          "name": "stderr",
          "text": [
            " 38%|███▊      | 4152/10951 [01:03<01:19, 85.28it/s]Failed to featurize datapoint 0, [Fe]. Appending empty array\n",
            "Exception message: More than one atom should be present in the molecule for this featurizer to work.\n",
            " 38%|███▊      | 4173/10951 [01:04<01:20, 84.14it/s]"
          ]
        },
        {
          "output_type": "stream",
          "name": "stdout",
          "text": [
            "4108\n"
          ]
        },
        {
          "output_type": "stream",
          "name": "stderr",
          "text": [
            "\r 38%|███▊      | 4182/10951 [01:04<01:22, 82.34it/s]Failed to featurize datapoint 0, [Cl-].[Cl-].[Cl-].[Cr+3]. Appending empty array\n",
            "Exception message: zero-size array to reduction operation maximum which has no identity\n",
            " 38%|███▊      | 4202/10951 [01:04<01:14, 90.88it/s]"
          ]
        },
        {
          "output_type": "stream",
          "name": "stdout",
          "text": [
            "4138\n"
          ]
        },
        {
          "output_type": "stream",
          "name": "stderr",
          "text": [
            " 39%|███▉      | 4253/10951 [01:05<01:14, 90.31it/s]Failed to featurize datapoint 0, [99Tc]. Appending empty array\n",
            "Exception message: More than one atom should be present in the molecule for this featurizer to work.\n",
            " 39%|███▉      | 4263/10951 [01:05<01:22, 80.84it/s]"
          ]
        },
        {
          "output_type": "stream",
          "name": "stdout",
          "text": [
            "4206\n"
          ]
        },
        {
          "output_type": "stream",
          "name": "stderr",
          "text": [
            " 41%|████      | 4447/10951 [01:08<02:08, 50.55it/s]Failed to featurize datapoint 0, [131I-]. Appending empty array\n",
            "Exception message: More than one atom should be present in the molecule for this featurizer to work.\n",
            " 41%|████      | 4462/10951 [01:08<01:45, 61.22it/s]"
          ]
        },
        {
          "output_type": "stream",
          "name": "stdout",
          "text": [
            "4395\n"
          ]
        },
        {
          "output_type": "stream",
          "name": "stderr",
          "text": [
            " 41%|████      | 4504/10951 [01:09<01:38, 65.43it/s]Failed to featurize datapoint 0, [Ba]. Appending empty array\n",
            "Exception message: More than one atom should be present in the molecule for this featurizer to work.\n",
            "Failed to featurize datapoint 0, [Mo]. Appending empty array\n",
            "Exception message: More than one atom should be present in the molecule for this featurizer to work.\n",
            " 41%|████▏     | 4522/10951 [01:09<01:28, 72.80it/s]"
          ]
        },
        {
          "output_type": "stream",
          "name": "stdout",
          "text": [
            "4452\n",
            "4453\n"
          ]
        },
        {
          "output_type": "stream",
          "name": "stderr",
          "text": [
            " 43%|████▎     | 4726/10951 [01:11<01:26, 71.55it/s]Failed to featurize datapoint 0, [Cd]. Appending empty array\n",
            "Exception message: More than one atom should be present in the molecule for this featurizer to work.\n"
          ]
        },
        {
          "output_type": "stream",
          "name": "stdout",
          "text": [
            "4676\n"
          ]
        },
        {
          "output_type": "stream",
          "name": "stderr",
          "text": [
            " 43%|████▎     | 4749/10951 [01:12<01:53, 54.49it/s]Failed to featurize datapoint 0, [123I-]. Appending empty array\n",
            "Exception message: More than one atom should be present in the molecule for this featurizer to work.\n",
            " 44%|████▎     | 4773/10951 [01:12<01:22, 74.72it/s]"
          ]
        },
        {
          "output_type": "stream",
          "name": "stdout",
          "text": [
            "4703\n"
          ]
        },
        {
          "output_type": "stream",
          "name": "stderr",
          "text": [
            " 45%|████▌     | 4953/10951 [01:14<01:11, 83.78it/s]Failed to featurize datapoint 0, [P]. Appending empty array\n",
            "Exception message: More than one atom should be present in the molecule for this featurizer to work.\n",
            " 45%|████▌     | 4975/10951 [01:14<01:05, 91.63it/s]"
          ]
        },
        {
          "output_type": "stream",
          "name": "stdout",
          "text": [
            "4899\n"
          ]
        },
        {
          "output_type": "stream",
          "name": "stderr",
          "text": [
            " 46%|████▌     | 5018/10951 [01:15<01:06, 89.74it/s]Failed to featurize datapoint 0, [Li+]. Appending empty array\n",
            "Exception message: More than one atom should be present in the molecule for this featurizer to work.\n",
            " 46%|████▌     | 5041/10951 [01:15<00:58, 101.12it/s]"
          ]
        },
        {
          "output_type": "stream",
          "name": "stdout",
          "text": [
            "4962\n"
          ]
        },
        {
          "output_type": "stream",
          "name": "stderr",
          "text": [
            "\r 46%|████▌     | 5052/10951 [01:15<01:08, 85.75it/s] Failed to featurize datapoint 0, [OH-]. Appending empty array\n",
            "Exception message: More than one atom should be present in the molecule for this featurizer to work.\n",
            " 46%|████▋     | 5077/10951 [01:15<00:56, 104.11it/s]"
          ]
        },
        {
          "output_type": "stream",
          "name": "stdout",
          "text": [
            "4994\n"
          ]
        },
        {
          "output_type": "stream",
          "name": "stderr",
          "text": [
            " 47%|████▋     | 5193/10951 [01:17<01:04, 88.64it/s]Failed to featurize datapoint 0, [Se]. Appending empty array\n",
            "Exception message: More than one atom should be present in the molecule for this featurizer to work.\n",
            " 48%|████▊     | 5214/10951 [01:17<01:04, 89.30it/s]"
          ]
        },
        {
          "output_type": "stream",
          "name": "stdout",
          "text": [
            "5143\n"
          ]
        },
        {
          "output_type": "stream",
          "name": "stderr",
          "text": [
            " 48%|████▊     | 5261/10951 [01:18<01:07, 84.43it/s]Failed to featurize datapoint 0, [I-]. Appending empty array\n",
            "Exception message: More than one atom should be present in the molecule for this featurizer to work.\n",
            " 48%|████▊     | 5283/10951 [01:18<01:00, 93.31it/s]"
          ]
        },
        {
          "output_type": "stream",
          "name": "stdout",
          "text": [
            "5201\n"
          ]
        },
        {
          "output_type": "stream",
          "name": "stderr",
          "text": [
            " 49%|████▉     | 5353/10951 [01:18<00:53, 104.78it/s]Failed to featurize datapoint 0, [Cl-].[Tl+]. Appending empty array\n",
            "Exception message: zero-size array to reduction operation maximum which has no identity\n",
            " 49%|████▉     | 5375/10951 [01:19<00:56, 99.22it/s]Failed to featurize datapoint 0, [18F]. Appending empty array\n",
            "Exception message: More than one atom should be present in the molecule for this featurizer to work.\n"
          ]
        },
        {
          "output_type": "stream",
          "name": "stdout",
          "text": [
            "5296\n",
            "5312\n"
          ]
        },
        {
          "output_type": "stream",
          "name": "stderr",
          "text": [
            " 50%|████▉     | 5444/10951 [01:19<00:54, 100.62it/s]Failed to featurize datapoint 0, [V]. Appending empty array\n",
            "Exception message: More than one atom should be present in the molecule for this featurizer to work.\n",
            " 50%|████▉     | 5466/10951 [01:19<00:53, 102.74it/s]"
          ]
        },
        {
          "output_type": "stream",
          "name": "stdout",
          "text": [
            "5385\n"
          ]
        },
        {
          "output_type": "stream",
          "name": "stderr",
          "text": [
            "Failed to featurize datapoint 0, [82Rb+]. Appending empty array\n",
            "Exception message: More than one atom should be present in the molecule for this featurizer to work.\n",
            " 50%|█████     | 5487/10951 [01:20<01:07, 80.76it/s]"
          ]
        },
        {
          "output_type": "stream",
          "name": "stdout",
          "text": [
            "5406\n"
          ]
        },
        {
          "output_type": "stream",
          "name": "stderr",
          "text": [
            " 51%|█████     | 5548/10951 [01:21<01:07, 80.04it/s]Failed to featurize datapoint 0, [Cl-].[K+]. Appending empty array\n",
            "Exception message: zero-size array to reduction operation maximum which has no identity\n",
            " 51%|█████     | 5558/10951 [01:21<01:03, 84.67it/s]Failed to featurize datapoint 0, [51Cr]. Appending empty array\n",
            "Exception message: More than one atom should be present in the molecule for this featurizer to work.\n",
            " 51%|█████     | 5571/10951 [01:21<00:57, 93.91it/s]"
          ]
        },
        {
          "output_type": "stream",
          "name": "stdout",
          "text": [
            "5487\n",
            "5491\n"
          ]
        },
        {
          "output_type": "stream",
          "name": "stderr",
          "text": [
            "\r 51%|█████     | 5582/10951 [01:21<00:55, 96.79it/s]Failed to featurize datapoint 0, [Sb]. Appending empty array\n",
            "Exception message: More than one atom should be present in the molecule for this featurizer to work.\n",
            " 51%|█████     | 5596/10951 [01:21<00:50, 105.20it/s]Failed to featurize datapoint 0, [177Lu]. Appending empty array\n",
            "Exception message: More than one atom should be present in the molecule for this featurizer to work.\n",
            " 51%|█████     | 5610/10951 [01:21<00:47, 111.95it/s]"
          ]
        },
        {
          "output_type": "stream",
          "name": "stdout",
          "text": [
            "5526\n",
            "5533\n"
          ]
        },
        {
          "output_type": "stream",
          "name": "stderr",
          "text": [
            " 52%|█████▏    | 5667/10951 [01:22<00:50, 104.09it/s]Failed to featurize datapoint 0, [C]. Appending empty array\n",
            "Exception message: More than one atom should be present in the molecule for this featurizer to work.\n",
            " 52%|█████▏    | 5688/10951 [01:22<01:01, 85.55it/s]"
          ]
        },
        {
          "output_type": "stream",
          "name": "stdout",
          "text": [
            "5604\n"
          ]
        },
        {
          "output_type": "stream",
          "name": "stderr",
          "text": [
            " 52%|█████▏    | 5710/10951 [01:22<00:54, 95.89it/s]Failed to featurize datapoint 0, [Rb]. Appending empty array\n",
            "Exception message: More than one atom should be present in the molecule for this featurizer to work.\n",
            " 52%|█████▏    | 5733/10951 [01:22<00:50, 103.83it/s]"
          ]
        },
        {
          "output_type": "stream",
          "name": "stdout",
          "text": [
            "5640\n"
          ]
        },
        {
          "output_type": "stream",
          "name": "stderr",
          "text": [
            " 53%|█████▎    | 5791/10951 [01:23<00:48, 106.85it/s]Failed to featurize datapoint 0, [Zn]. Appending empty array\n",
            "Exception message: More than one atom should be present in the molecule for this featurizer to work.\n",
            " 53%|█████▎    | 5814/10951 [01:23<00:47, 108.14it/s]"
          ]
        },
        {
          "output_type": "stream",
          "name": "stdout",
          "text": [
            "5729\n"
          ]
        },
        {
          "output_type": "stream",
          "name": "stderr",
          "text": [
            " 56%|█████▋    | 6183/10951 [01:30<01:16, 62.54it/s]Failed to featurize datapoint 0, [Fe+3].[O-2].[OH-]. Appending empty array\n",
            "Exception message: zero-size array to reduction operation maximum which has no identity\n",
            " 57%|█████▋    | 6208/10951 [01:30<00:57, 82.77it/s]"
          ]
        },
        {
          "output_type": "stream",
          "name": "stdout",
          "text": [
            "6112\n"
          ]
        },
        {
          "output_type": "stream",
          "name": "stderr",
          "text": [
            " 59%|█████▉    | 6490/10951 [01:36<01:16, 58.65it/s]Failed to featurize datapoint 0, [90Y]. Appending empty array\n",
            "Exception message: More than one atom should be present in the molecule for this featurizer to work.\n",
            " 59%|█████▉    | 6508/10951 [01:37<01:09, 64.01it/s]"
          ]
        },
        {
          "output_type": "stream",
          "name": "stdout",
          "text": [
            "6422\n"
          ]
        },
        {
          "output_type": "stream",
          "name": "stderr",
          "text": [
            " 60%|█████▉    | 6546/10951 [01:37<01:03, 68.94it/s]Failed to featurize datapoint 0, O.O.O.O.O.O.O.O.O.O.O.O.O.O.O.O.O.O.[Mo].[Mo].[Mo].[Mo].[Mo].[Mo].[Mo].[OH-].[OH-].[OH-].[OH-].[OH-].[OH-]. Appending empty array\n",
            "Exception message: zero-size array to reduction operation maximum which has no identity\n",
            " 60%|█████▉    | 6565/10951 [01:37<00:57, 76.63it/s]"
          ]
        },
        {
          "output_type": "stream",
          "name": "stdout",
          "text": [
            "6479\n"
          ]
        },
        {
          "output_type": "stream",
          "name": "stderr",
          "text": [
            "\r 60%|██████    | 6575/10951 [01:37<00:53, 81.87it/s]Failed to featurize datapoint 0, [153Sm]. Appending empty array\n",
            "Exception message: More than one atom should be present in the molecule for this featurizer to work.\n",
            " 60%|██████    | 6594/10951 [01:38<00:52, 83.59it/s]"
          ]
        },
        {
          "output_type": "stream",
          "name": "stdout",
          "text": [
            "6502\n"
          ]
        },
        {
          "output_type": "stream",
          "name": "stderr",
          "text": [
            " 62%|██████▏   | 6779/10951 [01:41<00:37, 110.04it/s]Failed to featurize datapoint 0, [Cr]. Appending empty array\n",
            "Exception message: More than one atom should be present in the molecule for this featurizer to work.\n",
            " 62%|██████▏   | 6791/10951 [01:41<00:39, 105.44it/s]Failed to featurize datapoint 0, [Na+].[Na+].[S-2]. Appending empty array\n",
            "Exception message: zero-size array to reduction operation maximum which has no identity\n"
          ]
        },
        {
          "output_type": "stream",
          "name": "stdout",
          "text": [
            "6707\n",
            "6717\n"
          ]
        },
        {
          "output_type": "stream",
          "name": "stderr",
          "text": [
            " 63%|██████▎   | 6850/10951 [01:42<01:02, 66.00it/s]Failed to featurize datapoint 0, [201Tl+]. Appending empty array\n",
            "Exception message: More than one atom should be present in the molecule for this featurizer to work.\n",
            " 63%|██████▎   | 6860/10951 [01:42<00:56, 72.57it/s]"
          ]
        },
        {
          "output_type": "stream",
          "name": "stdout",
          "text": [
            "6776\n"
          ]
        },
        {
          "output_type": "stream",
          "name": "stderr",
          "text": [
            " 65%|██████▌   | 7126/10951 [01:47<00:56, 67.21it/s]Failed to featurize datapoint 0, [B]. Appending empty array\n",
            "Exception message: More than one atom should be present in the molecule for this featurizer to work.\n",
            " 65%|██████▌   | 7143/10951 [01:47<00:52, 71.93it/s]"
          ]
        },
        {
          "output_type": "stream",
          "name": "stdout",
          "text": [
            "7050\n"
          ]
        },
        {
          "output_type": "stream",
          "name": "stderr",
          "text": [
            "\r 65%|██████▌   | 7156/10951 [01:47<00:44, 85.63it/s]Failed to featurize datapoint 0, O.[Al+3].[Al+3].[Cl-].[OH-].[OH-].[OH-].[OH-].[OH-]. Appending empty array\n",
            "Exception message: zero-size array to reduction operation maximum which has no identity\n",
            " 66%|██████▌   | 7176/10951 [01:47<00:43, 87.46it/s]"
          ]
        },
        {
          "output_type": "stream",
          "name": "stdout",
          "text": [
            "7079\n"
          ]
        },
        {
          "output_type": "stream",
          "name": "stderr",
          "text": [
            " 67%|██████▋   | 7303/10951 [01:49<00:39, 92.75it/s]Failed to featurize datapoint 0, [Mg+2]. Appending empty array\n",
            "Exception message: More than one atom should be present in the molecule for this featurizer to work.\n",
            " 67%|██████▋   | 7326/10951 [01:49<00:37, 95.89it/s]"
          ]
        },
        {
          "output_type": "stream",
          "name": "stdout",
          "text": [
            "7229\n"
          ]
        },
        {
          "output_type": "stream",
          "name": "stderr",
          "text": [
            "\r 67%|██████▋   | 7336/10951 [01:49<00:41, 86.40it/s]Failed to featurize datapoint 0, Br.Br.Br.Br.Br.Br.Br.Br.Br.Br.Br.[Br-].[Ta+].[Ta].[Ta].[Ta].[Ta].[Ta]. Appending empty array\n",
            "Exception message: zero-size array to reduction operation maximum which has no identity\n",
            " 67%|██████▋   | 7357/10951 [01:49<00:45, 79.83it/s]"
          ]
        },
        {
          "output_type": "stream",
          "name": "stdout",
          "text": [
            "7261\n"
          ]
        },
        {
          "output_type": "stream",
          "name": "stderr",
          "text": [
            " 68%|██████▊   | 7412/10951 [01:50<00:39, 88.99it/s]Failed to featurize datapoint 0, [Fe+2].[Fe+3].[Fe+3].[O-2].[O-2].[O-2].[O-2]. Appending empty array\n",
            "Exception message: zero-size array to reduction operation maximum which has no identity\n",
            " 68%|██████▊   | 7433/10951 [01:50<00:38, 91.57it/s]"
          ]
        },
        {
          "output_type": "stream",
          "name": "stdout",
          "text": [
            "7329\n"
          ]
        },
        {
          "output_type": "stream",
          "name": "stderr",
          "text": [
            " 68%|██████▊   | 7453/10951 [01:50<00:40, 86.77it/s]Failed to featurize datapoint 0, [Ca+2].[Cl-].[Cl-]. Appending empty array\n",
            "Exception message: zero-size array to reduction operation maximum which has no identity\n",
            " 68%|██████▊   | 7463/10951 [01:50<00:39, 89.39it/s]"
          ]
        },
        {
          "output_type": "stream",
          "name": "stdout",
          "text": [
            "7370\n"
          ]
        },
        {
          "output_type": "stream",
          "name": "stderr",
          "text": [
            " 69%|██████▊   | 7513/10951 [01:55<04:12, 13.64it/s]Failed to featurize datapoint 0, [Al]. Appending empty array\n",
            "Exception message: More than one atom should be present in the molecule for this featurizer to work.\n",
            " 69%|██████▉   | 7535/10951 [01:55<02:14, 25.31it/s]"
          ]
        },
        {
          "output_type": "stream",
          "name": "stdout",
          "text": [
            "7432\n"
          ]
        },
        {
          "output_type": "stream",
          "name": "stderr",
          "text": [
            "\r 69%|██████▉   | 7544/10951 [01:56<01:51, 30.69it/s]Failed to featurize datapoint 0, [Mn+2]. Appending empty array\n",
            "Exception message: More than one atom should be present in the molecule for this featurizer to work.\n",
            " 69%|██████▉   | 7566/10951 [01:56<01:07, 49.80it/s]"
          ]
        },
        {
          "output_type": "stream",
          "name": "stdout",
          "text": [
            "7466\n"
          ]
        },
        {
          "output_type": "stream",
          "name": "stderr",
          "text": [
            " 69%|██████▉   | 7586/10951 [01:56<00:51, 65.44it/s]Failed to featurize datapoint 0, [223Ra]. Appending empty array\n",
            "Exception message: More than one atom should be present in the molecule for this featurizer to work.\n",
            " 69%|██████▉   | 7596/10951 [01:56<00:46, 71.64it/s]"
          ]
        },
        {
          "output_type": "stream",
          "name": "stdout",
          "text": [
            "7507\n"
          ]
        },
        {
          "output_type": "stream",
          "name": "stderr",
          "text": [
            " 71%|███████   | 7726/10951 [01:58<00:39, 81.80it/s]Failed to featurize datapoint 0, [I-].[Na+]. Appending empty array\n",
            "Exception message: zero-size array to reduction operation maximum which has no identity\n",
            " 71%|███████   | 7746/10951 [01:58<00:36, 87.44it/s]"
          ]
        },
        {
          "output_type": "stream",
          "name": "stdout",
          "text": [
            "7646\n"
          ]
        },
        {
          "output_type": "stream",
          "name": "stderr",
          "text": [
            " 72%|███████▏  | 7846/10951 [02:00<00:47, 64.86it/s]Failed to featurize datapoint 0, [Ag]. Appending empty array\n",
            "Exception message: More than one atom should be present in the molecule for this featurizer to work.\n",
            " 72%|███████▏  | 7868/10951 [02:00<00:40, 76.96it/s]"
          ]
        },
        {
          "output_type": "stream",
          "name": "stdout",
          "text": [
            "7758\n"
          ]
        },
        {
          "output_type": "stream",
          "name": "stderr",
          "text": [
            " 76%|███████▌  | 8275/10951 [02:05<00:35, 75.24it/s]Failed to featurize datapoint 0, [C]. Appending empty array\n",
            "Exception message: More than one atom should be present in the molecule for this featurizer to work.\n",
            " 76%|███████▌  | 8285/10951 [02:05<00:34, 76.43it/s]"
          ]
        },
        {
          "output_type": "stream",
          "name": "stdout",
          "text": [
            "8184\n"
          ]
        },
        {
          "output_type": "stream",
          "name": "stderr",
          "text": [
            " 76%|███████▌  | 8335/10951 [02:06<00:32, 80.68it/s]Failed to featurize datapoint 0, [Si]. Appending empty array\n",
            "Exception message: More than one atom should be present in the molecule for this featurizer to work.\n",
            " 76%|███████▋  | 8356/10951 [02:06<00:28, 89.81it/s]"
          ]
        },
        {
          "output_type": "stream",
          "name": "stdout",
          "text": [
            "8251\n"
          ]
        },
        {
          "output_type": "stream",
          "name": "stderr",
          "text": [
            " 76%|███████▋  | 8377/10951 [02:06<00:28, 91.81it/s]Failed to featurize datapoint 0, O.O.O.O.[Al+3].[Mg+2].[O-2].[O-2].[O-2].[O-2].[O-2].[O-2].[O-2].[O-2].[O-2].[O-2].[OH-].[Si+4].[Si+4].[Si+4].[Si+4]. Appending empty array\n",
            "Exception message: zero-size array to reduction operation maximum which has no identity\n",
            " 77%|███████▋  | 8397/10951 [02:07<00:30, 84.14it/s]"
          ]
        },
        {
          "output_type": "stream",
          "name": "stdout",
          "text": [
            "8289\n"
          ]
        },
        {
          "output_type": "stream",
          "name": "stderr",
          "text": [
            " 77%|███████▋  | 8448/10951 [02:07<00:27, 91.07it/s]Failed to featurize datapoint 0, [Bi+3]. Appending empty array\n",
            "Exception message: More than one atom should be present in the molecule for this featurizer to work.\n",
            " 77%|███████▋  | 8469/10951 [02:07<00:28, 86.49it/s]"
          ]
        },
        {
          "output_type": "stream",
          "name": "stdout",
          "text": [
            "8357\n"
          ]
        },
        {
          "output_type": "stream",
          "name": "stderr",
          "text": [
            "Failed to featurize datapoint 0, [Cl-].[Na+]. Appending empty array\n",
            "Exception message: zero-size array to reduction operation maximum which has no identity\n",
            " 78%|███████▊  | 8494/10951 [02:08<00:23, 103.33it/s]"
          ]
        },
        {
          "output_type": "stream",
          "name": "stdout",
          "text": [
            "8383\n"
          ]
        },
        {
          "output_type": "stream",
          "name": "stderr",
          "text": [
            " 78%|███████▊  | 8542/10951 [02:08<00:23, 104.28it/s]Failed to featurize datapoint 0, [F-].[Na+]. Appending empty array\n",
            "Exception message: zero-size array to reduction operation maximum which has no identity\n",
            " 78%|███████▊  | 8563/10951 [02:08<00:30, 78.79it/s]"
          ]
        },
        {
          "output_type": "stream",
          "name": "stdout",
          "text": [
            "8456\n"
          ]
        },
        {
          "output_type": "stream",
          "name": "stderr",
          "text": [
            " 79%|███████▊  | 8608/10951 [02:09<00:23, 101.16it/s]Failed to featurize datapoint 0, [F-]. Appending empty array\n",
            "Exception message: More than one atom should be present in the molecule for this featurizer to work.\n",
            " 79%|███████▉  | 8632/10951 [02:09<00:21, 108.53it/s]"
          ]
        },
        {
          "output_type": "stream",
          "name": "stdout",
          "text": [
            "8520\n"
          ]
        },
        {
          "output_type": "stream",
          "name": "stderr",
          "text": [
            " 80%|████████  | 8783/10951 [02:11<00:27, 79.42it/s]Failed to featurize datapoint 0, [KH]. Appending empty array\n",
            "Exception message: More than one atom should be present in the molecule for this featurizer to work.\n",
            " 80%|████████  | 8805/10951 [02:11<00:23, 91.26it/s]"
          ]
        },
        {
          "output_type": "stream",
          "name": "stdout",
          "text": [
            "8687\n"
          ]
        },
        {
          "output_type": "stream",
          "name": "stderr",
          "text": [
            " 83%|████████▎ | 9045/10951 [02:14<00:21, 88.78it/s]Failed to featurize datapoint 0, [Cu+2].[O-2]. Appending empty array\n",
            "Exception message: zero-size array to reduction operation maximum which has no identity\n",
            " 83%|████████▎ | 9066/10951 [02:14<00:19, 94.90it/s]"
          ]
        },
        {
          "output_type": "stream",
          "name": "stdout",
          "text": [
            "8954\n"
          ]
        },
        {
          "output_type": "stream",
          "name": "stderr",
          "text": [
            " 83%|████████▎ | 9101/10951 [02:14<00:17, 105.13it/s]Failed to featurize datapoint 0, [Al+3]. Appending empty array\n",
            "Exception message: More than one atom should be present in the molecule for this featurizer to work.\n",
            " 83%|████████▎ | 9112/10951 [02:14<00:18, 101.85it/s]"
          ]
        },
        {
          "output_type": "stream",
          "name": "stdout",
          "text": [
            "9001\n"
          ]
        },
        {
          "output_type": "stream",
          "name": "stderr",
          "text": [
            " 84%|████████▍ | 9173/10951 [02:15<00:20, 86.37it/s]Failed to featurize datapoint 0, [Cu]. Appending empty array\n",
            "Exception message: More than one atom should be present in the molecule for this featurizer to work.\n",
            " 84%|████████▍ | 9182/10951 [02:15<00:21, 82.59it/s]Failed to featurize datapoint 0, [MgH2]. Appending empty array\n",
            "Exception message: More than one atom should be present in the molecule for this featurizer to work.\n"
          ]
        },
        {
          "output_type": "stream",
          "name": "stdout",
          "text": [
            "9073\n",
            "9087\n"
          ]
        },
        {
          "output_type": "stream",
          "name": "stderr",
          "text": [
            " 86%|████████▌ | 9393/10951 [02:17<00:14, 108.30it/s]Failed to featurize datapoint 0, [Fe+2]. Appending empty array\n",
            "Exception message: More than one atom should be present in the molecule for this featurizer to work.\n",
            " 86%|████████▌ | 9415/10951 [02:18<00:14, 104.29it/s]"
          ]
        },
        {
          "output_type": "stream",
          "name": "stdout",
          "text": [
            "9293\n"
          ]
        },
        {
          "output_type": "stream",
          "name": "stderr",
          "text": [
            " 87%|████████▋ | 9493/10951 [02:19<00:17, 82.06it/s]Failed to featurize datapoint 0, [Cu+2]. Appending empty array\n",
            "Exception message: More than one atom should be present in the molecule for this featurizer to work.\n",
            " 87%|████████▋ | 9517/10951 [02:19<00:14, 96.32it/s]"
          ]
        },
        {
          "output_type": "stream",
          "name": "stdout",
          "text": [
            "9399\n"
          ]
        },
        {
          "output_type": "stream",
          "name": "stderr",
          "text": [
            " 87%|████████▋ | 9541/10951 [02:19<00:15, 93.46it/s]Failed to featurize datapoint 0, [Cl-].[Cl-].[Co+2]. Appending empty array\n",
            "Exception message: zero-size array to reduction operation maximum which has no identity\n",
            " 87%|████████▋ | 9553/10951 [02:19<00:14, 99.03it/s]Failed to featurize datapoint 0, [Nb]. Appending empty array\n",
            "Exception message: More than one atom should be present in the molecule for this featurizer to work.\n",
            " 87%|████████▋ | 9564/10951 [02:19<00:14, 97.54it/s]"
          ]
        },
        {
          "output_type": "stream",
          "name": "stdout",
          "text": [
            "9436\n",
            "9454\n"
          ]
        },
        {
          "output_type": "stream",
          "name": "stderr",
          "text": [
            " 88%|████████▊ | 9586/10951 [02:20<00:13, 98.54it/s]Failed to featurize datapoint 0, [Au]. Appending empty array\n",
            "Exception message: More than one atom should be present in the molecule for this featurizer to work.\n",
            " 88%|████████▊ | 9609/10951 [02:20<00:13, 101.90it/s]"
          ]
        },
        {
          "output_type": "stream",
          "name": "stdout",
          "text": [
            "9485\n"
          ]
        },
        {
          "output_type": "stream",
          "name": "stderr",
          "text": [
            " 88%|████████▊ | 9641/10951 [02:20<00:14, 88.35it/s]Failed to featurize datapoint 0, [133Xe]. Appending empty array\n",
            "Exception message: More than one atom should be present in the molecule for this featurizer to work.\n",
            " 88%|████████▊ | 9666/10951 [02:20<00:12, 105.27it/s]"
          ]
        },
        {
          "output_type": "stream",
          "name": "stdout",
          "text": [
            "9541\n"
          ]
        },
        {
          "output_type": "stream",
          "name": "stderr",
          "text": [
            " 89%|████████▉ | 9778/10951 [02:22<00:14, 78.27it/s] Failed to featurize datapoint 0, [Sm]. Appending empty array\n",
            "Exception message: More than one atom should be present in the molecule for this featurizer to work.\n",
            " 89%|████████▉ | 9787/10951 [02:22<00:14, 80.92it/s]"
          ]
        },
        {
          "output_type": "stream",
          "name": "stdout",
          "text": [
            "9669\n"
          ]
        },
        {
          "output_type": "stream",
          "name": "stderr",
          "text": [
            " 90%|████████▉ | 9816/10951 [02:22<00:13, 84.60it/s]Failed to featurize datapoint 0, [Na+].[OH-]. Appending empty array\n",
            "Exception message: zero-size array to reduction operation maximum which has no identity\n",
            " 90%|████████▉ | 9837/10951 [02:22<00:12, 86.45it/s]"
          ]
        },
        {
          "output_type": "stream",
          "name": "stdout",
          "text": [
            "9709\n"
          ]
        },
        {
          "output_type": "stream",
          "name": "stderr",
          "text": [
            " 91%|█████████ | 9961/10951 [02:24<00:11, 89.05it/s] Failed to featurize datapoint 0, [He]. Appending empty array\n",
            "Exception message: More than one atom should be present in the molecule for this featurizer to work.\n",
            " 91%|█████████ | 9971/10951 [02:24<00:11, 83.06it/s]Failed to featurize datapoint 0, [Cl-].[Cl-].[Mg+2]. Appending empty array\n",
            "Exception message: zero-size array to reduction operation maximum which has no identity\n",
            "Failed to featurize datapoint 0, [Mg+2].[O-2]. Appending empty array\n",
            "Exception message: zero-size array to reduction operation maximum which has no identity\n",
            " 91%|█████████ | 9982/10951 [02:24<00:10, 88.84it/s]"
          ]
        },
        {
          "output_type": "stream",
          "name": "stdout",
          "text": [
            "9857\n",
            "9864\n",
            "9866\n"
          ]
        },
        {
          "output_type": "stream",
          "name": "stderr",
          "text": [
            " 93%|█████████▎| 10146/10951 [02:26<00:08, 93.07it/s]Failed to featurize datapoint 0, [Fe+3]. Appending empty array\n",
            "Exception message: More than one atom should be present in the molecule for this featurizer to work.\n",
            " 93%|█████████▎| 10167/10951 [02:26<00:08, 93.64it/s]"
          ]
        },
        {
          "output_type": "stream",
          "name": "stdout",
          "text": [
            "10038\n"
          ]
        },
        {
          "output_type": "stream",
          "name": "stderr",
          "text": [
            " 93%|█████████▎| 10190/10951 [02:26<00:07, 100.26it/s]Failed to featurize datapoint 0, [111In+3]. Appending empty array\n",
            "Exception message: More than one atom should be present in the molecule for this featurizer to work.\n",
            "Failed to featurize datapoint 0, [67Ga+3].[Cl-].[Cl-].[Cl-]. Appending empty array\n",
            "Exception message: zero-size array to reduction operation maximum which has no identity\n",
            " 93%|█████████▎| 10203/10951 [02:26<00:06, 108.34it/s]"
          ]
        },
        {
          "output_type": "stream",
          "name": "stdout",
          "text": [
            "10077\n",
            "10082\n"
          ]
        },
        {
          "output_type": "stream",
          "name": "stderr",
          "text": [
            "\r 93%|█████████▎| 10215/10951 [02:26<00:08, 81.94it/s] Failed to featurize datapoint 0, [Ni+2]. Appending empty array\n",
            "Exception message: More than one atom should be present in the molecule for this featurizer to work.\n",
            "Failed to featurize datapoint 0, [Se]. Appending empty array\n",
            "Exception message: More than one atom should be present in the molecule for this featurizer to work.\n",
            " 93%|█████████▎| 10236/10951 [02:27<00:08, 88.92it/s]"
          ]
        },
        {
          "output_type": "stream",
          "name": "stdout",
          "text": [
            "10101\n",
            "10103\n"
          ]
        },
        {
          "output_type": "stream",
          "name": "stderr",
          "text": [
            "\r 94%|█████████▎| 10246/10951 [02:27<00:08, 87.47it/s]Failed to featurize datapoint 0, [Ca]. Appending empty array\n",
            "Exception message: More than one atom should be present in the molecule for this featurizer to work.\n",
            " 94%|█████████▍| 10268/10951 [02:27<00:07, 85.85it/s]"
          ]
        },
        {
          "output_type": "stream",
          "name": "stdout",
          "text": [
            "10138\n"
          ]
        },
        {
          "output_type": "stream",
          "name": "stderr",
          "text": [
            "Failed to featurize datapoint 0, [K+]. Appending empty array\n",
            "Exception message: More than one atom should be present in the molecule for this featurizer to work.\n",
            " 94%|█████████▍| 10288/10951 [02:27<00:07, 86.67it/s]"
          ]
        },
        {
          "output_type": "stream",
          "name": "stdout",
          "text": [
            "10154\n"
          ]
        },
        {
          "output_type": "stream",
          "name": "stderr",
          "text": [
            " 95%|█████████▌| 10410/10951 [02:29<00:08, 65.46it/s]Failed to featurize datapoint 0, [Ga+3]. Appending empty array\n",
            "Exception message: More than one atom should be present in the molecule for this featurizer to work.\n",
            " 95%|█████████▌| 10429/10951 [02:29<00:06, 77.92it/s]"
          ]
        },
        {
          "output_type": "stream",
          "name": "stdout",
          "text": [
            "10295\n"
          ]
        },
        {
          "output_type": "stream",
          "name": "stderr",
          "text": [
            " 95%|█████████▌| 10450/10951 [02:29<00:08, 58.48it/s]Failed to featurize datapoint 0, [Gd]. Appending empty array\n",
            "Exception message: More than one atom should be present in the molecule for this featurizer to work.\n",
            " 96%|█████████▌| 10470/10951 [02:30<00:06, 72.85it/s]"
          ]
        },
        {
          "output_type": "stream",
          "name": "stdout",
          "text": [
            "10328\n"
          ]
        },
        {
          "output_type": "stream",
          "name": "stderr",
          "text": [
            " 96%|█████████▌| 10492/10951 [02:30<00:05, 87.63it/s]Failed to featurize datapoint 0, O.O.O.O.[Mo+6].[Mo+6].[Mo+6].[Mo+6].[Mo+6].[Mo+6].[Mo+6].[NH4+].[NH4+].[NH4+].[NH4+].[NH4+].[NH4+].[O-2].[O-2].[O-2].[O-2].[O-2].[O-2].[O-2].[O-2].[O-2].[O-2].[O-2].[O-2].[O-2].[O-2].[O-2].[O-2].[O-2].[O-2].[O-2].[O-2].[O-2].[O-2].[O-2].[O-2]. Appending empty array\n",
            "Exception message: zero-size array to reduction operation maximum which has no identity\n",
            " 96%|█████████▌| 10502/10951 [02:30<00:05, 88.93it/s]Failed to featurize datapoint 0, [Mg+2].[O-2].[O-2].[O-2].[Si+4]. Appending empty array\n",
            "Exception message: zero-size array to reduction operation maximum which has no identity\n",
            " 96%|█████████▌| 10512/10951 [02:30<00:04, 88.29it/s]"
          ]
        },
        {
          "output_type": "stream",
          "name": "stdout",
          "text": [
            "10370\n",
            "10383\n"
          ]
        },
        {
          "output_type": "stream",
          "name": "stderr",
          "text": [
            " 97%|█████████▋| 10650/10951 [02:32<00:03, 82.35it/s]Failed to featurize datapoint 0, [18F-]. Appending empty array\n",
            "Exception message: More than one atom should be present in the molecule for this featurizer to work.\n",
            " 97%|█████████▋| 10675/10951 [02:32<00:02, 100.79it/s]"
          ]
        },
        {
          "output_type": "stream",
          "name": "stdout",
          "text": [
            "10529\n"
          ]
        },
        {
          "output_type": "stream",
          "name": "stderr",
          "text": [
            " 98%|█████████▊| 10753/10951 [02:33<00:02, 78.14it/s]Failed to featurize datapoint 0, [Au+]. Appending empty array\n",
            "Exception message: More than one atom should be present in the molecule for this featurizer to work.\n",
            " 98%|█████████▊| 10767/10951 [02:33<00:02, 86.15it/s]"
          ]
        },
        {
          "output_type": "stream",
          "name": "stdout",
          "text": [
            "10627\n"
          ]
        },
        {
          "output_type": "stream",
          "name": "stderr",
          "text": [
            " 99%|█████████▉| 10838/10951 [02:34<00:01, 88.17it/s]Failed to featurize datapoint 0, [In]. Appending empty array\n",
            "Exception message: More than one atom should be present in the molecule for this featurizer to work.\n",
            " 99%|█████████▉| 10849/10951 [02:34<00:01, 66.09it/s]"
          ]
        },
        {
          "output_type": "stream",
          "name": "stdout",
          "text": [
            "10718\n"
          ]
        },
        {
          "output_type": "stream",
          "name": "stderr",
          "text": [
            "100%|█████████▉| 10897/10951 [02:34<00:00, 92.54it/s]Failed to featurize datapoint 0, [Cl-].[Cl-].[Sr+2]. Appending empty array\n",
            "Exception message: zero-size array to reduction operation maximum which has no identity\n",
            "100%|█████████▉| 10908/10951 [02:34<00:00, 94.00it/s]Failed to featurize datapoint 0, [111In]. Appending empty array\n",
            "Exception message: More than one atom should be present in the molecule for this featurizer to work.\n"
          ]
        },
        {
          "output_type": "stream",
          "name": "stdout",
          "text": [
            "10778\n",
            "10782\n"
          ]
        },
        {
          "output_type": "stream",
          "name": "stderr",
          "text": [
            "\r100%|█████████▉| 10918/10951 [02:35<00:00, 74.26it/s]Failed to featurize datapoint 0, [Cl-].[Na+]. Appending empty array\n",
            "Exception message: zero-size array to reduction operation maximum which has no identity\n",
            "100%|█████████▉| 10930/10951 [02:35<00:00, 83.56it/s]"
          ]
        },
        {
          "output_type": "stream",
          "name": "stdout",
          "text": [
            "10789\n"
          ]
        },
        {
          "output_type": "stream",
          "name": "stderr",
          "text": [
            "100%|██████████| 10951/10951 [02:36<00:00, 70.06it/s]\n",
            "Done!\n"
          ]
        }
      ],
      "source": [
        "\n",
        "remove = []\n",
        "\n",
        "class MoleculeDataset(Dataset):\n",
        "    def __init__(self, root, filename, test=False, transform=None, pre_transform=None):\n",
        "        \"\"\"\n",
        "        root = Where the dataset should be stored. This folder is split\n",
        "        into raw_dir (downloaded dataset) and processed_dir (processed data). \n",
        "        \"\"\"\n",
        "        self.test = test\n",
        "        self.filename = filename\n",
        "        self.sz = 0\n",
        "        super(MoleculeDataset, self).__init__(root, transform, pre_transform)\n",
        "        \n",
        "    @property\n",
        "    def raw_file_names(self):\n",
        "        \"\"\" If this file exists in raw_dir, the download is not triggered.\n",
        "            (The download func. is not implemented here)  \n",
        "        \"\"\"\n",
        "        return self.filename\n",
        "\n",
        "    @property\n",
        "    def processed_file_names(self):\n",
        "        \"\"\" If these files are found in raw_dir, processing is skipped\"\"\"\n",
        "        self.data = pd.read_csv(self.raw_paths[0]).reset_index()\n",
        "\n",
        "        if self.test:\n",
        "            return [f'data_test_{i}.pt' for i in list(self.data.index)]\n",
        "        else:\n",
        "            return [f'data_{i}.pt' for i in list(self.data.index)]\n",
        "        \n",
        "\n",
        "    def download(self):\n",
        "        pass\n",
        "\n",
        "    def process(self):\n",
        "        self.data = pd.read_csv(self.raw_paths[0]).reset_index()\n",
        "        featurizer = dc.feat.MolGraphConvFeaturizer(use_edges=True)\n",
        "        count = 0\n",
        "        for index, mol in tqdm(self.data.iterrows(), total=self.data.shape[0]):\n",
        "            # Featurize molecule\n",
        "            if type(mol[\"Drug1_SMILES\"])==float:\n",
        "              remove.append(mol[\"Drug1_ID\"])\n",
        "              continue\n",
        "            f = featurizer.featurize(mol[\"Drug1_SMILES\"])\n",
        "            if not f : \n",
        "              remove.append(mol[\"Drug1_ID\"])\n",
        "              print(count)\n",
        "              continue\n",
        "            data = f[0].to_pyg_graph()\n",
        "            data.y = 1\n",
        "            data.smiles = mol[\"Drug1_SMILES\"]\n",
        "            data.id = mol[\"Drug1_ID\"]\n",
        "            if self.test:\n",
        "                torch.save(data, \n",
        "                    os.path.join(self.processed_dir, \n",
        "                                f'data_test_{count}.pt'))\n",
        "            else:\n",
        "                torch.save(data, \n",
        "                    os.path.join(self.processed_dir, \n",
        "                                f'data_{count}.pt'))\n",
        "            count+=1\n",
        "        self.sz = count\n",
        "\n",
        "    def _get_label(self, label):\n",
        "        label = np.asarray([label])\n",
        "        return torch.tensor(label, dtype=torch.int64)\n",
        "\n",
        "    def len(self):\n",
        "        return self.sz\n",
        "        #return self.data.shape[0]\n",
        "\n",
        "    def get(self, idx):\n",
        "        \"\"\" - Equivalent to __getitem__ in pytorch\n",
        "            - Is not needed for PyG's InMemoryDataset\n",
        "        \"\"\"\n",
        "        if self.test:\n",
        "            data = torch.load(os.path.join(self.processed_dir, \n",
        "                                 f'data_test_{idx}.pt'))\n",
        "        else:\n",
        "            data = torch.load(os.path.join(self.processed_dir, \n",
        "                                 f'data_{idx}.pt'))        \n",
        "        return data\n",
        "\n",
        "encoder_set = MoleculeDataset(\"\",\"totalData.csv\")"
      ]
    },
    {
      "cell_type": "code",
      "execution_count": 7,
      "metadata": {
        "colab": {
          "base_uri": "https://localhost:8080/"
        },
        "id": "4z9BanO9FdDi",
        "outputId": "a47b585c-08bc-445d-9435-3b8b0995a870"
      },
      "outputs": [
        {
          "output_type": "execute_result",
          "data": {
            "text/plain": [
              "device(type='cuda', index=0)"
            ]
          },
          "metadata": {},
          "execution_count": 7
        }
      ],
      "source": [
        "device = torch.device(\"cuda:0\" if torch.cuda.is_available() else \"cpu\")\n",
        "device"
      ]
    },
    {
      "cell_type": "code",
      "execution_count": 8,
      "metadata": {
        "colab": {
          "base_uri": "https://localhost:8080/"
        },
        "id": "vRR5eksOs07x",
        "outputId": "067f6850-ff78-475b-d642-90721a103eba"
      },
      "outputs": [
        {
          "output_type": "stream",
          "name": "stdout",
          "text": [
            "GVAE(\n",
            "  (conv1): GCNConv(30, 64)\n",
            "  (bn1): BatchNorm(64)\n",
            "  (conv2): GCNConv(64, 64)\n",
            "  (bn2): BatchNorm(64)\n",
            "  (conv3): GCNConv(64, 64)\n",
            "  (bn3): BatchNorm(64)\n",
            "  (mu_transform): Linear(in_features=64, out_features=8, bias=True)\n",
            "  (logvar_transform): Linear(in_features=64, out_features=8, bias=True)\n",
            "  (decoder_dense_3): Linear(in_features=16, out_features=64, bias=True)\n",
            "  (decoder_bn_3): BatchNorm1d(64, eps=1e-05, momentum=0.1, affine=True, track_running_stats=True)\n",
            "  (decoder_dense_4): Linear(in_features=64, out_features=1, bias=True)\n",
            ")\n",
            "Number of parameters:  13009\n"
          ]
        }
      ],
      "source": [
        "class GVAE(nn.Module):\n",
        "    def __init__(self, feature_size, edge_size):\n",
        "        super(GVAE, self).__init__()\n",
        "        self.encoder_embedding_size = 64\n",
        "        self.edge_dim = edge_size\n",
        "        self.latent_embedding_size = 8\n",
        "        self.decoder_hidden_neurons = 64\n",
        "        decoder_size = 64\n",
        "\n",
        "        # Encoder layers\n",
        "        self.conv1 = GCNConv(feature_size, self.encoder_embedding_size)\n",
        "        #self.conv1 = GATConv(feature_size, self.encoder_embedding_size,edge_dim=self.edge_dim)\n",
        "        self.bn1 = BatchNorm(self.encoder_embedding_size)\n",
        "        self.conv2 = GCNConv(self.encoder_embedding_size, self.encoder_embedding_size)\n",
        "        self.bn2 = BatchNorm(self.encoder_embedding_size)\n",
        "        self.conv3 = GCNConv(self.encoder_embedding_size, self.encoder_embedding_size)\n",
        "        self.bn3 = BatchNorm(self.encoder_embedding_size)\n",
        "        \n",
        "\n",
        "        # Latent transform layers\n",
        "        self.mu_transform = Linear(self.encoder_embedding_size, \n",
        "                                            self.latent_embedding_size)\n",
        "        self.logvar_transform = Linear(self.encoder_embedding_size, \n",
        "                                            self.latent_embedding_size)\n",
        "\n",
        "        \n",
        "\n",
        "        self.decoder_dense_3 = Linear(self.latent_embedding_size*2, decoder_size)\n",
        "        self.decoder_bn_3 = BatchNorm1d(decoder_size)\n",
        "        self.decoder_dense_4 = Linear(decoder_size, 1)\n",
        "        \n",
        "\n",
        "    def encode(self, x, edge_attr, edge_index, batch_index):\n",
        "        # GNN layers\n",
        "        x = self.conv1(x, edge_index).relu()\n",
        "        # x = self.conv1(x, edge_index, edge_attr).relu()\n",
        "        x = self.bn1(x)\n",
        "        x = self.conv2(x, edge_index).relu()\n",
        "        x = self.bn2(x)\n",
        "        x = self.conv3(x, edge_index).relu()\n",
        "        x = self.bn3(x)\n",
        "        \n",
        "        # Latent transform layers\n",
        "        mu = self.mu_transform(x)\n",
        "        logvar = self.logvar_transform(x)\n",
        "        return mu, logvar\n",
        "\n",
        "\n",
        "    def decode(self, z, batch_index):\n",
        "        \"\"\"\n",
        "        Takes n latent vectors (one per node) and decodes them\n",
        "        into the upper triangular part of their adjacency matrix.\n",
        "        \"\"\"\n",
        "        inputs = []\n",
        "\n",
        "        # Iterate over molecules in batch\n",
        "        for graph_id in torch.unique(batch_index):\n",
        "            graph_mask = torch.eq(batch_index, graph_id)\n",
        "            graph_z = z[graph_mask]\n",
        "\n",
        "            # Get indices for triangular upper part of adjacency matrix\n",
        "            edge_indices = torch.triu_indices(graph_z.shape[0], graph_z.shape[0], offset=1)\n",
        "\n",
        "            # Repeat indices to match dim of latent codes\n",
        "            dim = self.latent_embedding_size\n",
        "            source_indices = torch.reshape(edge_indices[0].repeat_interleave(dim), (edge_indices.shape[1], dim))\n",
        "            target_indices = torch.reshape(edge_indices[1].repeat_interleave(dim), (edge_indices.shape[1], dim))\n",
        "\n",
        "            # Gather features\n",
        "            sources_feats = torch.gather(graph_z, 0, source_indices.to(device))\n",
        "            target_feats = torch.gather(graph_z, 0, target_indices.to(device))\n",
        "\n",
        "            # Concatenate inputs of all source and target nodes\n",
        "            graph_inputs = torch.cat([sources_feats, target_feats], axis=1)\n",
        "            inputs.append(graph_inputs)\n",
        "\n",
        "        # Concatenate all inputs of all graphs in the batch\n",
        "        inputs = torch.cat(inputs)\n",
        "\n",
        "       \n",
        "        x = self.decoder_dense_3(inputs).relu()\n",
        "        x = self.decoder_bn_3(x)\n",
        "        edge_logits = self.decoder_dense_4(x)\n",
        "   \n",
        "\n",
        "        return edge_logits\n",
        "\n",
        "\n",
        "    def reparameterize(self, mu, logvar):\n",
        "        \"\"\"\n",
        "        The reparametrization trick is required to \n",
        "        backpropagate through the network.\n",
        "        We cannot backpropagate through a \"sampled\"\n",
        "        node as it is not deterministic.\n",
        "        The trick is to separate the randomness\n",
        "        from the network.\n",
        "        \"\"\"\n",
        "        if self.training:\n",
        "            # Get standard deviation\n",
        "            std = torch.exp(logvar)\n",
        "            # Returns random numbers from a normal distribution\n",
        "            eps = torch.randn_like(std)\n",
        "            # Return sampled values\n",
        "            return eps.mul(std).add_(mu)\n",
        "        else:\n",
        "            return mu\n",
        "\n",
        "    def forward(self, x, edge_attr, edge_index, batch_index):\n",
        "        # Encode the molecule\n",
        "        mu, logvar = self.encode(x, edge_attr, edge_index, batch_index)\n",
        "        # Sample latent vector (per atom)\n",
        "        z = self.reparameterize(mu, logvar)\n",
        "        # Decode latent vector into original molecule\n",
        "        triu_logits = self.decode(z, batch_index)\n",
        "\n",
        "        return triu_logits, mu, logvar\n",
        "\n",
        "    \n",
        "   \n",
        "model = GVAE(feature_size=encoder_set[0].x.shape[1],edge_size=encoder_set[0].edge_attr.shape[1])\n",
        "print(model)\n",
        "print(\"Number of parameters: \", sum(p.numel() for p in model.parameters()))"
      ]
    },
    {
      "cell_type": "code",
      "execution_count": 9,
      "metadata": {
        "id": "AA-p2HHsLPBG"
      },
      "outputs": [],
      "source": [
        "from torch_geometric.data import DataLoader\n",
        "\n",
        "data_size = len(encoder_set)\n",
        "NUM_GRAPHS_PER_BATCH = 64\n",
        "frac = 0.5\n",
        "train_loader = DataLoader(encoder_set[:int(data_size * frac)], \n",
        "                    batch_size=NUM_GRAPHS_PER_BATCH, shuffle=True)\n",
        "test_loader = DataLoader(encoder_set[int(data_size * frac):], \n",
        "                         batch_size=NUM_GRAPHS_PER_BATCH, shuffle=True)\n",
        "\n",
        "\n",
        "model = model.to(device)\n"
      ]
    },
    {
      "cell_type": "code",
      "execution_count": 10,
      "metadata": {
        "id": "Bs7VvcwZgI11"
      },
      "outputs": [],
      "source": [
        "from torch_geometric.utils import to_dense_adj\n",
        "\n",
        "\n",
        "\n",
        "\n",
        "def kl_loss(mu=None, logstd=None):\n",
        "    \"\"\"\n",
        "    Closed formula of the KL divergence for normal distributions\n",
        "    \"\"\"\n",
        "    MAX_LOGSTD = 10\n",
        "    logstd =  logstd.clamp(max=MAX_LOGSTD)\n",
        "    kl_div = -0.5 * torch.mean(torch.sum(1 + 2 * logstd - mu**2 - logstd.exp()**2, dim=1))\n",
        "\n",
        "    # Limit numeric errors\n",
        "    kl_div = kl_div.clamp(max=1000)\n",
        "    return kl_div\n",
        "\n",
        "def slice_graph_targets(graph_id, batch_targets, batch_index):\n",
        "    # Create mask for nodes of this graph id\n",
        "    graph_mask = torch.eq(batch_index, graph_id)\n",
        "    # Row slice and column slice batch targets to get graph targets\n",
        "    graph_targets = batch_targets[graph_mask][:, graph_mask]\n",
        "    # Get triangular upper part of adjacency matrix for targets\n",
        "    triu_indices = torch.triu_indices(graph_targets.shape[0], graph_targets.shape[0], offset=1)\n",
        "    triu_mask = torch.squeeze(to_dense_adj(triu_indices)).bool()\n",
        "    return graph_targets[triu_mask]\n",
        "\n",
        "def slice_graph_predictions(triu_logits, graph_triu_size, start_point):\n",
        "\n",
        "    graph_logits_triu = torch.squeeze(triu_logits[start_point:start_point + graph_triu_size])  \n",
        "    return graph_logits_triu\n",
        "\n",
        "def slice_node_features(graph_id, node_features, batch_index):\n",
        "    # Create mask for nodes of this graph id\n",
        "    graph_mask = torch.eq(batch_index, graph_id)\n",
        "    graph_node_features = node_features[graph_mask]\n",
        "    return graph_node_features\n",
        "\n",
        "  \n",
        "\n",
        "def gvae_loss(triu_logits, edge_index, mu, logvar, batch_index, kl_beta):\n",
        "    \"\"\"\n",
        "    Calculates a weighted ELBO loss for a batch of graphs for the graph\n",
        "    variational autoencoder model.\n",
        "    \"\"\"\n",
        "    # Convert target edge index to dense adjacency matrix\n",
        "    batch_targets = torch.squeeze(to_dense_adj(edge_index))\n",
        "\n",
        "    # Reconstruction loss per graph\n",
        "    batch_recon_loss = []\n",
        "    batch_node_counter = 0\n",
        "\n",
        "    # Loop over graphs in this batch\n",
        "    for graph_id in torch.unique(batch_index):\n",
        "        # Get upper triangular targets for this graph from the whole batch\n",
        "        graph_targets_triu = slice_graph_targets(graph_id, \n",
        "                                                batch_targets, \n",
        "                                                batch_index)\n",
        "\n",
        "        # Get upper triangular predictions for this graph from the whole batch\n",
        "        graph_predictions_triu = slice_graph_predictions(triu_logits, \n",
        "                                                        graph_targets_triu.shape[0], \n",
        "                                                        batch_node_counter)\n",
        "        \n",
        "        # Update counter to the index of the next graph\n",
        "        batch_node_counter = batch_node_counter + graph_targets_triu.shape[0]\n",
        "\n",
        "        # Calculate edge-weighted binary cross entropy\n",
        "        weight = graph_targets_triu.shape[0]/sum(graph_targets_triu)\n",
        "        bce = torch.nn.BCEWithLogitsLoss(pos_weight=weight).to(device)\n",
        "        graph_recon_loss = bce(graph_predictions_triu.view(-1), graph_targets_triu.view(-1))\n",
        "        batch_recon_loss.append(graph_recon_loss)   \n",
        "\n",
        "    # Take average of all losses\n",
        "    num_graphs = torch.unique(batch_index).shape[0]\n",
        "    batch_recon_loss = sum(batch_recon_loss) / num_graphs\n",
        "    \n",
        "    # KL Divergence\n",
        "    kl_divergence = kl_loss(mu, logvar)\n",
        "\n",
        "    return batch_recon_loss + kl_beta * kl_divergence, kl_divergence\n",
        "\n",
        "\n",
        "def reconstruction_accuracy(triu_logits, edge_index, batch_index, node_features):\n",
        "    # Convert edge index to adjacency matrix\n",
        "    batch_targets = torch.squeeze(to_dense_adj(edge_index))\n",
        "    # Store target trius\n",
        "    batch_targets_triu = []\n",
        "    # Iterate over batch and collect each of the trius\n",
        "    batch_node_counter = 0\n",
        "    num_recon = 0\n",
        "    for graph_id in torch.unique(batch_index):\n",
        "        # Get triu parts for this graph\n",
        "        graph_targets_triu = slice_graph_targets(graph_id, \n",
        "                                                batch_targets, \n",
        "                                                batch_index)\n",
        "        graph_predictions_triu = slice_graph_predictions(triu_logits, \n",
        "                                                        graph_targets_triu.shape[0], \n",
        "                                                        batch_node_counter)\n",
        "\n",
        "        # Update counter to the index of the next graph\n",
        "        batch_node_counter = batch_node_counter + graph_targets_triu.shape[0]\n",
        "\n",
        "        # Slice node features of this batch\n",
        "        graph_node_features = slice_node_features(graph_id, node_features, batch_index)\n",
        "\n",
        "        # Check if graph is successfully reconstructed\n",
        "        num_nodes = sum(torch.eq(batch_index, graph_id))\n",
        "      \n",
        "        batch_targets_triu.append(graph_targets_triu)\n",
        "        \n",
        "    batch_targets_triu = torch.cat(batch_targets_triu).detach()\n",
        "    triu_discrete = torch.squeeze(torch.tensor(torch.sigmoid(triu_logits) > 0.5, dtype=torch.int32))\n",
        "    acc = torch.true_divide(torch.sum(batch_targets_triu==triu_discrete), batch_targets_triu.shape[0]) \n",
        "    return acc.detach().cpu().numpy(), num_recon\n",
        "    \n",
        "\n",
        "\n"
      ]
    },
    {
      "cell_type": "code",
      "execution_count": 11,
      "metadata": {
        "id": "HPQGg31JLT0f"
      },
      "outputs": [],
      "source": [
        "loss_fn = gvae_loss\n",
        "optimizer = torch.optim.Adam(model.parameters(), lr=0.002)\n",
        "kl_beta = 0.005"
      ]
    },
    {
      "cell_type": "code",
      "execution_count": 12,
      "metadata": {
        "id": "NlrCct9vLkA4"
      },
      "outputs": [],
      "source": [
        "\n",
        "def run_one_epoch(data_loader, type, epoch, kl_beta):\n",
        "    # Store per batch loss and accuracy \n",
        "    all_losses = []\n",
        "    all_accs = []\n",
        "\n",
        "    # Iterate over data loader\n",
        "    for i, batch in enumerate(tqdm(data_loader)):\n",
        "        # Some of the data points have invalid adjacency matrices \n",
        "        try:\n",
        "            # Use GPU\n",
        "            batch.to(device)  \n",
        "            # Reset gradients\n",
        "            optimizer.zero_grad() \n",
        "            # Call model\n",
        "            triu_logits, mu, logvar = model(batch.x.float(), \n",
        "                                            batch.edge_attr.float(),\n",
        "                                            batch.edge_index, \n",
        "                                            batch.batch) \n",
        "            # Calculate loss and backpropagate\n",
        "            loss, kl_div = loss_fn(triu_logits, batch.edge_index, mu, logvar, batch.batch, kl_beta)\n",
        "            if type == \"Train\":\n",
        "                loss.backward()  \n",
        "                optimizer.step()  \n",
        "            # Calculate metrics\n",
        "            acc = reconstruction_accuracy(triu_logits, batch.edge_index, batch.batch, batch.x.float())\n",
        "            \n",
        "\n",
        "            # Store loss and metrics\n",
        "            all_losses.append(loss.detach().cpu().numpy())\n",
        "            all_accs.append(acc)\n",
        "            \n",
        "            \n",
        "\n",
        "        except IndexError as error:\n",
        "            # For a few graphs the edge information is not correct\n",
        "            # Simply skip the batch containing those\n",
        "            print(\"Error: \", error)\n",
        "    \n",
        "    print(f\"{type} epoch {epoch} loss: \", np.array(all_losses).mean())\n",
        "    print(f\"{type} epoch {epoch} accuracy: \", np.array(all_accs).mean())\n",
        "   "
      ]
    },
    {
      "cell_type": "code",
      "execution_count": 13,
      "metadata": {
        "colab": {
          "base_uri": "https://localhost:8080/"
        },
        "id": "2vXLu09qLsXb",
        "outputId": "13d71c84-0f40-4a8a-cf6b-7b160fa168fb"
      },
      "outputs": [
        {
          "output_type": "stream",
          "name": "stderr",
          "text": [
            "100%|██████████| 85/85 [01:45<00:00,  1.24s/it]\n"
          ]
        },
        {
          "output_type": "stream",
          "name": "stdout",
          "text": [
            "Train epoch 0 loss:  1.4056449\n",
            "Train epoch 0 accuracy:  0.24599918565329384\n",
            "test epoch...\n"
          ]
        },
        {
          "output_type": "stream",
          "name": "stderr",
          "text": [
            "100%|██████████| 85/85 [01:50<00:00,  1.30s/it]\n"
          ]
        },
        {
          "output_type": "stream",
          "name": "stdout",
          "text": [
            "Test epoch 0 loss:  1.0121317\n",
            "Test epoch 0 accuracy:  0.32222707552068375\n"
          ]
        },
        {
          "output_type": "stream",
          "name": "stderr",
          "text": [
            "100%|██████████| 85/85 [01:44<00:00,  1.23s/it]\n"
          ]
        },
        {
          "output_type": "stream",
          "name": "stdout",
          "text": [
            "Train epoch 1 loss:  0.9660538\n",
            "Train epoch 1 accuracy:  0.33647181602085335\n"
          ]
        },
        {
          "output_type": "stream",
          "name": "stderr",
          "text": [
            "100%|██████████| 85/85 [01:44<00:00,  1.23s/it]\n"
          ]
        },
        {
          "output_type": "stream",
          "name": "stdout",
          "text": [
            "Train epoch 2 loss:  0.84112793\n",
            "Train epoch 2 accuracy:  0.37101364416234633\n"
          ]
        },
        {
          "output_type": "stream",
          "name": "stderr",
          "text": [
            " 53%|█████▎    | 45/85 [00:57<00:45,  1.14s/it]"
          ]
        },
        {
          "output_type": "stream",
          "name": "stdout",
          "text": [
            "Error:  The shape of the mask [1545] at index 0 does not match the shape of the indexed tensor [1519, 1519] at index 0\n"
          ]
        },
        {
          "output_type": "stream",
          "name": "stderr",
          "text": [
            "100%|██████████| 85/85 [01:44<00:00,  1.22s/it]\n"
          ]
        },
        {
          "output_type": "stream",
          "name": "stdout",
          "text": [
            "Train epoch 3 loss:  0.7649626\n",
            "Train epoch 3 accuracy:  0.38265809203897205\n"
          ]
        },
        {
          "output_type": "stream",
          "name": "stderr",
          "text": [
            "100%|██████████| 85/85 [01:44<00:00,  1.23s/it]\n"
          ]
        },
        {
          "output_type": "stream",
          "name": "stdout",
          "text": [
            "Train epoch 4 loss:  0.69675773\n",
            "Train epoch 4 accuracy:  0.3984181516310748\n"
          ]
        },
        {
          "output_type": "stream",
          "name": "stderr",
          "text": [
            "100%|██████████| 85/85 [01:45<00:00,  1.24s/it]\n"
          ]
        },
        {
          "output_type": "stream",
          "name": "stdout",
          "text": [
            "Train epoch 5 loss:  0.64272225\n",
            "Train epoch 5 accuracy:  0.40912997266825507\n",
            "test epoch...\n"
          ]
        },
        {
          "output_type": "stream",
          "name": "stderr",
          "text": [
            "100%|██████████| 85/85 [01:49<00:00,  1.28s/it]"
          ]
        },
        {
          "output_type": "stream",
          "name": "stdout",
          "text": [
            "Test epoch 5 loss:  0.60226876\n",
            "Test epoch 5 accuracy:  0.4102684013983783\n"
          ]
        },
        {
          "output_type": "stream",
          "name": "stderr",
          "text": [
            "\n"
          ]
        }
      ],
      "source": [
        "for epoch in range(6): \n",
        "  model.train()\n",
        "  run_one_epoch(train_loader, type=\"Train\", epoch=epoch, kl_beta=kl_beta)\n",
        "  if epoch % 5 == 0:\n",
        "      print(\"test epoch...\")\n",
        "      model.eval()\n",
        "      run_one_epoch(test_loader, type=\"Test\", epoch=epoch, kl_beta=kl_beta)"
      ]
    },
    {
      "cell_type": "code",
      "execution_count": 14,
      "metadata": {
        "colab": {
          "base_uri": "https://localhost:8080/"
        },
        "id": "c0ztMzzL_rle",
        "outputId": "a2532bf9-8176-4e2a-bc0a-63c1ff88ff37"
      },
      "outputs": [
        {
          "output_type": "stream",
          "name": "stdout",
          "text": [
            "done!!!\n"
          ]
        }
      ],
      "source": [
        "NUM_GRAPHS_PER_BATCH = 1\n",
        "loader = DataLoader(encoder_set, \n",
        "                    batch_size=NUM_GRAPHS_PER_BATCH, shuffle=False)\n",
        "\n",
        "dictval = {}\n",
        "for batch in loader : \n",
        "  batch.to(device)\n",
        "  decode_pred, mu, logvar = model(batch.x.float(), \n",
        "                            batch.edge_attr.float(),\n",
        "                            batch.edge_index, \n",
        "                            batch.batch) \n",
        "  \n",
        "  \n",
        "  dictval[batch.id[0]] = [mu,logvar]\n",
        "  \n",
        "print(\"done!!!\")\n",
        "  \n",
        "\n",
        "      "
      ]
    },
    {
      "cell_type": "code",
      "execution_count": 15,
      "metadata": {
        "colab": {
          "base_uri": "https://localhost:8080/",
          "height": 285
        },
        "id": "zpC4B4TsfPeL",
        "outputId": "8bd4bef9-4b4e-47cd-be61-66390ebf24a7"
      },
      "outputs": [
        {
          "output_type": "execute_result",
          "data": {
            "text/plain": [
              "   Unnamed: 0 Drug1_ID                                       Drug1_SMILES  \\\n",
              "0           0  DB00706   CCOc1ccccc1OCCN[C@H](C)Cc1ccc(OC)c(S(N)(=O)=O)c1   \n",
              "1           1   3849.0  C[C@@H](Oc1ccc2[nH]nc(/C=C/c3cnn(CCO)c3)c2c1)c...   \n",
              "2           2   6380.0                      O=P(O)(O)OCCCc1c[nH]c2ccccc12   \n",
              "3           3   7947.0  CCCC(=O)O[C@]1(C(=O)COC(C)=O)CC[C@H]2[C@@H]3C[...   \n",
              "4           4  DB00802   CCC(=O)N(c1ccccc1)C1(COC)CCN(CCn2nnn(CC)c2=O)CC1   \n",
              "\n",
              "  Drug2_ID                                       Drug2_SMILES  label  \n",
              "0  DB01023    CCOC(=O)C1=C(C)NC(C)=C(C(=O)OC)C1c1cccc(Cl)c1Cl    1.0  \n",
              "1   3515.0      COc1ccc2c(c1)c(CC(=O)O)c(C)n2C(=O)c1ccc(I)cc1    0.0  \n",
              "2   8290.0       N[C@@H](c1ccccc1)c1ccc(-c2ncnc3[nH]cnc23)cc1    0.0  \n",
              "3   3010.0                                       CNCCc1ccccn1    0.0  \n",
              "4  DB00872  Cc1nc2c([nH]1)CCN(C(=O)c1ccc(NC(=O)c3ccccc3-c3...    1.0  "
            ],
            "text/html": [
              "\n",
              "  <div id=\"df-16bab89b-752c-4c30-9a37-b955578e7f4f\">\n",
              "    <div class=\"colab-df-container\">\n",
              "      <div>\n",
              "<style scoped>\n",
              "    .dataframe tbody tr th:only-of-type {\n",
              "        vertical-align: middle;\n",
              "    }\n",
              "\n",
              "    .dataframe tbody tr th {\n",
              "        vertical-align: top;\n",
              "    }\n",
              "\n",
              "    .dataframe thead th {\n",
              "        text-align: right;\n",
              "    }\n",
              "</style>\n",
              "<table border=\"1\" class=\"dataframe\">\n",
              "  <thead>\n",
              "    <tr style=\"text-align: right;\">\n",
              "      <th></th>\n",
              "      <th>Unnamed: 0</th>\n",
              "      <th>Drug1_ID</th>\n",
              "      <th>Drug1_SMILES</th>\n",
              "      <th>Drug2_ID</th>\n",
              "      <th>Drug2_SMILES</th>\n",
              "      <th>label</th>\n",
              "    </tr>\n",
              "  </thead>\n",
              "  <tbody>\n",
              "    <tr>\n",
              "      <th>0</th>\n",
              "      <td>0</td>\n",
              "      <td>DB00706</td>\n",
              "      <td>CCOc1ccccc1OCCN[C@H](C)Cc1ccc(OC)c(S(N)(=O)=O)c1</td>\n",
              "      <td>DB01023</td>\n",
              "      <td>CCOC(=O)C1=C(C)NC(C)=C(C(=O)OC)C1c1cccc(Cl)c1Cl</td>\n",
              "      <td>1.0</td>\n",
              "    </tr>\n",
              "    <tr>\n",
              "      <th>1</th>\n",
              "      <td>1</td>\n",
              "      <td>3849.0</td>\n",
              "      <td>C[C@@H](Oc1ccc2[nH]nc(/C=C/c3cnn(CCO)c3)c2c1)c...</td>\n",
              "      <td>3515.0</td>\n",
              "      <td>COc1ccc2c(c1)c(CC(=O)O)c(C)n2C(=O)c1ccc(I)cc1</td>\n",
              "      <td>0.0</td>\n",
              "    </tr>\n",
              "    <tr>\n",
              "      <th>2</th>\n",
              "      <td>2</td>\n",
              "      <td>6380.0</td>\n",
              "      <td>O=P(O)(O)OCCCc1c[nH]c2ccccc12</td>\n",
              "      <td>8290.0</td>\n",
              "      <td>N[C@@H](c1ccccc1)c1ccc(-c2ncnc3[nH]cnc23)cc1</td>\n",
              "      <td>0.0</td>\n",
              "    </tr>\n",
              "    <tr>\n",
              "      <th>3</th>\n",
              "      <td>3</td>\n",
              "      <td>7947.0</td>\n",
              "      <td>CCCC(=O)O[C@]1(C(=O)COC(C)=O)CC[C@H]2[C@@H]3C[...</td>\n",
              "      <td>3010.0</td>\n",
              "      <td>CNCCc1ccccn1</td>\n",
              "      <td>0.0</td>\n",
              "    </tr>\n",
              "    <tr>\n",
              "      <th>4</th>\n",
              "      <td>4</td>\n",
              "      <td>DB00802</td>\n",
              "      <td>CCC(=O)N(c1ccccc1)C1(COC)CCN(CCn2nnn(CC)c2=O)CC1</td>\n",
              "      <td>DB00872</td>\n",
              "      <td>Cc1nc2c([nH]1)CCN(C(=O)c1ccc(NC(=O)c3ccccc3-c3...</td>\n",
              "      <td>1.0</td>\n",
              "    </tr>\n",
              "  </tbody>\n",
              "</table>\n",
              "</div>\n",
              "      <button class=\"colab-df-convert\" onclick=\"convertToInteractive('df-16bab89b-752c-4c30-9a37-b955578e7f4f')\"\n",
              "              title=\"Convert this dataframe to an interactive table.\"\n",
              "              style=\"display:none;\">\n",
              "        \n",
              "  <svg xmlns=\"http://www.w3.org/2000/svg\" height=\"24px\"viewBox=\"0 0 24 24\"\n",
              "       width=\"24px\">\n",
              "    <path d=\"M0 0h24v24H0V0z\" fill=\"none\"/>\n",
              "    <path d=\"M18.56 5.44l.94 2.06.94-2.06 2.06-.94-2.06-.94-.94-2.06-.94 2.06-2.06.94zm-11 1L8.5 8.5l.94-2.06 2.06-.94-2.06-.94L8.5 2.5l-.94 2.06-2.06.94zm10 10l.94 2.06.94-2.06 2.06-.94-2.06-.94-.94-2.06-.94 2.06-2.06.94z\"/><path d=\"M17.41 7.96l-1.37-1.37c-.4-.4-.92-.59-1.43-.59-.52 0-1.04.2-1.43.59L10.3 9.45l-7.72 7.72c-.78.78-.78 2.05 0 2.83L4 21.41c.39.39.9.59 1.41.59.51 0 1.02-.2 1.41-.59l7.78-7.78 2.81-2.81c.8-.78.8-2.07 0-2.86zM5.41 20L4 18.59l7.72-7.72 1.47 1.35L5.41 20z\"/>\n",
              "  </svg>\n",
              "      </button>\n",
              "      \n",
              "  <style>\n",
              "    .colab-df-container {\n",
              "      display:flex;\n",
              "      flex-wrap:wrap;\n",
              "      gap: 12px;\n",
              "    }\n",
              "\n",
              "    .colab-df-convert {\n",
              "      background-color: #E8F0FE;\n",
              "      border: none;\n",
              "      border-radius: 50%;\n",
              "      cursor: pointer;\n",
              "      display: none;\n",
              "      fill: #1967D2;\n",
              "      height: 32px;\n",
              "      padding: 0 0 0 0;\n",
              "      width: 32px;\n",
              "    }\n",
              "\n",
              "    .colab-df-convert:hover {\n",
              "      background-color: #E2EBFA;\n",
              "      box-shadow: 0px 1px 2px rgba(60, 64, 67, 0.3), 0px 1px 3px 1px rgba(60, 64, 67, 0.15);\n",
              "      fill: #174EA6;\n",
              "    }\n",
              "\n",
              "    [theme=dark] .colab-df-convert {\n",
              "      background-color: #3B4455;\n",
              "      fill: #D2E3FC;\n",
              "    }\n",
              "\n",
              "    [theme=dark] .colab-df-convert:hover {\n",
              "      background-color: #434B5C;\n",
              "      box-shadow: 0px 1px 3px 1px rgba(0, 0, 0, 0.15);\n",
              "      filter: drop-shadow(0px 1px 2px rgba(0, 0, 0, 0.3));\n",
              "      fill: #FFFFFF;\n",
              "    }\n",
              "  </style>\n",
              "\n",
              "      <script>\n",
              "        const buttonEl =\n",
              "          document.querySelector('#df-16bab89b-752c-4c30-9a37-b955578e7f4f button.colab-df-convert');\n",
              "        buttonEl.style.display =\n",
              "          google.colab.kernel.accessAllowed ? 'block' : 'none';\n",
              "\n",
              "        async function convertToInteractive(key) {\n",
              "          const element = document.querySelector('#df-16bab89b-752c-4c30-9a37-b955578e7f4f');\n",
              "          const dataTable =\n",
              "            await google.colab.kernel.invokeFunction('convertToInteractive',\n",
              "                                                     [key], {});\n",
              "          if (!dataTable) return;\n",
              "\n",
              "          const docLinkHtml = 'Like what you see? Visit the ' +\n",
              "            '<a target=\"_blank\" href=https://colab.research.google.com/notebooks/data_table.ipynb>data table notebook</a>'\n",
              "            + ' to learn more about interactive tables.';\n",
              "          element.innerHTML = '';\n",
              "          dataTable['output_type'] = 'display_data';\n",
              "          await google.colab.output.renderOutput(dataTable, element);\n",
              "          const docLink = document.createElement('div');\n",
              "          docLink.innerHTML = docLinkHtml;\n",
              "          element.appendChild(docLink);\n",
              "        }\n",
              "      </script>\n",
              "    </div>\n",
              "  </div>\n",
              "  "
            ]
          },
          "metadata": {},
          "execution_count": 15
        }
      ],
      "source": [
        "temp = pd.read_csv(\"sup_train_val.csv\")\n",
        "temp.head()"
      ]
    },
    {
      "cell_type": "code",
      "execution_count": 16,
      "metadata": {
        "id": "brgpfFtjwoge"
      },
      "outputs": [],
      "source": [
        "df = temp\n",
        "\n",
        "# df = pd.DataFrame(columns = ['Drug1_ID', 'Drug1_SMILES', 'Drug2_ID','Drug2_SMILES','label'])\n",
        "\n",
        "# sz = len(temp)\n",
        "\n",
        "# for i in range(sz):\n",
        "#   id1 = temp['Drug1_ID'][i]\n",
        "#   id2 = temp['Drug2_ID'][i]\n",
        "#   if (id1 in dictval) and (id2 in dictval) : \n",
        "#     df = df.append({'Drug1_ID' : id1, 'Drug1_SMILES' : temp['Drug1_SMILES'][i], 'Drug2_ID' : id2,'Drug2_SMILES' : temp['Drug2_SMILES'][i],'label' : temp['label'][i]}, \n",
        "#                   ignore_index = True)\n",
        "\n",
        "# df.head()"
      ]
    },
    {
      "cell_type": "code",
      "execution_count": 17,
      "metadata": {
        "colab": {
          "base_uri": "https://localhost:8080/"
        },
        "id": "ZJd9aFSUJueh",
        "outputId": "8b36d40e-4d74-4235-faf9-a1bb453c61c6"
      },
      "outputs": [
        {
          "output_type": "execute_result",
          "data": {
            "text/plain": [
              "2"
            ]
          },
          "metadata": {},
          "execution_count": 17
        }
      ],
      "source": [
        "n_classes = len(df['label'].unique())\n",
        "n_classes"
      ]
    },
    {
      "cell_type": "code",
      "execution_count": 18,
      "metadata": {
        "colab": {
          "base_uri": "https://localhost:8080/"
        },
        "id": "sdkRTFlGRZ2D",
        "outputId": "7507fbf4-8eb4-44ba-d50c-4ba1e480b5b0"
      },
      "outputs": [
        {
          "output_type": "execute_result",
          "data": {
            "text/plain": [
              "1.0    33243\n",
              "0.0    33189\n",
              "Name: label, dtype: int64"
            ]
          },
          "metadata": {},
          "execution_count": 18
        }
      ],
      "source": [
        "df['label'].value_counts()"
      ]
    },
    {
      "cell_type": "code",
      "execution_count": 19,
      "metadata": {
        "id": "M6W3a-xHKkuf"
      },
      "outputs": [],
      "source": [
        "dftrain = df\n",
        "dftest = pd.read_csv(\"sup_test.csv\")\n"
      ]
    },
    {
      "cell_type": "code",
      "execution_count": 20,
      "metadata": {
        "colab": {
          "base_uri": "https://localhost:8080/"
        },
        "id": "VKvrhUjeOhca",
        "outputId": "451cfbbe-3655-4fed-99fa-6d9fe1dc2446"
      },
      "outputs": [
        {
          "output_type": "execute_result",
          "data": {
            "text/plain": [
              "65075"
            ]
          },
          "metadata": {},
          "execution_count": 20
        }
      ],
      "source": [
        "class NumbersDataset(Dataset):\n",
        "    def __init__(self,filename):\n",
        "        datat = dftrain\n",
        "        # datat = datat.head(partition) \n",
        "        self.samples = list(range(2*len(datat)))\n",
        "        self.label = list(range(2*len(datat)))\n",
        "        self.sz = 0\n",
        "        idx = 0\n",
        "        for index in range(len(datat)) :\n",
        "          str1 = datat['Drug1_ID'][index]\n",
        "          str2 = datat['Drug2_ID'][index]\n",
        "\n",
        "          if (str1 in dictval) and (str2 in dictval) :\n",
        "            loop = 0\n",
        "            if datat['label'][index]==0 :\n",
        "              loop = 0\n",
        "            elif datat['label'][index]==1 :\n",
        "              loop = 0\n",
        "            else :\n",
        "              loop = 0\n",
        "\n",
        "            mat1 = dictval[str1][0]\n",
        "            mat2 = dictval[str2][0]\n",
        "            mean1 = torch.mean(mat1, axis = 0)\n",
        "            std1 = torch.std(mat1, axis = 0)\n",
        "            mean2 = torch.mean(mat2, axis = 0)\n",
        "            std2 = torch.std(mat2, axis = 0)\n",
        "            vect = torch.cat([mean1, mean2, std1, std2], dim=0)\n",
        "            self.samples[idx] = vect.detach().cpu()\n",
        "            self.label[idx] = datat['label'][index]\n",
        "            self.label[idx] = torch.tensor(self.label[idx], dtype=torch.int64)\n",
        "            idx+=1\n",
        "            for genvar in range(0,loop) : \n",
        "              eps = torch.randn_like(dictval[str1][1])\n",
        "              std = torch.exp(dictval[str1][1])\n",
        "              mat1 = eps.mul(std).add_(dictval[str1][0])\n",
        "              eps = torch.randn_like(dictval[str2][1])\n",
        "              std = torch.exp(dictval[str2][1])\n",
        "              mat2 = eps.mul(std).add_(dictval[str2][0])\n",
        "              mean1 = torch.mean(mat1, axis = 0)\n",
        "              std1 = torch.std(mat1, axis = 0)\n",
        "              mean2 = torch.mean(mat2, axis = 0)\n",
        "              std2 = torch.std(mat2, axis = 0)\n",
        "              vect = torch.cat([mean1, mean2, std1, std2], dim=0)\n",
        "              self.samples[idx] = vect.detach().cpu()\n",
        "              self.label[idx] = datat['label'][index]\n",
        "              self.label[idx] = torch.tensor(self.label[idx], dtype=torch.int64)\n",
        "              idx+=1\n",
        "        self.sz = idx\n",
        "\n",
        "\n",
        "    def __len__(self):\n",
        "        return self.sz\n",
        "\n",
        "    def __getitem__(self, idx):\n",
        "        return self.samples[idx],self.label[idx]\n",
        "\n",
        "dataset = NumbersDataset(\"sup_train_val.csv\")\n",
        "len(dataset)"
      ]
    },
    {
      "cell_type": "code",
      "execution_count": 21,
      "metadata": {
        "colab": {
          "base_uri": "https://localhost:8080/"
        },
        "id": "LHihSh2OBxVn",
        "outputId": "06c790e4-1c5d-4d4b-f21d-78661444bcff"
      },
      "outputs": [
        {
          "output_type": "execute_result",
          "data": {
            "text/plain": [
              "32"
            ]
          },
          "metadata": {},
          "execution_count": 21
        }
      ],
      "source": [
        "data = dataset\n",
        "data[0][0].shape[0]"
      ]
    },
    {
      "cell_type": "code",
      "execution_count": 22,
      "metadata": {
        "colab": {
          "base_uri": "https://localhost:8080/"
        },
        "id": "YxIz90EzBD9a",
        "outputId": "bf9b2fd7-da6d-4c14-c5ff-f7526352bb4b"
      },
      "outputs": [
        {
          "output_type": "stream",
          "name": "stdout",
          "text": [
            "NeuralNet(\n",
            "  (fc1): Linear(in_features=32, out_features=128, bias=True)\n",
            "  (relu): ReLU()\n",
            "  (fc2): Linear(in_features=128, out_features=2, bias=True)\n",
            ")\n",
            "Number of parameters:  4482\n"
          ]
        }
      ],
      "source": [
        "import torch.nn.functional as F \n",
        "torch.manual_seed(42)\n",
        "\n",
        "class NeuralNet(torch.nn.Module):\n",
        "    def __init__(self, input_size, hidden_size):\n",
        "        super(NeuralNet, self).__init__()\n",
        "        self.input_size = input_size\n",
        "        self.hidden_size  = hidden_size\n",
        "        self.fc1 = torch.nn.Linear(self.input_size, self.hidden_size)\n",
        "        self.relu = torch.nn.ReLU()\n",
        "        self.fc2 = torch.nn.Linear(self.hidden_size, n_classes)\n",
        "        \n",
        "    def forward(self, x):\n",
        "        x = self.fc1(x)\n",
        "        x = self.relu(x)\n",
        "        x = self.fc2(x)\n",
        "        x = F.softmax(x, dim=1)\n",
        "        return x\n",
        "model_ff = NeuralNet(data[0][0].shape[0],128)\n",
        "print(model_ff)\n",
        "print(\"Number of parameters: \", sum(p.numel() for p in model_ff.parameters()))"
      ]
    },
    {
      "cell_type": "code",
      "execution_count": 23,
      "metadata": {
        "id": "2aPhXBtzWcRF"
      },
      "outputs": [],
      "source": [
        "# import torch.nn.functional as F \n",
        "\n",
        "\n",
        "# class NeuralNet(torch.nn.Module):\n",
        "#     def __init__(self, input_size, hidden_size):\n",
        "#         super(NeuralNet, self).__init__()\n",
        "#         self.input_size = input_size\n",
        "#         self.hidden_size  = hidden_size\n",
        "#         self.fc1 = torch.nn.Linear(self.input_size, self.hidden_size)\n",
        "#         self.relu = torch.nn.ReLU()\n",
        "#         self.fc2 = torch.nn.Linear(self.hidden_size, self.hidden_size)\n",
        "#         self.fc3 = torch.nn.Linear(self.hidden_size, n_classes)\n",
        "        \n",
        "#     def forward(self, x):\n",
        "#         x = self.fc1(x)\n",
        "#         x = self.relu(x)\n",
        "#         x = self.fc2(x)\n",
        "#         x = self.relu(x)\n",
        "#         x = self.fc3(x)\n",
        "#         x = F.softmax(x, dim=1)\n",
        "#         return x\n",
        "# model_ff = NeuralNet(data[0][0].shape[0],64)\n",
        "# print(model_ff)\n",
        "# print(\"Number of parameters: \", sum(p.numel() for p in model_ff.parameters()))"
      ]
    },
    {
      "cell_type": "code",
      "execution_count": 24,
      "metadata": {
        "colab": {
          "base_uri": "https://localhost:8080/"
        },
        "id": "Y6ssfTofP0Pi",
        "outputId": "2352cd41-d0ae-47ca-acab-51ffc7a83946"
      },
      "outputs": [
        {
          "output_type": "stream",
          "name": "stdout",
          "text": [
            "Starting training...\n",
            "Epoch 0 | Train Loss 0.551418662071228\n",
            "Epoch 50 | Train Loss 0.44408509135246277\n",
            "Epoch 100 | Train Loss 0.39490392804145813\n",
            "Epoch 150 | Train Loss 0.4024348556995392\n",
            "Epoch 200 | Train Loss 0.3626149892807007\n",
            "Epoch 250 | Train Loss 0.3567684292793274\n"
          ]
        }
      ],
      "source": [
        "loss_fn = nn.CrossEntropyLoss()\n",
        "optimizer = torch.optim.Adam(model_ff.parameters(), lr=0.001)  \n",
        "\n",
        "# Use GPU for training\n",
        "model_ff = model_ff.to(device)\n",
        "loss_fn = loss_fn.to(device)\n",
        "\n",
        "# Wrap data in a data loader\n",
        "data_size = len(data)\n",
        "NUM_GRAPHS_PER_BATCH = 128\n",
        "loader = DataLoader(data,batch_size=NUM_GRAPHS_PER_BATCH, shuffle=True)\n",
        "\n",
        "\n",
        "\n",
        "def train(data):\n",
        "    # Enumerate over the data\n",
        "    for batch in loader:\n",
        "      # Use GPU\n",
        "      batch[0] = batch[0].to(device) \n",
        "      batch[1] = batch[1].to(device)  \n",
        "      # Reset gradients\n",
        "      optimizer.zero_grad() \n",
        "      # Passing the node features and the connection info\n",
        "      \n",
        "      pred = model_ff(batch[0]) \n",
        "      \n",
        "      # Calculating the loss and gradients\n",
        "      \n",
        "      \n",
        "      loss = (loss_fn(pred, batch[1]))      \n",
        "      loss.backward()  \n",
        "      # Update using the gradients\n",
        "      optimizer.step()   \n",
        "    return loss\n",
        "\n",
        "print(\"Starting training...\")\n",
        "losses = []\n",
        "for epoch in range(251):\n",
        "    loss = train(data)\n",
        "    losses.append(loss)\n",
        "    if epoch % 50 == 0:\n",
        "      print(f\"Epoch {epoch} | Train Loss {loss}\")"
      ]
    },
    {
      "cell_type": "code",
      "execution_count": 25,
      "metadata": {
        "colab": {
          "base_uri": "https://localhost:8080/",
          "height": 282
        },
        "id": "Ar5Y6d-aRufN",
        "outputId": "b92c7071-7944-4d5b-9ebe-6829d7a67997"
      },
      "outputs": [
        {
          "output_type": "execute_result",
          "data": {
            "text/plain": [
              "<matplotlib.axes._subplots.AxesSubplot at 0x7fe39586cb90>"
            ]
          },
          "metadata": {},
          "execution_count": 25
        },
        {
          "output_type": "display_data",
          "data": {
            "text/plain": [
              "<Figure size 432x288 with 1 Axes>"
            ],
            "image/png": "[encoded data removed]"
          },
          "metadata": {
            "needs_background": "light"
          }
        }
      ],
      "source": [
        "\n",
        "losses_float = [float(loss.cpu().detach().numpy()) for loss in losses] \n",
        "loss_indices = [i for i,l in enumerate(losses_float)] \n",
        "plt = sns.lineplot(loss_indices, losses_float)\n",
        "plt"
      ]
    },
    {
      "cell_type": "code",
      "execution_count": 26,
      "metadata": {
        "colab": {
          "base_uri": "https://localhost:8080/"
        },
        "id": "RGfTeAMTeCBB",
        "outputId": "ab23c7da-e694-4337-d290-59462fb883e5"
      },
      "outputs": [
        {
          "output_type": "execute_result",
          "data": {
            "text/plain": [
              "16234"
            ]
          },
          "metadata": {},
          "execution_count": 26
        }
      ],
      "source": [
        "class TestDataset(Dataset):\n",
        "    def __init__(self,filename):\n",
        "        datat = dftest\n",
        "        #datat = datat.tail(tailpp).reset_index(drop=True)\n",
        "       \n",
        "        self.samples = list(range(len(datat)))\n",
        "        self.label = list(range(len(datat)))\n",
        "        self.sz = 0\n",
        "        idx = 0\n",
        "        for index in range(len(datat)) :\n",
        "          str1 = datat['Drug1_ID'][index]\n",
        "          str2 = datat['Drug2_ID'][index]\n",
        "\n",
        "          \n",
        "          if (str1 in dictval) and (str2 in dictval) :\n",
        "            mat1 = dictval[str1][0]\n",
        "            mat2 = dictval[str2][0]\n",
        "            mean1 = torch.mean(mat1, axis = 0)\n",
        "            std1 = torch.std(mat1, axis = 0)\n",
        "            mean2 = torch.mean(mat2, axis = 0)\n",
        "            std2 = torch.std(mat2, axis = 0)\n",
        "            vect = torch.cat([mean1, mean2, std1, std2], dim=0)\n",
        "            self.samples[idx] = vect.detach().cpu()\n",
        "            self.label[idx] = datat['label'][index]\n",
        "            self.label[idx] = torch.tensor(self.label[idx], dtype=torch.int64)\n",
        "            idx+=1\n",
        "        self.sz = idx\n",
        "\n",
        "\n",
        "    def __len__(self):\n",
        "        return self.sz\n",
        "\n",
        "    def __getitem__(self, idx):\n",
        "        return self.samples[idx],self.label[idx]\n",
        "\n",
        "datatest = TestDataset(\"sup_test.csv\")\n",
        "len(datatest)"
      ]
    },
    {
      "cell_type": "code",
      "execution_count": 27,
      "metadata": {
        "colab": {
          "base_uri": "https://localhost:8080/",
          "height": 221
        },
        "id": "ZHFqlCvORz_i",
        "outputId": "6cd68405-0b95-427e-82c0-b0df584f0f6c"
      },
      "outputs": [
        {
          "output_type": "stream",
          "name": "stdout",
          "text": [
            "0.8842322306988779\n"
          ]
        },
        {
          "output_type": "execute_result",
          "data": {
            "text/plain": [
              "      y_real y_pred  y_predfrac0   y_predfrac1\n",
              "16229      1      1     0.020111  9.798891e-01\n",
              "16230      0      0     0.999407  5.933484e-04\n",
              "16231      0      0     1.000000  8.998990e-24\n",
              "16232      1      1     0.149316  8.506839e-01\n",
              "16233      0      0     0.999999  1.213913e-06"
            ],
            "text/html": [
              "\n",
              "  <div id=\"df-b07f20ac-df07-455a-9ecd-b66ce75f69fe\">\n",
              "    <div class=\"colab-df-container\">\n",
              "      <div>\n",
              "<style scoped>\n",
              "    .dataframe tbody tr th:only-of-type {\n",
              "        vertical-align: middle;\n",
              "    }\n",
              "\n",
              "    .dataframe tbody tr th {\n",
              "        vertical-align: top;\n",
              "    }\n",
              "\n",
              "    .dataframe thead th {\n",
              "        text-align: right;\n",
              "    }\n",
              "</style>\n",
              "<table border=\"1\" class=\"dataframe\">\n",
              "  <thead>\n",
              "    <tr style=\"text-align: right;\">\n",
              "      <th></th>\n",
              "      <th>y_real</th>\n",
              "      <th>y_pred</th>\n",
              "      <th>y_predfrac0</th>\n",
              "      <th>y_predfrac1</th>\n",
              "    </tr>\n",
              "  </thead>\n",
              "  <tbody>\n",
              "    <tr>\n",
              "      <th>16229</th>\n",
              "      <td>1</td>\n",
              "      <td>1</td>\n",
              "      <td>0.020111</td>\n",
              "      <td>9.798891e-01</td>\n",
              "    </tr>\n",
              "    <tr>\n",
              "      <th>16230</th>\n",
              "      <td>0</td>\n",
              "      <td>0</td>\n",
              "      <td>0.999407</td>\n",
              "      <td>5.933484e-04</td>\n",
              "    </tr>\n",
              "    <tr>\n",
              "      <th>16231</th>\n",
              "      <td>0</td>\n",
              "      <td>0</td>\n",
              "      <td>1.000000</td>\n",
              "      <td>8.998990e-24</td>\n",
              "    </tr>\n",
              "    <tr>\n",
              "      <th>16232</th>\n",
              "      <td>1</td>\n",
              "      <td>1</td>\n",
              "      <td>0.149316</td>\n",
              "      <td>8.506839e-01</td>\n",
              "    </tr>\n",
              "    <tr>\n",
              "      <th>16233</th>\n",
              "      <td>0</td>\n",
              "      <td>0</td>\n",
              "      <td>0.999999</td>\n",
              "      <td>1.213913e-06</td>\n",
              "    </tr>\n",
              "  </tbody>\n",
              "</table>\n",
              "</div>\n",
              "      <button class=\"colab-df-convert\" onclick=\"convertToInteractive('df-b07f20ac-df07-455a-9ecd-b66ce75f69fe')\"\n",
              "              title=\"Convert this dataframe to an interactive table.\"\n",
              "              style=\"display:none;\">\n",
              "        \n",
              "  <svg xmlns=\"http://www.w3.org/2000/svg\" height=\"24px\"viewBox=\"0 0 24 24\"\n",
              "       width=\"24px\">\n",
              "    <path d=\"M0 0h24v24H0V0z\" fill=\"none\"/>\n",
              "    <path d=\"M18.56 5.44l.94 2.06.94-2.06 2.06-.94-2.06-.94-.94-2.06-.94 2.06-2.06.94zm-11 1L8.5 8.5l.94-2.06 2.06-.94-2.06-.94L8.5 2.5l-.94 2.06-2.06.94zm10 10l.94 2.06.94-2.06 2.06-.94-2.06-.94-.94-2.06-.94 2.06-2.06.94z\"/><path d=\"M17.41 7.96l-1.37-1.37c-.4-.4-.92-.59-1.43-.59-.52 0-1.04.2-1.43.59L10.3 9.45l-7.72 7.72c-.78.78-.78 2.05 0 2.83L4 21.41c.39.39.9.59 1.41.59.51 0 1.02-.2 1.41-.59l7.78-7.78 2.81-2.81c.8-.78.8-2.07 0-2.86zM5.41 20L4 18.59l7.72-7.72 1.47 1.35L5.41 20z\"/>\n",
              "  </svg>\n",
              "      </button>\n",
              "      \n",
              "  <style>\n",
              "    .colab-df-container {\n",
              "      display:flex;\n",
              "      flex-wrap:wrap;\n",
              "      gap: 12px;\n",
              "    }\n",
              "\n",
              "    .colab-df-convert {\n",
              "      background-color: #E8F0FE;\n",
              "      border: none;\n",
              "      border-radius: 50%;\n",
              "      cursor: pointer;\n",
              "      display: none;\n",
              "      fill: #1967D2;\n",
              "      height: 32px;\n",
              "      padding: 0 0 0 0;\n",
              "      width: 32px;\n",
              "    }\n",
              "\n",
              "    .colab-df-convert:hover {\n",
              "      background-color: #E2EBFA;\n",
              "      box-shadow: 0px 1px 2px rgba(60, 64, 67, 0.3), 0px 1px 3px 1px rgba(60, 64, 67, 0.15);\n",
              "      fill: #174EA6;\n",
              "    }\n",
              "\n",
              "    [theme=dark] .colab-df-convert {\n",
              "      background-color: #3B4455;\n",
              "      fill: #D2E3FC;\n",
              "    }\n",
              "\n",
              "    [theme=dark] .colab-df-convert:hover {\n",
              "      background-color: #434B5C;\n",
              "      box-shadow: 0px 1px 3px 1px rgba(0, 0, 0, 0.15);\n",
              "      filter: drop-shadow(0px 1px 2px rgba(0, 0, 0, 0.3));\n",
              "      fill: #FFFFFF;\n",
              "    }\n",
              "  </style>\n",
              "\n",
              "      <script>\n",
              "        const buttonEl =\n",
              "          document.querySelector('#df-b07f20ac-df07-455a-9ecd-b66ce75f69fe button.colab-df-convert');\n",
              "        buttonEl.style.display =\n",
              "          google.colab.kernel.accessAllowed ? 'block' : 'none';\n",
              "\n",
              "        async function convertToInteractive(key) {\n",
              "          const element = document.querySelector('#df-b07f20ac-df07-455a-9ecd-b66ce75f69fe');\n",
              "          const dataTable =\n",
              "            await google.colab.kernel.invokeFunction('convertToInteractive',\n",
              "                                                     [key], {});\n",
              "          if (!dataTable) return;\n",
              "\n",
              "          const docLinkHtml = 'Like what you see? Visit the ' +\n",
              "            '<a target=\"_blank\" href=https://colab.research.google.com/notebooks/data_table.ipynb>data table notebook</a>'\n",
              "            + ' to learn more about interactive tables.';\n",
              "          element.innerHTML = '';\n",
              "          dataTable['output_type'] = 'display_data';\n",
              "          await google.colab.output.renderOutput(dataTable, element);\n",
              "          const docLink = document.createElement('div');\n",
              "          docLink.innerHTML = docLinkHtml;\n",
              "          element.appendChild(docLink);\n",
              "        }\n",
              "      </script>\n",
              "    </div>\n",
              "  </div>\n",
              "  "
            ]
          },
          "metadata": {},
          "execution_count": 27
        }
      ],
      "source": [
        "test_loader = DataLoader(datatest,batch_size=len(datatest), shuffle=True)\n",
        "dffull = pd.DataFrame(columns = ['y_real','y_pred'])\n",
        "with torch.no_grad():\n",
        "    for test_batch in test_loader : \n",
        "      test_batch[0] = test_batch[0].to(device)\n",
        "      test_batch[1] = test_batch[1].to(device)\n",
        "      pred = model_ff(test_batch[0]) \n",
        "      pred_frac0 = pred[:,0]\n",
        "      pred_frac1 = pred[:,1]\n",
        "      if n_classes == 3 : \n",
        "        pred_frac2 = pred[:,2]\n",
        "      pred = pred.argmax(dim=1)  \n",
        "      dftt = pd.DataFrame()\n",
        "      dftt[\"y_real\"] = test_batch[1].tolist()\n",
        "      dftt[\"y_pred\"] = pred.tolist()\n",
        "      dftt[\"y_predfrac0\"] = pred_frac0.tolist()\n",
        "      dftt[\"y_predfrac1\"] = pred_frac1.tolist()\n",
        "      if n_classes == 3 : \n",
        "        dftt[\"y_predfrac2\"] = pred_frac2.tolist()\n",
        "      dffull = dffull.append(dftt)\n",
        "      print(f1_score(dftt['y_real'], dftt['y_pred'],average='macro'))\n",
        "\n",
        "dffull.to_csv('tt.csv')\n",
        "dffull.tail()"
      ]
    },
    {
      "cell_type": "code",
      "execution_count": 28,
      "metadata": {
        "colab": {
          "base_uri": "https://localhost:8080/"
        },
        "id": "m4HgEI5slM2A",
        "outputId": "a56b96ef-d0f5-4f3b-e0d8-121aea87665f"
      },
      "outputs": [
        {
          "output_type": "stream",
          "name": "stdout",
          "text": [
            "0.8842322306988779\n",
            "0.8842552667241591\n",
            "0.8842552667241592\n"
          ]
        },
        {
          "output_type": "execute_result",
          "data": {
            "text/plain": [
              "array([[7292,  817],\n",
              "       [1062, 7063]])"
            ]
          },
          "metadata": {},
          "execution_count": 28
        }
      ],
      "source": [
        "datahead = pd.read_csv('tt.csv')\n",
        "\n",
        "print(f1_score(datahead['y_real'], datahead['y_pred'],average='macro'))\n",
        "print(f1_score(datahead['y_real'], datahead['y_pred'],average='micro'))\n",
        "print(accuracy_score(datahead['y_real'], datahead['y_pred']))\n",
        "\n",
        "confusion_matrix(datahead['y_real'], datahead['y_pred'])"
      ]
    },
    {
      "cell_type": "code",
      "execution_count": 29,
      "metadata": {
        "colab": {
          "base_uri": "https://localhost:8080/",
          "height": 204
        },
        "id": "PmeZKzhKSEKj",
        "outputId": "9235d4d9-4276-4f46-d645-808eb593f538"
      },
      "outputs": [
        {
          "output_type": "execute_result",
          "data": {
            "text/plain": [
              "   y_predfrac0   y_predfrac1\n",
              "0     1.000000  5.777297e-13\n",
              "1     0.999359  6.406304e-04\n",
              "2     0.834512  1.654879e-01\n",
              "3     1.000000  2.657393e-13\n",
              "4     0.825088  1.749121e-01"
            ],
            "text/html": [
              "\n",
              "  <div id=\"df-15aace16-0ae9-4466-9a46-954781722717\">\n",
              "    <div class=\"colab-df-container\">\n",
              "      <div>\n",
              "<style scoped>\n",
              "    .dataframe tbody tr th:only-of-type {\n",
              "        vertical-align: middle;\n",
              "    }\n",
              "\n",
              "    .dataframe tbody tr th {\n",
              "        vertical-align: top;\n",
              "    }\n",
              "\n",
              "    .dataframe thead th {\n",
              "        text-align: right;\n",
              "    }\n",
              "</style>\n",
              "<table border=\"1\" class=\"dataframe\">\n",
              "  <thead>\n",
              "    <tr style=\"text-align: right;\">\n",
              "      <th></th>\n",
              "      <th>y_predfrac0</th>\n",
              "      <th>y_predfrac1</th>\n",
              "    </tr>\n",
              "  </thead>\n",
              "  <tbody>\n",
              "    <tr>\n",
              "      <th>0</th>\n",
              "      <td>1.000000</td>\n",
              "      <td>5.777297e-13</td>\n",
              "    </tr>\n",
              "    <tr>\n",
              "      <th>1</th>\n",
              "      <td>0.999359</td>\n",
              "      <td>6.406304e-04</td>\n",
              "    </tr>\n",
              "    <tr>\n",
              "      <th>2</th>\n",
              "      <td>0.834512</td>\n",
              "      <td>1.654879e-01</td>\n",
              "    </tr>\n",
              "    <tr>\n",
              "      <th>3</th>\n",
              "      <td>1.000000</td>\n",
              "      <td>2.657393e-13</td>\n",
              "    </tr>\n",
              "    <tr>\n",
              "      <th>4</th>\n",
              "      <td>0.825088</td>\n",
              "      <td>1.749121e-01</td>\n",
              "    </tr>\n",
              "  </tbody>\n",
              "</table>\n",
              "</div>\n",
              "      <button class=\"colab-df-convert\" onclick=\"convertToInteractive('df-15aace16-0ae9-4466-9a46-954781722717')\"\n",
              "              title=\"Convert this dataframe to an interactive table.\"\n",
              "              style=\"display:none;\">\n",
              "        \n",
              "  <svg xmlns=\"http://www.w3.org/2000/svg\" height=\"24px\"viewBox=\"0 0 24 24\"\n",
              "       width=\"24px\">\n",
              "    <path d=\"M0 0h24v24H0V0z\" fill=\"none\"/>\n",
              "    <path d=\"M18.56 5.44l.94 2.06.94-2.06 2.06-.94-2.06-.94-.94-2.06-.94 2.06-2.06.94zm-11 1L8.5 8.5l.94-2.06 2.06-.94-2.06-.94L8.5 2.5l-.94 2.06-2.06.94zm10 10l.94 2.06.94-2.06 2.06-.94-2.06-.94-.94-2.06-.94 2.06-2.06.94z\"/><path d=\"M17.41 7.96l-1.37-1.37c-.4-.4-.92-.59-1.43-.59-.52 0-1.04.2-1.43.59L10.3 9.45l-7.72 7.72c-.78.78-.78 2.05 0 2.83L4 21.41c.39.39.9.59 1.41.59.51 0 1.02-.2 1.41-.59l7.78-7.78 2.81-2.81c.8-.78.8-2.07 0-2.86zM5.41 20L4 18.59l7.72-7.72 1.47 1.35L5.41 20z\"/>\n",
              "  </svg>\n",
              "      </button>\n",
              "      \n",
              "  <style>\n",
              "    .colab-df-container {\n",
              "      display:flex;\n",
              "      flex-wrap:wrap;\n",
              "      gap: 12px;\n",
              "    }\n",
              "\n",
              "    .colab-df-convert {\n",
              "      background-color: #E8F0FE;\n",
              "      border: none;\n",
              "      border-radius: 50%;\n",
              "      cursor: pointer;\n",
              "      display: none;\n",
              "      fill: #1967D2;\n",
              "      height: 32px;\n",
              "      padding: 0 0 0 0;\n",
              "      width: 32px;\n",
              "    }\n",
              "\n",
              "    .colab-df-convert:hover {\n",
              "      background-color: #E2EBFA;\n",
              "      box-shadow: 0px 1px 2px rgba(60, 64, 67, 0.3), 0px 1px 3px 1px rgba(60, 64, 67, 0.15);\n",
              "      fill: #174EA6;\n",
              "    }\n",
              "\n",
              "    [theme=dark] .colab-df-convert {\n",
              "      background-color: #3B4455;\n",
              "      fill: #D2E3FC;\n",
              "    }\n",
              "\n",
              "    [theme=dark] .colab-df-convert:hover {\n",
              "      background-color: #434B5C;\n",
              "      box-shadow: 0px 1px 3px 1px rgba(0, 0, 0, 0.15);\n",
              "      filter: drop-shadow(0px 1px 2px rgba(0, 0, 0, 0.3));\n",
              "      fill: #FFFFFF;\n",
              "    }\n",
              "  </style>\n",
              "\n",
              "      <script>\n",
              "        const buttonEl =\n",
              "          document.querySelector('#df-15aace16-0ae9-4466-9a46-954781722717 button.colab-df-convert');\n",
              "        buttonEl.style.display =\n",
              "          google.colab.kernel.accessAllowed ? 'block' : 'none';\n",
              "\n",
              "        async function convertToInteractive(key) {\n",
              "          const element = document.querySelector('#df-15aace16-0ae9-4466-9a46-954781722717');\n",
              "          const dataTable =\n",
              "            await google.colab.kernel.invokeFunction('convertToInteractive',\n",
              "                                                     [key], {});\n",
              "          if (!dataTable) return;\n",
              "\n",
              "          const docLinkHtml = 'Like what you see? Visit the ' +\n",
              "            '<a target=\"_blank\" href=https://colab.research.google.com/notebooks/data_table.ipynb>data table notebook</a>'\n",
              "            + ' to learn more about interactive tables.';\n",
              "          element.innerHTML = '';\n",
              "          dataTable['output_type'] = 'display_data';\n",
              "          await google.colab.output.renderOutput(dataTable, element);\n",
              "          const docLink = document.createElement('div');\n",
              "          docLink.innerHTML = docLinkHtml;\n",
              "          element.appendChild(docLink);\n",
              "        }\n",
              "      </script>\n",
              "    </div>\n",
              "  </div>\n",
              "  "
            ]
          },
          "metadata": {},
          "execution_count": 29
        }
      ],
      "source": [
        "dfttt = datahead.iloc[:,3:]\n",
        "dfttt.head()"
      ]
    },
    {
      "cell_type": "code",
      "execution_count": 30,
      "metadata": {
        "id": "gYp5tREjSCVR"
      },
      "outputs": [],
      "source": [
        "probab = dfttt.to_numpy()"
      ]
    },
    {
      "cell_type": "code",
      "execution_count": 31,
      "metadata": {
        "colab": {
          "base_uri": "https://localhost:8080/"
        },
        "id": "9pDb4BTTxG4I",
        "outputId": "b83d3f77-b4b0-4b0b-e7fe-89a9052779fe"
      },
      "outputs": [
        {
          "output_type": "stream",
          "name": "stdout",
          "text": [
            "AUC: 0.933\n"
          ]
        }
      ],
      "source": [
        "if n_classes==3 : \n",
        "  macro_roc_auc_ovo = roc_auc_score(datahead['y_real'],probab, multi_class=\"ovo\", average=\"macro\")\n",
        "  print(macro_roc_auc_ovo)\n",
        "  macro_roc_auc_ovo = roc_auc_score(datahead['y_real'],probab, multi_class=\"ovr\", average=\"weighted\")\n",
        "  print(macro_roc_auc_ovo)\n",
        "else : \n",
        "  auc = roc_auc_score(datahead['y_real'],datahead['y_predfrac1'])\n",
        "  print('AUC: %.3f' % auc)"
      ]
    },
    {
      "cell_type": "code",
      "execution_count": 32,
      "metadata": {
        "id": "q9TqMpmJsBcc"
      },
      "outputs": [],
      "source": [
        "if n_classes == 3 : \n",
        "  Y_test = datahead['y_real']\n",
        "  y_score = probab\n",
        "  # Use label_binarize to be multi-label like settings\n",
        "  Y = label_binarize(Y_test, classes=[0, 1, 2])\n",
        "  n_classes = Y.shape[1]\n",
        "\n",
        "  Y_test = Y\n",
        "\n",
        "\n",
        "  # For each class\n",
        "  precision = dict()\n",
        "  recall = dict()\n",
        "  average_precision = dict()\n",
        "  for i in range(n_classes):\n",
        "      precision[i], recall[i], _ = precision_recall_curve(Y_test[:, i], y_score[:, i])\n",
        "      average_precision[i] = average_precision_score(Y_test[:, i], y_score[:, i])\n",
        "\n",
        "  # A \"micro-average\": quantifying score on all classes jointly\n",
        "  precision[\"micro\"], recall[\"micro\"], _ = precision_recall_curve(\n",
        "      Y_test.ravel(), y_score.ravel()\n",
        "  )\n",
        "  average_precision[\"micro\"] = average_precision_score(Y_test, y_score, average=\"micro\")\n",
        "  average_precision[\"macro\"] = average_precision_score(Y_test, y_score, average=\"macro\")\n",
        "  print(average_precision[\"micro\"])\n",
        "  print(average_precision[\"macro\"])"
      ]
    },
    {
      "cell_type": "code",
      "execution_count": 33,
      "metadata": {
        "id": "ajf5FRFzsCVH"
      },
      "outputs": [],
      "source": [
        "if n_classes == 3 :\n",
        "  display = PrecisionRecallDisplay(\n",
        "      recall=recall[\"micro\"],\n",
        "      precision=precision[\"micro\"],\n",
        "      average_precision=average_precision[\"micro\"],\n",
        "  )\n",
        "  display.plot()\n",
        "  _ = display.ax_.set_title(\"Micro-averaged over all classes\")"
      ]
    },
    {
      "cell_type": "code",
      "execution_count": 34,
      "metadata": {
        "colab": {
          "base_uri": "https://localhost:8080/",
          "height": 296
        },
        "id": "u2fbVR43xIw_",
        "outputId": "4cc67486-7ab0-4b29-a795-43ab62e6ec0b"
      },
      "outputs": [
        {
          "output_type": "stream",
          "name": "stdout",
          "text": [
            "Model: ROC AUC=0.933\n"
          ]
        },
        {
          "output_type": "display_data",
          "data": {
            "text/plain": [
              "<Figure size 432x288 with 1 Axes>"
            ],
            "image/png": "[encoded data removed]"
          },
          "metadata": {
            "needs_background": "light"
          }
        }
      ],
      "source": [
        "\n",
        "lr_auc = roc_auc_score(datahead['y_real'],datahead['y_predfrac1'])\n",
        "# summarize scores\n",
        "\n",
        "print('Model: ROC AUC=%.3f' % (lr_auc))\n",
        "# calculate roc curves\n",
        "\n",
        "lr_fpr, lr_tpr, _ = roc_curve(datahead['y_real'],datahead['y_predfrac1'])\n",
        "# plot the roc curve for the model\n",
        "pyplot.plot(lr_fpr, lr_tpr, marker='.', label='Model')\n",
        "# axis labels\n",
        "pyplot.xlabel('False Positive Rate')\n",
        "pyplot.ylabel('True Positive Rate')\n",
        "# show the legend\n",
        "pyplot.legend()\n",
        "# show the plot\n",
        "pyplot.show()"
      ]
    },
    {
      "cell_type": "code",
      "execution_count": 35,
      "metadata": {
        "colab": {
          "base_uri": "https://localhost:8080/",
          "height": 296
        },
        "id": "XtF30uBnxM3O",
        "outputId": "e0689887-abe5-44d7-e1fd-fc93bf1c2c7f"
      },
      "outputs": [
        {
          "output_type": "stream",
          "name": "stdout",
          "text": [
            "Logistic: f1=0.883 auc=0.929\n"
          ]
        },
        {
          "output_type": "display_data",
          "data": {
            "text/plain": [
              "<Figure size 432x288 with 1 Axes>"
            ],
            "image/png": "[encoded data removed]"
          },
          "metadata": {
            "needs_background": "light"
          }
        }
      ],
      "source": [
        "lr_precision, lr_recall, _ = precision_recall_curve(datahead['y_real'],datahead['y_predfrac1'])\n",
        "lr_f1, lr_auc = f1_score(datahead['y_real'], datahead['y_pred']), metrics.auc(lr_recall, lr_precision)\n",
        "# summarize scores\n",
        "print('Logistic: f1=%.3f auc=%.3f' % (lr_f1, lr_auc))\n",
        "# plot the precision-recall curves\n",
        "no_skill = len(datahead['y_real'][datahead['y_real']==1]) / len(datahead['y_real'])\n",
        "pyplot.plot([0, 1], [no_skill, no_skill], linestyle='--', label='No Skill')\n",
        "pyplot.plot(lr_recall, lr_precision, marker='.', label='Logistic')\n",
        "# axis labels\n",
        "pyplot.xlabel('Recall')\n",
        "pyplot.ylabel('Precision')\n",
        "# show the legend\n",
        "pyplot.legend()\n",
        "# show the plot\n",
        "pyplot.show()"
      ]
    },
    {
      "cell_type": "code",
      "execution_count": 36,
      "metadata": {
        "colab": {
          "base_uri": "https://localhost:8080/"
        },
        "id": "eYrKc4JCxNZe",
        "outputId": "97468377-12f9-4207-b875-f73ac5f517bd"
      },
      "outputs": [
        {
          "output_type": "execute_result",
          "data": {
            "text/plain": [
              "0.9292178448765405"
            ]
          },
          "metadata": {},
          "execution_count": 36
        }
      ],
      "source": [
        "\n",
        "\n",
        "precision, recall, thresholds  = precision_recall_curve(datahead['y_real'], datahead['y_predfrac1'])\n",
        "auc_score = metrics.auc(recall, precision)\n",
        "auc_score"
      ]
    },
    {
      "cell_type": "code",
      "execution_count": 36,
      "metadata": {
        "id": "MQzaQ6NGrrQt"
      },
      "outputs": [],
      "source": [
        ""
      ]
    }
  ],
  "metadata": {
    "accelerator": "GPU",
    "colab": {
      "collapsed_sections": [],
      "machine_shape": "hm",
      "name": "variational(adjacency).ipynb",
      "provenance": []
    },
    "kernelspec": {
      "display_name": "Python 3",
      "name": "python3"
    },
    "language_info": {
      "name": "python"
    }
  },
  "nbformat": 4,
  "nbformat_minor": 0
}