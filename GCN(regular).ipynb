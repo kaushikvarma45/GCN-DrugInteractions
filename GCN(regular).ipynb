{
  "nbformat": 4,
  "nbformat_minor": 0,
  "metadata": {
    "colab": {
      "name": "GCN(regular).ipynb",
      "provenance": [],
      "collapsed_sections": []
    },
    "kernelspec": {
      "name": "python3",
      "display_name": "Python 3"
    },
    "language_info": {
      "name": "python"
    },
    "accelerator": "GPU"
  },
  "cells": [
    {
      "cell_type": "code",
      "execution_count": null,
      "metadata": {
        "id": "2kh0Gmx1F8vW"
      },
      "outputs": [],
      "source": [
        ""
      ]
    },
    {
      "cell_type": "code",
      "source": [
        "# Install required packages.\n",
        "import os\n",
        "import torch\n",
        "os.environ['TORCH'] = torch.__version__\n",
        "print(torch.__version__)\n",
        "\n",
        "!pip install -q torch-scatter -f https://data.pyg.org/whl/torch-${TORCH}.html\n",
        "!pip install -q torch-sparse -f https://data.pyg.org/whl/torch-${TORCH}.html\n",
        "!pip install -q git+https://github.com/pyg-team/pytorch_geometric.git\n",
        "\n",
        "# Helper function for visualization.\n",
        "%matplotlib inline\n",
        "import networkx as nx\n",
        "import matplotlib.pyplot as plt\n"
      ],
      "metadata": {
        "id": "b9BnWv4lGh4R",
        "colab": {
          "base_uri": "https://localhost:8080/"
        },
        "outputId": "57f40519-7085-422d-bef4-a64429f2f068"
      },
      "execution_count": 1,
      "outputs": [
        {
          "output_type": "stream",
          "name": "stdout",
          "text": [
            "1.11.0+cu113\n",
            "\u001b[K     |████████████████████████████████| 7.9 MB 2.7 MB/s \n",
            "\u001b[K     |████████████████████████████████| 3.5 MB 3.6 MB/s \n",
            "\u001b[?25h  Building wheel for torch-geometric (setup.py) ... \u001b[?25l\u001b[?25hdone\n"
          ]
        }
      ]
    },
    {
      "cell_type": "code",
      "source": [
        "pip install deepchem"
      ],
      "metadata": {
        "colab": {
          "base_uri": "https://localhost:8080/"
        },
        "id": "UE4ExV1J--z2",
        "outputId": "efd292c1-d801-461c-d0cf-fa03551f584f"
      },
      "execution_count": 2,
      "outputs": [
        {
          "output_type": "stream",
          "name": "stdout",
          "text": [
            "Looking in indexes: https://pypi.org/simple, https://us-python.pkg.dev/colab-wheels/public/simple/\n",
            "Collecting deepchem\n",
            "  Downloading deepchem-2.6.1-py3-none-any.whl (608 kB)\n",
            "\u001b[K     |████████████████████████████████| 608 kB 5.1 MB/s \n",
            "\u001b[?25hRequirement already satisfied: scikit-learn in /usr/local/lib/python3.7/dist-packages (from deepchem) (1.0.2)\n",
            "Requirement already satisfied: scipy in /usr/local/lib/python3.7/dist-packages (from deepchem) (1.4.1)\n",
            "Collecting rdkit-pypi\n",
            "  Downloading rdkit_pypi-2022.3.3-cp37-cp37m-manylinux_2_17_x86_64.manylinux2014_x86_64.whl (22.7 MB)\n",
            "\u001b[K     |████████████████████████████████| 22.7 MB 1.4 MB/s \n",
            "\u001b[?25hRequirement already satisfied: numpy>=1.21 in /usr/local/lib/python3.7/dist-packages (from deepchem) (1.21.6)\n",
            "Requirement already satisfied: pandas in /usr/local/lib/python3.7/dist-packages (from deepchem) (1.3.5)\n",
            "Requirement already satisfied: joblib in /usr/local/lib/python3.7/dist-packages (from deepchem) (1.1.0)\n",
            "Requirement already satisfied: pytz>=2017.3 in /usr/local/lib/python3.7/dist-packages (from pandas->deepchem) (2022.1)\n",
            "Requirement already satisfied: python-dateutil>=2.7.3 in /usr/local/lib/python3.7/dist-packages (from pandas->deepchem) (2.8.2)\n",
            "Requirement already satisfied: six>=1.5 in /usr/local/lib/python3.7/dist-packages (from python-dateutil>=2.7.3->pandas->deepchem) (1.15.0)\n",
            "Requirement already satisfied: Pillow in /usr/local/lib/python3.7/dist-packages (from rdkit-pypi->deepchem) (7.1.2)\n",
            "Requirement already satisfied: threadpoolctl>=2.0.0 in /usr/local/lib/python3.7/dist-packages (from scikit-learn->deepchem) (3.1.0)\n",
            "Installing collected packages: rdkit-pypi, deepchem\n",
            "Successfully installed deepchem-2.6.1 rdkit-pypi-2022.3.3\n"
          ]
        }
      ]
    },
    {
      "cell_type": "code",
      "source": [
        "import torch\n",
        "import pandas as pd\n",
        "import numpy as np\n",
        "import torch_geometric.transforms as T\n",
        "import torch_geometric\n",
        "from torch_geometric.data import Dataset\n",
        "import numpy as np \n",
        "import os\n",
        "import deepchem as dc\n",
        "import torch.nn as nn\n",
        "from torch.nn import Linear,BatchNorm1d\n",
        "from torch_geometric.nn import GCNConv,GATConv\n",
        "from torch_geometric.nn import BatchNorm\n",
        "from tqdm import tqdm\n",
        "from torch_geometric.data import DataLoader\n",
        "from sklearn.metrics import roc_curve\n",
        "from sklearn.metrics import roc_auc_score\n",
        "from sklearn.metrics import precision_recall_curve\n",
        "from matplotlib import pyplot\n",
        "from sklearn import metrics\n",
        "from sklearn.preprocessing import label_binarize\n",
        "from sklearn.metrics import average_precision_score\n",
        "import seaborn as sns\n",
        "import pandas as pd \n",
        "from sklearn.metrics import f1_score\n",
        "from sklearn.metrics import confusion_matrix\n",
        "import math\n",
        "from sklearn.metrics import accuracy_score\n",
        "import warnings\n",
        "warnings.filterwarnings(\"ignore\")"
      ],
      "metadata": {
        "id": "wl77uCO1Gpz4"
      },
      "execution_count": 25,
      "outputs": []
    },
    {
      "cell_type": "code",
      "source": [
        "import pandas as pd\n",
        "\n",
        "data = pd.read_csv('raw/totalData.csv')\n",
        "\n",
        "data.head() "
      ],
      "metadata": {
        "colab": {
          "base_uri": "https://localhost:8080/",
          "height": 204
        },
        "id": "fuLcmlcxc5xW",
        "outputId": "e492b43e-5130-4eea-d3c1-38f2afb2e23e"
      },
      "execution_count": 4,
      "outputs": [
        {
          "output_type": "execute_result",
          "data": {
            "text/plain": [
              "   Unnamed: 0 Drug1_ID                                       Drug1_SMILES\n",
              "0           0  DB00706   CCOc1ccccc1OCCN[C@H](C)Cc1ccc(OC)c(S(N)(=O)=O)c1\n",
              "1           1  DB01023    CCOC(=O)C1=C(C)NC(C)=C(C(=O)OC)C1c1cccc(Cl)c1Cl\n",
              "2           2   3849.0  C[C@@H](Oc1ccc2[nH]nc(/C=C/c3cnn(CCO)c3)c2c1)c...\n",
              "3           3   3515.0      COc1ccc2c(c1)c(CC(=O)O)c(C)n2C(=O)c1ccc(I)cc1\n",
              "4           4   6380.0                      O=P(O)(O)OCCCc1c[nH]c2ccccc12"
            ],
            "text/html": [
              "\n",
              "  <div id=\"df-0beb3906-7a3a-4b5d-a465-22a9935c1247\">\n",
              "    <div class=\"colab-df-container\">\n",
              "      <div>\n",
              "<style scoped>\n",
              "    .dataframe tbody tr th:only-of-type {\n",
              "        vertical-align: middle;\n",
              "    }\n",
              "\n",
              "    .dataframe tbody tr th {\n",
              "        vertical-align: top;\n",
              "    }\n",
              "\n",
              "    .dataframe thead th {\n",
              "        text-align: right;\n",
              "    }\n",
              "</style>\n",
              "<table border=\"1\" class=\"dataframe\">\n",
              "  <thead>\n",
              "    <tr style=\"text-align: right;\">\n",
              "      <th></th>\n",
              "      <th>Unnamed: 0</th>\n",
              "      <th>Drug1_ID</th>\n",
              "      <th>Drug1_SMILES</th>\n",
              "    </tr>\n",
              "  </thead>\n",
              "  <tbody>\n",
              "    <tr>\n",
              "      <th>0</th>\n",
              "      <td>0</td>\n",
              "      <td>DB00706</td>\n",
              "      <td>CCOc1ccccc1OCCN[C@H](C)Cc1ccc(OC)c(S(N)(=O)=O)c1</td>\n",
              "    </tr>\n",
              "    <tr>\n",
              "      <th>1</th>\n",
              "      <td>1</td>\n",
              "      <td>DB01023</td>\n",
              "      <td>CCOC(=O)C1=C(C)NC(C)=C(C(=O)OC)C1c1cccc(Cl)c1Cl</td>\n",
              "    </tr>\n",
              "    <tr>\n",
              "      <th>2</th>\n",
              "      <td>2</td>\n",
              "      <td>3849.0</td>\n",
              "      <td>C[C@@H](Oc1ccc2[nH]nc(/C=C/c3cnn(CCO)c3)c2c1)c...</td>\n",
              "    </tr>\n",
              "    <tr>\n",
              "      <th>3</th>\n",
              "      <td>3</td>\n",
              "      <td>3515.0</td>\n",
              "      <td>COc1ccc2c(c1)c(CC(=O)O)c(C)n2C(=O)c1ccc(I)cc1</td>\n",
              "    </tr>\n",
              "    <tr>\n",
              "      <th>4</th>\n",
              "      <td>4</td>\n",
              "      <td>6380.0</td>\n",
              "      <td>O=P(O)(O)OCCCc1c[nH]c2ccccc12</td>\n",
              "    </tr>\n",
              "  </tbody>\n",
              "</table>\n",
              "</div>\n",
              "      <button class=\"colab-df-convert\" onclick=\"convertToInteractive('df-0beb3906-7a3a-4b5d-a465-22a9935c1247')\"\n",
              "              title=\"Convert this dataframe to an interactive table.\"\n",
              "              style=\"display:none;\">\n",
              "        \n",
              "  <svg xmlns=\"http://www.w3.org/2000/svg\" height=\"24px\"viewBox=\"0 0 24 24\"\n",
              "       width=\"24px\">\n",
              "    <path d=\"M0 0h24v24H0V0z\" fill=\"none\"/>\n",
              "    <path d=\"M18.56 5.44l.94 2.06.94-2.06 2.06-.94-2.06-.94-.94-2.06-.94 2.06-2.06.94zm-11 1L8.5 8.5l.94-2.06 2.06-.94-2.06-.94L8.5 2.5l-.94 2.06-2.06.94zm10 10l.94 2.06.94-2.06 2.06-.94-2.06-.94-.94-2.06-.94 2.06-2.06.94z\"/><path d=\"M17.41 7.96l-1.37-1.37c-.4-.4-.92-.59-1.43-.59-.52 0-1.04.2-1.43.59L10.3 9.45l-7.72 7.72c-.78.78-.78 2.05 0 2.83L4 21.41c.39.39.9.59 1.41.59.51 0 1.02-.2 1.41-.59l7.78-7.78 2.81-2.81c.8-.78.8-2.07 0-2.86zM5.41 20L4 18.59l7.72-7.72 1.47 1.35L5.41 20z\"/>\n",
              "  </svg>\n",
              "      </button>\n",
              "      \n",
              "  <style>\n",
              "    .colab-df-container {\n",
              "      display:flex;\n",
              "      flex-wrap:wrap;\n",
              "      gap: 12px;\n",
              "    }\n",
              "\n",
              "    .colab-df-convert {\n",
              "      background-color: #E8F0FE;\n",
              "      border: none;\n",
              "      border-radius: 50%;\n",
              "      cursor: pointer;\n",
              "      display: none;\n",
              "      fill: #1967D2;\n",
              "      height: 32px;\n",
              "      padding: 0 0 0 0;\n",
              "      width: 32px;\n",
              "    }\n",
              "\n",
              "    .colab-df-convert:hover {\n",
              "      background-color: #E2EBFA;\n",
              "      box-shadow: 0px 1px 2px rgba(60, 64, 67, 0.3), 0px 1px 3px 1px rgba(60, 64, 67, 0.15);\n",
              "      fill: #174EA6;\n",
              "    }\n",
              "\n",
              "    [theme=dark] .colab-df-convert {\n",
              "      background-color: #3B4455;\n",
              "      fill: #D2E3FC;\n",
              "    }\n",
              "\n",
              "    [theme=dark] .colab-df-convert:hover {\n",
              "      background-color: #434B5C;\n",
              "      box-shadow: 0px 1px 3px 1px rgba(0, 0, 0, 0.15);\n",
              "      filter: drop-shadow(0px 1px 2px rgba(0, 0, 0, 0.3));\n",
              "      fill: #FFFFFF;\n",
              "    }\n",
              "  </style>\n",
              "\n",
              "      <script>\n",
              "        const buttonEl =\n",
              "          document.querySelector('#df-0beb3906-7a3a-4b5d-a465-22a9935c1247 button.colab-df-convert');\n",
              "        buttonEl.style.display =\n",
              "          google.colab.kernel.accessAllowed ? 'block' : 'none';\n",
              "\n",
              "        async function convertToInteractive(key) {\n",
              "          const element = document.querySelector('#df-0beb3906-7a3a-4b5d-a465-22a9935c1247');\n",
              "          const dataTable =\n",
              "            await google.colab.kernel.invokeFunction('convertToInteractive',\n",
              "                                                     [key], {});\n",
              "          if (!dataTable) return;\n",
              "\n",
              "          const docLinkHtml = 'Like what you see? Visit the ' +\n",
              "            '<a target=\"_blank\" href=https://colab.research.google.com/notebooks/data_table.ipynb>data table notebook</a>'\n",
              "            + ' to learn more about interactive tables.';\n",
              "          element.innerHTML = '';\n",
              "          dataTable['output_type'] = 'display_data';\n",
              "          await google.colab.output.renderOutput(dataTable, element);\n",
              "          const docLink = document.createElement('div');\n",
              "          docLink.innerHTML = docLinkHtml;\n",
              "          element.appendChild(docLink);\n",
              "        }\n",
              "      </script>\n",
              "    </div>\n",
              "  </div>\n",
              "  "
            ]
          },
          "metadata": {},
          "execution_count": 4
        }
      ]
    },
    {
      "cell_type": "code",
      "source": [
        ""
      ],
      "metadata": {
        "id": "g7Z_bp7Gicz1"
      },
      "execution_count": 4,
      "outputs": []
    },
    {
      "cell_type": "code",
      "source": [
        "\n",
        "\n",
        "print(f\"Torch version: {torch.__version__}\")\n",
        "print(f\"Cuda available: {torch.cuda.is_available()}\")\n",
        "print(f\"Torch geometric version: {torch_geometric.__version__}\")\n",
        "\n",
        "remove = []\n",
        "\n",
        "class MoleculeDataset(Dataset):\n",
        "    def __init__(self, root, filename, test=False, transform=None, pre_transform=None):\n",
        "        \"\"\"\n",
        "        root = Where the dataset should be stored. This folder is split\n",
        "        into raw_dir (downloaded dataset) and processed_dir (processed data). \n",
        "        \"\"\"\n",
        "        self.test = test\n",
        "        self.filename = filename\n",
        "        self.sz = 0\n",
        "        super(MoleculeDataset, self).__init__(root, transform, pre_transform)\n",
        "        \n",
        "    @property\n",
        "    def raw_file_names(self):\n",
        "        \"\"\" If this file exists in raw_dir, the download is not triggered.\n",
        "            (The download func. is not implemented here)  \n",
        "        \"\"\"\n",
        "        return self.filename\n",
        "\n",
        "    @property\n",
        "    def processed_file_names(self):\n",
        "        \"\"\" If these files are found in raw_dir, processing is skipped\"\"\"\n",
        "        self.data = pd.read_csv(self.raw_paths[0]).reset_index()\n",
        "\n",
        "        if self.test:\n",
        "            return [f'data_test_{i}.pt' for i in list(self.data.index)]\n",
        "        else:\n",
        "            return [f'data_{i}.pt' for i in list(self.data.index)]\n",
        "        \n",
        "\n",
        "    def download(self):\n",
        "        pass\n",
        "\n",
        "    def process(self):\n",
        "        self.data = pd.read_csv(self.raw_paths[0]).reset_index()\n",
        "        featurizer = dc.feat.MolGraphConvFeaturizer(use_edges=True)\n",
        "        count = 0\n",
        "        for index, mol in tqdm(self.data.iterrows(), total=self.data.shape[0]):\n",
        "            # Featurize molecule\n",
        "            if type(mol[\"Drug1_SMILES\"])==float:\n",
        "              remove.append(mol[\"Drug1_ID\"])\n",
        "              continue\n",
        "            f = featurizer.featurize(mol[\"Drug1_SMILES\"])\n",
        "            if not f : \n",
        "              remove.append(mol[\"Drug1_ID\"])\n",
        "              print(count)\n",
        "              continue\n",
        "            data = f[0].to_pyg_graph()\n",
        "            data.y = 1\n",
        "            data.smiles = mol[\"Drug1_SMILES\"]\n",
        "            data.id = mol[\"Drug1_ID\"]\n",
        "            if self.test:\n",
        "                torch.save(data, \n",
        "                    os.path.join(self.processed_dir, \n",
        "                                f'data_test_{count}.pt'))\n",
        "            else:\n",
        "                torch.save(data, \n",
        "                    os.path.join(self.processed_dir, \n",
        "                                f'data_{count}.pt'))\n",
        "            count+=1\n",
        "        self.sz = count\n",
        "\n",
        "    def _get_label(self, label):\n",
        "        label = np.asarray([label])\n",
        "        return torch.tensor(label, dtype=torch.int64)\n",
        "\n",
        "    def len(self):\n",
        "        return self.sz\n",
        "        #return self.data.shape[0]\n",
        "\n",
        "    def get(self, idx):\n",
        "        \"\"\" - Equivalent to __getitem__ in pytorch\n",
        "            - Is not needed for PyG's InMemoryDataset\n",
        "        \"\"\"\n",
        "        if self.test:\n",
        "            data = torch.load(os.path.join(self.processed_dir, \n",
        "                                 f'data_test_{idx}.pt'))\n",
        "        else:\n",
        "            data = torch.load(os.path.join(self.processed_dir, \n",
        "                                 f'data_{idx}.pt'))        \n",
        "        return data\n",
        "\n",
        "encoder_set = MoleculeDataset(\"\",\"totalData.csv\")"
      ],
      "metadata": {
        "colab": {
          "base_uri": "https://localhost:8080/"
        },
        "id": "bGfB5EZPG_Ui",
        "outputId": "b31b2fa9-d233-40a7-8a21-d2622b9b1c92"
      },
      "execution_count": 5,
      "outputs": [
        {
          "output_type": "stream",
          "name": "stderr",
          "text": [
            "Processing...\n"
          ]
        },
        {
          "output_type": "stream",
          "name": "stdout",
          "text": [
            "Torch version: 1.11.0+cu113\n",
            "Cuda available: True\n",
            "Torch geometric version: 2.0.5\n"
          ]
        },
        {
          "output_type": "stream",
          "name": "stderr",
          "text": [
            "  1%|          | 60/10951 [00:00<01:38, 110.02it/s]Failed to featurize datapoint 0, [Mg+2].[OH-].[OH-]. Appending empty array\n",
            "Exception message: zero-size array to reduction operation maximum which has no identity\n",
            "  1%|          | 72/10951 [00:00<01:48, 99.99it/s] Failed to featurize datapoint 0, [Gd+3]. Appending empty array\n",
            "Exception message: More than one atom should be present in the molecule for this featurizer to work.\n",
            "  1%|          | 83/10951 [00:00<01:52, 96.32it/s]"
          ]
        },
        {
          "output_type": "stream",
          "name": "stdout",
          "text": [
            "68\n",
            "76\n"
          ]
        },
        {
          "output_type": "stream",
          "name": "stderr",
          "text": [
            "  1%|▏         | 147/10951 [00:02<02:38, 68.27it/s]Failed to featurize datapoint 0, [81Kr]. Appending empty array\n",
            "Exception message: More than one atom should be present in the molecule for this featurizer to work.\n",
            "  1%|▏         | 157/10951 [00:02<02:34, 69.83it/s]Failed to featurize datapoint 0, [Li+]. Appending empty array\n",
            "Exception message: More than one atom should be present in the molecule for this featurizer to work.\n",
            "  2%|▏         | 169/10951 [00:02<02:14, 80.29it/s]"
          ]
        },
        {
          "output_type": "stream",
          "name": "stdout",
          "text": [
            "149\n",
            "163\n"
          ]
        },
        {
          "output_type": "stream",
          "name": "stderr",
          "text": [
            "  3%|▎         | 344/10951 [00:05<01:49, 96.83it/s]Failed to featurize datapoint 0, [Al+3].[OH-].[OH-].[OH-]. Appending empty array\n",
            "Exception message: zero-size array to reduction operation maximum which has no identity\n",
            "  3%|▎         | 366/10951 [00:05<01:53, 93.62it/s] "
          ]
        },
        {
          "output_type": "stream",
          "name": "stdout",
          "text": [
            "349\n"
          ]
        },
        {
          "output_type": "stream",
          "name": "stderr",
          "text": [
            "  4%|▍         | 419/10951 [00:05<01:41, 104.16it/s]Failed to featurize datapoint 0, [I-].[K+]. Appending empty array\n",
            "Exception message: zero-size array to reduction operation maximum which has no identity\n",
            "  4%|▍         | 430/10951 [00:06<01:55, 91.47it/s] Failed to featurize datapoint 0, [Sb+5]. Appending empty array\n",
            "Exception message: More than one atom should be present in the molecule for this featurizer to work.\n"
          ]
        },
        {
          "output_type": "stream",
          "name": "stdout",
          "text": [
            "420\n",
            "427\n"
          ]
        },
        {
          "output_type": "stream",
          "name": "stderr",
          "text": [
            "  4%|▍         | 492/10951 [00:07<03:13, 53.93it/s]Failed to featurize datapoint 0, [Cr+3]. Appending empty array\n",
            "Exception message: More than one atom should be present in the molecule for this featurizer to work.\n",
            "  5%|▍         | 505/10951 [00:07<03:10, 54.87it/s]"
          ]
        },
        {
          "output_type": "stream",
          "name": "stdout",
          "text": [
            "491\n"
          ]
        },
        {
          "output_type": "stream",
          "name": "stderr",
          "text": [
            "  5%|▌         | 597/10951 [00:09<04:01, 42.83it/s]Failed to featurize datapoint 0, [Fe]. Appending empty array\n",
            "Exception message: More than one atom should be present in the molecule for this featurizer to work.\n",
            "  5%|▌         | 602/10951 [00:09<04:07, 41.84it/s]"
          ]
        },
        {
          "output_type": "stream",
          "name": "stdout",
          "text": [
            "590\n"
          ]
        },
        {
          "output_type": "stream",
          "name": "stderr",
          "text": [
            "  6%|▌         | 635/10951 [00:10<05:11, 33.15it/s]Failed to featurize datapoint 0, [Cl-].[Cl-].[Mg+2]. Appending empty array\n",
            "Exception message: zero-size array to reduction operation maximum which has no identity\n",
            "  6%|▌         | 648/10951 [00:10<04:04, 42.06it/s]"
          ]
        },
        {
          "output_type": "stream",
          "name": "stdout",
          "text": [
            "629\n"
          ]
        },
        {
          "output_type": "stream",
          "name": "stderr",
          "text": [
            "  8%|▊         | 919/10951 [00:18<07:43, 21.62it/s]Failed to featurize datapoint 0, [Mg+2].[O-2]. Appending empty array\n",
            "Exception message: zero-size array to reduction operation maximum which has no identity\n",
            "  8%|▊         | 925/10951 [00:19<07:43, 21.61it/s]"
          ]
        },
        {
          "output_type": "stream",
          "name": "stdout",
          "text": [
            "911\n"
          ]
        },
        {
          "output_type": "stream",
          "name": "stderr",
          "text": [
            "  9%|▊         | 943/10951 [00:19<04:40, 35.74it/s]Failed to featurize datapoint 0, [13NH3]. Appending empty array\n",
            "Exception message: More than one atom should be present in the molecule for this featurizer to work.\n",
            "  9%|▊         | 949/10951 [00:19<04:06, 40.56it/s]"
          ]
        },
        {
          "output_type": "stream",
          "name": "stdout",
          "text": [
            "934\n"
          ]
        },
        {
          "output_type": "stream",
          "name": "stderr",
          "text": [
            "  9%|▉         | 1017/10951 [00:22<06:26, 25.71it/s]Failed to featurize datapoint 0, [Zn+2]. Appending empty array\n",
            "Exception message: More than one atom should be present in the molecule for this featurizer to work.\n",
            "  9%|▉         | 1026/10951 [00:22<05:40, 29.18it/s]"
          ]
        },
        {
          "output_type": "stream",
          "name": "stdout",
          "text": [
            "1008\n"
          ]
        },
        {
          "output_type": "stream",
          "name": "stderr",
          "text": [
            " 11%|█         | 1214/10951 [00:27<04:05, 39.70it/s]Failed to featurize datapoint 0, [I-].[K+]. Appending empty array\n",
            "Exception message: zero-size array to reduction operation maximum which has no identity\n",
            " 11%|█         | 1228/10951 [00:27<03:18, 48.90it/s]"
          ]
        },
        {
          "output_type": "stream",
          "name": "stdout",
          "text": [
            "1205\n"
          ]
        },
        {
          "output_type": "stream",
          "name": "stderr",
          "text": [
            "\r 11%|█▏        | 1236/10951 [00:28<03:08, 51.63it/s]Failed to featurize datapoint 0, [131I-]. Appending empty array\n",
            "Exception message: More than one atom should be present in the molecule for this featurizer to work.\n",
            " 11%|█▏        | 1242/10951 [00:28<03:22, 48.00it/s]"
          ]
        },
        {
          "output_type": "stream",
          "name": "stdout",
          "text": [
            "1224\n"
          ]
        },
        {
          "output_type": "stream",
          "name": "stderr",
          "text": [
            " 12%|█▏        | 1285/10951 [00:29<03:45, 42.91it/s]Failed to featurize datapoint 0, [Cl-].[NH4+]. Appending empty array\n",
            "Exception message: zero-size array to reduction operation maximum which has no identity\n",
            " 12%|█▏        | 1296/10951 [00:29<03:29, 46.07it/s]"
          ]
        },
        {
          "output_type": "stream",
          "name": "stdout",
          "text": [
            "1271\n"
          ]
        },
        {
          "output_type": "stream",
          "name": "stderr",
          "text": [
            " 12%|█▏        | 1316/10951 [00:30<03:57, 40.56it/s]Failed to featurize datapoint 0, [89Sr+2]. Appending empty array\n",
            "Exception message: More than one atom should be present in the molecule for this featurizer to work.\n",
            " 12%|█▏        | 1326/10951 [00:30<04:26, 36.17it/s]"
          ]
        },
        {
          "output_type": "stream",
          "name": "stdout",
          "text": [
            "1304\n"
          ]
        },
        {
          "output_type": "stream",
          "name": "stderr",
          "text": [
            " 14%|█▍        | 1523/10951 [00:34<02:05, 74.91it/s]Failed to featurize datapoint 0, [3He]. Appending empty array\n",
            "Exception message: More than one atom should be present in the molecule for this featurizer to work.\n",
            " 14%|█▍        | 1546/10951 [00:35<01:55, 81.18it/s]"
          ]
        },
        {
          "output_type": "stream",
          "name": "stdout",
          "text": [
            "1518\n"
          ]
        },
        {
          "output_type": "stream",
          "name": "stderr",
          "text": [
            "\r 14%|█▍        | 1558/10951 [00:35<01:44, 89.67it/s]Failed to featurize datapoint 0, [Cl-].[K+]. Appending empty array\n",
            "Exception message: zero-size array to reduction operation maximum which has no identity\n",
            " 14%|█▍        | 1571/10951 [00:35<01:35, 97.77it/s]Failed to featurize datapoint 0, [La+3]. Appending empty array\n",
            "Exception message: More than one atom should be present in the molecule for this featurizer to work.\n",
            "Failed to featurize datapoint 0, [Zn]. Appending empty array\n",
            "Exception message: More than one atom should be present in the molecule for this featurizer to work.\n",
            " 14%|█▍        | 1582/10951 [00:35<01:43, 90.47it/s]"
          ]
        },
        {
          "output_type": "stream",
          "name": "stdout",
          "text": [
            "1545\n",
            "1554\n",
            "1554\n"
          ]
        },
        {
          "output_type": "stream",
          "name": "stderr",
          "text": [
            " 15%|█▌        | 1671/10951 [00:38<06:35, 23.49it/s]Failed to featurize datapoint 0, [Co]. Appending empty array\n",
            "Exception message: More than one atom should be present in the molecule for this featurizer to work.\n",
            " 15%|█▌        | 1690/10951 [00:38<04:30, 34.29it/s]"
          ]
        },
        {
          "output_type": "stream",
          "name": "stdout",
          "text": [
            "1656\n"
          ]
        },
        {
          "output_type": "stream",
          "name": "stderr",
          "text": [
            " 17%|█▋        | 1823/10951 [00:40<02:20, 64.85it/s]Failed to featurize datapoint 0, O.O.O.O.[98Tc-]. Appending empty array\n",
            "Exception message: zero-size array to reduction operation maximum which has no identity\n",
            " 17%|█▋        | 1845/10951 [00:40<01:51, 81.47it/s]"
          ]
        },
        {
          "output_type": "stream",
          "name": "stdout",
          "text": [
            "1811\n"
          ]
        },
        {
          "output_type": "stream",
          "name": "stderr",
          "text": [
            " 18%|█▊        | 1931/10951 [00:41<01:45, 85.82it/s]Failed to featurize datapoint 0, [Na+]. Appending empty array\n",
            "Exception message: More than one atom should be present in the molecule for this featurizer to work.\n",
            " 18%|█▊        | 1941/10951 [00:41<02:07, 70.61it/s]"
          ]
        },
        {
          "output_type": "stream",
          "name": "stdout",
          "text": [
            "1913\n"
          ]
        },
        {
          "output_type": "stream",
          "name": "stderr",
          "text": [
            " 18%|█▊        | 1959/10951 [00:41<01:56, 76.90it/s]Failed to featurize datapoint 0, [Cl-].[Cl-].[Sn+2]. Appending empty array\n",
            "Exception message: zero-size array to reduction operation maximum which has no identity\n",
            " 18%|█▊        | 1980/10951 [00:41<01:45, 84.65it/s]Failed to featurize datapoint 0, [Mg+2].[OH-].[OH-]. Appending empty array\n",
            "Exception message: zero-size array to reduction operation maximum which has no identity\n"
          ]
        },
        {
          "output_type": "stream",
          "name": "stdout",
          "text": [
            "1942\n",
            "1961\n"
          ]
        },
        {
          "output_type": "stream",
          "name": "stderr",
          "text": [
            " 19%|█▉        | 2133/10951 [00:43<01:19, 111.58it/s]Failed to featurize datapoint 0, O. Appending empty array\n",
            "Exception message: More than one atom should be present in the molecule for this featurizer to work.\n",
            " 20%|█▉        | 2157/10951 [00:43<01:24, 104.23it/s]"
          ]
        },
        {
          "output_type": "stream",
          "name": "stdout",
          "text": [
            "2116\n"
          ]
        },
        {
          "output_type": "stream",
          "name": "stderr",
          "text": [
            " 24%|██▍       | 2664/10951 [00:49<01:22, 100.52it/s]Failed to featurize datapoint 0, [89Sr+2].[Cl-].[Cl-]. Appending empty array\n",
            "Exception message: zero-size array to reduction operation maximum which has no identity\n",
            " 25%|██▍       | 2685/10951 [00:49<01:24, 98.21it/s]"
          ]
        },
        {
          "output_type": "stream",
          "name": "stdout",
          "text": [
            "2643\n"
          ]
        },
        {
          "output_type": "stream",
          "name": "stderr",
          "text": [
            " 26%|██▌       | 2813/10951 [00:50<01:22, 98.71it/s]Failed to featurize datapoint 0, [Cl-].[Cl-].[Zn+2]. Appending empty array\n",
            "Exception message: zero-size array to reduction operation maximum which has no identity\n",
            " 26%|██▌       | 2823/10951 [00:50<01:24, 96.06it/s]Failed to featurize datapoint 0, [Pt]. Appending empty array\n",
            "Exception message: More than one atom should be present in the molecule for this featurizer to work.\n",
            " 26%|██▌       | 2834/10951 [00:50<01:22, 98.03it/s]"
          ]
        },
        {
          "output_type": "stream",
          "name": "stdout",
          "text": [
            "2788\n",
            "2795\n"
          ]
        },
        {
          "output_type": "stream",
          "name": "stderr",
          "text": [
            "Failed to featurize datapoint 0, [223Ra+2]. Appending empty array\n",
            "Exception message: More than one atom should be present in the molecule for this featurizer to work.\n",
            " 26%|██▌       | 2844/10951 [00:50<01:24, 96.06it/s]Failed to featurize datapoint 0, [67Ga+3]. Appending empty array\n",
            "Exception message: More than one atom should be present in the molecule for this featurizer to work.\n",
            " 26%|██▌       | 2855/10951 [00:51<01:21, 99.84it/s]"
          ]
        },
        {
          "output_type": "stream",
          "name": "stdout",
          "text": [
            "2811\n",
            "2815\n"
          ]
        },
        {
          "output_type": "stream",
          "name": "stderr",
          "text": [
            " 26%|██▋       | 2876/10951 [00:51<01:25, 94.47it/s]Failed to featurize datapoint 0, [Ne]. Appending empty array\n",
            "Exception message: More than one atom should be present in the molecule for this featurizer to work.\n",
            " 26%|██▋       | 2887/10951 [00:51<01:29, 90.31it/s]"
          ]
        },
        {
          "output_type": "stream",
          "name": "stdout",
          "text": [
            "2848\n"
          ]
        },
        {
          "output_type": "stream",
          "name": "stderr",
          "text": [
            " 29%|██▊       | 3143/10951 [00:54<01:32, 84.22it/s]Failed to featurize datapoint 0, [32PH3]. Appending empty array\n",
            "Exception message: More than one atom should be present in the molecule for this featurizer to work.\n",
            " 29%|██▉       | 3156/10951 [00:54<01:21, 95.65it/s]Failed to featurize datapoint 0, [K+].[OH-]. Appending empty array\n",
            "Exception message: zero-size array to reduction operation maximum which has no identity\n",
            " 29%|██▉       | 3168/10951 [00:54<01:17, 101.06it/s]"
          ]
        },
        {
          "output_type": "stream",
          "name": "stdout",
          "text": [
            "3111\n",
            "3128\n"
          ]
        },
        {
          "output_type": "stream",
          "name": "stderr",
          "text": [
            " 30%|██▉       | 3236/10951 [00:55<01:15, 101.72it/s]Failed to featurize datapoint 0, [Ac]. Appending empty array\n",
            "Exception message: More than one atom should be present in the molecule for this featurizer to work.\n",
            " 30%|██▉       | 3248/10951 [00:55<01:13, 105.18it/s]Failed to featurize datapoint 0, F. Appending empty array\n",
            "Exception message: More than one atom should be present in the molecule for this featurizer to work.\n",
            " 30%|██▉       | 3259/10951 [00:55<01:14, 103.62it/s]"
          ]
        },
        {
          "output_type": "stream",
          "name": "stdout",
          "text": [
            "3212\n",
            "3222\n"
          ]
        },
        {
          "output_type": "stream",
          "name": "stderr",
          "text": [
            " 30%|███       | 3293/10951 [00:55<01:19, 96.34it/s] Failed to featurize datapoint 0, [Al+3].[Al+3].[O-2].[O-2].[O-2]. Appending empty array\n",
            "Exception message: zero-size array to reduction operation maximum which has no identity\n",
            " 30%|███       | 3303/10951 [00:55<01:32, 83.05it/s]"
          ]
        },
        {
          "output_type": "stream",
          "name": "stdout",
          "text": [
            "3258\n"
          ]
        },
        {
          "output_type": "stream",
          "name": "stderr",
          "text": [
            "\r 30%|███       | 3312/10951 [00:55<01:30, 84.22it/s]Failed to featurize datapoint 0, [Cl-]. Appending empty array\n",
            "Exception message: More than one atom should be present in the molecule for this featurizer to work.\n",
            " 30%|███       | 3334/10951 [00:56<01:38, 77.64it/s]"
          ]
        },
        {
          "output_type": "stream",
          "name": "stdout",
          "text": [
            "3283\n"
          ]
        },
        {
          "output_type": "stream",
          "name": "stderr",
          "text": [
            " 32%|███▏      | 3479/10951 [00:57<01:20, 92.49it/s]Failed to featurize datapoint 0, [Ag+]. Appending empty array\n",
            "Exception message: More than one atom should be present in the molecule for this featurizer to work.\n",
            " 32%|███▏      | 3489/10951 [00:58<01:22, 90.39it/s]"
          ]
        },
        {
          "output_type": "stream",
          "name": "stdout",
          "text": [
            "3444\n"
          ]
        },
        {
          "output_type": "stream",
          "name": "stderr",
          "text": [
            " 33%|███▎      | 3579/10951 [00:59<01:25, 86.13it/s]Failed to featurize datapoint 0, [Ca+2]. Appending empty array\n",
            "Exception message: More than one atom should be present in the molecule for this featurizer to work.\n",
            " 33%|███▎      | 3602/10951 [00:59<01:19, 92.03it/s]Failed to featurize datapoint 0, [Cl-].[NH4+]. Appending empty array\n",
            "Exception message: zero-size array to reduction operation maximum which has no identity\n"
          ]
        },
        {
          "output_type": "stream",
          "name": "stdout",
          "text": [
            "3546\n",
            "3563\n"
          ]
        },
        {
          "output_type": "stream",
          "name": "stderr",
          "text": [
            " 34%|███▍      | 3773/10951 [01:01<01:34, 75.65it/s]Failed to featurize datapoint 0, [Al+3].[OH-].[OH-].[OH-]. Appending empty array\n",
            "Exception message: zero-size array to reduction operation maximum which has no identity\n",
            " 35%|███▍      | 3784/10951 [01:01<01:26, 83.07it/s]Failed to featurize datapoint 0, [Ca+2].[Cl-].[Cl-]. Appending empty array\n",
            "Exception message: zero-size array to reduction operation maximum which has no identity\n",
            " 35%|███▍      | 3796/10951 [01:01<01:17, 91.82it/s]"
          ]
        },
        {
          "output_type": "stream",
          "name": "stdout",
          "text": [
            "3733\n",
            "3741\n"
          ]
        },
        {
          "output_type": "stream",
          "name": "stderr",
          "text": [
            " 35%|███▍      | 3831/10951 [01:02<01:15, 94.34it/s]Failed to featurize datapoint 0, [Ta]. Appending empty array\n",
            "Exception message: More than one atom should be present in the molecule for this featurizer to work.\n",
            " 35%|███▌      | 3841/10951 [01:02<01:17, 92.29it/s]Failed to featurize datapoint 0, [Bk]. Appending empty array\n",
            "Exception message: More than one atom should be present in the molecule for this featurizer to work.\n"
          ]
        },
        {
          "output_type": "stream",
          "name": "stdout",
          "text": [
            "3787\n",
            "3802\n"
          ]
        },
        {
          "output_type": "stream",
          "name": "stderr",
          "text": [
            " 36%|███▋      | 3980/10951 [01:03<01:13, 94.97it/s]Failed to featurize datapoint 0, [Li+].[OH-]. Appending empty array\n",
            "Exception message: zero-size array to reduction operation maximum which has no identity\n",
            " 37%|███▋      | 4000/10951 [01:04<01:20, 86.58it/s]"
          ]
        },
        {
          "output_type": "stream",
          "name": "stdout",
          "text": [
            "3940\n"
          ]
        },
        {
          "output_type": "stream",
          "name": "stderr",
          "text": [
            " 37%|███▋      | 4044/10951 [01:04<01:51, 62.05it/s]Failed to featurize datapoint 0, [Ti]. Appending empty array\n",
            "Exception message: More than one atom should be present in the molecule for this featurizer to work.\n",
            " 37%|███▋      | 4060/10951 [01:05<02:29, 46.15it/s]"
          ]
        },
        {
          "output_type": "stream",
          "name": "stdout",
          "text": [
            "4000\n"
          ]
        },
        {
          "output_type": "stream",
          "name": "stderr",
          "text": [
            "Failed to featurize datapoint 0, [Co+2]. Appending empty array\n",
            "Exception message: More than one atom should be present in the molecule for this featurizer to work.\n",
            " 37%|███▋      | 4079/10951 [01:05<01:50, 62.43it/s]"
          ]
        },
        {
          "output_type": "stream",
          "name": "stdout",
          "text": [
            "4015\n"
          ]
        },
        {
          "output_type": "stream",
          "name": "stderr",
          "text": [
            " 38%|███▊      | 4152/10951 [01:06<01:18, 86.68it/s]Failed to featurize datapoint 0, [Fe]. Appending empty array\n",
            "Exception message: More than one atom should be present in the molecule for this featurizer to work.\n",
            " 38%|███▊      | 4172/10951 [01:06<01:21, 82.74it/s]"
          ]
        },
        {
          "output_type": "stream",
          "name": "stdout",
          "text": [
            "4108\n"
          ]
        },
        {
          "output_type": "stream",
          "name": "stderr",
          "text": [
            "\r 38%|███▊      | 4181/10951 [01:06<01:21, 82.63it/s]Failed to featurize datapoint 0, [Cl-].[Cl-].[Cl-].[Cr+3]. Appending empty array\n",
            "Exception message: zero-size array to reduction operation maximum which has no identity\n",
            " 38%|███▊      | 4204/10951 [01:06<01:09, 96.94it/s]"
          ]
        },
        {
          "output_type": "stream",
          "name": "stdout",
          "text": [
            "4138\n"
          ]
        },
        {
          "output_type": "stream",
          "name": "stderr",
          "text": [
            " 39%|███▉      | 4245/10951 [01:07<01:22, 81.36it/s]Failed to featurize datapoint 0, [99Tc]. Appending empty array\n",
            "Exception message: More than one atom should be present in the molecule for this featurizer to work.\n",
            " 39%|███▉      | 4268/10951 [01:07<01:21, 82.24it/s]"
          ]
        },
        {
          "output_type": "stream",
          "name": "stdout",
          "text": [
            "4206\n"
          ]
        },
        {
          "output_type": "stream",
          "name": "stderr",
          "text": [
            " 41%|████      | 4440/10951 [01:10<01:22, 79.03it/s]Failed to featurize datapoint 0, [131I-]. Appending empty array\n",
            "Exception message: More than one atom should be present in the molecule for this featurizer to work.\n",
            " 41%|████      | 4461/10951 [01:10<01:11, 90.57it/s]"
          ]
        },
        {
          "output_type": "stream",
          "name": "stdout",
          "text": [
            "4395\n"
          ]
        },
        {
          "output_type": "stream",
          "name": "stderr",
          "text": [
            " 41%|████      | 4499/10951 [01:10<01:17, 82.78it/s]Failed to featurize datapoint 0, [Ba]. Appending empty array\n",
            "Exception message: More than one atom should be present in the molecule for this featurizer to work.\n",
            "Failed to featurize datapoint 0, [Mo]. Appending empty array\n",
            "Exception message: More than one atom should be present in the molecule for this featurizer to work.\n",
            " 41%|████▏     | 4518/10951 [01:10<01:15, 84.89it/s]"
          ]
        },
        {
          "output_type": "stream",
          "name": "stdout",
          "text": [
            "4452\n",
            "4453\n"
          ]
        },
        {
          "output_type": "stream",
          "name": "stderr",
          "text": [
            " 43%|████▎     | 4725/10951 [01:13<01:31, 68.26it/s]Failed to featurize datapoint 0, [Cd]. Appending empty array\n",
            "Exception message: More than one atom should be present in the molecule for this featurizer to work.\n"
          ]
        },
        {
          "output_type": "stream",
          "name": "stdout",
          "text": [
            "4676\n"
          ]
        },
        {
          "output_type": "stream",
          "name": "stderr",
          "text": [
            " 43%|████▎     | 4749/10951 [01:13<01:49, 56.43it/s]Failed to featurize datapoint 0, [123I-]. Appending empty array\n",
            "Exception message: More than one atom should be present in the molecule for this featurizer to work.\n",
            " 44%|████▎     | 4773/10951 [01:14<01:21, 76.16it/s]"
          ]
        },
        {
          "output_type": "stream",
          "name": "stdout",
          "text": [
            "4703\n"
          ]
        },
        {
          "output_type": "stream",
          "name": "stderr",
          "text": [
            " 45%|████▌     | 4954/10951 [01:16<01:10, 85.14it/s]Failed to featurize datapoint 0, [P]. Appending empty array\n",
            "Exception message: More than one atom should be present in the molecule for this featurizer to work.\n",
            " 45%|████▌     | 4975/10951 [01:16<01:06, 89.72it/s]"
          ]
        },
        {
          "output_type": "stream",
          "name": "stdout",
          "text": [
            "4899\n"
          ]
        },
        {
          "output_type": "stream",
          "name": "stderr",
          "text": [
            " 46%|████▌     | 5018/10951 [01:17<01:06, 89.12it/s]Failed to featurize datapoint 0, [Li+]. Appending empty array\n",
            "Exception message: More than one atom should be present in the molecule for this featurizer to work.\n",
            " 46%|████▌     | 5040/10951 [01:17<01:00, 96.98it/s]"
          ]
        },
        {
          "output_type": "stream",
          "name": "stdout",
          "text": [
            "4962\n"
          ]
        },
        {
          "output_type": "stream",
          "name": "stderr",
          "text": [
            "\r 46%|████▌     | 5051/10951 [01:17<01:12, 80.86it/s]Failed to featurize datapoint 0, [OH-]. Appending empty array\n",
            "Exception message: More than one atom should be present in the molecule for this featurizer to work.\n",
            " 46%|████▋     | 5073/10951 [01:17<01:03, 92.36it/s]"
          ]
        },
        {
          "output_type": "stream",
          "name": "stdout",
          "text": [
            "4994\n"
          ]
        },
        {
          "output_type": "stream",
          "name": "stderr",
          "text": [
            " 47%|████▋     | 5197/10951 [01:19<01:04, 89.06it/s]Failed to featurize datapoint 0, [Se]. Appending empty array\n",
            "Exception message: More than one atom should be present in the molecule for this featurizer to work.\n",
            " 48%|████▊     | 5219/10951 [01:19<00:59, 96.61it/s]"
          ]
        },
        {
          "output_type": "stream",
          "name": "stdout",
          "text": [
            "5143\n"
          ]
        },
        {
          "output_type": "stream",
          "name": "stderr",
          "text": [
            " 48%|████▊     | 5258/10951 [01:19<01:10, 80.89it/s]Failed to featurize datapoint 0, [I-]. Appending empty array\n",
            "Exception message: More than one atom should be present in the molecule for this featurizer to work.\n",
            " 48%|████▊     | 5278/10951 [01:20<01:03, 89.47it/s]"
          ]
        },
        {
          "output_type": "stream",
          "name": "stdout",
          "text": [
            "5201\n"
          ]
        },
        {
          "output_type": "stream",
          "name": "stderr",
          "text": [
            " 49%|████▉     | 5355/10951 [01:20<00:56, 99.25it/s] Failed to featurize datapoint 0, [Cl-].[Tl+]. Appending empty array\n",
            "Exception message: zero-size array to reduction operation maximum which has no identity\n",
            " 49%|████▉     | 5366/10951 [01:21<01:02, 88.70it/s]Failed to featurize datapoint 0, [18F]. Appending empty array\n",
            "Exception message: More than one atom should be present in the molecule for this featurizer to work.\n",
            " 49%|████▉     | 5379/10951 [01:21<00:56, 99.25it/s]"
          ]
        },
        {
          "output_type": "stream",
          "name": "stdout",
          "text": [
            "5296\n",
            "5312\n"
          ]
        },
        {
          "output_type": "stream",
          "name": "stderr",
          "text": [
            " 50%|████▉     | 5446/10951 [01:21<00:57, 95.52it/s]Failed to featurize datapoint 0, [V]. Appending empty array\n",
            "Exception message: More than one atom should be present in the molecule for this featurizer to work.\n",
            " 50%|████▉     | 5467/10951 [01:22<00:57, 96.14it/s]"
          ]
        },
        {
          "output_type": "stream",
          "name": "stdout",
          "text": [
            "5385\n"
          ]
        },
        {
          "output_type": "stream",
          "name": "stderr",
          "text": [
            "Failed to featurize datapoint 0, [82Rb+]. Appending empty array\n",
            "Exception message: More than one atom should be present in the molecule for this featurizer to work.\n",
            " 50%|█████     | 5477/10951 [01:22<01:03, 85.88it/s]"
          ]
        },
        {
          "output_type": "stream",
          "name": "stdout",
          "text": [
            "5406\n"
          ]
        },
        {
          "output_type": "stream",
          "name": "stderr",
          "text": [
            " 51%|█████     | 5548/10951 [01:23<01:07, 79.70it/s]Failed to featurize datapoint 0, [Cl-].[K+]. Appending empty array\n",
            "Exception message: zero-size array to reduction operation maximum which has no identity\n",
            "Failed to featurize datapoint 0, [51Cr]. Appending empty array\n",
            "Exception message: More than one atom should be present in the molecule for this featurizer to work.\n",
            " 51%|█████     | 5573/10951 [01:23<00:55, 97.51it/s]"
          ]
        },
        {
          "output_type": "stream",
          "name": "stdout",
          "text": [
            "5487\n",
            "5491\n"
          ]
        },
        {
          "output_type": "stream",
          "name": "stderr",
          "text": [
            "\r 51%|█████     | 5584/10951 [01:23<00:54, 98.33it/s]Failed to featurize datapoint 0, [Sb]. Appending empty array\n",
            "Exception message: More than one atom should be present in the molecule for this featurizer to work.\n",
            " 51%|█████     | 5596/10951 [01:23<00:51, 103.34it/s]Failed to featurize datapoint 0, [177Lu]. Appending empty array\n",
            "Exception message: More than one atom should be present in the molecule for this featurizer to work.\n",
            " 51%|█████     | 5609/10951 [01:23<00:48, 110.63it/s]"
          ]
        },
        {
          "output_type": "stream",
          "name": "stdout",
          "text": [
            "5526\n",
            "5533\n"
          ]
        },
        {
          "output_type": "stream",
          "name": "stderr",
          "text": [
            " 52%|█████▏    | 5668/10951 [01:24<00:51, 102.65it/s]Failed to featurize datapoint 0, [C]. Appending empty array\n",
            "Exception message: More than one atom should be present in the molecule for this featurizer to work.\n",
            " 52%|█████▏    | 5679/10951 [01:24<00:52, 101.18it/s]"
          ]
        },
        {
          "output_type": "stream",
          "name": "stdout",
          "text": [
            "5604\n"
          ]
        },
        {
          "output_type": "stream",
          "name": "stderr",
          "text": [
            " 52%|█████▏    | 5701/10951 [01:24<00:56, 92.11it/s]Failed to featurize datapoint 0, [Rb]. Appending empty array\n",
            "Exception message: More than one atom should be present in the molecule for this featurizer to work.\n",
            " 52%|█████▏    | 5726/10951 [01:24<00:49, 104.96it/s]"
          ]
        },
        {
          "output_type": "stream",
          "name": "stdout",
          "text": [
            "5640\n"
          ]
        },
        {
          "output_type": "stream",
          "name": "stderr",
          "text": [
            " 53%|█████▎    | 5800/10951 [01:25<00:51, 100.19it/s]Failed to featurize datapoint 0, [Zn]. Appending empty array\n",
            "Exception message: More than one atom should be present in the molecule for this featurizer to work.\n",
            " 53%|█████▎    | 5824/10951 [01:25<00:49, 103.61it/s]"
          ]
        },
        {
          "output_type": "stream",
          "name": "stdout",
          "text": [
            "5729\n"
          ]
        },
        {
          "output_type": "stream",
          "name": "stderr",
          "text": [
            " 56%|█████▋    | 6182/10951 [01:32<01:31, 52.01it/s]Failed to featurize datapoint 0, [Fe+3].[O-2].[OH-]. Appending empty array\n",
            "Exception message: zero-size array to reduction operation maximum which has no identity\n",
            " 57%|█████▋    | 6205/10951 [01:33<01:05, 73.00it/s]"
          ]
        },
        {
          "output_type": "stream",
          "name": "stdout",
          "text": [
            "6112\n"
          ]
        },
        {
          "output_type": "stream",
          "name": "stderr",
          "text": [
            " 59%|█████▉    | 6495/10951 [01:41<01:29, 49.74it/s]Failed to featurize datapoint 0, [90Y]. Appending empty array\n",
            "Exception message: More than one atom should be present in the molecule for this featurizer to work.\n",
            " 59%|█████▉    | 6504/10951 [01:41<01:24, 52.38it/s]"
          ]
        },
        {
          "output_type": "stream",
          "name": "stdout",
          "text": [
            "6422\n"
          ]
        },
        {
          "output_type": "stream",
          "name": "stderr",
          "text": [
            " 60%|█████▉    | 6552/10951 [01:42<01:03, 69.15it/s]Failed to featurize datapoint 0, O.O.O.O.O.O.O.O.O.O.O.O.O.O.O.O.O.O.[Mo].[Mo].[Mo].[Mo].[Mo].[Mo].[Mo].[OH-].[OH-].[OH-].[OH-].[OH-].[OH-]. Appending empty array\n",
            "Exception message: zero-size array to reduction operation maximum which has no identity\n",
            " 60%|██████    | 6572/10951 [01:42<00:54, 79.89it/s]"
          ]
        },
        {
          "output_type": "stream",
          "name": "stdout",
          "text": [
            "6479\n"
          ]
        },
        {
          "output_type": "stream",
          "name": "stderr",
          "text": [
            "Failed to featurize datapoint 0, [153Sm]. Appending empty array\n",
            "Exception message: More than one atom should be present in the molecule for this featurizer to work.\n",
            " 60%|██████    | 6590/10951 [01:42<00:55, 79.14it/s]"
          ]
        },
        {
          "output_type": "stream",
          "name": "stdout",
          "text": [
            "6502\n"
          ]
        },
        {
          "output_type": "stream",
          "name": "stderr",
          "text": [
            " 62%|██████▏   | 6781/10951 [01:46<00:38, 107.76it/s]Failed to featurize datapoint 0, [Cr]. Appending empty array\n",
            "Exception message: More than one atom should be present in the molecule for this featurizer to work.\n",
            " 62%|██████▏   | 6793/10951 [01:46<00:40, 102.52it/s]Failed to featurize datapoint 0, [Na+].[Na+].[S-2]. Appending empty array\n",
            "Exception message: zero-size array to reduction operation maximum which has no identity\n",
            " 62%|██████▏   | 6805/10951 [01:46<00:38, 106.98it/s]"
          ]
        },
        {
          "output_type": "stream",
          "name": "stdout",
          "text": [
            "6707\n",
            "6717\n"
          ]
        },
        {
          "output_type": "stream",
          "name": "stderr",
          "text": [
            " 63%|██████▎   | 6849/10951 [01:46<00:44, 92.55it/s]Failed to featurize datapoint 0, [201Tl+]. Appending empty array\n",
            "Exception message: More than one atom should be present in the molecule for this featurizer to work.\n",
            " 63%|██████▎   | 6871/10951 [01:47<00:46, 88.53it/s]"
          ]
        },
        {
          "output_type": "stream",
          "name": "stdout",
          "text": [
            "6776\n"
          ]
        },
        {
          "output_type": "stream",
          "name": "stderr",
          "text": [
            " 65%|██████▌   | 7126/10951 [01:49<01:01, 62.65it/s]Failed to featurize datapoint 0, [B]. Appending empty array\n",
            "Exception message: More than one atom should be present in the molecule for this featurizer to work.\n",
            " 65%|██████▌   | 7142/10951 [01:50<00:57, 65.79it/s]"
          ]
        },
        {
          "output_type": "stream",
          "name": "stdout",
          "text": [
            "7050\n"
          ]
        },
        {
          "output_type": "stream",
          "name": "stderr",
          "text": [
            "\r 65%|██████▌   | 7155/10951 [01:50<00:47, 79.37it/s]Failed to featurize datapoint 0, O.[Al+3].[Al+3].[Cl-].[OH-].[OH-].[OH-].[OH-].[OH-]. Appending empty array\n",
            "Exception message: zero-size array to reduction operation maximum which has no identity\n",
            " 66%|██████▌   | 7175/10951 [01:50<00:45, 83.39it/s]"
          ]
        },
        {
          "output_type": "stream",
          "name": "stdout",
          "text": [
            "7079\n"
          ]
        },
        {
          "output_type": "stream",
          "name": "stderr",
          "text": [
            " 67%|██████▋   | 7309/10951 [01:51<00:38, 94.46it/s]Failed to featurize datapoint 0, [Mg+2]. Appending empty array\n",
            "Exception message: More than one atom should be present in the molecule for this featurizer to work.\n",
            " 67%|██████▋   | 7319/10951 [01:52<00:38, 95.18it/s]"
          ]
        },
        {
          "output_type": "stream",
          "name": "stdout",
          "text": [
            "7229\n"
          ]
        },
        {
          "output_type": "stream",
          "name": "stderr",
          "text": [
            " 67%|██████▋   | 7340/10951 [01:52<00:40, 89.54it/s]Failed to featurize datapoint 0, Br.Br.Br.Br.Br.Br.Br.Br.Br.Br.Br.[Br-].[Ta+].[Ta].[Ta].[Ta].[Ta].[Ta]. Appending empty array\n",
            "Exception message: zero-size array to reduction operation maximum which has no identity\n",
            " 67%|██████▋   | 7350/10951 [01:52<00:39, 90.20it/s]"
          ]
        },
        {
          "output_type": "stream",
          "name": "stdout",
          "text": [
            "7261\n"
          ]
        },
        {
          "output_type": "stream",
          "name": "stderr",
          "text": [
            " 68%|██████▊   | 7410/10951 [01:53<00:42, 84.16it/s]Failed to featurize datapoint 0, [Fe+2].[Fe+3].[Fe+3].[O-2].[O-2].[O-2].[O-2]. Appending empty array\n",
            "Exception message: zero-size array to reduction operation maximum which has no identity\n",
            " 68%|██████▊   | 7431/10951 [01:53<00:39, 90.02it/s]"
          ]
        },
        {
          "output_type": "stream",
          "name": "stdout",
          "text": [
            "7329\n"
          ]
        },
        {
          "output_type": "stream",
          "name": "stderr",
          "text": [
            " 68%|██████▊   | 7451/10951 [01:53<00:41, 84.22it/s]Failed to featurize datapoint 0, [Ca+2].[Cl-].[Cl-]. Appending empty array\n",
            "Exception message: zero-size array to reduction operation maximum which has no identity\n",
            " 68%|██████▊   | 7460/10951 [01:53<00:41, 85.09it/s]"
          ]
        },
        {
          "output_type": "stream",
          "name": "stdout",
          "text": [
            "7370\n"
          ]
        },
        {
          "output_type": "stream",
          "name": "stderr",
          "text": [
            " 69%|██████▊   | 7518/10951 [01:58<04:03, 14.12it/s]Failed to featurize datapoint 0, [Al]. Appending empty array\n",
            "Exception message: More than one atom should be present in the molecule for this featurizer to work.\n",
            " 69%|██████▉   | 7539/10951 [01:59<02:10, 26.11it/s]"
          ]
        },
        {
          "output_type": "stream",
          "name": "stdout",
          "text": [
            "7432\n"
          ]
        },
        {
          "output_type": "stream",
          "name": "stderr",
          "text": [
            "\r 69%|██████▉   | 7548/10951 [01:59<01:46, 32.07it/s]Failed to featurize datapoint 0, [Mn+2]. Appending empty array\n",
            "Exception message: More than one atom should be present in the molecule for this featurizer to work.\n",
            " 69%|██████▉   | 7568/10951 [01:59<01:07, 49.77it/s]"
          ]
        },
        {
          "output_type": "stream",
          "name": "stdout",
          "text": [
            "7466\n"
          ]
        },
        {
          "output_type": "stream",
          "name": "stderr",
          "text": [
            " 69%|██████▉   | 7588/10951 [01:59<00:51, 64.91it/s]Failed to featurize datapoint 0, [223Ra]. Appending empty array\n",
            "Exception message: More than one atom should be present in the molecule for this featurizer to work.\n",
            " 69%|██████▉   | 7598/10951 [01:59<00:46, 71.59it/s]"
          ]
        },
        {
          "output_type": "stream",
          "name": "stdout",
          "text": [
            "7507\n"
          ]
        },
        {
          "output_type": "stream",
          "name": "stderr",
          "text": [
            " 71%|███████   | 7735/10951 [02:01<00:37, 84.69it/s]Failed to featurize datapoint 0, [I-].[Na+]. Appending empty array\n",
            "Exception message: zero-size array to reduction operation maximum which has no identity\n",
            " 71%|███████   | 7745/10951 [02:01<00:37, 85.11it/s]"
          ]
        },
        {
          "output_type": "stream",
          "name": "stdout",
          "text": [
            "7646\n"
          ]
        },
        {
          "output_type": "stream",
          "name": "stderr",
          "text": [
            " 72%|███████▏  | 7845/10951 [02:03<00:49, 63.01it/s]Failed to featurize datapoint 0, [Ag]. Appending empty array\n",
            "Exception message: More than one atom should be present in the molecule for this featurizer to work.\n",
            " 72%|███████▏  | 7867/10951 [02:03<00:41, 74.81it/s]"
          ]
        },
        {
          "output_type": "stream",
          "name": "stdout",
          "text": [
            "7758\n"
          ]
        },
        {
          "output_type": "stream",
          "name": "stderr",
          "text": [
            " 76%|███████▌  | 8272/10951 [02:08<00:34, 76.82it/s]Failed to featurize datapoint 0, [C]. Appending empty array\n",
            "Exception message: More than one atom should be present in the molecule for this featurizer to work.\n",
            " 76%|███████▌  | 8290/10951 [02:09<00:35, 75.45it/s]"
          ]
        },
        {
          "output_type": "stream",
          "name": "stdout",
          "text": [
            "8184\n"
          ]
        },
        {
          "output_type": "stream",
          "name": "stderr",
          "text": [
            " 76%|███████▌  | 8341/10951 [02:09<00:31, 83.12it/s]Failed to featurize datapoint 0, [Si]. Appending empty array\n",
            "Exception message: More than one atom should be present in the molecule for this featurizer to work.\n",
            " 76%|███████▋  | 8361/10951 [02:09<00:28, 89.86it/s]"
          ]
        },
        {
          "output_type": "stream",
          "name": "stdout",
          "text": [
            "8251\n"
          ]
        },
        {
          "output_type": "stream",
          "name": "stderr",
          "text": [
            "\r 76%|███████▋  | 8371/10951 [02:09<00:31, 82.72it/s]Failed to featurize datapoint 0, O.O.O.O.[Al+3].[Mg+2].[O-2].[O-2].[O-2].[O-2].[O-2].[O-2].[O-2].[O-2].[O-2].[O-2].[OH-].[Si+4].[Si+4].[Si+4].[Si+4]. Appending empty array\n",
            "Exception message: zero-size array to reduction operation maximum which has no identity\n",
            " 77%|███████▋  | 8393/10951 [02:10<00:30, 84.25it/s]"
          ]
        },
        {
          "output_type": "stream",
          "name": "stdout",
          "text": [
            "8289\n"
          ]
        },
        {
          "output_type": "stream",
          "name": "stderr",
          "text": [
            " 77%|███████▋  | 8449/10951 [02:10<00:28, 86.83it/s]Failed to featurize datapoint 0, [Bi+3]. Appending empty array\n",
            "Exception message: More than one atom should be present in the molecule for this featurizer to work.\n",
            " 77%|███████▋  | 8461/10951 [02:10<00:26, 95.68it/s]"
          ]
        },
        {
          "output_type": "stream",
          "name": "stdout",
          "text": [
            "8357\n"
          ]
        },
        {
          "output_type": "stream",
          "name": "stderr",
          "text": [
            "\r 77%|███████▋  | 8471/10951 [02:11<00:28, 86.79it/s]Failed to featurize datapoint 0, [Cl-].[Na+]. Appending empty array\n",
            "Exception message: zero-size array to reduction operation maximum which has no identity\n",
            " 78%|███████▊  | 8495/10951 [02:11<00:24, 99.49it/s]"
          ]
        },
        {
          "output_type": "stream",
          "name": "stdout",
          "text": [
            "8383\n"
          ]
        },
        {
          "output_type": "stream",
          "name": "stderr",
          "text": [
            " 78%|███████▊  | 8544/10951 [02:11<00:24, 97.52it/s]Failed to featurize datapoint 0, [F-].[Na+]. Appending empty array\n",
            "Exception message: zero-size array to reduction operation maximum which has no identity\n",
            " 78%|███████▊  | 8565/10951 [02:12<00:29, 81.75it/s]"
          ]
        },
        {
          "output_type": "stream",
          "name": "stdout",
          "text": [
            "8456\n"
          ]
        },
        {
          "output_type": "stream",
          "name": "stderr",
          "text": [
            " 79%|███████▊  | 8608/10951 [02:12<00:23, 97.96it/s]Failed to featurize datapoint 0, [F-]. Appending empty array\n",
            "Exception message: More than one atom should be present in the molecule for this featurizer to work.\n",
            " 79%|███████▉  | 8632/10951 [02:12<00:22, 104.33it/s]"
          ]
        },
        {
          "output_type": "stream",
          "name": "stdout",
          "text": [
            "8520\n"
          ]
        },
        {
          "output_type": "stream",
          "name": "stderr",
          "text": [
            " 80%|████████  | 8783/10951 [02:14<00:29, 72.97it/s]Failed to featurize datapoint 0, [KH]. Appending empty array\n",
            "Exception message: More than one atom should be present in the molecule for this featurizer to work.\n",
            " 80%|████████  | 8804/10951 [02:14<00:24, 86.22it/s]"
          ]
        },
        {
          "output_type": "stream",
          "name": "stdout",
          "text": [
            "8687\n"
          ]
        },
        {
          "output_type": "stream",
          "name": "stderr",
          "text": [
            " 83%|████████▎ | 9044/10951 [02:17<00:20, 91.49it/s]Failed to featurize datapoint 0, [Cu+2].[O-2]. Appending empty array\n",
            "Exception message: zero-size array to reduction operation maximum which has no identity\n",
            " 83%|████████▎ | 9064/10951 [02:17<00:20, 91.95it/s]"
          ]
        },
        {
          "output_type": "stream",
          "name": "stdout",
          "text": [
            "8954\n"
          ]
        },
        {
          "output_type": "stream",
          "name": "stderr",
          "text": [
            " 83%|████████▎ | 9096/10951 [02:18<00:18, 97.94it/s]Failed to featurize datapoint 0, [Al+3]. Appending empty array\n",
            "Exception message: More than one atom should be present in the molecule for this featurizer to work.\n",
            " 83%|████████▎ | 9117/10951 [02:18<00:19, 92.65it/s]"
          ]
        },
        {
          "output_type": "stream",
          "name": "stdout",
          "text": [
            "9001\n"
          ]
        },
        {
          "output_type": "stream",
          "name": "stderr",
          "text": [
            " 84%|████████▎ | 9166/10951 [02:18<00:22, 80.52it/s]Failed to featurize datapoint 0, [Cu]. Appending empty array\n",
            "Exception message: More than one atom should be present in the molecule for this featurizer to work.\n",
            " 84%|████████▍ | 9185/10951 [02:19<00:22, 79.04it/s]Failed to featurize datapoint 0, [MgH2]. Appending empty array\n",
            "Exception message: More than one atom should be present in the molecule for this featurizer to work.\n"
          ]
        },
        {
          "output_type": "stream",
          "name": "stdout",
          "text": [
            "9073\n",
            "9087\n"
          ]
        },
        {
          "output_type": "stream",
          "name": "stderr",
          "text": [
            " 86%|████████▌ | 9393/10951 [02:21<00:14, 105.52it/s]Failed to featurize datapoint 0, [Fe+2]. Appending empty array\n",
            "Exception message: More than one atom should be present in the molecule for this featurizer to work.\n",
            " 86%|████████▌ | 9415/10951 [02:21<00:15, 101.55it/s]"
          ]
        },
        {
          "output_type": "stream",
          "name": "stdout",
          "text": [
            "9293\n"
          ]
        },
        {
          "output_type": "stream",
          "name": "stderr",
          "text": [
            " 87%|████████▋ | 9501/10951 [02:22<00:16, 89.79it/s]Failed to featurize datapoint 0, [Cu+2]. Appending empty array\n",
            "Exception message: More than one atom should be present in the molecule for this featurizer to work.\n",
            " 87%|████████▋ | 9522/10951 [02:22<00:15, 94.59it/s]"
          ]
        },
        {
          "output_type": "stream",
          "name": "stdout",
          "text": [
            "9399\n"
          ]
        },
        {
          "output_type": "stream",
          "name": "stderr",
          "text": [
            "\r 87%|████████▋ | 9532/10951 [02:23<00:16, 83.94it/s]Failed to featurize datapoint 0, [Cl-].[Cl-].[Co+2]. Appending empty array\n",
            "Exception message: zero-size array to reduction operation maximum which has no identity\n",
            " 87%|████████▋ | 9557/10951 [02:23<00:14, 99.14it/s]Failed to featurize datapoint 0, [Nb]. Appending empty array\n",
            "Exception message: More than one atom should be present in the molecule for this featurizer to work.\n"
          ]
        },
        {
          "output_type": "stream",
          "name": "stdout",
          "text": [
            "9436\n",
            "9454\n"
          ]
        },
        {
          "output_type": "stream",
          "name": "stderr",
          "text": [
            " 88%|████████▊ | 9590/10951 [02:23<00:14, 96.90it/s]Failed to featurize datapoint 0, [Au]. Appending empty array\n",
            "Exception message: More than one atom should be present in the molecule for this featurizer to work.\n",
            " 88%|████████▊ | 9612/10951 [02:23<00:13, 101.70it/s]"
          ]
        },
        {
          "output_type": "stream",
          "name": "stdout",
          "text": [
            "9485\n"
          ]
        },
        {
          "output_type": "stream",
          "name": "stderr",
          "text": [
            " 88%|████████▊ | 9643/10951 [02:24<00:14, 88.59it/s]Failed to featurize datapoint 0, [133Xe]. Appending empty array\n",
            "Exception message: More than one atom should be present in the molecule for this featurizer to work.\n",
            " 88%|████████▊ | 9671/10951 [02:24<00:12, 103.47it/s]"
          ]
        },
        {
          "output_type": "stream",
          "name": "stdout",
          "text": [
            "9541\n"
          ]
        },
        {
          "output_type": "stream",
          "name": "stderr",
          "text": [
            " 89%|████████▉ | 9776/10951 [02:25<00:12, 96.15it/s]Failed to featurize datapoint 0, [Sm]. Appending empty array\n",
            "Exception message: More than one atom should be present in the molecule for this featurizer to work.\n",
            " 89%|████████▉ | 9795/10951 [02:25<00:15, 73.60it/s]"
          ]
        },
        {
          "output_type": "stream",
          "name": "stdout",
          "text": [
            "9669\n"
          ]
        },
        {
          "output_type": "stream",
          "name": "stderr",
          "text": [
            " 90%|████████▉ | 9813/10951 [02:26<00:14, 80.29it/s]Failed to featurize datapoint 0, [Na+].[OH-]. Appending empty array\n",
            "Exception message: zero-size array to reduction operation maximum which has no identity\n",
            " 90%|████████▉ | 9832/10951 [02:26<00:14, 78.85it/s]"
          ]
        },
        {
          "output_type": "stream",
          "name": "stdout",
          "text": [
            "9709\n"
          ]
        },
        {
          "output_type": "stream",
          "name": "stderr",
          "text": [
            " 91%|█████████ | 9962/10951 [02:27<00:12, 76.18it/s]Failed to featurize datapoint 0, [He]. Appending empty array\n",
            "Exception message: More than one atom should be present in the molecule for this featurizer to work.\n",
            " 91%|█████████ | 9971/10951 [02:27<00:12, 78.93it/s]Failed to featurize datapoint 0, [Cl-].[Cl-].[Mg+2]. Appending empty array\n",
            "Exception message: zero-size array to reduction operation maximum which has no identity\n",
            "Failed to featurize datapoint 0, [Mg+2].[O-2]. Appending empty array\n",
            "Exception message: zero-size array to reduction operation maximum which has no identity\n",
            " 91%|█████████ | 9982/10951 [02:27<00:11, 84.91it/s]"
          ]
        },
        {
          "output_type": "stream",
          "name": "stdout",
          "text": [
            "9857\n",
            "9864\n",
            "9866\n"
          ]
        },
        {
          "output_type": "stream",
          "name": "stderr",
          "text": [
            " 93%|█████████▎| 10149/10951 [02:29<00:08, 92.13it/s]Failed to featurize datapoint 0, [Fe+3]. Appending empty array\n",
            "Exception message: More than one atom should be present in the molecule for this featurizer to work.\n",
            " 93%|█████████▎| 10169/10951 [02:29<00:08, 90.81it/s]"
          ]
        },
        {
          "output_type": "stream",
          "name": "stdout",
          "text": [
            "10038\n"
          ]
        },
        {
          "output_type": "stream",
          "name": "stderr",
          "text": [
            " 93%|█████████▎| 10192/10951 [02:30<00:07, 101.37it/s]Failed to featurize datapoint 0, [111In+3]. Appending empty array\n",
            "Exception message: More than one atom should be present in the molecule for this featurizer to work.\n",
            "Failed to featurize datapoint 0, [67Ga+3].[Cl-].[Cl-].[Cl-]. Appending empty array\n",
            "Exception message: zero-size array to reduction operation maximum which has no identity\n",
            " 93%|█████████▎| 10204/10951 [02:30<00:08, 92.27it/s] "
          ]
        },
        {
          "output_type": "stream",
          "name": "stdout",
          "text": [
            "10077\n",
            "10082\n"
          ]
        },
        {
          "output_type": "stream",
          "name": "stderr",
          "text": [
            "\r 93%|█████████▎| 10214/10951 [02:30<00:08, 84.50it/s]Failed to featurize datapoint 0, [Ni+2]. Appending empty array\n",
            "Exception message: More than one atom should be present in the molecule for this featurizer to work.\n",
            "Failed to featurize datapoint 0, [Se]. Appending empty array\n",
            "Exception message: More than one atom should be present in the molecule for this featurizer to work.\n",
            " 93%|█████████▎| 10234/10951 [02:30<00:08, 86.53it/s]"
          ]
        },
        {
          "output_type": "stream",
          "name": "stdout",
          "text": [
            "10101\n",
            "10103\n"
          ]
        },
        {
          "output_type": "stream",
          "name": "stderr",
          "text": [
            " 94%|█████████▎| 10254/10951 [02:30<00:07, 92.05it/s]Failed to featurize datapoint 0, [Ca]. Appending empty array\n",
            "Exception message: More than one atom should be present in the molecule for this featurizer to work.\n",
            " 94%|█████████▍| 10274/10951 [02:31<00:07, 89.87it/s]Failed to featurize datapoint 0, [K+]. Appending empty array\n",
            "Exception message: More than one atom should be present in the molecule for this featurizer to work.\n"
          ]
        },
        {
          "output_type": "stream",
          "name": "stdout",
          "text": [
            "10138\n",
            "10154\n"
          ]
        },
        {
          "output_type": "stream",
          "name": "stderr",
          "text": [
            " 95%|█████████▌| 10409/10951 [02:32<00:08, 60.41it/s]Failed to featurize datapoint 0, [Ga+3]. Appending empty array\n",
            "Exception message: More than one atom should be present in the molecule for this featurizer to work.\n",
            " 95%|█████████▌| 10430/10951 [02:33<00:06, 77.45it/s]"
          ]
        },
        {
          "output_type": "stream",
          "name": "stdout",
          "text": [
            "10295\n"
          ]
        },
        {
          "output_type": "stream",
          "name": "stderr",
          "text": [
            "\r 95%|█████████▌| 10441/10951 [02:33<00:06, 83.74it/s]Failed to featurize datapoint 0, [Gd]. Appending empty array\n",
            "Exception message: More than one atom should be present in the molecule for this featurizer to work.\n",
            " 96%|█████████▌| 10459/10951 [02:33<00:08, 59.12it/s]"
          ]
        },
        {
          "output_type": "stream",
          "name": "stdout",
          "text": [
            "10328\n"
          ]
        },
        {
          "output_type": "stream",
          "name": "stderr",
          "text": [
            " 96%|█████████▌| 10490/10951 [02:33<00:05, 81.31it/s]Failed to featurize datapoint 0, O.O.O.O.[Mo+6].[Mo+6].[Mo+6].[Mo+6].[Mo+6].[Mo+6].[Mo+6].[NH4+].[NH4+].[NH4+].[NH4+].[NH4+].[NH4+].[O-2].[O-2].[O-2].[O-2].[O-2].[O-2].[O-2].[O-2].[O-2].[O-2].[O-2].[O-2].[O-2].[O-2].[O-2].[O-2].[O-2].[O-2].[O-2].[O-2].[O-2].[O-2].[O-2].[O-2]. Appending empty array\n",
            "Exception message: zero-size array to reduction operation maximum which has no identity\n",
            " 96%|█████████▌| 10500/10951 [02:34<00:05, 85.19it/s]Failed to featurize datapoint 0, [Mg+2].[O-2].[O-2].[O-2].[Si+4]. Appending empty array\n",
            "Exception message: zero-size array to reduction operation maximum which has no identity\n",
            " 96%|█████████▌| 10510/10951 [02:34<00:05, 87.17it/s]"
          ]
        },
        {
          "output_type": "stream",
          "name": "stdout",
          "text": [
            "10370\n",
            "10383\n"
          ]
        },
        {
          "output_type": "stream",
          "name": "stderr",
          "text": [
            " 97%|█████████▋| 10652/10951 [02:35<00:03, 81.00it/s]Failed to featurize datapoint 0, [18F-]. Appending empty array\n",
            "Exception message: More than one atom should be present in the molecule for this featurizer to work.\n",
            " 97%|█████████▋| 10676/10951 [02:36<00:02, 97.71it/s]"
          ]
        },
        {
          "output_type": "stream",
          "name": "stdout",
          "text": [
            "10529\n"
          ]
        },
        {
          "output_type": "stream",
          "name": "stderr",
          "text": [
            " 98%|█████████▊| 10751/10951 [02:36<00:02, 74.16it/s]Failed to featurize datapoint 0, [Au+]. Appending empty array\n",
            "Exception message: More than one atom should be present in the molecule for this featurizer to work.\n",
            " 98%|█████████▊| 10764/10951 [02:37<00:02, 86.16it/s]"
          ]
        },
        {
          "output_type": "stream",
          "name": "stdout",
          "text": [
            "10627\n"
          ]
        },
        {
          "output_type": "stream",
          "name": "stderr",
          "text": [
            " 99%|█████████▉| 10834/10951 [02:37<00:01, 83.24it/s]Failed to featurize datapoint 0, [In]. Appending empty array\n",
            "Exception message: More than one atom should be present in the molecule for this featurizer to work.\n",
            " 99%|█████████▉| 10846/10951 [02:38<00:01, 92.13it/s]"
          ]
        },
        {
          "output_type": "stream",
          "name": "stdout",
          "text": [
            "10718\n"
          ]
        },
        {
          "output_type": "stream",
          "name": "stderr",
          "text": [
            "100%|█████████▉| 10898/10951 [02:38<00:00, 85.70it/s]Failed to featurize datapoint 0, [Cl-].[Cl-].[Sr+2]. Appending empty array\n",
            "Exception message: zero-size array to reduction operation maximum which has no identity\n",
            "100%|█████████▉| 10908/10951 [02:38<00:00, 88.97it/s]Failed to featurize datapoint 0, [111In]. Appending empty array\n",
            "Exception message: More than one atom should be present in the molecule for this featurizer to work.\n"
          ]
        },
        {
          "output_type": "stream",
          "name": "stdout",
          "text": [
            "10778\n",
            "10782\n"
          ]
        },
        {
          "output_type": "stream",
          "name": "stderr",
          "text": [
            "\r100%|█████████▉| 10918/10951 [02:39<00:00, 69.44it/s]Failed to featurize datapoint 0, [Cl-].[Na+]. Appending empty array\n",
            "Exception message: zero-size array to reduction operation maximum which has no identity\n",
            "100%|█████████▉| 10929/10951 [02:39<00:00, 77.90it/s]"
          ]
        },
        {
          "output_type": "stream",
          "name": "stdout",
          "text": [
            "10789\n"
          ]
        },
        {
          "output_type": "stream",
          "name": "stderr",
          "text": [
            "100%|██████████| 10951/10951 [02:40<00:00, 68.35it/s]\n",
            "Done!\n"
          ]
        }
      ]
    },
    {
      "cell_type": "code",
      "source": [
        "device = torch.device(\"cuda:0\" if torch.cuda.is_available() else \"cpu\")\n",
        "device"
      ],
      "metadata": {
        "id": "4z9BanO9FdDi",
        "colab": {
          "base_uri": "https://localhost:8080/"
        },
        "outputId": "72ac94d9-2256-4eea-cfe4-81296ff837fd"
      },
      "execution_count": 6,
      "outputs": [
        {
          "output_type": "execute_result",
          "data": {
            "text/plain": [
              "device(type='cuda', index=0)"
            ]
          },
          "metadata": {},
          "execution_count": 6
        }
      ]
    },
    {
      "cell_type": "code",
      "source": [
        "class GVAE(nn.Module):\n",
        "    def __init__(self, feature_size, edge_size):\n",
        "        super(GVAE, self).__init__()\n",
        "        self.encoder_embedding_size = 48\n",
        "        self.feature_size = feature_size\n",
        "        self.edge_dim = edge_size\n",
        "        self.latent_embedding_size = 8\n",
        "        self.decoder_hidden_neurons = 64\n",
        "        decoder_size = 64\n",
        "\n",
        "        # Encoder layers\n",
        "        self.conv1 = GATConv(feature_size, self.encoder_embedding_size,edge_dim=self.edge_dim)\n",
        "        #self.conv1 = GCNConv(feature_size, self.encoder_embedding_size)\n",
        "        self.bn1 = BatchNorm(self.encoder_embedding_size)\n",
        "        self.conv2 = GCNConv(self.encoder_embedding_size, self.encoder_embedding_size)\n",
        "        self.bn2 = BatchNorm(self.encoder_embedding_size)\n",
        "        #self.conv3 = GATConv(self.encoder_embedding_size, self.encoder_embedding_size,edge_dim=self.edge_dim)\n",
        "        self.conv3 = GCNConv(self.encoder_embedding_size, self.encoder_embedding_size)\n",
        "        self.bn3 = BatchNorm(self.encoder_embedding_size)\n",
        "\n",
        "        # Latent transform layers\n",
        "        self.mu_transform = Linear(self.encoder_embedding_size, \n",
        "                                            self.latent_embedding_size)\n",
        "        \n",
        " \n",
        "        \n",
        "      \n",
        "        self.decoder_dense_3 = Linear(self.latent_embedding_size, decoder_size)\n",
        "        self.decoder_bn_3 = BatchNorm1d(decoder_size)\n",
        "        self.decoder_dense_4 = Linear(decoder_size, self.feature_size)\n",
        "        \n",
        "\n",
        "    def encode(self, x, edge_attr, edge_index, batch_index):\n",
        "        # GNN layers\n",
        "        x = self.conv1(x, edge_index, edge_attr).relu()\n",
        "        x = self.bn1(x)\n",
        "        x = self.conv2(x, edge_index).relu()\n",
        "        x = self.bn2(x)\n",
        "        x = self.conv3(x, edge_index).relu()\n",
        "        x = self.bn3(x)\n",
        "        \n",
        "        # Latent transform layers\n",
        "        mu = self.mu_transform(x)\n",
        "        \n",
        "        return mu\n",
        "\n",
        "\n",
        "    def decode(self, z, batch_index):\n",
        "        x = self.decoder_dense_3(z).relu()\n",
        "        x = self.decoder_bn_3(x)\n",
        "        x = self.decoder_dense_4(x)\n",
        "        return x\n",
        "\n",
        "\n",
        "    def reparameterize(self, mu):\n",
        "        return mu\n",
        "\n",
        "    def forward(self, x, edge_attr, edge_index, batch_index):\n",
        "        mu = self.encode(x, edge_attr, edge_index, batch_index)\n",
        "        z = self.reparameterize(mu)\n",
        "        triu_logits = self.decode(z, batch_index)\n",
        "\n",
        "        return triu_logits, mu\n",
        "\n",
        "    \n",
        "   \n",
        "model = GVAE(feature_size=encoder_set[0].x.shape[1],edge_size=encoder_set[0].edge_attr.shape[1])\n",
        "print(model)\n",
        "print(\"Number of parameters: \", sum(p.numel() for p in model.parameters()))"
      ],
      "metadata": {
        "id": "vRR5eksOs07x",
        "colab": {
          "base_uri": "https://localhost:8080/"
        },
        "outputId": "dbef5392-4b91-4ee0-ae01-4db7d44ae5cd"
      },
      "execution_count": 7,
      "outputs": [
        {
          "output_type": "stream",
          "name": "stdout",
          "text": [
            "GVAE(\n",
            "  (conv1): GATConv(30, 48, heads=1)\n",
            "  (bn1): BatchNorm(48)\n",
            "  (conv2): GCNConv(48, 48)\n",
            "  (bn2): BatchNorm(48)\n",
            "  (conv3): GCNConv(48, 48)\n",
            "  (bn3): BatchNorm(48)\n",
            "  (mu_transform): Linear(in_features=48, out_features=8, bias=True)\n",
            "  (decoder_dense_3): Linear(in_features=8, out_features=64, bias=True)\n",
            "  (decoder_bn_3): BatchNorm1d(64, eps=1e-05, momentum=0.1, affine=True, track_running_stats=True)\n",
            "  (decoder_dense_4): Linear(in_features=64, out_features=30, bias=True)\n",
            ")\n",
            "Number of parameters:  10198\n"
          ]
        }
      ]
    },
    {
      "cell_type": "code",
      "source": [
        "def count_parameters(model):\n",
        "    \"\"\"\n",
        "    Counts the number of parameters for a Pytorch model\n",
        "    \"\"\"\n",
        "    return sum(p.numel() for p in model.parameters() if p.requires_grad)"
      ],
      "metadata": {
        "id": "dIIS0gMqf7GA"
      },
      "execution_count": 8,
      "outputs": []
    },
    {
      "cell_type": "code",
      "source": [
        "from torch_geometric.data import DataLoader\n",
        "\n",
        "data_size = len(encoder_set)\n",
        "NUM_GRAPHS_PER_BATCH = 64\n",
        "frac = 0.75\n",
        "train_loader = DataLoader(encoder_set[:int(data_size * frac)], \n",
        "                    batch_size=NUM_GRAPHS_PER_BATCH, shuffle=False)\n",
        "test_loader = DataLoader(encoder_set[int(data_size * frac):], \n",
        "                         batch_size=NUM_GRAPHS_PER_BATCH, shuffle=False)\n",
        "\n",
        "\n",
        "model = model.to(device)\n"
      ],
      "metadata": {
        "id": "AA-p2HHsLPBG"
      },
      "execution_count": 9,
      "outputs": []
    },
    {
      "cell_type": "code",
      "source": [
        ""
      ],
      "metadata": {
        "id": "Bs7VvcwZgI11"
      },
      "execution_count": 9,
      "outputs": []
    },
    {
      "cell_type": "code",
      "source": [
        "from torch_geometric.utils import to_dense_adj\n",
        "def gvae_loss(decode_pred, edge_index, node_feats, mu, batch_index):\n",
        "    # Convert target edge index to dense adjacency matrix\n",
        "    batch_targets = torch.squeeze(to_dense_adj(edge_index))\n",
        "    #b = fractional_matrix_power(degree, -0.5).to(device)\n",
        "    batch_targets = batch_targets + torch.eye(batch_targets.shape[0]).to(device)\n",
        "    degree = torch.diag(torch.sum(batch_targets, axis=1))\n",
        "    dinv = torch.linalg.inv(degree)\n",
        "    dinvsqrt = torch.sqrt(dinv)\n",
        "    mat = torch.matmul(dinvsqrt,batch_targets)\n",
        "    mat = torch.matmul(mat,dinvsqrt)\n",
        "    mat = torch.matmul(mat,node_feats)\n",
        "    \n",
        "    # Reconstruction loss per graph\n",
        "    res = mat - decode_pred\n",
        "    \n",
        "    ssq = (torch.diag(torch.mm(res,res.T)))\n",
        "    batch_recon_loss = torch.sum(ssq)/(ssq.shape[0])\n",
        "\n",
        "    return batch_recon_loss"
      ],
      "metadata": {
        "id": "TAIYrQj-W4ey"
      },
      "execution_count": 14,
      "outputs": []
    },
    {
      "cell_type": "code",
      "source": [
        "loss_fn = gvae_loss\n",
        "optimizer = torch.optim.Adam(model.parameters(), lr=0.002)\n"
      ],
      "metadata": {
        "id": "HPQGg31JLT0f"
      },
      "execution_count": 15,
      "outputs": []
    },
    {
      "cell_type": "code",
      "source": [
        "\n",
        "def run_one_epoch(data_loader, type, epoch):\n",
        "    # Store per batch loss and accuracy \n",
        "    all_losses = []\n",
        "    all_accs = []\n",
        "    all_kldivs = []\n",
        "\n",
        "    # Iterate over data loader\n",
        "    for i, batch in enumerate(tqdm(data_loader)):\n",
        "        # Some of the data points have invalid adjacency matrices \n",
        "        try:\n",
        "            # Use GPU\n",
        "            batch.to(device)  \n",
        "            # Reset gradients\n",
        "            optimizer.zero_grad() \n",
        "            # Call model\n",
        "            decode_pred, mu = model(batch.x.float(), \n",
        "                                            batch.edge_attr.float(),\n",
        "                                            batch.edge_index, \n",
        "                                            batch.batch) \n",
        "            # Calculate loss and backpropagate\n",
        "            \n",
        "            \n",
        "            loss = loss_fn(decode_pred, batch.edge_index, batch.x.float(), mu, batch.batch)\n",
        "            if type == \"Train\":\n",
        "                loss.backward()  \n",
        "                optimizer.step()  \n",
        "            # Calculate metrics\n",
        "            # Store loss and metrics\n",
        "            all_losses.append(loss.detach().cpu().numpy())\n",
        "           \n",
        "            \n",
        "\n",
        "        except IndexError as error:\n",
        "            print(\"Error: \", error)\n",
        "    \n",
        "    print(f\"{type} epoch {epoch} loss: \", np.array(all_losses).mean())\n",
        "    "
      ],
      "metadata": {
        "id": "NlrCct9vLkA4"
      },
      "execution_count": 16,
      "outputs": []
    },
    {
      "cell_type": "code",
      "source": [
        "for epoch in range(11): \n",
        "  model.train()\n",
        "  run_one_epoch(train_loader, type=\"Train\", epoch=epoch)\n",
        "  if epoch % 5 == 0:\n",
        "      print(\"Start test epoch...\")\n",
        "      model.eval()\n",
        "      run_one_epoch(test_loader, type=\"Test\", epoch=epoch)"
      ],
      "metadata": {
        "id": "2vXLu09qLsXb",
        "colab": {
          "base_uri": "https://localhost:8080/"
        },
        "outputId": "710685ed-d9dc-481f-f636-c4bbaccdd74f"
      },
      "execution_count": 17,
      "outputs": [
        {
          "output_type": "stream",
          "name": "stderr",
          "text": [
            "100%|██████████| 127/127 [00:10<00:00, 11.57it/s]\n"
          ]
        },
        {
          "output_type": "stream",
          "name": "stdout",
          "text": [
            "Train epoch 0 loss:  1.3572402\n",
            "Start test epoch...\n"
          ]
        },
        {
          "output_type": "stream",
          "name": "stderr",
          "text": [
            "100%|██████████| 43/43 [00:02<00:00, 16.69it/s]\n"
          ]
        },
        {
          "output_type": "stream",
          "name": "stdout",
          "text": [
            "Test epoch 0 loss:  0.29783842\n"
          ]
        },
        {
          "output_type": "stream",
          "name": "stderr",
          "text": [
            "100%|██████████| 127/127 [00:08<00:00, 15.84it/s]\n"
          ]
        },
        {
          "output_type": "stream",
          "name": "stdout",
          "text": [
            "Train epoch 1 loss:  0.2639893\n"
          ]
        },
        {
          "output_type": "stream",
          "name": "stderr",
          "text": [
            "100%|██████████| 127/127 [00:07<00:00, 16.28it/s]\n"
          ]
        },
        {
          "output_type": "stream",
          "name": "stdout",
          "text": [
            "Train epoch 2 loss:  0.2063227\n"
          ]
        },
        {
          "output_type": "stream",
          "name": "stderr",
          "text": [
            "100%|██████████| 127/127 [00:07<00:00, 16.20it/s]\n"
          ]
        },
        {
          "output_type": "stream",
          "name": "stdout",
          "text": [
            "Train epoch 3 loss:  0.1772345\n"
          ]
        },
        {
          "output_type": "stream",
          "name": "stderr",
          "text": [
            "100%|██████████| 127/127 [00:07<00:00, 16.27it/s]\n"
          ]
        },
        {
          "output_type": "stream",
          "name": "stdout",
          "text": [
            "Train epoch 4 loss:  0.1595177\n"
          ]
        },
        {
          "output_type": "stream",
          "name": "stderr",
          "text": [
            "100%|██████████| 127/127 [00:08<00:00, 15.82it/s]\n"
          ]
        },
        {
          "output_type": "stream",
          "name": "stdout",
          "text": [
            "Train epoch 5 loss:  0.14664717\n",
            "Start test epoch...\n"
          ]
        },
        {
          "output_type": "stream",
          "name": "stderr",
          "text": [
            "100%|██████████| 43/43 [00:02<00:00, 17.02it/s]\n"
          ]
        },
        {
          "output_type": "stream",
          "name": "stdout",
          "text": [
            "Test epoch 5 loss:  0.12643312\n"
          ]
        },
        {
          "output_type": "stream",
          "name": "stderr",
          "text": [
            "100%|██████████| 127/127 [00:07<00:00, 15.93it/s]\n"
          ]
        },
        {
          "output_type": "stream",
          "name": "stdout",
          "text": [
            "Train epoch 6 loss:  0.13691454\n"
          ]
        },
        {
          "output_type": "stream",
          "name": "stderr",
          "text": [
            "100%|██████████| 127/127 [00:07<00:00, 16.04it/s]\n"
          ]
        },
        {
          "output_type": "stream",
          "name": "stdout",
          "text": [
            "Train epoch 7 loss:  0.12928067\n"
          ]
        },
        {
          "output_type": "stream",
          "name": "stderr",
          "text": [
            "100%|██████████| 127/127 [00:08<00:00, 15.54it/s]\n"
          ]
        },
        {
          "output_type": "stream",
          "name": "stdout",
          "text": [
            "Train epoch 8 loss:  0.12319461\n"
          ]
        },
        {
          "output_type": "stream",
          "name": "stderr",
          "text": [
            "100%|██████████| 127/127 [00:07<00:00, 16.14it/s]\n"
          ]
        },
        {
          "output_type": "stream",
          "name": "stdout",
          "text": [
            "Train epoch 9 loss:  0.1180393\n"
          ]
        },
        {
          "output_type": "stream",
          "name": "stderr",
          "text": [
            "100%|██████████| 127/127 [00:08<00:00, 15.73it/s]\n"
          ]
        },
        {
          "output_type": "stream",
          "name": "stdout",
          "text": [
            "Train epoch 10 loss:  0.113392144\n",
            "Start test epoch...\n"
          ]
        },
        {
          "output_type": "stream",
          "name": "stderr",
          "text": [
            "100%|██████████| 43/43 [00:03<00:00, 11.04it/s]"
          ]
        },
        {
          "output_type": "stream",
          "name": "stdout",
          "text": [
            "Test epoch 10 loss:  0.09927598\n"
          ]
        },
        {
          "output_type": "stream",
          "name": "stderr",
          "text": [
            "\n"
          ]
        }
      ]
    },
    {
      "cell_type": "code",
      "source": [
        "NUM_GRAPHS_PER_BATCH = 1\n",
        "loader = DataLoader(encoder_set, \n",
        "                    batch_size=NUM_GRAPHS_PER_BATCH, shuffle=False)\n",
        "\n",
        "dictval = {}\n",
        "for batch in loader : \n",
        "  batch.to(device)\n",
        "  decode_pred, mu = model(batch.x.float(), \n",
        "                            batch.edge_attr.float(),\n",
        "                            batch.edge_index, \n",
        "                            batch.batch) \n",
        "  \n",
        "  \n",
        "  dictval[batch.id[0]] = mu\n",
        "  \n",
        "print(\"done!!!\")\n",
        "  \n",
        "\n",
        "      "
      ],
      "metadata": {
        "id": "c0ztMzzL_rle",
        "colab": {
          "base_uri": "https://localhost:8080/"
        },
        "outputId": "08834d50-dc98-4398-92ed-99d4e0682fd7"
      },
      "execution_count": 18,
      "outputs": [
        {
          "output_type": "stream",
          "name": "stdout",
          "text": [
            "done!!!\n"
          ]
        }
      ]
    },
    {
      "cell_type": "code",
      "source": [
        "temp = pd.read_csv(\"sup_train_val.csv\")\n",
        "temp.head()"
      ],
      "metadata": {
        "id": "dO8BDru-OXpR",
        "colab": {
          "base_uri": "https://localhost:8080/",
          "height": 285
        },
        "outputId": "26aa7622-b026-4d06-e75b-a591f5ef6223"
      },
      "execution_count": 20,
      "outputs": [
        {
          "output_type": "execute_result",
          "data": {
            "text/plain": [
              "   Unnamed: 0 Drug1_ID                                       Drug1_SMILES  \\\n",
              "0           0  DB00706   CCOc1ccccc1OCCN[C@H](C)Cc1ccc(OC)c(S(N)(=O)=O)c1   \n",
              "1           1   3849.0  C[C@@H](Oc1ccc2[nH]nc(/C=C/c3cnn(CCO)c3)c2c1)c...   \n",
              "2           2   6380.0                      O=P(O)(O)OCCCc1c[nH]c2ccccc12   \n",
              "3           3   7947.0  CCCC(=O)O[C@]1(C(=O)COC(C)=O)CC[C@H]2[C@@H]3C[...   \n",
              "4           4  DB00802   CCC(=O)N(c1ccccc1)C1(COC)CCN(CCn2nnn(CC)c2=O)CC1   \n",
              "\n",
              "  Drug2_ID                                       Drug2_SMILES  label  \n",
              "0  DB01023    CCOC(=O)C1=C(C)NC(C)=C(C(=O)OC)C1c1cccc(Cl)c1Cl    1.0  \n",
              "1   3515.0      COc1ccc2c(c1)c(CC(=O)O)c(C)n2C(=O)c1ccc(I)cc1    0.0  \n",
              "2   8290.0       N[C@@H](c1ccccc1)c1ccc(-c2ncnc3[nH]cnc23)cc1    0.0  \n",
              "3   3010.0                                       CNCCc1ccccn1    0.0  \n",
              "4  DB00872  Cc1nc2c([nH]1)CCN(C(=O)c1ccc(NC(=O)c3ccccc3-c3...    1.0  "
            ],
            "text/html": [
              "\n",
              "  <div id=\"df-303c7a95-2cd0-4354-91e2-f16587b9563d\">\n",
              "    <div class=\"colab-df-container\">\n",
              "      <div>\n",
              "<style scoped>\n",
              "    .dataframe tbody tr th:only-of-type {\n",
              "        vertical-align: middle;\n",
              "    }\n",
              "\n",
              "    .dataframe tbody tr th {\n",
              "        vertical-align: top;\n",
              "    }\n",
              "\n",
              "    .dataframe thead th {\n",
              "        text-align: right;\n",
              "    }\n",
              "</style>\n",
              "<table border=\"1\" class=\"dataframe\">\n",
              "  <thead>\n",
              "    <tr style=\"text-align: right;\">\n",
              "      <th></th>\n",
              "      <th>Unnamed: 0</th>\n",
              "      <th>Drug1_ID</th>\n",
              "      <th>Drug1_SMILES</th>\n",
              "      <th>Drug2_ID</th>\n",
              "      <th>Drug2_SMILES</th>\n",
              "      <th>label</th>\n",
              "    </tr>\n",
              "  </thead>\n",
              "  <tbody>\n",
              "    <tr>\n",
              "      <th>0</th>\n",
              "      <td>0</td>\n",
              "      <td>DB00706</td>\n",
              "      <td>CCOc1ccccc1OCCN[C@H](C)Cc1ccc(OC)c(S(N)(=O)=O)c1</td>\n",
              "      <td>DB01023</td>\n",
              "      <td>CCOC(=O)C1=C(C)NC(C)=C(C(=O)OC)C1c1cccc(Cl)c1Cl</td>\n",
              "      <td>1.0</td>\n",
              "    </tr>\n",
              "    <tr>\n",
              "      <th>1</th>\n",
              "      <td>1</td>\n",
              "      <td>3849.0</td>\n",
              "      <td>C[C@@H](Oc1ccc2[nH]nc(/C=C/c3cnn(CCO)c3)c2c1)c...</td>\n",
              "      <td>3515.0</td>\n",
              "      <td>COc1ccc2c(c1)c(CC(=O)O)c(C)n2C(=O)c1ccc(I)cc1</td>\n",
              "      <td>0.0</td>\n",
              "    </tr>\n",
              "    <tr>\n",
              "      <th>2</th>\n",
              "      <td>2</td>\n",
              "      <td>6380.0</td>\n",
              "      <td>O=P(O)(O)OCCCc1c[nH]c2ccccc12</td>\n",
              "      <td>8290.0</td>\n",
              "      <td>N[C@@H](c1ccccc1)c1ccc(-c2ncnc3[nH]cnc23)cc1</td>\n",
              "      <td>0.0</td>\n",
              "    </tr>\n",
              "    <tr>\n",
              "      <th>3</th>\n",
              "      <td>3</td>\n",
              "      <td>7947.0</td>\n",
              "      <td>CCCC(=O)O[C@]1(C(=O)COC(C)=O)CC[C@H]2[C@@H]3C[...</td>\n",
              "      <td>3010.0</td>\n",
              "      <td>CNCCc1ccccn1</td>\n",
              "      <td>0.0</td>\n",
              "    </tr>\n",
              "    <tr>\n",
              "      <th>4</th>\n",
              "      <td>4</td>\n",
              "      <td>DB00802</td>\n",
              "      <td>CCC(=O)N(c1ccccc1)C1(COC)CCN(CCn2nnn(CC)c2=O)CC1</td>\n",
              "      <td>DB00872</td>\n",
              "      <td>Cc1nc2c([nH]1)CCN(C(=O)c1ccc(NC(=O)c3ccccc3-c3...</td>\n",
              "      <td>1.0</td>\n",
              "    </tr>\n",
              "  </tbody>\n",
              "</table>\n",
              "</div>\n",
              "      <button class=\"colab-df-convert\" onclick=\"convertToInteractive('df-303c7a95-2cd0-4354-91e2-f16587b9563d')\"\n",
              "              title=\"Convert this dataframe to an interactive table.\"\n",
              "              style=\"display:none;\">\n",
              "        \n",
              "  <svg xmlns=\"http://www.w3.org/2000/svg\" height=\"24px\"viewBox=\"0 0 24 24\"\n",
              "       width=\"24px\">\n",
              "    <path d=\"M0 0h24v24H0V0z\" fill=\"none\"/>\n",
              "    <path d=\"M18.56 5.44l.94 2.06.94-2.06 2.06-.94-2.06-.94-.94-2.06-.94 2.06-2.06.94zm-11 1L8.5 8.5l.94-2.06 2.06-.94-2.06-.94L8.5 2.5l-.94 2.06-2.06.94zm10 10l.94 2.06.94-2.06 2.06-.94-2.06-.94-.94-2.06-.94 2.06-2.06.94z\"/><path d=\"M17.41 7.96l-1.37-1.37c-.4-.4-.92-.59-1.43-.59-.52 0-1.04.2-1.43.59L10.3 9.45l-7.72 7.72c-.78.78-.78 2.05 0 2.83L4 21.41c.39.39.9.59 1.41.59.51 0 1.02-.2 1.41-.59l7.78-7.78 2.81-2.81c.8-.78.8-2.07 0-2.86zM5.41 20L4 18.59l7.72-7.72 1.47 1.35L5.41 20z\"/>\n",
              "  </svg>\n",
              "      </button>\n",
              "      \n",
              "  <style>\n",
              "    .colab-df-container {\n",
              "      display:flex;\n",
              "      flex-wrap:wrap;\n",
              "      gap: 12px;\n",
              "    }\n",
              "\n",
              "    .colab-df-convert {\n",
              "      background-color: #E8F0FE;\n",
              "      border: none;\n",
              "      border-radius: 50%;\n",
              "      cursor: pointer;\n",
              "      display: none;\n",
              "      fill: #1967D2;\n",
              "      height: 32px;\n",
              "      padding: 0 0 0 0;\n",
              "      width: 32px;\n",
              "    }\n",
              "\n",
              "    .colab-df-convert:hover {\n",
              "      background-color: #E2EBFA;\n",
              "      box-shadow: 0px 1px 2px rgba(60, 64, 67, 0.3), 0px 1px 3px 1px rgba(60, 64, 67, 0.15);\n",
              "      fill: #174EA6;\n",
              "    }\n",
              "\n",
              "    [theme=dark] .colab-df-convert {\n",
              "      background-color: #3B4455;\n",
              "      fill: #D2E3FC;\n",
              "    }\n",
              "\n",
              "    [theme=dark] .colab-df-convert:hover {\n",
              "      background-color: #434B5C;\n",
              "      box-shadow: 0px 1px 3px 1px rgba(0, 0, 0, 0.15);\n",
              "      filter: drop-shadow(0px 1px 2px rgba(0, 0, 0, 0.3));\n",
              "      fill: #FFFFFF;\n",
              "    }\n",
              "  </style>\n",
              "\n",
              "      <script>\n",
              "        const buttonEl =\n",
              "          document.querySelector('#df-303c7a95-2cd0-4354-91e2-f16587b9563d button.colab-df-convert');\n",
              "        buttonEl.style.display =\n",
              "          google.colab.kernel.accessAllowed ? 'block' : 'none';\n",
              "\n",
              "        async function convertToInteractive(key) {\n",
              "          const element = document.querySelector('#df-303c7a95-2cd0-4354-91e2-f16587b9563d');\n",
              "          const dataTable =\n",
              "            await google.colab.kernel.invokeFunction('convertToInteractive',\n",
              "                                                     [key], {});\n",
              "          if (!dataTable) return;\n",
              "\n",
              "          const docLinkHtml = 'Like what you see? Visit the ' +\n",
              "            '<a target=\"_blank\" href=https://colab.research.google.com/notebooks/data_table.ipynb>data table notebook</a>'\n",
              "            + ' to learn more about interactive tables.';\n",
              "          element.innerHTML = '';\n",
              "          dataTable['output_type'] = 'display_data';\n",
              "          await google.colab.output.renderOutput(dataTable, element);\n",
              "          const docLink = document.createElement('div');\n",
              "          docLink.innerHTML = docLinkHtml;\n",
              "          element.appendChild(docLink);\n",
              "        }\n",
              "      </script>\n",
              "    </div>\n",
              "  </div>\n",
              "  "
            ]
          },
          "metadata": {},
          "execution_count": 20
        }
      ]
    },
    {
      "cell_type": "code",
      "source": [
        "df = temp"
      ],
      "metadata": {
        "id": "qBIRTvrYSUBl"
      },
      "execution_count": 21,
      "outputs": []
    },
    {
      "cell_type": "code",
      "source": [
        "n_classes = len(df['label'].unique())\n",
        "n_classes"
      ],
      "metadata": {
        "colab": {
          "base_uri": "https://localhost:8080/"
        },
        "id": "kMx3bEYESUGO",
        "outputId": "193cac73-0d24-4b6a-884a-0410aa74736a"
      },
      "execution_count": 22,
      "outputs": [
        {
          "output_type": "execute_result",
          "data": {
            "text/plain": [
              "2"
            ]
          },
          "metadata": {},
          "execution_count": 22
        }
      ]
    },
    {
      "cell_type": "code",
      "source": [
        "dftrain = temp\n",
        "dftest = pd.read_csv('sup_test.csv')"
      ],
      "metadata": {
        "id": "rDmqskMl7XcE"
      },
      "execution_count": 23,
      "outputs": []
    },
    {
      "cell_type": "code",
      "source": [
        "class NumbersDataset(Dataset):\n",
        "    def __init__(self,filename):\n",
        "        datat = temp\n",
        "        \n",
        "        self.samples = list(range(len(datat)))\n",
        "        self.label = list(range(len(datat)))\n",
        "        self.sz = 0\n",
        "        idx = 0\n",
        "        for index in range(len(datat)) :\n",
        "          str1 = datat['Drug1_ID'][index]\n",
        "          str2 = datat['Drug2_ID'][index]\n",
        "\n",
        "          if (str1 in dictval) and (str2 in dictval) :\n",
        "            mat1 = dictval[str1]\n",
        "            mat2 = dictval[str2]\n",
        "            mean1 = torch.mean(mat1, axis = 0)\n",
        "            std1 = torch.std(mat1, axis = 0)\n",
        "            mean2 = torch.mean(mat2, axis = 0)\n",
        "            std2 = torch.std(mat2, axis = 0)\n",
        "            vect = torch.cat([mean1, mean2, std1, std2], dim=0)\n",
        "            self.samples[idx] = vect.detach().cpu()\n",
        "            self.label[idx] = datat['label'][index]\n",
        "            self.label[idx] = torch.tensor(self.label[idx], dtype=torch.int64)\n",
        "            idx+=1\n",
        "        self.sz = idx\n",
        "\n",
        "\n",
        "    def __len__(self):\n",
        "        return self.sz\n",
        "\n",
        "    def __getitem__(self, idx):\n",
        "        return self.samples[idx],self.label[idx]\n",
        "\n",
        "dataset = NumbersDataset(\"raw/sup_train_val.csv\")\n",
        "len(dataset)"
      ],
      "metadata": {
        "id": "Y6ssfTofP0Pi",
        "colab": {
          "base_uri": "https://localhost:8080/"
        },
        "outputId": "737d6753-a045-475b-f94a-7b503b84b2b8"
      },
      "execution_count": 26,
      "outputs": [
        {
          "output_type": "execute_result",
          "data": {
            "text/plain": [
              "65075"
            ]
          },
          "metadata": {},
          "execution_count": 26
        }
      ]
    },
    {
      "cell_type": "code",
      "source": [
        "import torch.nn.functional as F \n",
        "torch.manual_seed(42)\n",
        "\n",
        "class NeuralNet(torch.nn.Module):\n",
        "    def __init__(self, input_size, hidden_size):\n",
        "        super(NeuralNet, self).__init__()\n",
        "        self.input_size = input_size\n",
        "        self.hidden_size  = hidden_size\n",
        "        self.fc1 = torch.nn.Linear(self.input_size, self.hidden_size)\n",
        "        self.relu = torch.nn.ReLU()\n",
        "        self.fc2 = torch.nn.Linear(self.hidden_size, 2)\n",
        "        \n",
        "    def forward(self, x):\n",
        "        x = self.fc1(x)\n",
        "        x = self.relu(x)\n",
        "        x = self.fc2(x)\n",
        "        x = F.softmax(x, dim=1)\n",
        "        return x\n",
        "model_ff = NeuralNet(dataset[0][0].shape[0],128)\n",
        "print(model_ff)\n",
        "print(\"Number of parameters: \", sum(p.numel() for p in model_ff.parameters()))"
      ],
      "metadata": {
        "id": "RGfTeAMTeCBB",
        "colab": {
          "base_uri": "https://localhost:8080/"
        },
        "outputId": "11f37664-9743-4b19-cc73-85c5150a9b58"
      },
      "execution_count": 27,
      "outputs": [
        {
          "output_type": "stream",
          "name": "stdout",
          "text": [
            "NeuralNet(\n",
            "  (fc1): Linear(in_features=32, out_features=128, bias=True)\n",
            "  (relu): ReLU()\n",
            "  (fc2): Linear(in_features=128, out_features=2, bias=True)\n",
            ")\n",
            "Number of parameters:  4482\n"
          ]
        }
      ]
    },
    {
      "cell_type": "code",
      "source": [
        "data = dataset"
      ],
      "metadata": {
        "id": "NpmDF8mOdS3X"
      },
      "execution_count": 28,
      "outputs": []
    },
    {
      "cell_type": "code",
      "source": [
        "\n",
        "\n",
        "\n",
        "loss_fn = nn.CrossEntropyLoss()\n",
        "optimizer = torch.optim.Adam(model_ff.parameters(), lr=0.001)  \n",
        "\n",
        "# Use GPU for training\n",
        "device = torch.device(\"cuda:0\" if torch.cuda.is_available() else \"cpu\")\n",
        "model_ff = model_ff.to(device)\n",
        "loss_fn = loss_fn.to(device)\n",
        "\n",
        "# Wrap data in a data loader\n",
        "data_size = len(data)\n",
        "NUM_GRAPHS_PER_BATCH = 128\n",
        "loader = DataLoader(data,batch_size=NUM_GRAPHS_PER_BATCH, shuffle=True)\n",
        "\n",
        "\n",
        "\n",
        "def train(data):\n",
        "    # Enumerate over the data\n",
        "    for batch in loader:\n",
        "      # Use GPU\n",
        "      batch[0] = batch[0].to(device) \n",
        "      batch[1] = batch[1].to(device)  \n",
        "      # Reset gradients\n",
        "      optimizer.zero_grad() \n",
        "      # Passing the node features and the connection info\n",
        "      \n",
        "      pred = model_ff(batch[0]) \n",
        "      \n",
        "      # Calculating the loss and gradients\n",
        "      \n",
        "      \n",
        "      loss = (loss_fn(pred, batch[1]))      \n",
        "      loss.backward()  \n",
        "      # Update using the gradients\n",
        "      optimizer.step()   \n",
        "    return loss\n",
        "\n",
        "print(\"Starting training...\")\n",
        "losses = []\n",
        "for epoch in range(251):\n",
        "    loss = train(data)\n",
        "    losses.append(loss)\n",
        "    if epoch % 50 == 0:\n",
        "      print(f\"Epoch {epoch} | Train Loss {loss}\")"
      ],
      "metadata": {
        "colab": {
          "base_uri": "https://localhost:8080/"
        },
        "id": "UGlABKn-ZPWT",
        "outputId": "a9b3d5e8-e372-4819-f464-babca7d6f3b8"
      },
      "execution_count": 29,
      "outputs": [
        {
          "output_type": "stream",
          "name": "stdout",
          "text": [
            "Starting training...\n",
            "Epoch 0 | Train Loss 0.5506323575973511\n",
            "Epoch 50 | Train Loss 0.5096133947372437\n",
            "Epoch 100 | Train Loss 0.394612193107605\n",
            "Epoch 150 | Train Loss 0.45609623193740845\n",
            "Epoch 200 | Train Loss 0.4013234078884125\n",
            "Epoch 250 | Train Loss 0.44898971915245056\n"
          ]
        }
      ]
    },
    {
      "cell_type": "code",
      "source": [
        "# Visualize learning (training loss)\n",
        "\n",
        "losses_float = [float(loss.cpu().detach().numpy()) for loss in losses] \n",
        "loss_indices = [i for i,l in enumerate(losses_float)] \n",
        "plt = sns.lineplot(loss_indices, losses_float)\n",
        "plt"
      ],
      "metadata": {
        "colab": {
          "base_uri": "https://localhost:8080/",
          "height": 282
        },
        "id": "nvxm5safZSCY",
        "outputId": "909527f4-d7f0-417e-90b9-4ff412d5661e"
      },
      "execution_count": 30,
      "outputs": [
        {
          "output_type": "execute_result",
          "data": {
            "text/plain": [
              "<matplotlib.axes._subplots.AxesSubplot at 0x7f778cec4090>"
            ]
          },
          "metadata": {},
          "execution_count": 30
        },
        {
          "output_type": "display_data",
          "data": {
            "text/plain": [
              "<Figure size 432x288 with 1 Axes>"
            ],
            "image/png": "[encoded data removed]"
          },
          "metadata": {
            "needs_background": "light"
          }
        }
      ]
    },
    {
      "cell_type": "code",
      "source": [
        "class TestDataset(Dataset):\n",
        "    def __init__(self,filename):\n",
        "        datat = dftest\n",
        "       \n",
        "        \n",
        "        self.samples = list(range(len(datat)))\n",
        "        self.label = list(range(len(datat)))\n",
        "        self.sz = 0\n",
        "        idx = 0\n",
        "        for index in range(len(datat)) :\n",
        "          str1 = datat['Drug1_ID'][index]\n",
        "          str2 = datat['Drug2_ID'][index]\n",
        "\n",
        "          if (str1 in dictval) and (str2 in dictval) :\n",
        "            mat1 = dictval[str1]\n",
        "            mat2 = dictval[str2]\n",
        "            mean1 = torch.mean(mat1, axis = 0)\n",
        "            std1 = torch.std(mat1, axis = 0)\n",
        "            mean2 = torch.mean(mat2, axis = 0)\n",
        "            std2 = torch.std(mat2, axis = 0)\n",
        "            vect = torch.cat([mean1, mean2, std1, std2], dim=0)\n",
        "            self.samples[idx] = vect.detach().cpu()\n",
        "            self.label[idx] = datat['label'][index]\n",
        "            self.label[idx] = torch.tensor(self.label[idx], dtype=torch.int64)\n",
        "            idx+=1\n",
        "        self.sz = idx\n",
        "\n",
        "\n",
        "    def __len__(self):\n",
        "        return self.sz\n",
        "\n",
        "    def __getitem__(self, idx):\n",
        "        return self.samples[idx],self.label[idx]\n",
        "\n",
        "datatest = TestDataset(\"raw/sup_test.csv\")\n",
        "len(datatest)"
      ],
      "metadata": {
        "colab": {
          "base_uri": "https://localhost:8080/"
        },
        "id": "u9v026XSZUCu",
        "outputId": "65b72f8b-fe96-40fe-b952-a9af18f7ebff"
      },
      "execution_count": 31,
      "outputs": [
        {
          "output_type": "execute_result",
          "data": {
            "text/plain": [
              "16234"
            ]
          },
          "metadata": {},
          "execution_count": 31
        }
      ]
    },
    {
      "cell_type": "code",
      "source": [
        "test_loader = DataLoader(datatest,batch_size=len(datatest), shuffle=True)\n",
        "dffull = pd.DataFrame(columns = ['y_real','y_pred'])\n",
        "with torch.no_grad():\n",
        "    for test_batch in test_loader : \n",
        "      test_batch[0] = test_batch[0].to(device)\n",
        "      test_batch[1] = test_batch[1].to(device)\n",
        "      pred = model_ff(test_batch[0]) \n",
        "      pred_frac0 = pred[:,0]\n",
        "      pred_frac1 = pred[:,1]\n",
        "      if n_classes == 3 : \n",
        "        pred_frac2 = pred[:,2]\n",
        "      pred = pred.argmax(dim=1)  \n",
        "      dftt = pd.DataFrame()\n",
        "      dftt[\"y_real\"] = test_batch[1].tolist()\n",
        "      dftt[\"y_pred\"] = pred.tolist()\n",
        "      dftt[\"y_predfrac0\"] = pred_frac0.tolist()\n",
        "      dftt[\"y_predfrac1\"] = pred_frac1.tolist()\n",
        "      if n_classes == 3 : \n",
        "        dftt[\"y_predfrac2\"] = pred_frac2.tolist()\n",
        "      dffull = dffull.append(dftt)\n",
        "      print(f1_score(dftt['y_real'], dftt['y_pred'],average='macro'))\n",
        "\n",
        "dffull.to_csv('tt.csv')\n",
        "dffull.tail()"
      ],
      "metadata": {
        "colab": {
          "base_uri": "https://localhost:8080/",
          "height": 221
        },
        "id": "Wu34lOI9ZV8j",
        "outputId": "935434d7-a8f8-458a-955d-42a032f0e420"
      },
      "execution_count": 32,
      "outputs": [
        {
          "output_type": "stream",
          "name": "stdout",
          "text": [
            "0.8673412252264872\n"
          ]
        },
        {
          "output_type": "execute_result",
          "data": {
            "text/plain": [
              "      y_real y_pred  y_predfrac0   y_predfrac1\n",
              "16229      1      0     0.713790  2.862100e-01\n",
              "16230      0      0     0.999427  5.730734e-04\n",
              "16231      0      0     1.000000  1.023130e-21\n",
              "16232      1      1     0.363284  6.367161e-01\n",
              "16233      0      0     1.000000  4.447388e-07"
            ],
            "text/html": [
              "\n",
              "  <div id=\"df-aad2d0bc-60f9-4848-b7b6-5a33b3fcc7d8\">\n",
              "    <div class=\"colab-df-container\">\n",
              "      <div>\n",
              "<style scoped>\n",
              "    .dataframe tbody tr th:only-of-type {\n",
              "        vertical-align: middle;\n",
              "    }\n",
              "\n",
              "    .dataframe tbody tr th {\n",
              "        vertical-align: top;\n",
              "    }\n",
              "\n",
              "    .dataframe thead th {\n",
              "        text-align: right;\n",
              "    }\n",
              "</style>\n",
              "<table border=\"1\" class=\"dataframe\">\n",
              "  <thead>\n",
              "    <tr style=\"text-align: right;\">\n",
              "      <th></th>\n",
              "      <th>y_real</th>\n",
              "      <th>y_pred</th>\n",
              "      <th>y_predfrac0</th>\n",
              "      <th>y_predfrac1</th>\n",
              "    </tr>\n",
              "  </thead>\n",
              "  <tbody>\n",
              "    <tr>\n",
              "      <th>16229</th>\n",
              "      <td>1</td>\n",
              "      <td>0</td>\n",
              "      <td>0.713790</td>\n",
              "      <td>2.862100e-01</td>\n",
              "    </tr>\n",
              "    <tr>\n",
              "      <th>16230</th>\n",
              "      <td>0</td>\n",
              "      <td>0</td>\n",
              "      <td>0.999427</td>\n",
              "      <td>5.730734e-04</td>\n",
              "    </tr>\n",
              "    <tr>\n",
              "      <th>16231</th>\n",
              "      <td>0</td>\n",
              "      <td>0</td>\n",
              "      <td>1.000000</td>\n",
              "      <td>1.023130e-21</td>\n",
              "    </tr>\n",
              "    <tr>\n",
              "      <th>16232</th>\n",
              "      <td>1</td>\n",
              "      <td>1</td>\n",
              "      <td>0.363284</td>\n",
              "      <td>6.367161e-01</td>\n",
              "    </tr>\n",
              "    <tr>\n",
              "      <th>16233</th>\n",
              "      <td>0</td>\n",
              "      <td>0</td>\n",
              "      <td>1.000000</td>\n",
              "      <td>4.447388e-07</td>\n",
              "    </tr>\n",
              "  </tbody>\n",
              "</table>\n",
              "</div>\n",
              "      <button class=\"colab-df-convert\" onclick=\"convertToInteractive('df-aad2d0bc-60f9-4848-b7b6-5a33b3fcc7d8')\"\n",
              "              title=\"Convert this dataframe to an interactive table.\"\n",
              "              style=\"display:none;\">\n",
              "        \n",
              "  <svg xmlns=\"http://www.w3.org/2000/svg\" height=\"24px\"viewBox=\"0 0 24 24\"\n",
              "       width=\"24px\">\n",
              "    <path d=\"M0 0h24v24H0V0z\" fill=\"none\"/>\n",
              "    <path d=\"M18.56 5.44l.94 2.06.94-2.06 2.06-.94-2.06-.94-.94-2.06-.94 2.06-2.06.94zm-11 1L8.5 8.5l.94-2.06 2.06-.94-2.06-.94L8.5 2.5l-.94 2.06-2.06.94zm10 10l.94 2.06.94-2.06 2.06-.94-2.06-.94-.94-2.06-.94 2.06-2.06.94z\"/><path d=\"M17.41 7.96l-1.37-1.37c-.4-.4-.92-.59-1.43-.59-.52 0-1.04.2-1.43.59L10.3 9.45l-7.72 7.72c-.78.78-.78 2.05 0 2.83L4 21.41c.39.39.9.59 1.41.59.51 0 1.02-.2 1.41-.59l7.78-7.78 2.81-2.81c.8-.78.8-2.07 0-2.86zM5.41 20L4 18.59l7.72-7.72 1.47 1.35L5.41 20z\"/>\n",
              "  </svg>\n",
              "      </button>\n",
              "      \n",
              "  <style>\n",
              "    .colab-df-container {\n",
              "      display:flex;\n",
              "      flex-wrap:wrap;\n",
              "      gap: 12px;\n",
              "    }\n",
              "\n",
              "    .colab-df-convert {\n",
              "      background-color: #E8F0FE;\n",
              "      border: none;\n",
              "      border-radius: 50%;\n",
              "      cursor: pointer;\n",
              "      display: none;\n",
              "      fill: #1967D2;\n",
              "      height: 32px;\n",
              "      padding: 0 0 0 0;\n",
              "      width: 32px;\n",
              "    }\n",
              "\n",
              "    .colab-df-convert:hover {\n",
              "      background-color: #E2EBFA;\n",
              "      box-shadow: 0px 1px 2px rgba(60, 64, 67, 0.3), 0px 1px 3px 1px rgba(60, 64, 67, 0.15);\n",
              "      fill: #174EA6;\n",
              "    }\n",
              "\n",
              "    [theme=dark] .colab-df-convert {\n",
              "      background-color: #3B4455;\n",
              "      fill: #D2E3FC;\n",
              "    }\n",
              "\n",
              "    [theme=dark] .colab-df-convert:hover {\n",
              "      background-color: #434B5C;\n",
              "      box-shadow: 0px 1px 3px 1px rgba(0, 0, 0, 0.15);\n",
              "      filter: drop-shadow(0px 1px 2px rgba(0, 0, 0, 0.3));\n",
              "      fill: #FFFFFF;\n",
              "    }\n",
              "  </style>\n",
              "\n",
              "      <script>\n",
              "        const buttonEl =\n",
              "          document.querySelector('#df-aad2d0bc-60f9-4848-b7b6-5a33b3fcc7d8 button.colab-df-convert');\n",
              "        buttonEl.style.display =\n",
              "          google.colab.kernel.accessAllowed ? 'block' : 'none';\n",
              "\n",
              "        async function convertToInteractive(key) {\n",
              "          const element = document.querySelector('#df-aad2d0bc-60f9-4848-b7b6-5a33b3fcc7d8');\n",
              "          const dataTable =\n",
              "            await google.colab.kernel.invokeFunction('convertToInteractive',\n",
              "                                                     [key], {});\n",
              "          if (!dataTable) return;\n",
              "\n",
              "          const docLinkHtml = 'Like what you see? Visit the ' +\n",
              "            '<a target=\"_blank\" href=https://colab.research.google.com/notebooks/data_table.ipynb>data table notebook</a>'\n",
              "            + ' to learn more about interactive tables.';\n",
              "          element.innerHTML = '';\n",
              "          dataTable['output_type'] = 'display_data';\n",
              "          await google.colab.output.renderOutput(dataTable, element);\n",
              "          const docLink = document.createElement('div');\n",
              "          docLink.innerHTML = docLinkHtml;\n",
              "          element.appendChild(docLink);\n",
              "        }\n",
              "      </script>\n",
              "    </div>\n",
              "  </div>\n",
              "  "
            ]
          },
          "metadata": {},
          "execution_count": 32
        }
      ]
    },
    {
      "cell_type": "code",
      "source": [
        "datahead = pd.read_csv('tt.csv')\n",
        "\n",
        "print(f1_score(datahead['y_real'], datahead['y_pred'],average='macro'))\n",
        "print(f1_score(datahead['y_real'], datahead['y_pred'],average='micro'))\n",
        "print(accuracy_score(datahead['y_real'], datahead['y_pred']))\n",
        "\n",
        "confusion_matrix(datahead['y_real'], datahead['y_pred'])"
      ],
      "metadata": {
        "colab": {
          "base_uri": "https://localhost:8080/"
        },
        "id": "hRghoJF8ZYZQ",
        "outputId": "b30b2065-be4b-4958-8c97-898736244223"
      },
      "execution_count": 33,
      "outputs": [
        {
          "output_type": "stream",
          "name": "stdout",
          "text": [
            "0.8673412252264872\n",
            "0.8673771097696193\n",
            "0.8673771097696193\n"
          ]
        },
        {
          "output_type": "execute_result",
          "data": {
            "text/plain": [
              "array([[7174,  935],\n",
              "       [1218, 6907]])"
            ]
          },
          "metadata": {},
          "execution_count": 33
        }
      ]
    },
    {
      "cell_type": "code",
      "source": [
        "dfttt = datahead.iloc[:,3:]\n",
        "dfttt.head()"
      ],
      "metadata": {
        "colab": {
          "base_uri": "https://localhost:8080/",
          "height": 204
        },
        "id": "RCcdRBPdekqg",
        "outputId": "94179cb1-33db-4554-bed1-829ae23fab97"
      },
      "execution_count": 34,
      "outputs": [
        {
          "output_type": "execute_result",
          "data": {
            "text/plain": [
              "   y_predfrac0   y_predfrac1\n",
              "0     1.000000  1.040117e-07\n",
              "1     0.989919  1.008080e-02\n",
              "2     1.000000  2.074118e-07\n",
              "3     1.000000  2.847760e-13\n",
              "4     0.997523  2.477430e-03"
            ],
            "text/html": [
              "\n",
              "  <div id=\"df-3edfd446-faed-4766-b879-4d0ae4f54400\">\n",
              "    <div class=\"colab-df-container\">\n",
              "      <div>\n",
              "<style scoped>\n",
              "    .dataframe tbody tr th:only-of-type {\n",
              "        vertical-align: middle;\n",
              "    }\n",
              "\n",
              "    .dataframe tbody tr th {\n",
              "        vertical-align: top;\n",
              "    }\n",
              "\n",
              "    .dataframe thead th {\n",
              "        text-align: right;\n",
              "    }\n",
              "</style>\n",
              "<table border=\"1\" class=\"dataframe\">\n",
              "  <thead>\n",
              "    <tr style=\"text-align: right;\">\n",
              "      <th></th>\n",
              "      <th>y_predfrac0</th>\n",
              "      <th>y_predfrac1</th>\n",
              "    </tr>\n",
              "  </thead>\n",
              "  <tbody>\n",
              "    <tr>\n",
              "      <th>0</th>\n",
              "      <td>1.000000</td>\n",
              "      <td>1.040117e-07</td>\n",
              "    </tr>\n",
              "    <tr>\n",
              "      <th>1</th>\n",
              "      <td>0.989919</td>\n",
              "      <td>1.008080e-02</td>\n",
              "    </tr>\n",
              "    <tr>\n",
              "      <th>2</th>\n",
              "      <td>1.000000</td>\n",
              "      <td>2.074118e-07</td>\n",
              "    </tr>\n",
              "    <tr>\n",
              "      <th>3</th>\n",
              "      <td>1.000000</td>\n",
              "      <td>2.847760e-13</td>\n",
              "    </tr>\n",
              "    <tr>\n",
              "      <th>4</th>\n",
              "      <td>0.997523</td>\n",
              "      <td>2.477430e-03</td>\n",
              "    </tr>\n",
              "  </tbody>\n",
              "</table>\n",
              "</div>\n",
              "      <button class=\"colab-df-convert\" onclick=\"convertToInteractive('df-3edfd446-faed-4766-b879-4d0ae4f54400')\"\n",
              "              title=\"Convert this dataframe to an interactive table.\"\n",
              "              style=\"display:none;\">\n",
              "        \n",
              "  <svg xmlns=\"http://www.w3.org/2000/svg\" height=\"24px\"viewBox=\"0 0 24 24\"\n",
              "       width=\"24px\">\n",
              "    <path d=\"M0 0h24v24H0V0z\" fill=\"none\"/>\n",
              "    <path d=\"M18.56 5.44l.94 2.06.94-2.06 2.06-.94-2.06-.94-.94-2.06-.94 2.06-2.06.94zm-11 1L8.5 8.5l.94-2.06 2.06-.94-2.06-.94L8.5 2.5l-.94 2.06-2.06.94zm10 10l.94 2.06.94-2.06 2.06-.94-2.06-.94-.94-2.06-.94 2.06-2.06.94z\"/><path d=\"M17.41 7.96l-1.37-1.37c-.4-.4-.92-.59-1.43-.59-.52 0-1.04.2-1.43.59L10.3 9.45l-7.72 7.72c-.78.78-.78 2.05 0 2.83L4 21.41c.39.39.9.59 1.41.59.51 0 1.02-.2 1.41-.59l7.78-7.78 2.81-2.81c.8-.78.8-2.07 0-2.86zM5.41 20L4 18.59l7.72-7.72 1.47 1.35L5.41 20z\"/>\n",
              "  </svg>\n",
              "      </button>\n",
              "      \n",
              "  <style>\n",
              "    .colab-df-container {\n",
              "      display:flex;\n",
              "      flex-wrap:wrap;\n",
              "      gap: 12px;\n",
              "    }\n",
              "\n",
              "    .colab-df-convert {\n",
              "      background-color: #E8F0FE;\n",
              "      border: none;\n",
              "      border-radius: 50%;\n",
              "      cursor: pointer;\n",
              "      display: none;\n",
              "      fill: #1967D2;\n",
              "      height: 32px;\n",
              "      padding: 0 0 0 0;\n",
              "      width: 32px;\n",
              "    }\n",
              "\n",
              "    .colab-df-convert:hover {\n",
              "      background-color: #E2EBFA;\n",
              "      box-shadow: 0px 1px 2px rgba(60, 64, 67, 0.3), 0px 1px 3px 1px rgba(60, 64, 67, 0.15);\n",
              "      fill: #174EA6;\n",
              "    }\n",
              "\n",
              "    [theme=dark] .colab-df-convert {\n",
              "      background-color: #3B4455;\n",
              "      fill: #D2E3FC;\n",
              "    }\n",
              "\n",
              "    [theme=dark] .colab-df-convert:hover {\n",
              "      background-color: #434B5C;\n",
              "      box-shadow: 0px 1px 3px 1px rgba(0, 0, 0, 0.15);\n",
              "      filter: drop-shadow(0px 1px 2px rgba(0, 0, 0, 0.3));\n",
              "      fill: #FFFFFF;\n",
              "    }\n",
              "  </style>\n",
              "\n",
              "      <script>\n",
              "        const buttonEl =\n",
              "          document.querySelector('#df-3edfd446-faed-4766-b879-4d0ae4f54400 button.colab-df-convert');\n",
              "        buttonEl.style.display =\n",
              "          google.colab.kernel.accessAllowed ? 'block' : 'none';\n",
              "\n",
              "        async function convertToInteractive(key) {\n",
              "          const element = document.querySelector('#df-3edfd446-faed-4766-b879-4d0ae4f54400');\n",
              "          const dataTable =\n",
              "            await google.colab.kernel.invokeFunction('convertToInteractive',\n",
              "                                                     [key], {});\n",
              "          if (!dataTable) return;\n",
              "\n",
              "          const docLinkHtml = 'Like what you see? Visit the ' +\n",
              "            '<a target=\"_blank\" href=https://colab.research.google.com/notebooks/data_table.ipynb>data table notebook</a>'\n",
              "            + ' to learn more about interactive tables.';\n",
              "          element.innerHTML = '';\n",
              "          dataTable['output_type'] = 'display_data';\n",
              "          await google.colab.output.renderOutput(dataTable, element);\n",
              "          const docLink = document.createElement('div');\n",
              "          docLink.innerHTML = docLinkHtml;\n",
              "          element.appendChild(docLink);\n",
              "        }\n",
              "      </script>\n",
              "    </div>\n",
              "  </div>\n",
              "  "
            ]
          },
          "metadata": {},
          "execution_count": 34
        }
      ]
    },
    {
      "cell_type": "code",
      "source": [
        "probab = dfttt.to_numpy()"
      ],
      "metadata": {
        "id": "hu_FOEJVenqF"
      },
      "execution_count": 35,
      "outputs": []
    },
    {
      "cell_type": "code",
      "source": [
        "auc = roc_auc_score(datahead['y_real'],datahead['y_predfrac1'])\n",
        "print('AUC: %.3f' % auc)"
      ],
      "metadata": {
        "colab": {
          "base_uri": "https://localhost:8080/"
        },
        "id": "Oo5yUWQqZeOP",
        "outputId": "04e2744d-c444-4d77-de50-1de2ad54855c"
      },
      "execution_count": 36,
      "outputs": [
        {
          "output_type": "stream",
          "name": "stdout",
          "text": [
            "AUC: 0.918\n"
          ]
        }
      ]
    },
    {
      "cell_type": "code",
      "source": [
        "\n",
        "lr_auc = roc_auc_score(datahead['y_real'],datahead['y_predfrac1'])\n",
        "# summarize scores\n",
        "\n",
        "print('Model: ROC AUC=%.3f' % (lr_auc))\n",
        "# calculate roc curves\n",
        "\n",
        "lr_fpr, lr_tpr, _ = roc_curve(datahead['y_real'],datahead['y_predfrac1'])\n",
        "# plot the roc curve for the model\n",
        "pyplot.plot(lr_fpr, lr_tpr, marker='.', label='Model')\n",
        "# axis labels\n",
        "pyplot.xlabel('False Positive Rate')\n",
        "pyplot.ylabel('True Positive Rate')\n",
        "# show the legend\n",
        "pyplot.legend()\n",
        "# show the plot\n",
        "pyplot.show()"
      ],
      "metadata": {
        "colab": {
          "base_uri": "https://localhost:8080/",
          "height": 296
        },
        "id": "HvBeWWdqZhYP",
        "outputId": "285aa590-ec32-4379-a582-1750e4ea87f6"
      },
      "execution_count": 37,
      "outputs": [
        {
          "output_type": "stream",
          "name": "stdout",
          "text": [
            "Model: ROC AUC=0.918\n"
          ]
        },
        {
          "output_type": "display_data",
          "data": {
            "text/plain": [
              "<Figure size 432x288 with 1 Axes>"
            ],
            "image/png": "[encoded data removed]"
          },
          "metadata": {
            "needs_background": "light"
          }
        }
      ]
    },
    {
      "cell_type": "code",
      "source": [
        "lr_precision, lr_recall, _ = precision_recall_curve(datahead['y_real'],datahead['y_predfrac1'])\n",
        "lr_f1, lr_auc = f1_score(datahead['y_real'], datahead['y_pred']), metrics.auc(lr_recall, lr_precision)\n",
        "# summarize scores\n",
        "print('Logistic: f1=%.3f auc=%.3f' % (lr_f1, lr_auc))\n",
        "# plot the precision-recall curves\n",
        "no_skill = len(datahead['y_real'][datahead['y_real']==1]) / len(datahead['y_real'])\n",
        "pyplot.plot([0, 1], [no_skill, no_skill], linestyle='--', label='No Skill')\n",
        "pyplot.plot(lr_recall, lr_precision, marker='.', label='Logistic')\n",
        "# axis labels\n",
        "pyplot.xlabel('Recall')\n",
        "pyplot.ylabel('Precision')\n",
        "# show the legend\n",
        "pyplot.legend()\n",
        "# show the plot\n",
        "pyplot.show()"
      ],
      "metadata": {
        "colab": {
          "base_uri": "https://localhost:8080/",
          "height": 296
        },
        "id": "i6RfWorNZlCV",
        "outputId": "717e20e4-225e-4cf2-f2b8-6aa43bdfe86c"
      },
      "execution_count": 38,
      "outputs": [
        {
          "output_type": "stream",
          "name": "stdout",
          "text": [
            "Logistic: f1=0.865 auc=0.913\n"
          ]
        },
        {
          "output_type": "display_data",
          "data": {
            "text/plain": [
              "<Figure size 432x288 with 1 Axes>"
            ],
            "image/png": "[encoded data removed]"
          },
          "metadata": {
            "needs_background": "light"
          }
        }
      ]
    },
    {
      "cell_type": "code",
      "source": [
        ""
      ],
      "metadata": {
        "id": "5tWU0LqHVP6H"
      },
      "execution_count": 38,
      "outputs": []
    }
  ]
}