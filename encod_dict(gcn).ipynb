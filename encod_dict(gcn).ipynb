{
  "cells": [
    {
      "cell_type": "code",
      "execution_count": null,
      "metadata": {
        "colab": {
          "base_uri": "https://localhost:8080/"
        },
        "id": "1nILhjSTjRZj",
        "outputId": "a88ef7c4-ebb3-4fe7-ae37-d11f3b135db8"
      },
      "outputs": [
        {
          "output_type": "stream",
          "name": "stdout",
          "text": [
            "1.11.0+cu113\n",
            "\u001b[K     |████████████████████████████████| 7.9 MB 5.2 MB/s \n",
            "\u001b[K     |████████████████████████████████| 3.5 MB 6.7 MB/s \n",
            "\u001b[?25h  Building wheel for torch-geometric (setup.py) ... \u001b[?25l\u001b[?25hdone\n"
          ]
        }
      ],
      "source": [
        "# Install required packages.\n",
        "import os\n",
        "import torch\n",
        "os.environ['TORCH'] = torch.__version__\n",
        "print(torch.__version__)\n",
        "\n",
        "!pip install -q torch-scatter -f https://data.pyg.org/whl/torch-${TORCH}.html\n",
        "!pip install -q torch-sparse -f https://data.pyg.org/whl/torch-${TORCH}.html\n",
        "!pip install -q git+https://github.com/pyg-team/pytorch_geometric.git\n",
        "\n",
        "# Helper function for visualization.\n",
        "%matplotlib inline\n",
        "import networkx as nx\n",
        "import matplotlib.pyplot as plt\n"
      ]
    },
    {
      "cell_type": "code",
      "execution_count": null,
      "metadata": {
        "id": "OXlnE_1Lp0UK"
      },
      "outputs": [],
      "source": [
        "# from google.colab import drive\n",
        "# drive.mount('/content/drive')"
      ]
    },
    {
      "cell_type": "code",
      "execution_count": null,
      "metadata": {
        "id": "eafj4UGxjX7G"
      },
      "outputs": [],
      "source": [
        "import torch\n",
        "import pandas as pd\n",
        "import numpy as np\n",
        "from torch_geometric.datasets import Planetoid\n",
        "import torch_geometric.transforms as T\n",
        "from torch_geometric.nn import GCNConv\n",
        "from torch_geometric.utils import train_test_split_edges\n",
        "from torch_geometric.utils import to_dense_adj"
      ]
    },
    {
      "cell_type": "code",
      "execution_count": null,
      "metadata": {
        "colab": {
          "base_uri": "https://localhost:8080/"
        },
        "id": "_FbBgdyRjX-D",
        "outputId": "db1364d2-0dcb-4d0b-da2f-dc846057456c"
      },
      "outputs": [
        {
          "output_type": "stream",
          "name": "stdout",
          "text": [
            "Looking in indexes: https://pypi.org/simple, https://us-python.pkg.dev/colab-wheels/public/simple/\n",
            "Collecting deepchem\n",
            "  Downloading deepchem-2.6.1-py3-none-any.whl (608 kB)\n",
            "\u001b[K     |████████████████████████████████| 608 kB 5.3 MB/s \n",
            "\u001b[?25hRequirement already satisfied: numpy>=1.21 in /usr/local/lib/python3.7/dist-packages (from deepchem) (1.21.6)\n",
            "Collecting rdkit-pypi\n",
            "  Downloading rdkit_pypi-2022.3.3-cp37-cp37m-manylinux_2_17_x86_64.manylinux2014_x86_64.whl (22.7 MB)\n",
            "\u001b[K     |████████████████████████████████| 22.7 MB 1.3 MB/s \n",
            "\u001b[?25hRequirement already satisfied: scipy in /usr/local/lib/python3.7/dist-packages (from deepchem) (1.4.1)\n",
            "Requirement already satisfied: pandas in /usr/local/lib/python3.7/dist-packages (from deepchem) (1.3.5)\n",
            "Requirement already satisfied: scikit-learn in /usr/local/lib/python3.7/dist-packages (from deepchem) (1.0.2)\n",
            "Requirement already satisfied: joblib in /usr/local/lib/python3.7/dist-packages (from deepchem) (1.1.0)\n",
            "Requirement already satisfied: pytz>=2017.3 in /usr/local/lib/python3.7/dist-packages (from pandas->deepchem) (2022.1)\n",
            "Requirement already satisfied: python-dateutil>=2.7.3 in /usr/local/lib/python3.7/dist-packages (from pandas->deepchem) (2.8.2)\n",
            "Requirement already satisfied: six>=1.5 in /usr/local/lib/python3.7/dist-packages (from python-dateutil>=2.7.3->pandas->deepchem) (1.15.0)\n",
            "Requirement already satisfied: Pillow in /usr/local/lib/python3.7/dist-packages (from rdkit-pypi->deepchem) (7.1.2)\n",
            "Requirement already satisfied: threadpoolctl>=2.0.0 in /usr/local/lib/python3.7/dist-packages (from scikit-learn->deepchem) (3.1.0)\n",
            "Installing collected packages: rdkit-pypi, deepchem\n",
            "Successfully installed deepchem-2.6.1 rdkit-pypi-2022.3.3\n"
          ]
        }
      ],
      "source": [
        "pip install deepchem"
      ]
    },
    {
      "cell_type": "code",
      "execution_count": null,
      "metadata": {
        "colab": {
          "base_uri": "https://localhost:8080/",
          "height": 204
        },
        "id": "gRWg2yKIjYBL",
        "outputId": "bb1aae69-ded7-409b-a9f9-ee17aea60a3f"
      },
      "outputs": [
        {
          "output_type": "execute_result",
          "data": {
            "text/plain": [
              "   Unnamed: 0 Drug1_ID                                       Drug1_SMILES\n",
              "0           0  DB00706   CCOc1ccccc1OCCN[C@H](C)Cc1ccc(OC)c(S(N)(=O)=O)c1\n",
              "1           1  DB01023    CCOC(=O)C1=C(C)NC(C)=C(C(=O)OC)C1c1cccc(Cl)c1Cl\n",
              "2           2   3849.0  C[C@@H](Oc1ccc2[nH]nc(/C=C/c3cnn(CCO)c3)c2c1)c...\n",
              "3           3   3515.0      COc1ccc2c(c1)c(CC(=O)O)c(C)n2C(=O)c1ccc(I)cc1\n",
              "4           4   6380.0                      O=P(O)(O)OCCCc1c[nH]c2ccccc12"
            ],
            "text/html": [
              "\n",
              "  <div id=\"df-c435e42a-4de0-4055-b5a3-91db6ee433c0\">\n",
              "    <div class=\"colab-df-container\">\n",
              "      <div>\n",
              "<style scoped>\n",
              "    .dataframe tbody tr th:only-of-type {\n",
              "        vertical-align: middle;\n",
              "    }\n",
              "\n",
              "    .dataframe tbody tr th {\n",
              "        vertical-align: top;\n",
              "    }\n",
              "\n",
              "    .dataframe thead th {\n",
              "        text-align: right;\n",
              "    }\n",
              "</style>\n",
              "<table border=\"1\" class=\"dataframe\">\n",
              "  <thead>\n",
              "    <tr style=\"text-align: right;\">\n",
              "      <th></th>\n",
              "      <th>Unnamed: 0</th>\n",
              "      <th>Drug1_ID</th>\n",
              "      <th>Drug1_SMILES</th>\n",
              "    </tr>\n",
              "  </thead>\n",
              "  <tbody>\n",
              "    <tr>\n",
              "      <th>0</th>\n",
              "      <td>0</td>\n",
              "      <td>DB00706</td>\n",
              "      <td>CCOc1ccccc1OCCN[C@H](C)Cc1ccc(OC)c(S(N)(=O)=O)c1</td>\n",
              "    </tr>\n",
              "    <tr>\n",
              "      <th>1</th>\n",
              "      <td>1</td>\n",
              "      <td>DB01023</td>\n",
              "      <td>CCOC(=O)C1=C(C)NC(C)=C(C(=O)OC)C1c1cccc(Cl)c1Cl</td>\n",
              "    </tr>\n",
              "    <tr>\n",
              "      <th>2</th>\n",
              "      <td>2</td>\n",
              "      <td>3849.0</td>\n",
              "      <td>C[C@@H](Oc1ccc2[nH]nc(/C=C/c3cnn(CCO)c3)c2c1)c...</td>\n",
              "    </tr>\n",
              "    <tr>\n",
              "      <th>3</th>\n",
              "      <td>3</td>\n",
              "      <td>3515.0</td>\n",
              "      <td>COc1ccc2c(c1)c(CC(=O)O)c(C)n2C(=O)c1ccc(I)cc1</td>\n",
              "    </tr>\n",
              "    <tr>\n",
              "      <th>4</th>\n",
              "      <td>4</td>\n",
              "      <td>6380.0</td>\n",
              "      <td>O=P(O)(O)OCCCc1c[nH]c2ccccc12</td>\n",
              "    </tr>\n",
              "  </tbody>\n",
              "</table>\n",
              "</div>\n",
              "      <button class=\"colab-df-convert\" onclick=\"convertToInteractive('df-c435e42a-4de0-4055-b5a3-91db6ee433c0')\"\n",
              "              title=\"Convert this dataframe to an interactive table.\"\n",
              "              style=\"display:none;\">\n",
              "        \n",
              "  <svg xmlns=\"http://www.w3.org/2000/svg\" height=\"24px\"viewBox=\"0 0 24 24\"\n",
              "       width=\"24px\">\n",
              "    <path d=\"M0 0h24v24H0V0z\" fill=\"none\"/>\n",
              "    <path d=\"M18.56 5.44l.94 2.06.94-2.06 2.06-.94-2.06-.94-.94-2.06-.94 2.06-2.06.94zm-11 1L8.5 8.5l.94-2.06 2.06-.94-2.06-.94L8.5 2.5l-.94 2.06-2.06.94zm10 10l.94 2.06.94-2.06 2.06-.94-2.06-.94-.94-2.06-.94 2.06-2.06.94z\"/><path d=\"M17.41 7.96l-1.37-1.37c-.4-.4-.92-.59-1.43-.59-.52 0-1.04.2-1.43.59L10.3 9.45l-7.72 7.72c-.78.78-.78 2.05 0 2.83L4 21.41c.39.39.9.59 1.41.59.51 0 1.02-.2 1.41-.59l7.78-7.78 2.81-2.81c.8-.78.8-2.07 0-2.86zM5.41 20L4 18.59l7.72-7.72 1.47 1.35L5.41 20z\"/>\n",
              "  </svg>\n",
              "      </button>\n",
              "      \n",
              "  <style>\n",
              "    .colab-df-container {\n",
              "      display:flex;\n",
              "      flex-wrap:wrap;\n",
              "      gap: 12px;\n",
              "    }\n",
              "\n",
              "    .colab-df-convert {\n",
              "      background-color: #E8F0FE;\n",
              "      border: none;\n",
              "      border-radius: 50%;\n",
              "      cursor: pointer;\n",
              "      display: none;\n",
              "      fill: #1967D2;\n",
              "      height: 32px;\n",
              "      padding: 0 0 0 0;\n",
              "      width: 32px;\n",
              "    }\n",
              "\n",
              "    .colab-df-convert:hover {\n",
              "      background-color: #E2EBFA;\n",
              "      box-shadow: 0px 1px 2px rgba(60, 64, 67, 0.3), 0px 1px 3px 1px rgba(60, 64, 67, 0.15);\n",
              "      fill: #174EA6;\n",
              "    }\n",
              "\n",
              "    [theme=dark] .colab-df-convert {\n",
              "      background-color: #3B4455;\n",
              "      fill: #D2E3FC;\n",
              "    }\n",
              "\n",
              "    [theme=dark] .colab-df-convert:hover {\n",
              "      background-color: #434B5C;\n",
              "      box-shadow: 0px 1px 3px 1px rgba(0, 0, 0, 0.15);\n",
              "      filter: drop-shadow(0px 1px 2px rgba(0, 0, 0, 0.3));\n",
              "      fill: #FFFFFF;\n",
              "    }\n",
              "  </style>\n",
              "\n",
              "      <script>\n",
              "        const buttonEl =\n",
              "          document.querySelector('#df-c435e42a-4de0-4055-b5a3-91db6ee433c0 button.colab-df-convert');\n",
              "        buttonEl.style.display =\n",
              "          google.colab.kernel.accessAllowed ? 'block' : 'none';\n",
              "\n",
              "        async function convertToInteractive(key) {\n",
              "          const element = document.querySelector('#df-c435e42a-4de0-4055-b5a3-91db6ee433c0');\n",
              "          const dataTable =\n",
              "            await google.colab.kernel.invokeFunction('convertToInteractive',\n",
              "                                                     [key], {});\n",
              "          if (!dataTable) return;\n",
              "\n",
              "          const docLinkHtml = 'Like what you see? Visit the ' +\n",
              "            '<a target=\"_blank\" href=https://colab.research.google.com/notebooks/data_table.ipynb>data table notebook</a>'\n",
              "            + ' to learn more about interactive tables.';\n",
              "          element.innerHTML = '';\n",
              "          dataTable['output_type'] = 'display_data';\n",
              "          await google.colab.output.renderOutput(dataTable, element);\n",
              "          const docLink = document.createElement('div');\n",
              "          docLink.innerHTML = docLinkHtml;\n",
              "          element.appendChild(docLink);\n",
              "        }\n",
              "      </script>\n",
              "    </div>\n",
              "  </div>\n",
              "  "
            ]
          },
          "metadata": {},
          "execution_count": 6
        }
      ],
      "source": [
        "data = pd.read_csv('raw/totalData.csv')\n",
        "data.head() "
      ]
    },
    {
      "cell_type": "code",
      "execution_count": null,
      "metadata": {
        "id": "zkIY-LqZ_16v"
      },
      "outputs": [],
      "source": [
        ""
      ]
    },
    {
      "cell_type": "code",
      "execution_count": null,
      "metadata": {
        "colab": {
          "base_uri": "https://localhost:8080/"
        },
        "id": "QxVmizt3jYEE",
        "outputId": "860bc4e8-baf8-4e16-b2d7-354f8ce2fad4"
      },
      "outputs": [
        {
          "output_type": "stream",
          "name": "stderr",
          "text": [
            "Processing...\n"
          ]
        },
        {
          "output_type": "stream",
          "name": "stdout",
          "text": [
            "Torch version: 1.11.0+cu113\n",
            "Cuda available: True\n",
            "Torch geometric version: 2.0.5\n"
          ]
        },
        {
          "output_type": "stream",
          "name": "stderr",
          "text": [
            "  1%|          | 67/10951 [00:01<06:03, 29.94it/s]Failed to featurize datapoint 0, [Mg+2].[OH-].[OH-]. Appending empty array\n",
            "Exception message: zero-size array to reduction operation maximum which has no identity\n",
            "/usr/local/lib/python3.7/dist-packages/ipykernel_launcher.py:57: DeprecationWarning: The truth value of an empty array is ambiguous. Returning False, but in future this will result in an error. Use `array.size > 0` to check that an array is not empty.\n",
            "  1%|          | 77/10951 [00:02<05:04, 35.74it/s]Failed to featurize datapoint 0, [Gd+3]. Appending empty array\n",
            "Exception message: More than one atom should be present in the molecule for this featurizer to work.\n",
            "  1%|▏         | 147/10951 [00:04<04:23, 40.94it/s]Failed to featurize datapoint 0, [81Kr]. Appending empty array\n",
            "Exception message: More than one atom should be present in the molecule for this featurizer to work.\n",
            "  1%|▏         | 164/10951 [00:04<04:53, 36.78it/s]Failed to featurize datapoint 0, [Li+]. Appending empty array\n",
            "Exception message: More than one atom should be present in the molecule for this featurizer to work.\n",
            "  3%|▎         | 344/10951 [00:07<01:47, 98.46it/s]Failed to featurize datapoint 0, [Al+3].[OH-].[OH-].[OH-]. Appending empty array\n",
            "Exception message: zero-size array to reduction operation maximum which has no identity\n",
            "  4%|▍         | 417/10951 [00:08<01:48, 97.39it/s]Failed to featurize datapoint 0, [I-].[K+]. Appending empty array\n",
            "Exception message: zero-size array to reduction operation maximum which has no identity\n",
            "  4%|▍         | 427/10951 [00:08<01:52, 93.24it/s]Failed to featurize datapoint 0, [Sb+5]. Appending empty array\n",
            "Exception message: More than one atom should be present in the molecule for this featurizer to work.\n",
            "  4%|▍         | 489/10951 [00:09<01:53, 92.46it/s]Failed to featurize datapoint 0, [Cr+3]. Appending empty array\n",
            "Exception message: More than one atom should be present in the molecule for this featurizer to work.\n",
            "  5%|▌         | 596/10951 [00:11<04:04, 42.30it/s]Failed to featurize datapoint 0, [Fe]. Appending empty array\n",
            "Exception message: More than one atom should be present in the molecule for this featurizer to work.\n",
            "  6%|▌         | 635/10951 [00:12<05:04, 33.92it/s]Failed to featurize datapoint 0, [Cl-].[Cl-].[Mg+2]. Appending empty array\n",
            "Exception message: zero-size array to reduction operation maximum which has no identity\n",
            "  8%|▊         | 921/10951 [00:21<03:48, 43.89it/s]Failed to featurize datapoint 0, [Mg+2].[O-2]. Appending empty array\n",
            "Exception message: zero-size array to reduction operation maximum which has no identity\n",
            "  9%|▊         | 941/10951 [00:21<02:22, 70.18it/s]Failed to featurize datapoint 0, [13NH3]. Appending empty array\n",
            "Exception message: More than one atom should be present in the molecule for this featurizer to work.\n",
            "  9%|▉         | 1011/10951 [00:22<03:07, 52.90it/s]Failed to featurize datapoint 0, [Zn+2]. Appending empty array\n",
            "Exception message: More than one atom should be present in the molecule for this featurizer to work.\n",
            " 11%|█         | 1216/10951 [00:26<02:30, 64.60it/s]Failed to featurize datapoint 0, [I-].[K+]. Appending empty array\n",
            "Exception message: zero-size array to reduction operation maximum which has no identity\n",
            " 11%|█▏        | 1235/10951 [00:26<02:14, 72.29it/s]Failed to featurize datapoint 0, [131I-]. Appending empty array\n",
            "Exception message: More than one atom should be present in the molecule for this featurizer to work.\n",
            " 12%|█▏        | 1286/10951 [00:27<05:05, 31.62it/s]Failed to featurize datapoint 0, [Cl-].[NH4+]. Appending empty array\n",
            "Exception message: zero-size array to reduction operation maximum which has no identity\n",
            " 12%|█▏        | 1320/10951 [00:28<03:52, 41.46it/s]Failed to featurize datapoint 0, [89Sr+2]. Appending empty array\n",
            "Exception message: More than one atom should be present in the molecule for this featurizer to work.\n",
            " 14%|█▍        | 1532/10951 [00:33<02:58, 52.81it/s]Failed to featurize datapoint 0, [3He]. Appending empty array\n",
            "Exception message: More than one atom should be present in the molecule for this featurizer to work.\n",
            " 14%|█▍        | 1561/10951 [00:33<02:03, 75.73it/s]Failed to featurize datapoint 0, [Cl-].[K+]. Appending empty array\n",
            "Exception message: zero-size array to reduction operation maximum which has no identity\n",
            " 14%|█▍        | 1573/10951 [00:33<01:47, 87.31it/s]Failed to featurize datapoint 0, [La+3]. Appending empty array\n",
            "Exception message: More than one atom should be present in the molecule for this featurizer to work.\n",
            "Failed to featurize datapoint 0, [Zn]. Appending empty array\n",
            "Exception message: More than one atom should be present in the molecule for this featurizer to work.\n",
            " 15%|█▌        | 1676/10951 [00:38<09:05, 17.00it/s]Failed to featurize datapoint 0, [Co]. Appending empty array\n",
            "Exception message: More than one atom should be present in the molecule for this featurizer to work.\n",
            " 17%|█▋        | 1830/10951 [00:40<02:01, 74.91it/s]Failed to featurize datapoint 0, O.O.O.O.[98Tc-]. Appending empty array\n",
            "Exception message: zero-size array to reduction operation maximum which has no identity\n",
            " 18%|█▊        | 1932/10951 [00:41<01:52, 80.11it/s]Failed to featurize datapoint 0, [Na+]. Appending empty array\n",
            "Exception message: More than one atom should be present in the molecule for this featurizer to work.\n",
            " 18%|█▊        | 1959/10951 [00:42<01:57, 76.24it/s]Failed to featurize datapoint 0, [Cl-].[Cl-].[Sn+2]. Appending empty array\n",
            "Exception message: zero-size array to reduction operation maximum which has no identity\n",
            " 18%|█▊        | 1980/10951 [00:42<01:44, 85.50it/s]Failed to featurize datapoint 0, [Mg+2].[OH-].[OH-]. Appending empty array\n",
            "Exception message: zero-size array to reduction operation maximum which has no identity\n",
            " 19%|█▉        | 2134/10951 [00:43<01:21, 108.01it/s]Failed to featurize datapoint 0, O. Appending empty array\n",
            "Exception message: More than one atom should be present in the molecule for this featurizer to work.\n",
            " 24%|██▍       | 2662/10951 [00:52<01:29, 92.87it/s]Failed to featurize datapoint 0, [89Sr+2].[Cl-].[Cl-]. Appending empty array\n",
            "Exception message: zero-size array to reduction operation maximum which has no identity\n",
            " 26%|██▌       | 2814/10951 [00:53<01:20, 100.78it/s]Failed to featurize datapoint 0, [Cl-].[Cl-].[Zn+2]. Appending empty array\n",
            "Exception message: zero-size array to reduction operation maximum which has no identity\n",
            "Failed to featurize datapoint 0, [Pt]. Appending empty array\n",
            "Exception message: More than one atom should be present in the molecule for this featurizer to work.\n",
            " 26%|██▌       | 2836/10951 [00:53<01:24, 95.58it/s]Failed to featurize datapoint 0, [223Ra+2]. Appending empty array\n",
            "Exception message: More than one atom should be present in the molecule for this featurizer to work.\n",
            "Failed to featurize datapoint 0, [67Ga+3]. Appending empty array\n",
            "Exception message: More than one atom should be present in the molecule for this featurizer to work.\n",
            " 26%|██▌       | 2869/10951 [00:54<01:29, 89.91it/s]Failed to featurize datapoint 0, [Ne]. Appending empty array\n",
            "Exception message: More than one atom should be present in the molecule for this featurizer to work.\n",
            " 29%|██▊       | 3139/10951 [00:57<01:34, 83.07it/s]Failed to featurize datapoint 0, [32PH3]. Appending empty array\n",
            "Exception message: More than one atom should be present in the molecule for this featurizer to work.\n",
            " 29%|██▉       | 3153/10951 [00:57<01:19, 97.82it/s]Failed to featurize datapoint 0, [K+].[OH-]. Appending empty array\n",
            "Exception message: zero-size array to reduction operation maximum which has no identity\n",
            " 30%|██▉       | 3236/10951 [00:58<01:16, 100.97it/s]Failed to featurize datapoint 0, [Ac]. Appending empty array\n",
            "Exception message: More than one atom should be present in the molecule for this featurizer to work.\n",
            " 30%|██▉       | 3248/10951 [00:58<01:12, 105.98it/s]Failed to featurize datapoint 0, F. Appending empty array\n",
            "Exception message: More than one atom should be present in the molecule for this featurizer to work.\n",
            " 30%|███       | 3295/10951 [00:58<01:16, 100.06it/s]Failed to featurize datapoint 0, [Al+3].[Al+3].[O-2].[O-2].[O-2]. Appending empty array\n",
            "Exception message: zero-size array to reduction operation maximum which has no identity\n",
            " 30%|███       | 3317/10951 [00:59<01:25, 89.56it/s]Failed to featurize datapoint 0, [Cl-]. Appending empty array\n",
            "Exception message: More than one atom should be present in the molecule for this featurizer to work.\n",
            " 32%|███▏      | 3474/10951 [01:00<01:19, 94.11it/s]Failed to featurize datapoint 0, [Ag+]. Appending empty array\n",
            "Exception message: More than one atom should be present in the molecule for this featurizer to work.\n",
            " 33%|███▎      | 3580/10951 [01:02<01:28, 83.63it/s]Failed to featurize datapoint 0, [Ca+2]. Appending empty array\n",
            "Exception message: More than one atom should be present in the molecule for this featurizer to work.\n",
            " 33%|███▎      | 3603/10951 [01:02<01:20, 91.02it/s]Failed to featurize datapoint 0, [Cl-].[NH4+]. Appending empty array\n",
            "Exception message: zero-size array to reduction operation maximum which has no identity\n",
            " 34%|███▍      | 3772/10951 [01:05<01:57, 61.35it/s]Failed to featurize datapoint 0, [Al+3].[OH-].[OH-].[OH-]. Appending empty array\n",
            "Exception message: zero-size array to reduction operation maximum which has no identity\n",
            " 35%|███▍      | 3780/10951 [01:05<02:09, 55.49it/s]Failed to featurize datapoint 0, [Ca+2].[Cl-].[Cl-]. Appending empty array\n",
            "Exception message: zero-size array to reduction operation maximum which has no identity\n",
            " 35%|███▍      | 3826/10951 [01:06<01:43, 68.82it/s]Failed to featurize datapoint 0, [Ta]. Appending empty array\n",
            "Exception message: More than one atom should be present in the molecule for this featurizer to work.\n",
            " 35%|███▌      | 3843/10951 [01:06<01:49, 64.67it/s]Failed to featurize datapoint 0, [Bk]. Appending empty array\n",
            "Exception message: More than one atom should be present in the molecule for this featurizer to work.\n",
            " 36%|███▋      | 3981/10951 [01:08<01:32, 75.54it/s]Failed to featurize datapoint 0, [Li+].[OH-]. Appending empty array\n",
            "Exception message: zero-size array to reduction operation maximum which has no identity\n",
            " 37%|███▋      | 4044/10951 [01:10<03:24, 33.71it/s]Failed to featurize datapoint 0, [Ti]. Appending empty array\n",
            "Exception message: More than one atom should be present in the molecule for this featurizer to work.\n",
            " 37%|███▋      | 4063/10951 [01:10<04:07, 27.83it/s]Failed to featurize datapoint 0, [Co+2]. Appending empty array\n",
            "Exception message: More than one atom should be present in the molecule for this featurizer to work.\n",
            " 38%|███▊      | 4153/10951 [01:12<02:20, 48.41it/s]Failed to featurize datapoint 0, [Fe]. Appending empty array\n",
            "Exception message: More than one atom should be present in the molecule for this featurizer to work.\n",
            " 38%|███▊      | 4187/10951 [01:13<03:24, 33.11it/s]Failed to featurize datapoint 0, [Cl-].[Cl-].[Cl-].[Cr+3]. Appending empty array\n",
            "Exception message: zero-size array to reduction operation maximum which has no identity\n",
            " 39%|███▉      | 4247/10951 [01:14<01:39, 67.67it/s]Failed to featurize datapoint 0, [99Tc]. Appending empty array\n",
            "Exception message: More than one atom should be present in the molecule for this featurizer to work.\n",
            " 41%|████      | 4440/10951 [01:17<01:27, 74.78it/s]Failed to featurize datapoint 0, [131I-]. Appending empty array\n",
            "Exception message: More than one atom should be present in the molecule for this featurizer to work.\n",
            " 41%|████      | 4499/10951 [01:18<01:18, 82.44it/s]Failed to featurize datapoint 0, [Ba]. Appending empty array\n",
            "Exception message: More than one atom should be present in the molecule for this featurizer to work.\n",
            "Failed to featurize datapoint 0, [Mo]. Appending empty array\n",
            "Exception message: More than one atom should be present in the molecule for this featurizer to work.\n",
            " 43%|████▎     | 4725/10951 [01:20<01:30, 68.43it/s]Failed to featurize datapoint 0, [Cd]. Appending empty array\n",
            "Exception message: More than one atom should be present in the molecule for this featurizer to work.\n",
            " 43%|████▎     | 4757/10951 [01:21<01:40, 61.65it/s]Failed to featurize datapoint 0, [123I-]. Appending empty array\n",
            "Exception message: More than one atom should be present in the molecule for this featurizer to work.\n",
            " 45%|████▌     | 4956/10951 [01:23<01:13, 81.86it/s]Failed to featurize datapoint 0, [P]. Appending empty array\n",
            "Exception message: More than one atom should be present in the molecule for this featurizer to work.\n",
            " 46%|████▌     | 5011/10951 [01:24<01:11, 82.76it/s]Failed to featurize datapoint 0, [Li+]. Appending empty array\n",
            "Exception message: More than one atom should be present in the molecule for this featurizer to work.\n",
            " 46%|████▌     | 5045/10951 [01:24<00:59, 99.04it/s]Failed to featurize datapoint 0, [OH-]. Appending empty array\n",
            "Exception message: More than one atom should be present in the molecule for this featurizer to work.\n",
            " 47%|████▋     | 5197/10951 [01:26<01:05, 87.67it/s]Failed to featurize datapoint 0, [Se]. Appending empty array\n",
            "Exception message: More than one atom should be present in the molecule for this featurizer to work.\n",
            " 48%|████▊     | 5257/10951 [01:27<01:09, 82.17it/s]Failed to featurize datapoint 0, [I-]. Appending empty array\n",
            "Exception message: More than one atom should be present in the molecule for this featurizer to work.\n",
            " 49%|████▉     | 5352/10951 [01:28<00:55, 100.59it/s]Failed to featurize datapoint 0, [Cl-].[Tl+]. Appending empty array\n",
            "Exception message: zero-size array to reduction operation maximum which has no identity\n",
            " 49%|████▉     | 5374/10951 [01:28<00:59, 93.49it/s]Failed to featurize datapoint 0, [18F]. Appending empty array\n",
            "Exception message: More than one atom should be present in the molecule for this featurizer to work.\n",
            " 50%|████▉     | 5442/10951 [01:29<00:56, 96.68it/s]Failed to featurize datapoint 0, [V]. Appending empty array\n",
            "Exception message: More than one atom should be present in the molecule for this featurizer to work.\n",
            " 50%|████▉     | 5464/10951 [01:29<00:54, 100.90it/s]Failed to featurize datapoint 0, [82Rb+]. Appending empty array\n",
            "Exception message: More than one atom should be present in the molecule for this featurizer to work.\n",
            " 51%|█████     | 5548/10951 [01:30<01:09, 78.23it/s]Failed to featurize datapoint 0, [Cl-].[K+]. Appending empty array\n",
            "Exception message: zero-size array to reduction operation maximum which has no identity\n",
            "Failed to featurize datapoint 0, [51Cr]. Appending empty array\n",
            "Exception message: More than one atom should be present in the molecule for this featurizer to work.\n",
            " 51%|█████     | 5584/10951 [01:30<00:54, 98.20it/s]Failed to featurize datapoint 0, [Sb]. Appending empty array\n",
            "Exception message: More than one atom should be present in the molecule for this featurizer to work.\n",
            " 51%|█████     | 5597/10951 [01:30<00:50, 106.52it/s]Failed to featurize datapoint 0, [177Lu]. Appending empty array\n",
            "Exception message: More than one atom should be present in the molecule for this featurizer to work.\n",
            " 52%|█████▏    | 5666/10951 [01:31<00:52, 100.62it/s]Failed to featurize datapoint 0, [C]. Appending empty array\n",
            "Exception message: More than one atom should be present in the molecule for this featurizer to work.\n",
            " 52%|█████▏    | 5710/10951 [01:32<00:55, 93.63it/s]Failed to featurize datapoint 0, [Rb]. Appending empty array\n",
            "Exception message: More than one atom should be present in the molecule for this featurizer to work.\n",
            " 53%|█████▎    | 5799/10951 [01:33<00:49, 103.98it/s]Failed to featurize datapoint 0, [Zn]. Appending empty array\n",
            "Exception message: More than one atom should be present in the molecule for this featurizer to work.\n",
            " 56%|█████▋    | 6183/10951 [01:40<01:19, 60.28it/s]Failed to featurize datapoint 0, [Fe+3].[O-2].[OH-]. Appending empty array\n",
            "Exception message: zero-size array to reduction operation maximum which has no identity\n",
            " 59%|█████▉    | 6495/10951 [01:46<01:13, 60.65it/s]Failed to featurize datapoint 0, [90Y]. Appending empty array\n",
            "Exception message: More than one atom should be present in the molecule for this featurizer to work.\n",
            " 60%|█████▉    | 6552/10951 [01:47<01:00, 72.34it/s]Failed to featurize datapoint 0, O.O.O.O.O.O.O.O.O.O.O.O.O.O.O.O.O.O.[Mo].[Mo].[Mo].[Mo].[Mo].[Mo].[Mo].[OH-].[OH-].[OH-].[OH-].[OH-].[OH-]. Appending empty array\n",
            "Exception message: zero-size array to reduction operation maximum which has no identity\n",
            " 60%|██████    | 6571/10951 [01:47<00:54, 80.04it/s]Failed to featurize datapoint 0, [153Sm]. Appending empty array\n",
            "Exception message: More than one atom should be present in the molecule for this featurizer to work.\n",
            " 62%|██████▏   | 6780/10951 [01:51<00:39, 104.70it/s]Failed to featurize datapoint 0, [Cr]. Appending empty array\n",
            "Exception message: More than one atom should be present in the molecule for this featurizer to work.\n",
            " 62%|██████▏   | 6791/10951 [01:51<00:40, 102.04it/s]Failed to featurize datapoint 0, [Na+].[Na+].[S-2]. Appending empty array\n",
            "Exception message: zero-size array to reduction operation maximum which has no identity\n",
            " 63%|██████▎   | 6847/10951 [01:52<00:44, 92.91it/s] Failed to featurize datapoint 0, [201Tl+]. Appending empty array\n",
            "Exception message: More than one atom should be present in the molecule for this featurizer to work.\n",
            " 65%|██████▌   | 7122/10951 [01:55<01:09, 54.83it/s]Failed to featurize datapoint 0, [B]. Appending empty array\n",
            "Exception message: More than one atom should be present in the molecule for this featurizer to work.\n",
            " 65%|██████▌   | 7160/10951 [01:55<00:52, 72.46it/s]Failed to featurize datapoint 0, O.[Al+3].[Al+3].[Cl-].[OH-].[OH-].[OH-].[OH-].[OH-]. Appending empty array\n",
            "Exception message: zero-size array to reduction operation maximum which has no identity\n",
            " 67%|██████▋   | 7303/10951 [01:57<00:41, 88.30it/s]Failed to featurize datapoint 0, [Mg+2]. Appending empty array\n",
            "Exception message: More than one atom should be present in the molecule for this featurizer to work.\n",
            " 67%|██████▋   | 7344/10951 [01:58<00:40, 89.39it/s]Failed to featurize datapoint 0, Br.Br.Br.Br.Br.Br.Br.Br.Br.Br.Br.[Br-].[Ta+].[Ta].[Ta].[Ta].[Ta].[Ta]. Appending empty array\n",
            "Exception message: zero-size array to reduction operation maximum which has no identity\n",
            " 68%|██████▊   | 7406/10951 [01:58<00:41, 84.83it/s]Failed to featurize datapoint 0, [Fe+2].[Fe+3].[Fe+3].[O-2].[O-2].[O-2].[O-2]. Appending empty array\n",
            "Exception message: zero-size array to reduction operation maximum which has no identity\n",
            " 68%|██████▊   | 7454/10951 [01:59<00:42, 82.96it/s]Failed to featurize datapoint 0, [Ca+2].[Cl-].[Cl-]. Appending empty array\n",
            "Exception message: zero-size array to reduction operation maximum which has no identity\n",
            " 69%|██████▊   | 7511/10951 [02:02<01:55, 29.87it/s]Failed to featurize datapoint 0, [Al]. Appending empty array\n",
            "Exception message: More than one atom should be present in the molecule for this featurizer to work.\n",
            " 69%|██████▉   | 7548/10951 [02:04<01:49, 31.07it/s]Failed to featurize datapoint 0, [Mn+2]. Appending empty array\n",
            "Exception message: More than one atom should be present in the molecule for this featurizer to work.\n",
            " 69%|██████▉   | 7589/10951 [02:05<00:52, 63.78it/s]Failed to featurize datapoint 0, [223Ra]. Appending empty array\n",
            "Exception message: More than one atom should be present in the molecule for this featurizer to work.\n",
            " 71%|███████   | 7735/10951 [02:07<00:39, 81.26it/s]Failed to featurize datapoint 0, [I-].[Na+]. Appending empty array\n",
            "Exception message: zero-size array to reduction operation maximum which has no identity\n",
            " 72%|███████▏  | 7840/10951 [02:08<00:52, 59.34it/s]Failed to featurize datapoint 0, [Ag]. Appending empty array\n",
            "Exception message: More than one atom should be present in the molecule for this featurizer to work.\n",
            " 76%|███████▌  | 8274/10951 [02:14<00:34, 76.67it/s]Failed to featurize datapoint 0, [C]. Appending empty array\n",
            "Exception message: More than one atom should be present in the molecule for this featurizer to work.\n",
            " 76%|███████▌  | 8341/10951 [02:15<00:32, 80.60it/s]Failed to featurize datapoint 0, [Si]. Appending empty array\n",
            "Exception message: More than one atom should be present in the molecule for this featurizer to work.\n",
            " 76%|███████▋  | 8370/10951 [02:15<00:31, 81.66it/s]Failed to featurize datapoint 0, O.O.O.O.[Al+3].[Mg+2].[O-2].[O-2].[O-2].[O-2].[O-2].[O-2].[O-2].[O-2].[O-2].[O-2].[OH-].[Si+4].[Si+4].[Si+4].[Si+4]. Appending empty array\n",
            "Exception message: zero-size array to reduction operation maximum which has no identity\n",
            " 77%|███████▋  | 8451/10951 [02:16<00:29, 83.62it/s]Failed to featurize datapoint 0, [Bi+3]. Appending empty array\n",
            "Exception message: More than one atom should be present in the molecule for this featurizer to work.\n",
            " 77%|███████▋  | 8473/10951 [02:16<00:29, 84.53it/s]Failed to featurize datapoint 0, [Cl-].[Na+]. Appending empty array\n",
            "Exception message: zero-size array to reduction operation maximum which has no identity\n",
            " 78%|███████▊  | 8549/10951 [02:17<00:26, 90.07it/s]Failed to featurize datapoint 0, [F-].[Na+]. Appending empty array\n",
            "Exception message: zero-size array to reduction operation maximum which has no identity\n",
            " 79%|███████▊  | 8613/10951 [02:18<00:24, 95.98it/s]Failed to featurize datapoint 0, [F-]. Appending empty array\n",
            "Exception message: More than one atom should be present in the molecule for this featurizer to work.\n",
            " 80%|████████  | 8780/10951 [02:20<00:30, 70.56it/s]Failed to featurize datapoint 0, [KH]. Appending empty array\n",
            "Exception message: More than one atom should be present in the molecule for this featurizer to work.\n",
            " 83%|████████▎ | 9044/10951 [02:23<00:21, 88.67it/s]Failed to featurize datapoint 0, [Cu+2].[O-2]. Appending empty array\n",
            "Exception message: zero-size array to reduction operation maximum which has no identity\n",
            " 83%|████████▎ | 9095/10951 [02:23<00:19, 93.56it/s]Failed to featurize datapoint 0, [Al+3]. Appending empty array\n",
            "Exception message: More than one atom should be present in the molecule for this featurizer to work.\n",
            " 84%|████████▎ | 9165/10951 [02:24<00:22, 78.60it/s]Failed to featurize datapoint 0, [Cu]. Appending empty array\n",
            "Exception message: More than one atom should be present in the molecule for this featurizer to work.\n",
            " 84%|████████▍ | 9185/10951 [02:24<00:22, 77.90it/s]Failed to featurize datapoint 0, [MgH2]. Appending empty array\n",
            "Exception message: More than one atom should be present in the molecule for this featurizer to work.\n",
            " 86%|████████▌ | 9395/10951 [02:27<00:15, 99.35it/s]Failed to featurize datapoint 0, [Fe+2]. Appending empty array\n",
            "Exception message: More than one atom should be present in the molecule for this featurizer to work.\n",
            " 87%|████████▋ | 9495/10951 [02:28<00:18, 80.66it/s]Failed to featurize datapoint 0, [Cu+2]. Appending empty array\n",
            "Exception message: More than one atom should be present in the molecule for this featurizer to work.\n",
            " 87%|████████▋ | 9540/10951 [02:29<00:16, 87.47it/s]Failed to featurize datapoint 0, [Cl-].[Cl-].[Co+2]. Appending empty array\n",
            "Exception message: zero-size array to reduction operation maximum which has no identity\n",
            " 87%|████████▋ | 9551/10951 [02:29<00:15, 92.03it/s]Failed to featurize datapoint 0, [Nb]. Appending empty array\n",
            "Exception message: More than one atom should be present in the molecule for this featurizer to work.\n",
            " 88%|████████▊ | 9583/10951 [02:29<00:14, 95.39it/s]Failed to featurize datapoint 0, [Au]. Appending empty array\n",
            "Exception message: More than one atom should be present in the molecule for this featurizer to work.\n",
            " 88%|████████▊ | 9647/10951 [02:30<00:14, 90.80it/s]Failed to featurize datapoint 0, [133Xe]. Appending empty array\n",
            "Exception message: More than one atom should be present in the molecule for this featurizer to work.\n",
            " 89%|████████▉ | 9776/10951 [02:31<00:12, 95.68it/s]Failed to featurize datapoint 0, [Sm]. Appending empty array\n",
            "Exception message: More than one atom should be present in the molecule for this featurizer to work.\n",
            " 90%|████████▉ | 9813/10951 [02:32<00:14, 78.92it/s]Failed to featurize datapoint 0, [Na+].[OH-]. Appending empty array\n",
            "Exception message: zero-size array to reduction operation maximum which has no identity\n",
            " 91%|█████████ | 9962/10951 [02:33<00:12, 77.52it/s]Failed to featurize datapoint 0, [He]. Appending empty array\n",
            "Exception message: More than one atom should be present in the molecule for this featurizer to work.\n",
            " 91%|█████████ | 9973/10951 [02:33<00:11, 83.98it/s]Failed to featurize datapoint 0, [Cl-].[Cl-].[Mg+2]. Appending empty array\n",
            "Exception message: zero-size array to reduction operation maximum which has no identity\n",
            "Failed to featurize datapoint 0, [Mg+2].[O-2]. Appending empty array\n",
            "Exception message: zero-size array to reduction operation maximum which has no identity\n",
            " 93%|█████████▎| 10146/10951 [02:35<00:09, 88.47it/s]Failed to featurize datapoint 0, [Fe+3]. Appending empty array\n",
            "Exception message: More than one atom should be present in the molecule for this featurizer to work.\n",
            " 93%|█████████▎| 10190/10951 [02:36<00:07, 96.57it/s]Failed to featurize datapoint 0, [111In+3]. Appending empty array\n",
            "Exception message: More than one atom should be present in the molecule for this featurizer to work.\n",
            "Failed to featurize datapoint 0, [67Ga+3].[Cl-].[Cl-].[Cl-]. Appending empty array\n",
            "Exception message: zero-size array to reduction operation maximum which has no identity\n",
            " 93%|█████████▎| 10214/10951 [02:36<00:08, 85.85it/s]Failed to featurize datapoint 0, [Ni+2]. Appending empty array\n",
            "Exception message: More than one atom should be present in the molecule for this featurizer to work.\n",
            "Failed to featurize datapoint 0, [Se]. Appending empty array\n",
            "Exception message: More than one atom should be present in the molecule for this featurizer to work.\n",
            " 94%|█████████▎| 10255/10951 [02:37<00:07, 92.97it/s]Failed to featurize datapoint 0, [Ca]. Appending empty array\n",
            "Exception message: More than one atom should be present in the molecule for this featurizer to work.\n",
            " 94%|█████████▎| 10265/10951 [02:37<00:07, 89.78it/s]Failed to featurize datapoint 0, [K+]. Appending empty array\n",
            "Exception message: More than one atom should be present in the molecule for this featurizer to work.\n",
            " 95%|█████████▌| 10410/10951 [02:39<00:13, 39.84it/s]Failed to featurize datapoint 0, [Ga+3]. Appending empty array\n",
            "Exception message: More than one atom should be present in the molecule for this featurizer to work.\n",
            " 95%|█████████▌| 10450/10951 [02:39<00:10, 49.39it/s]Failed to featurize datapoint 0, [Gd]. Appending empty array\n",
            "Exception message: More than one atom should be present in the molecule for this featurizer to work.\n",
            " 96%|█████████▌| 10490/10951 [02:40<00:05, 79.14it/s]Failed to featurize datapoint 0, O.O.O.O.[Mo+6].[Mo+6].[Mo+6].[Mo+6].[Mo+6].[Mo+6].[Mo+6].[NH4+].[NH4+].[NH4+].[NH4+].[NH4+].[NH4+].[O-2].[O-2].[O-2].[O-2].[O-2].[O-2].[O-2].[O-2].[O-2].[O-2].[O-2].[O-2].[O-2].[O-2].[O-2].[O-2].[O-2].[O-2].[O-2].[O-2].[O-2].[O-2].[O-2].[O-2]. Appending empty array\n",
            "Exception message: zero-size array to reduction operation maximum which has no identity\n",
            " 96%|█████████▌| 10500/10951 [02:40<00:05, 83.40it/s]Failed to featurize datapoint 0, [Mg+2].[O-2].[O-2].[O-2].[Si+4]. Appending empty array\n",
            "Exception message: zero-size array to reduction operation maximum which has no identity\n",
            " 97%|█████████▋| 10652/10951 [02:42<00:03, 79.65it/s]Failed to featurize datapoint 0, [18F-]. Appending empty array\n",
            "Exception message: More than one atom should be present in the molecule for this featurizer to work.\n",
            " 98%|█████████▊| 10751/10951 [02:43<00:02, 74.67it/s]Failed to featurize datapoint 0, [Au+]. Appending empty array\n",
            "Exception message: More than one atom should be present in the molecule for this featurizer to work.\n",
            " 99%|█████████▉| 10845/10951 [02:44<00:01, 91.93it/s]Failed to featurize datapoint 0, [In]. Appending empty array\n",
            "Exception message: More than one atom should be present in the molecule for this featurizer to work.\n",
            "100%|█████████▉| 10902/10951 [02:45<00:00, 91.12it/s]Failed to featurize datapoint 0, [Cl-].[Cl-].[Sr+2]. Appending empty array\n",
            "Exception message: zero-size array to reduction operation maximum which has no identity\n",
            "Failed to featurize datapoint 0, [111In]. Appending empty array\n",
            "Exception message: More than one atom should be present in the molecule for this featurizer to work.\n",
            "100%|█████████▉| 10912/10951 [02:45<00:00, 91.13it/s]Failed to featurize datapoint 0, [Cl-].[Na+]. Appending empty array\n",
            "Exception message: zero-size array to reduction operation maximum which has no identity\n",
            "100%|██████████| 10951/10951 [02:46<00:00, 65.72it/s]\n",
            "Done!\n"
          ]
        }
      ],
      "source": [
        "import pandas as pd\n",
        "import torch\n",
        "import torch_geometric\n",
        "from torch_geometric.data import Dataset\n",
        "import numpy as np \n",
        "import os\n",
        "from tqdm import tqdm\n",
        "import deepchem as dc\n",
        "\n",
        "print(f\"Torch version: {torch.__version__}\")\n",
        "print(f\"Cuda available: {torch.cuda.is_available()}\")\n",
        "print(f\"Torch geometric version: {torch_geometric.__version__}\")\n",
        "\n",
        "remove = []\n",
        "\n",
        "class MoleculeDataset(Dataset):\n",
        "    def __init__(self, root, filename, test=False, transform=None, pre_transform=None):\n",
        "        \"\"\"\n",
        "        root = Where the dataset should be stored. This folder is split\n",
        "        into raw_dir (downloaded dataset) and processed_dir (processed data). \n",
        "        \"\"\"\n",
        "        self.test = test\n",
        "        self.filename = filename\n",
        "        self.sz = 0\n",
        "        super(MoleculeDataset, self).__init__(root, transform, pre_transform)\n",
        "        \n",
        "    @property\n",
        "    def raw_file_names(self):\n",
        "        \"\"\" If this file exists in raw_dir, the download is not triggered.\n",
        "            (The download func. is not implemented here)  \n",
        "        \"\"\"\n",
        "        return self.filename\n",
        "\n",
        "    @property\n",
        "    def processed_file_names(self):\n",
        "        \"\"\" If these files are found in raw_dir, processing is skipped\"\"\"\n",
        "        self.data = pd.read_csv(self.raw_paths[0]).reset_index()\n",
        "\n",
        "        if self.test:\n",
        "            return [f'data_test_{i}.pt' for i in list(self.data.index)]\n",
        "        else:\n",
        "            return [f'data_{i}.pt' for i in list(self.data.index)]\n",
        "        \n",
        "\n",
        "    def download(self):\n",
        "        pass\n",
        "\n",
        "    def process(self):\n",
        "        self.data = pd.read_csv(self.raw_paths[0]).reset_index()\n",
        "        featurizer = dc.feat.MolGraphConvFeaturizer(use_edges=True)\n",
        "        count = 0\n",
        "        for index, mol in tqdm(self.data.iterrows(), total=self.data.shape[0]):\n",
        "            if type(mol[\"Drug1_SMILES\"])==float:\n",
        "              remove.append(mol[\"Drug1_ID\"])\n",
        "              continue\n",
        "            f = featurizer.featurize(mol[\"Drug1_SMILES\"])\n",
        "            if not f : \n",
        "              remove.append(mol[\"Drug1_ID\"])\n",
        "              continue\n",
        "            data = f[0].to_pyg_graph()\n",
        "            data.y = 1\n",
        "            data.smiles = mol[\"Drug1_SMILES\"]\n",
        "            data.id = mol[\"Drug1_ID\"]\n",
        "            if self.test:\n",
        "                torch.save(data, \n",
        "                    os.path.join(self.processed_dir, \n",
        "                                f'data_test_{count}.pt'))\n",
        "            else:\n",
        "                torch.save(data, \n",
        "                    os.path.join(self.processed_dir, \n",
        "                                f'data_{count}.pt'))\n",
        "            count+=1\n",
        "        self.sz = count\n",
        "\n",
        "    def _get_label(self, label):\n",
        "        label = np.asarray([label])\n",
        "        return torch.tensor(label, dtype=torch.int64)\n",
        "\n",
        "    def len(self):\n",
        "        return self.sz\n",
        "        #return self.data.shape[0]\n",
        "\n",
        "    def get(self, idx):\n",
        "        \"\"\" - Equivalent to __getitem__ in pytorch\n",
        "            - Is not needed for PyG's InMemoryDataset\n",
        "        \"\"\"\n",
        "        if self.test:\n",
        "            data = torch.load(os.path.join(self.processed_dir, \n",
        "                                 f'data_test_{idx}.pt'))\n",
        "        else:\n",
        "            data = torch.load(os.path.join(self.processed_dir, \n",
        "                                 f'data_{idx}.pt'))        \n",
        "        return data\n",
        "\n",
        "encoder_set = MoleculeDataset(\"\",\"totalData.csv\")"
      ]
    },
    {
      "cell_type": "code",
      "execution_count": null,
      "metadata": {
        "colab": {
          "base_uri": "https://localhost:8080/"
        },
        "id": "_AJ0Loe0jYG7",
        "outputId": "9ff428cb-036c-4300-d280-cb9903549004"
      },
      "outputs": [
        {
          "output_type": "execute_result",
          "data": {
            "text/plain": [
              "device(type='cuda', index=0)"
            ]
          },
          "metadata": {},
          "execution_count": 8
        }
      ],
      "source": [
        "device = torch.device(\"cuda:0\" if torch.cuda.is_available() else \"cpu\")\n",
        "device"
      ]
    },
    {
      "cell_type": "code",
      "execution_count": null,
      "metadata": {
        "colab": {
          "base_uri": "https://localhost:8080/"
        },
        "id": "YROrPRyPbAtQ",
        "outputId": "f4e0f5bb-e10a-4360-fa50-5db8fda5a15c"
      },
      "outputs": [
        {
          "output_type": "execute_result",
          "data": {
            "text/plain": [
              "10820"
            ]
          },
          "metadata": {},
          "execution_count": 9
        }
      ],
      "source": [
        "len(encoder_set)"
      ]
    },
    {
      "cell_type": "code",
      "execution_count": null,
      "metadata": {
        "colab": {
          "base_uri": "https://localhost:8080/"
        },
        "id": "_fgzZ7WbjYKk",
        "outputId": "a71f63f9-61e6-4af6-ff66-bf6294ec1214"
      },
      "outputs": [
        {
          "output_type": "stream",
          "name": "stdout",
          "text": [
            "GVAE(\n",
            "  (conv1): GCNConv(30, 48)\n",
            "  (bn1): BatchNorm(48)\n",
            "  (conv2): GCNConv(48, 48)\n",
            "  (bn2): BatchNorm(48)\n",
            "  (conv3): GCNConv(48, 48)\n",
            "  (bn3): BatchNorm(48)\n",
            "  (mu_transform): Linear(in_features=48, out_features=8, bias=True)\n",
            "  (logvar_transform): Linear(in_features=48, out_features=8, bias=True)\n",
            "  (decoder_dense_3): Linear(in_features=8, out_features=64, bias=True)\n",
            "  (decoder_bn_3): BatchNorm1d(64, eps=1e-05, momentum=0.1, affine=True, track_running_stats=True)\n",
            "  (decoder_dense_4): Linear(in_features=64, out_features=30, bias=True)\n",
            ")\n",
            "Number of parameters:  9918\n"
          ]
        }
      ],
      "source": [
        "import torch\n",
        "import torch.nn as nn\n",
        "from torch.nn import Linear,BatchNorm1d\n",
        "from torch_geometric.nn import GCNConv,GATConv,TransformerConv\n",
        "from torch_geometric.nn import BatchNorm\n",
        "from tqdm import tqdm\n",
        "\n",
        "class GVAE(nn.Module):\n",
        "    def __init__(self, feature_size, edge_size):\n",
        "        super(GVAE, self).__init__()\n",
        "        self.encoder_embedding_size = 48\n",
        "        self.feature_size = feature_size\n",
        "        self.edge_dim = edge_size\n",
        "        self.latent_embedding_size = 8\n",
        "        self.decoder_hidden_neurons = 64\n",
        "        decoder_size = 64\n",
        "\n",
        "        # Encoder layers\n",
        "        #self.conv1 = GATConv(feature_size, self.encoder_embedding_size,edge_dim=self.edge_dim)\n",
        "        self.conv1 = GCNConv(feature_size, self.encoder_embedding_size)\n",
        "        self.bn1 = BatchNorm(self.encoder_embedding_size)\n",
        "        self.conv2 = GCNConv(self.encoder_embedding_size, self.encoder_embedding_size)\n",
        "        self.bn2 = BatchNorm(self.encoder_embedding_size)\n",
        "        #self.conv3 = GATConv(self.encoder_embedding_size, self.encoder_embedding_size,edge_dim=self.edge_dim)\n",
        "        self.conv3 = GCNConv(self.encoder_embedding_size, self.encoder_embedding_size)\n",
        "        self.bn3 = BatchNorm(self.encoder_embedding_size)\n",
        "\n",
        "        # Latent transform layers\n",
        "        self.mu_transform = Linear(self.encoder_embedding_size, \n",
        "                                            self.latent_embedding_size)\n",
        "        self.logvar_transform = Linear(self.encoder_embedding_size, \n",
        "                                            self.latent_embedding_size)\n",
        " \n",
        "        \n",
        "      \n",
        "        self.decoder_dense_3 = Linear(self.latent_embedding_size, decoder_size)\n",
        "        self.decoder_bn_3 = BatchNorm1d(decoder_size)\n",
        "        self.decoder_dense_4 = Linear(decoder_size, self.feature_size)\n",
        "        \n",
        "\n",
        "    def encode(self, x, edge_attr, edge_index, batch_index):\n",
        "        # GNN layers\n",
        "        x = self.conv1(x, edge_index).relu()\n",
        "        #x = self.conv1(x, edge_index, edge_attr).relu()\n",
        "        x = self.bn1(x)\n",
        "        x = self.conv2(x, edge_index).relu()\n",
        "        x = self.bn2(x)\n",
        "        x = self.conv3(x, edge_index).relu()\n",
        "        x = self.bn3(x)\n",
        "        \n",
        "        # Latent transform layers\n",
        "        mu = self.mu_transform(x)\n",
        "        logvar = self.logvar_transform(x)\n",
        "        return mu, logvar\n",
        "\n",
        "\n",
        "    def decode(self, z, batch_index):\n",
        "        x = self.decoder_dense_3(z).relu()\n",
        "        x = self.decoder_bn_3(x)\n",
        "        x = self.decoder_dense_4(x)\n",
        "        return x\n",
        "\n",
        "\n",
        "    def reparameterize(self, mu, logvar):\n",
        "        if self.training:\n",
        "            std = torch.exp(logvar)\n",
        "            eps = torch.randn_like(std)\n",
        "            return eps.mul(std).add_(mu)\n",
        "        else:\n",
        "            return mu\n",
        "\n",
        "    def forward(self, x, edge_attr, edge_index, batch_index):\n",
        "        mu, logvar = self.encode(x, edge_attr, edge_index, batch_index)\n",
        "        z = self.reparameterize(mu, logvar)\n",
        "        triu_logits = self.decode(z, batch_index)\n",
        "\n",
        "        return triu_logits, mu, logvar\n",
        "\n",
        "    \n",
        "   \n",
        "model = GVAE(feature_size=encoder_set[0].x.shape[1],edge_size=encoder_set[0].edge_attr.shape[1])\n",
        "print(model)\n",
        "print(\"Number of parameters: \", sum(p.numel() for p in model.parameters()))"
      ]
    },
    {
      "cell_type": "code",
      "execution_count": null,
      "metadata": {
        "id": "P0dyCU1BjlUD",
        "colab": {
          "base_uri": "https://localhost:8080/"
        },
        "outputId": "d4fec2bb-50a5-4334-a7c9-0865bb214117"
      },
      "outputs": [
        {
          "output_type": "stream",
          "name": "stderr",
          "text": [
            "/usr/local/lib/python3.7/dist-packages/torch_geometric/deprecation.py:12: UserWarning: 'data.DataLoader' is deprecated, use 'loader.DataLoader' instead\n",
            "  warnings.warn(out)\n"
          ]
        }
      ],
      "source": [
        "from torch_geometric.data import DataLoader\n",
        "\n",
        "data_size = len(encoder_set)\n",
        "NUM_GRAPHS_PER_BATCH = 64\n",
        "frac = 0.8\n",
        "train_loader = DataLoader(encoder_set[:int(data_size * frac)], \n",
        "                    batch_size=NUM_GRAPHS_PER_BATCH, shuffle=True)\n",
        "test_loader = DataLoader(encoder_set[int(data_size * frac):], \n",
        "                         batch_size=NUM_GRAPHS_PER_BATCH, shuffle=True)\n",
        "\n",
        "\n",
        "model = model.to(device)\n"
      ]
    },
    {
      "cell_type": "code",
      "execution_count": null,
      "metadata": {
        "id": "fRkSppddf_xZ"
      },
      "outputs": [],
      "source": [
        ""
      ]
    },
    {
      "cell_type": "code",
      "execution_count": null,
      "metadata": {
        "id": "ZQBxcgGQjnRE"
      },
      "outputs": [],
      "source": [
        "def kl_loss(mu=None, logstd=None):\n",
        "    \"\"\"\n",
        "    Closed formula of the KL divergence for normal distributions\n",
        "    \"\"\"\n",
        "    MAX_LOGSTD = 10\n",
        "    logstd =  logstd.clamp(max=MAX_LOGSTD)\n",
        "    kl_div = -0.5 * torch.mean(torch.sum(1 + 2 * logstd - mu**2 - logstd.exp()**2, dim=1))\n",
        "\n",
        "    # Limit numeric errors\n",
        "    kl_div = kl_div.clamp(max=1000)\n",
        "    return kl_div\n",
        "\n"
      ]
    },
    {
      "cell_type": "code",
      "execution_count": null,
      "metadata": {
        "id": "cjy8r9qKjpSK"
      },
      "outputs": [],
      "source": [
        "from scipy.linalg import fractional_matrix_power\n",
        "\n",
        "def gvae_loss(decode_pred, edge_index, node_feats, mu, logvar, batch_index, kl_beta):\n",
        "    # Convert target edge index to dense adjacency matrix\n",
        "    batch_targets = torch.squeeze(to_dense_adj(edge_index))\n",
        "    batch_targets = batch_targets + torch.eye(batch_targets.shape[0]).to(device)\n",
        "    degree = torch.diag(torch.sum(batch_targets, axis=1))\n",
        "    dinv = torch.linalg.inv(degree)\n",
        "    dinvsqrt = torch.sqrt(dinv)\n",
        "    mat = torch.matmul(dinvsqrt,batch_targets)\n",
        "    mat = torch.matmul(mat,dinvsqrt)\n",
        "    mat = torch.matmul(mat,node_feats)\n",
        "    \n",
        "    # Reconstruction loss per graph\n",
        "    res = mat - decode_pred\n",
        "    \n",
        "    ssq = (torch.diag(torch.mm(res,res.T)))\n",
        "    batch_recon_loss = torch.sum(ssq)/(ssq.shape[0])\n",
        "    \n",
        "    \n",
        "    # KL Divergence\n",
        "    kl_divergence = kl_loss(mu, logvar)\n",
        "\n",
        "    return batch_recon_loss + kl_beta * kl_divergence, kl_divergence"
      ]
    },
    {
      "cell_type": "code",
      "execution_count": null,
      "metadata": {
        "id": "lwa3Qnaxjrtn"
      },
      "outputs": [],
      "source": [
        "loss_fn = gvae_loss\n",
        "optimizer = torch.optim.Adam(model.parameters(), lr=0.002)\n",
        "kl_beta = 0.005"
      ]
    },
    {
      "cell_type": "code",
      "execution_count": null,
      "metadata": {
        "id": "ucYraE5ijttR"
      },
      "outputs": [],
      "source": [
        "\n",
        "def run_one_epoch(data_loader, type, epoch, kl_beta):\n",
        "    # Store per batch loss and accuracy \n",
        "    all_losses = []\n",
        "    all_accs = []\n",
        "    all_kldivs = []\n",
        "\n",
        "    # Iterate over data loader\n",
        "    for i, batch in enumerate(tqdm(data_loader)):\n",
        "        # Some of the data points have invalid adjacency matrices \n",
        "        try:\n",
        "            # Use GPU\n",
        "            batch.to(device)  \n",
        "            # Reset gradients\n",
        "            optimizer.zero_grad() \n",
        "            # Call model\n",
        "            decode_pred, mu, logvar = model(batch.x.float(), \n",
        "                                            batch.edge_attr.float(),\n",
        "                                            batch.edge_index, \n",
        "                                            batch.batch) \n",
        "            # Calculate loss and backpropagate\n",
        "            \n",
        "            \n",
        "            loss, kl_div = loss_fn(decode_pred, batch.edge_index, batch.x.float(), mu, logvar, batch.batch, kl_beta)\n",
        "            if type == \"Train\":\n",
        "                loss.backward()  \n",
        "                optimizer.step()  \n",
        "            # Calculate metrics\n",
        "            # Store loss and metrics\n",
        "            all_losses.append(loss.detach().cpu().numpy())\n",
        "            all_kldivs.append(kl_div.detach().cpu().numpy())\n",
        "            \n",
        "\n",
        "        except IndexError as error:\n",
        "            print(\"Error: \", error)\n",
        "    \n",
        "    print(f\"{type} epoch {epoch} loss: \", np.array(all_losses).mean())\n",
        "    print(f\"{type} epoch {epoch} KL-loss: \", np.array(all_kldivs).mean())\n",
        "    "
      ]
    },
    {
      "cell_type": "code",
      "execution_count": null,
      "metadata": {
        "colab": {
          "base_uri": "https://localhost:8080/"
        },
        "id": "HqKZUNcljvZB",
        "outputId": "a0188169-100a-4367-e0e1-277455d0cfd5"
      },
      "outputs": [
        {
          "output_type": "stream",
          "name": "stderr",
          "text": [
            "100%|██████████| 136/136 [00:08<00:00, 15.21it/s]\n"
          ]
        },
        {
          "output_type": "stream",
          "name": "stdout",
          "text": [
            "Train epoch 0 loss:  4.17324\n",
            "Train epoch 0 KL-loss:  414.1963\n",
            "Start test epoch...\n"
          ]
        },
        {
          "output_type": "stream",
          "name": "stderr",
          "text": [
            "100%|██████████| 34/34 [00:02<00:00, 16.50it/s]\n"
          ]
        },
        {
          "output_type": "stream",
          "name": "stdout",
          "text": [
            "Test epoch 0 loss:  1.5465984\n",
            "Test epoch 0 KL-loss:  22.753984\n"
          ]
        },
        {
          "output_type": "stream",
          "name": "stderr",
          "text": [
            "100%|██████████| 136/136 [00:08<00:00, 16.42it/s]\n"
          ]
        },
        {
          "output_type": "stream",
          "name": "stdout",
          "text": [
            "Train epoch 1 loss:  0.63306034\n",
            "Train epoch 1 KL-loss:  20.315052\n"
          ]
        },
        {
          "output_type": "stream",
          "name": "stderr",
          "text": [
            "100%|██████████| 136/136 [00:08<00:00, 16.46it/s]\n"
          ]
        },
        {
          "output_type": "stream",
          "name": "stdout",
          "text": [
            "Train epoch 2 loss:  0.47359982\n",
            "Train epoch 2 KL-loss:  15.225486\n"
          ]
        },
        {
          "output_type": "stream",
          "name": "stderr",
          "text": [
            "100%|██████████| 136/136 [00:08<00:00, 16.43it/s]\n"
          ]
        },
        {
          "output_type": "stream",
          "name": "stdout",
          "text": [
            "Train epoch 3 loss:  0.3869314\n",
            "Train epoch 3 KL-loss:  13.63075\n"
          ]
        },
        {
          "output_type": "stream",
          "name": "stderr",
          "text": [
            "100%|██████████| 136/136 [00:08<00:00, 16.00it/s]\n"
          ]
        },
        {
          "output_type": "stream",
          "name": "stdout",
          "text": [
            "Train epoch 4 loss:  0.337223\n",
            "Train epoch 4 KL-loss:  12.974083\n"
          ]
        },
        {
          "output_type": "stream",
          "name": "stderr",
          "text": [
            "100%|██████████| 136/136 [00:08<00:00, 16.32it/s]\n"
          ]
        },
        {
          "output_type": "stream",
          "name": "stdout",
          "text": [
            "Train epoch 5 loss:  0.3038394\n",
            "Train epoch 5 KL-loss:  12.719317\n",
            "Start test epoch...\n"
          ]
        },
        {
          "output_type": "stream",
          "name": "stderr",
          "text": [
            "100%|██████████| 34/34 [00:01<00:00, 17.03it/s]\n"
          ]
        },
        {
          "output_type": "stream",
          "name": "stdout",
          "text": [
            "Test epoch 5 loss:  0.2503718\n",
            "Test epoch 5 KL-loss:  13.040123\n"
          ]
        },
        {
          "output_type": "stream",
          "name": "stderr",
          "text": [
            "100%|██████████| 136/136 [00:08<00:00, 16.32it/s]\n"
          ]
        },
        {
          "output_type": "stream",
          "name": "stdout",
          "text": [
            "Train epoch 6 loss:  0.2806663\n",
            "Train epoch 6 KL-loss:  12.6124115\n"
          ]
        },
        {
          "output_type": "stream",
          "name": "stderr",
          "text": [
            "100%|██████████| 136/136 [00:08<00:00, 16.37it/s]\n"
          ]
        },
        {
          "output_type": "stream",
          "name": "stdout",
          "text": [
            "Train epoch 7 loss:  0.2646008\n",
            "Train epoch 7 KL-loss:  12.6121235\n"
          ]
        },
        {
          "output_type": "stream",
          "name": "stderr",
          "text": [
            "100%|██████████| 136/136 [00:08<00:00, 16.17it/s]\n"
          ]
        },
        {
          "output_type": "stream",
          "name": "stdout",
          "text": [
            "Train epoch 8 loss:  0.25395802\n",
            "Train epoch 8 KL-loss:  12.621891\n"
          ]
        },
        {
          "output_type": "stream",
          "name": "stderr",
          "text": [
            "100%|██████████| 136/136 [00:08<00:00, 16.33it/s]\n"
          ]
        },
        {
          "output_type": "stream",
          "name": "stdout",
          "text": [
            "Train epoch 9 loss:  0.23977108\n",
            "Train epoch 9 KL-loss:  12.710077\n"
          ]
        },
        {
          "output_type": "stream",
          "name": "stderr",
          "text": [
            "100%|██████████| 136/136 [00:08<00:00, 15.16it/s]\n"
          ]
        },
        {
          "output_type": "stream",
          "name": "stdout",
          "text": [
            "Train epoch 10 loss:  0.23734878\n",
            "Train epoch 10 KL-loss:  12.79887\n",
            "Start test epoch...\n"
          ]
        },
        {
          "output_type": "stream",
          "name": "stderr",
          "text": [
            "100%|██████████| 34/34 [00:01<00:00, 17.02it/s]"
          ]
        },
        {
          "output_type": "stream",
          "name": "stdout",
          "text": [
            "Test epoch 10 loss:  0.2027542\n",
            "Test epoch 10 KL-loss:  13.051847\n"
          ]
        },
        {
          "output_type": "stream",
          "name": "stderr",
          "text": [
            "\n"
          ]
        }
      ],
      "source": [
        "for epoch in range(11): \n",
        "  model.train()\n",
        "  run_one_epoch(train_loader, type=\"Train\", epoch=epoch, kl_beta=kl_beta)\n",
        "  if epoch % 5 == 0:\n",
        "      print(\"Start test epoch...\")\n",
        "      model.eval()\n",
        "      run_one_epoch(test_loader, type=\"Test\", epoch=epoch, kl_beta=kl_beta)"
      ]
    },
    {
      "cell_type": "code",
      "execution_count": null,
      "metadata": {
        "colab": {
          "base_uri": "https://localhost:8080/"
        },
        "id": "WYTcUr9rjxWI",
        "outputId": "aa8cbfdd-62c7-4ffa-a4ec-9ea57e8301c2"
      },
      "outputs": [
        {
          "output_type": "stream",
          "name": "stderr",
          "text": [
            "/usr/local/lib/python3.7/dist-packages/torch_geometric/deprecation.py:12: UserWarning: 'data.DataLoader' is deprecated, use 'loader.DataLoader' instead\n",
            "  warnings.warn(out)\n"
          ]
        },
        {
          "output_type": "stream",
          "name": "stdout",
          "text": [
            "done!!!\n"
          ]
        }
      ],
      "source": [
        "NUM_GRAPHS_PER_BATCH = 1\n",
        "loader = DataLoader(encoder_set, \n",
        "                    batch_size=NUM_GRAPHS_PER_BATCH, shuffle=False)\n",
        "\n",
        "dictval = {}\n",
        "for batch in loader : \n",
        "  batch.to(device)\n",
        "  decode_pred, mu, logvar = model(batch.x.float(), \n",
        "                            batch.edge_attr.float(),\n",
        "                            batch.edge_index, \n",
        "                            batch.batch) \n",
        "  \n",
        "  \n",
        "  dictval[batch.id[0]] = [mu,logvar]\n",
        "  \n",
        "print(\"done!!!\")\n",
        "  \n",
        "\n",
        "      "
      ]
    },
    {
      "cell_type": "code",
      "execution_count": null,
      "metadata": {
        "id": "_mUT-_kckCjU",
        "colab": {
          "base_uri": "https://localhost:8080/"
        },
        "outputId": "077d22fd-776a-4a95-f5cb-0a1363774b03"
      },
      "outputs": [
        {
          "output_type": "execute_result",
          "data": {
            "text/plain": [
              "10820"
            ]
          },
          "metadata": {},
          "execution_count": 19
        }
      ],
      "source": [
        "len(dictval)"
      ]
    },
    {
      "cell_type": "code",
      "execution_count": null,
      "metadata": {
        "colab": {
          "base_uri": "https://localhost:8080/",
          "height": 285
        },
        "id": "T_nKz93skFiv",
        "outputId": "8ea3a0e6-b5e8-413c-dbd4-6a19873971c0"
      },
      "outputs": [
        {
          "output_type": "execute_result",
          "data": {
            "text/plain": [
              "   Unnamed: 0 Drug1_ID                                       Drug1_SMILES  \\\n",
              "0           0  DB00706   CCOc1ccccc1OCCN[C@H](C)Cc1ccc(OC)c(S(N)(=O)=O)c1   \n",
              "1           1   3849.0  C[C@@H](Oc1ccc2[nH]nc(/C=C/c3cnn(CCO)c3)c2c1)c...   \n",
              "2           2   6380.0                      O=P(O)(O)OCCCc1c[nH]c2ccccc12   \n",
              "3           3   7947.0  CCCC(=O)O[C@]1(C(=O)COC(C)=O)CC[C@H]2[C@@H]3C[...   \n",
              "4           4  DB00802   CCC(=O)N(c1ccccc1)C1(COC)CCN(CCn2nnn(CC)c2=O)CC1   \n",
              "\n",
              "  Drug2_ID                                       Drug2_SMILES  label  \n",
              "0  DB01023    CCOC(=O)C1=C(C)NC(C)=C(C(=O)OC)C1c1cccc(Cl)c1Cl    1.0  \n",
              "1   3515.0      COc1ccc2c(c1)c(CC(=O)O)c(C)n2C(=O)c1ccc(I)cc1    0.0  \n",
              "2   8290.0       N[C@@H](c1ccccc1)c1ccc(-c2ncnc3[nH]cnc23)cc1    0.0  \n",
              "3   3010.0                                       CNCCc1ccccn1    0.0  \n",
              "4  DB00872  Cc1nc2c([nH]1)CCN(C(=O)c1ccc(NC(=O)c3ccccc3-c3...    1.0  "
            ],
            "text/html": [
              "\n",
              "  <div id=\"df-0eba8303-cf46-4560-869d-baf7eebdc94a\">\n",
              "    <div class=\"colab-df-container\">\n",
              "      <div>\n",
              "<style scoped>\n",
              "    .dataframe tbody tr th:only-of-type {\n",
              "        vertical-align: middle;\n",
              "    }\n",
              "\n",
              "    .dataframe tbody tr th {\n",
              "        vertical-align: top;\n",
              "    }\n",
              "\n",
              "    .dataframe thead th {\n",
              "        text-align: right;\n",
              "    }\n",
              "</style>\n",
              "<table border=\"1\" class=\"dataframe\">\n",
              "  <thead>\n",
              "    <tr style=\"text-align: right;\">\n",
              "      <th></th>\n",
              "      <th>Unnamed: 0</th>\n",
              "      <th>Drug1_ID</th>\n",
              "      <th>Drug1_SMILES</th>\n",
              "      <th>Drug2_ID</th>\n",
              "      <th>Drug2_SMILES</th>\n",
              "      <th>label</th>\n",
              "    </tr>\n",
              "  </thead>\n",
              "  <tbody>\n",
              "    <tr>\n",
              "      <th>0</th>\n",
              "      <td>0</td>\n",
              "      <td>DB00706</td>\n",
              "      <td>CCOc1ccccc1OCCN[C@H](C)Cc1ccc(OC)c(S(N)(=O)=O)c1</td>\n",
              "      <td>DB01023</td>\n",
              "      <td>CCOC(=O)C1=C(C)NC(C)=C(C(=O)OC)C1c1cccc(Cl)c1Cl</td>\n",
              "      <td>1.0</td>\n",
              "    </tr>\n",
              "    <tr>\n",
              "      <th>1</th>\n",
              "      <td>1</td>\n",
              "      <td>3849.0</td>\n",
              "      <td>C[C@@H](Oc1ccc2[nH]nc(/C=C/c3cnn(CCO)c3)c2c1)c...</td>\n",
              "      <td>3515.0</td>\n",
              "      <td>COc1ccc2c(c1)c(CC(=O)O)c(C)n2C(=O)c1ccc(I)cc1</td>\n",
              "      <td>0.0</td>\n",
              "    </tr>\n",
              "    <tr>\n",
              "      <th>2</th>\n",
              "      <td>2</td>\n",
              "      <td>6380.0</td>\n",
              "      <td>O=P(O)(O)OCCCc1c[nH]c2ccccc12</td>\n",
              "      <td>8290.0</td>\n",
              "      <td>N[C@@H](c1ccccc1)c1ccc(-c2ncnc3[nH]cnc23)cc1</td>\n",
              "      <td>0.0</td>\n",
              "    </tr>\n",
              "    <tr>\n",
              "      <th>3</th>\n",
              "      <td>3</td>\n",
              "      <td>7947.0</td>\n",
              "      <td>CCCC(=O)O[C@]1(C(=O)COC(C)=O)CC[C@H]2[C@@H]3C[...</td>\n",
              "      <td>3010.0</td>\n",
              "      <td>CNCCc1ccccn1</td>\n",
              "      <td>0.0</td>\n",
              "    </tr>\n",
              "    <tr>\n",
              "      <th>4</th>\n",
              "      <td>4</td>\n",
              "      <td>DB00802</td>\n",
              "      <td>CCC(=O)N(c1ccccc1)C1(COC)CCN(CCn2nnn(CC)c2=O)CC1</td>\n",
              "      <td>DB00872</td>\n",
              "      <td>Cc1nc2c([nH]1)CCN(C(=O)c1ccc(NC(=O)c3ccccc3-c3...</td>\n",
              "      <td>1.0</td>\n",
              "    </tr>\n",
              "  </tbody>\n",
              "</table>\n",
              "</div>\n",
              "      <button class=\"colab-df-convert\" onclick=\"convertToInteractive('df-0eba8303-cf46-4560-869d-baf7eebdc94a')\"\n",
              "              title=\"Convert this dataframe to an interactive table.\"\n",
              "              style=\"display:none;\">\n",
              "        \n",
              "  <svg xmlns=\"http://www.w3.org/2000/svg\" height=\"24px\"viewBox=\"0 0 24 24\"\n",
              "       width=\"24px\">\n",
              "    <path d=\"M0 0h24v24H0V0z\" fill=\"none\"/>\n",
              "    <path d=\"M18.56 5.44l.94 2.06.94-2.06 2.06-.94-2.06-.94-.94-2.06-.94 2.06-2.06.94zm-11 1L8.5 8.5l.94-2.06 2.06-.94-2.06-.94L8.5 2.5l-.94 2.06-2.06.94zm10 10l.94 2.06.94-2.06 2.06-.94-2.06-.94-.94-2.06-.94 2.06-2.06.94z\"/><path d=\"M17.41 7.96l-1.37-1.37c-.4-.4-.92-.59-1.43-.59-.52 0-1.04.2-1.43.59L10.3 9.45l-7.72 7.72c-.78.78-.78 2.05 0 2.83L4 21.41c.39.39.9.59 1.41.59.51 0 1.02-.2 1.41-.59l7.78-7.78 2.81-2.81c.8-.78.8-2.07 0-2.86zM5.41 20L4 18.59l7.72-7.72 1.47 1.35L5.41 20z\"/>\n",
              "  </svg>\n",
              "      </button>\n",
              "      \n",
              "  <style>\n",
              "    .colab-df-container {\n",
              "      display:flex;\n",
              "      flex-wrap:wrap;\n",
              "      gap: 12px;\n",
              "    }\n",
              "\n",
              "    .colab-df-convert {\n",
              "      background-color: #E8F0FE;\n",
              "      border: none;\n",
              "      border-radius: 50%;\n",
              "      cursor: pointer;\n",
              "      display: none;\n",
              "      fill: #1967D2;\n",
              "      height: 32px;\n",
              "      padding: 0 0 0 0;\n",
              "      width: 32px;\n",
              "    }\n",
              "\n",
              "    .colab-df-convert:hover {\n",
              "      background-color: #E2EBFA;\n",
              "      box-shadow: 0px 1px 2px rgba(60, 64, 67, 0.3), 0px 1px 3px 1px rgba(60, 64, 67, 0.15);\n",
              "      fill: #174EA6;\n",
              "    }\n",
              "\n",
              "    [theme=dark] .colab-df-convert {\n",
              "      background-color: #3B4455;\n",
              "      fill: #D2E3FC;\n",
              "    }\n",
              "\n",
              "    [theme=dark] .colab-df-convert:hover {\n",
              "      background-color: #434B5C;\n",
              "      box-shadow: 0px 1px 3px 1px rgba(0, 0, 0, 0.15);\n",
              "      filter: drop-shadow(0px 1px 2px rgba(0, 0, 0, 0.3));\n",
              "      fill: #FFFFFF;\n",
              "    }\n",
              "  </style>\n",
              "\n",
              "      <script>\n",
              "        const buttonEl =\n",
              "          document.querySelector('#df-0eba8303-cf46-4560-869d-baf7eebdc94a button.colab-df-convert');\n",
              "        buttonEl.style.display =\n",
              "          google.colab.kernel.accessAllowed ? 'block' : 'none';\n",
              "\n",
              "        async function convertToInteractive(key) {\n",
              "          const element = document.querySelector('#df-0eba8303-cf46-4560-869d-baf7eebdc94a');\n",
              "          const dataTable =\n",
              "            await google.colab.kernel.invokeFunction('convertToInteractive',\n",
              "                                                     [key], {});\n",
              "          if (!dataTable) return;\n",
              "\n",
              "          const docLinkHtml = 'Like what you see? Visit the ' +\n",
              "            '<a target=\"_blank\" href=https://colab.research.google.com/notebooks/data_table.ipynb>data table notebook</a>'\n",
              "            + ' to learn more about interactive tables.';\n",
              "          element.innerHTML = '';\n",
              "          dataTable['output_type'] = 'display_data';\n",
              "          await google.colab.output.renderOutput(dataTable, element);\n",
              "          const docLink = document.createElement('div');\n",
              "          docLink.innerHTML = docLinkHtml;\n",
              "          element.appendChild(docLink);\n",
              "        }\n",
              "      </script>\n",
              "    </div>\n",
              "  </div>\n",
              "  "
            ]
          },
          "metadata": {},
          "execution_count": 20
        }
      ],
      "source": [
        "temp = pd.read_csv(\"sup_train_val.csv\")\n",
        "temp.head()"
      ]
    },
    {
      "cell_type": "code",
      "execution_count": null,
      "metadata": {
        "colab": {
          "base_uri": "https://localhost:8080/"
        },
        "id": "OOqTZsvdyyMo",
        "outputId": "38e1ef01-93ad-4636-d72a-dc8b44f161f6"
      },
      "outputs": [
        {
          "output_type": "execute_result",
          "data": {
            "text/plain": [
              "66432"
            ]
          },
          "metadata": {},
          "execution_count": 21
        }
      ],
      "source": [
        "len(temp)"
      ]
    },
    {
      "cell_type": "code",
      "execution_count": null,
      "metadata": {
        "id": "gS5DC4d2ybyC"
      },
      "outputs": [],
      "source": [
        "df = temp\n",
        "\n",
        "# df = pd.DataFrame(columns = ['Drug1_ID', 'Drug1_SMILES', 'Drug2_ID','Drug2_SMILES','label'])\n",
        "\n",
        "# sz = len(temp)\n",
        "\n",
        "# for i in range(sz):\n",
        "#   id1 = temp['Drug1_ID'][i]\n",
        "#   id2 = temp['Drug2_ID'][i]\n",
        "#   if (id1 in dictval) and (id2 in dictval) : \n",
        "#     df = df.append({'Drug1_ID' : id1, 'Drug1_SMILES' : temp['Drug1_SMILES'][i], 'Drug2_ID' : id2,'Drug2_SMILES' : temp['Drug2_SMILES'][i],'label' : temp['label'][i]}, \n",
        "#                   ignore_index = True)\n",
        "\n",
        "# df.head()"
      ]
    },
    {
      "cell_type": "code",
      "execution_count": null,
      "metadata": {
        "id": "nquOf1bVwR4m",
        "colab": {
          "base_uri": "https://localhost:8080/"
        },
        "outputId": "99f4fe05-d9ba-4039-af7b-f095a560a834"
      },
      "outputs": [
        {
          "output_type": "execute_result",
          "data": {
            "text/plain": [
              "66432"
            ]
          },
          "metadata": {},
          "execution_count": 23
        }
      ],
      "source": [
        "df = df.sample(frac=1)\n",
        "df = df.reset_index(drop=True)\n",
        "len(df)"
      ]
    },
    {
      "cell_type": "code",
      "execution_count": null,
      "metadata": {
        "id": "PXuJAPzDboTq",
        "colab": {
          "base_uri": "https://localhost:8080/"
        },
        "outputId": "14d294bc-925d-4bca-eb59-ed78e5e073bd"
      },
      "outputs": [
        {
          "output_type": "execute_result",
          "data": {
            "text/plain": [
              "2"
            ]
          },
          "metadata": {},
          "execution_count": 24
        }
      ],
      "source": [
        "n_classes = len(df['label'].unique())\n",
        "n_classes"
      ]
    },
    {
      "cell_type": "code",
      "execution_count": null,
      "metadata": {
        "id": "yy-TMjNMFlYE",
        "colab": {
          "base_uri": "https://localhost:8080/"
        },
        "outputId": "302a3740-a7af-4e5c-afa9-0607b2d182e7"
      },
      "outputs": [
        {
          "output_type": "execute_result",
          "data": {
            "text/plain": [
              "1.0    33243\n",
              "0.0    33189\n",
              "Name: label, dtype: int64"
            ]
          },
          "metadata": {},
          "execution_count": 25
        }
      ],
      "source": [
        "df['label'].value_counts()"
      ]
    },
    {
      "cell_type": "code",
      "execution_count": null,
      "metadata": {
        "id": "5R3UdIdWn6qF"
      },
      "outputs": [],
      "source": [
        "partition = (len(df)*3)//4\n",
        "tailpp = 1+(len(df))//4"
      ]
    },
    {
      "cell_type": "code",
      "execution_count": null,
      "metadata": {
        "id": "dIWcJh2U6H_z"
      },
      "outputs": [],
      "source": [
        "# dftrain = df.head(partition)\n",
        "# dftest = (df.tail(tailpp)).reset_index(drop=True)\n",
        "dftrain = df\n",
        "dftest = pd.read_csv(\"sup_test.csv\")"
      ]
    },
    {
      "cell_type": "code",
      "execution_count": null,
      "metadata": {
        "id": "2K3KCUKu6pKB",
        "colab": {
          "base_uri": "https://localhost:8080/"
        },
        "outputId": "cfee5d7d-9af6-48d0-ab0e-7949a6c835ba"
      },
      "outputs": [
        {
          "output_type": "execute_result",
          "data": {
            "text/plain": [
              "1.0    33243\n",
              "0.0    33189\n",
              "Name: label, dtype: int64"
            ]
          },
          "metadata": {},
          "execution_count": 28
        }
      ],
      "source": [
        "dftrain['label'].value_counts()"
      ]
    },
    {
      "cell_type": "code",
      "execution_count": null,
      "metadata": {
        "id": "Mskq5dqfDLLT",
        "colab": {
          "base_uri": "https://localhost:8080/"
        },
        "outputId": "76305f0f-99bd-49f2-b3ee-c18b860cb639"
      },
      "outputs": [
        {
          "output_type": "execute_result",
          "data": {
            "text/plain": [
              "66432"
            ]
          },
          "metadata": {},
          "execution_count": 29
        }
      ],
      "source": [
        "len(dftrain)"
      ]
    },
    {
      "cell_type": "code",
      "execution_count": null,
      "metadata": {
        "id": "S8_beTdu6tU9",
        "colab": {
          "base_uri": "https://localhost:8080/"
        },
        "outputId": "aa289a95-f8d4-4d97-f950-a08210c0d1a3"
      },
      "outputs": [
        {
          "output_type": "execute_result",
          "data": {
            "text/plain": [
              "0.0    8331\n",
              "1.0    8277\n",
              "Name: label, dtype: int64"
            ]
          },
          "metadata": {},
          "execution_count": 30
        }
      ],
      "source": [
        "dftest['label'].value_counts()"
      ]
    },
    {
      "cell_type": "code",
      "execution_count": null,
      "metadata": {
        "id": "E3bZvh9FVj0t",
        "colab": {
          "base_uri": "https://localhost:8080/"
        },
        "outputId": "dafdf5a7-41dc-4838-aca9-02cb04cf8f36"
      },
      "outputs": [
        {
          "output_type": "execute_result",
          "data": {
            "text/plain": [
              "65075"
            ]
          },
          "metadata": {},
          "execution_count": 31
        }
      ],
      "source": [
        "from torch.utils.data import Dataset\n",
        "\n",
        "class NumbersDataset(Dataset):\n",
        "    def __init__(self,filename):\n",
        "        datat = dftrain\n",
        "        \n",
        "        self.samples = list(range(2*len(datat)))\n",
        "        self.label = list(range(2*len(datat)))\n",
        "        self.sz = 0\n",
        "        idx = 0\n",
        "        for index in range(len(datat)) :\n",
        "          str1 = datat['Drug1_ID'][index]\n",
        "          str2 = datat['Drug2_ID'][index]\n",
        "\n",
        "          if (str1 in dictval) and (str2 in dictval) :\n",
        "            loop = 0\n",
        "            if datat['label'][index]==0 :\n",
        "              loop = 0\n",
        "            elif datat['label'][index]==1 :\n",
        "              loop = 0\n",
        "            else :\n",
        "              loop = 0\n",
        "\n",
        "            mat1 = dictval[str1][0]\n",
        "            mat2 = dictval[str2][0]\n",
        "            mean1 = torch.mean(mat1, axis = 0)\n",
        "            std1 = torch.std(mat1, axis = 0)\n",
        "            mean2 = torch.mean(mat2, axis = 0)\n",
        "            std2 = torch.std(mat2, axis = 0)\n",
        "            vect = torch.cat([mean1, mean2, std1, std2], dim=0)\n",
        "            self.samples[idx] = vect.detach().cpu()\n",
        "            self.label[idx] = datat['label'][index]\n",
        "            self.label[idx] = torch.tensor(self.label[idx], dtype=torch.int64)\n",
        "            idx+=1\n",
        "            for genvar in range(0,loop) : \n",
        "              eps = torch.randn_like(dictval[str1][1])\n",
        "              std = torch.exp(dictval[str1][1])\n",
        "              mat1 = eps.mul(std).add_(dictval[str1][0])\n",
        "              eps = torch.randn_like(dictval[str2][1])\n",
        "              std = torch.exp(dictval[str2][1])\n",
        "              mat2 = eps.mul(std).add_(dictval[str2][0])\n",
        "              mean1 = torch.mean(mat1, axis = 0)\n",
        "              std1 = torch.std(mat1, axis = 0)\n",
        "              mean2 = torch.mean(mat2, axis = 0)\n",
        "              std2 = torch.std(mat2, axis = 0)\n",
        "              vect = torch.cat([mean1, mean2, std1, std2], dim=0)\n",
        "              self.samples[idx] = vect.detach().cpu()\n",
        "              self.label[idx] = datat['label'][index]\n",
        "              self.label[idx] = torch.tensor(self.label[idx], dtype=torch.int64)\n",
        "              idx+=1\n",
        "        self.sz = idx\n",
        "\n",
        "\n",
        "    def __len__(self):\n",
        "        return self.sz\n",
        "\n",
        "    def __getitem__(self, idx):\n",
        "        return self.samples[idx],self.label[idx]\n",
        "\n",
        "dataset = NumbersDataset(\"sup_train_val.csv\")\n",
        "len(dataset)"
      ]
    },
    {
      "cell_type": "code",
      "execution_count": null,
      "metadata": {
        "id": "U9rLSmO6kHb7"
      },
      "outputs": [],
      "source": [
        ""
      ]
    },
    {
      "cell_type": "code",
      "execution_count": null,
      "metadata": {
        "id": "B5WOAPZ72klb",
        "colab": {
          "base_uri": "https://localhost:8080/"
        },
        "outputId": "01d1547b-3471-4647-c123-85dad1199f19"
      },
      "outputs": [
        {
          "output_type": "execute_result",
          "data": {
            "text/plain": [
              "tuple"
            ]
          },
          "metadata": {},
          "execution_count": 32
        }
      ],
      "source": [
        "type(dataset[0])"
      ]
    },
    {
      "cell_type": "code",
      "execution_count": null,
      "metadata": {
        "id": "7CDyDAXd8Gt9",
        "colab": {
          "base_uri": "https://localhost:8080/"
        },
        "outputId": "33fb9e9b-04a8-4713-dfc2-830112d653a0"
      },
      "outputs": [
        {
          "output_type": "execute_result",
          "data": {
            "text/plain": [
              "32"
            ]
          },
          "metadata": {},
          "execution_count": 33
        }
      ],
      "source": [
        "data = dataset\n",
        "data[0][0].shape[0]"
      ]
    },
    {
      "cell_type": "code",
      "execution_count": null,
      "metadata": {
        "id": "R0UQvDj_TjdJ",
        "colab": {
          "base_uri": "https://localhost:8080/"
        },
        "outputId": "9fdbe57c-ac3f-4849-80d7-88983bf69136"
      },
      "outputs": [
        {
          "output_type": "execute_result",
          "data": {
            "text/plain": [
              "tensor(1)"
            ]
          },
          "metadata": {},
          "execution_count": 34
        }
      ],
      "source": [
        "data[0][1]"
      ]
    },
    {
      "cell_type": "code",
      "execution_count": null,
      "metadata": {
        "id": "TXNCCatS4cfg",
        "colab": {
          "base_uri": "https://localhost:8080/"
        },
        "outputId": "d1901edd-fab9-4b0a-d847-18e21b1a57ed"
      },
      "outputs": [
        {
          "output_type": "stream",
          "name": "stdout",
          "text": [
            "NeuralNet(\n",
            "  (fc1): Linear(in_features=32, out_features=128, bias=True)\n",
            "  (relu): ReLU()\n",
            "  (fc2): Linear(in_features=128, out_features=2, bias=True)\n",
            ")\n",
            "Number of parameters:  4482\n"
          ]
        }
      ],
      "source": [
        "import torch.nn.functional as F \n",
        "\n",
        "\n",
        "class NeuralNet(torch.nn.Module):\n",
        "    def __init__(self, input_size, hidden_size):\n",
        "        super(NeuralNet, self).__init__()\n",
        "        self.input_size = input_size\n",
        "        self.hidden_size  = hidden_size\n",
        "        self.fc1 = torch.nn.Linear(self.input_size, self.hidden_size)\n",
        "        self.relu = torch.nn.ReLU()\n",
        "        self.fc2 = torch.nn.Linear(self.hidden_size, n_classes)\n",
        "        \n",
        "    def forward(self, x):\n",
        "        x = self.fc1(x)\n",
        "        x = self.relu(x)\n",
        "        x = self.fc2(x)\n",
        "        x = F.softmax(x, dim=1)\n",
        "        return x\n",
        "model_ff = NeuralNet(data[0][0].shape[0],128)\n",
        "print(model_ff)\n",
        "print(\"Number of parameters: \", sum(p.numel() for p in model_ff.parameters()))"
      ]
    },
    {
      "cell_type": "code",
      "execution_count": null,
      "metadata": {
        "id": "pV-miKcqF7jW"
      },
      "outputs": [],
      "source": [
        "# import torch.nn.functional as F \n",
        "\n",
        "\n",
        "# class NeuralNet(torch.nn.Module):\n",
        "#     def __init__(self, input_size, hidden_size):\n",
        "#         super(NeuralNet, self).__init__()\n",
        "#         self.input_size = input_size\n",
        "#         self.hidden_size  = hidden_size\n",
        "#         self.fc1 = torch.nn.Linear(self.input_size, self.hidden_size)\n",
        "#         self.relu = torch.nn.ReLU()\n",
        "#         self.fc2 = torch.nn.Linear(self.hidden_size, self.hidden_size)\n",
        "#         self.fc3 = torch.nn.Linear(self.hidden_size, n_classes)\n",
        "        \n",
        "#     def forward(self, x):\n",
        "#         x = self.fc1(x)\n",
        "#         x = self.relu(x)\n",
        "#         x = self.fc2(x)\n",
        "#         x = self.relu(x)\n",
        "#         x = self.fc3(x)\n",
        "#         x = F.softmax(x, dim=1)\n",
        "#         return x\n",
        "# model_ff = NeuralNet(data[0][0].shape[0],64)\n",
        "# print(model_ff)\n",
        "# #print(\"Number of parameters: \", sum(p.numel() for p in model_ff.parameters()))"
      ]
    },
    {
      "cell_type": "code",
      "execution_count": null,
      "metadata": {
        "id": "lirhMXnrVwJ9"
      },
      "outputs": [],
      "source": [
        "device\n",
        "\n",
        "model_ff = model_ff.to(device)"
      ]
    },
    {
      "cell_type": "code",
      "execution_count": null,
      "metadata": {
        "id": "AQr-TU1A7jw_",
        "colab": {
          "base_uri": "https://localhost:8080/"
        },
        "outputId": "1881489d-80f5-4337-bdd2-5eb22a1f97ad"
      },
      "outputs": [
        {
          "output_type": "stream",
          "name": "stdout",
          "text": [
            "Starting training...\n",
            "Epoch 0 | Train Loss 0.37093666195869446\n",
            "Epoch 50 | Train Loss 0.3682023584842682\n",
            "Epoch 100 | Train Loss 0.3299240171909332\n"
          ]
        }
      ],
      "source": [
        "from torch_geometric.data import DataLoader\n",
        "import warnings\n",
        "warnings.filterwarnings(\"ignore\")\n",
        "\n",
        "\n",
        "loss_fn = nn.CrossEntropyLoss()\n",
        "optimizer = torch.optim.Adam(model_ff.parameters(), lr=0.001)  \n",
        "\n",
        "loss_fn = loss_fn.to(device)\n",
        "\n",
        "# Wrap data in a data loader\n",
        "data_size = len(data)\n",
        "NUM_GRAPHS_PER_BATCH = 128\n",
        "loader = DataLoader(data,batch_size=NUM_GRAPHS_PER_BATCH, shuffle=True)\n",
        "\n",
        "\n",
        "\n",
        "def train(data):\n",
        "    for batch in loader:\n",
        "      # Use GPU\n",
        "      \n",
        "      batch[0] = batch[0].to(device) \n",
        "      batch[1] = batch[1].to(device)  \n",
        "      # Reset gradients\n",
        "      optimizer.zero_grad() \n",
        "      # Passing the node features and the connection info\n",
        "      pred = model_ff(batch[0]) \n",
        "      \n",
        "      loss = (loss_fn(pred, batch[1]))      \n",
        "      loss.backward()  \n",
        "      # Update using the gradients\n",
        "      optimizer.step()   \n",
        "    return loss\n",
        "\n",
        "print(\"Starting training...\")\n",
        "losses = []\n",
        "for epoch in range(101):\n",
        "    loss = train(data)\n",
        "    losses.append(loss)\n",
        "    if epoch % 50 == 0:\n",
        "      print(f\"Epoch {epoch} | Train Loss {loss}\")"
      ]
    },
    {
      "cell_type": "code",
      "execution_count": null,
      "metadata": {
        "id": "796GCsqc8-l3",
        "colab": {
          "base_uri": "https://localhost:8080/",
          "height": 283
        },
        "outputId": "8b470d7c-cda5-4505-8d86-06b6a17eae1b"
      },
      "outputs": [
        {
          "output_type": "execute_result",
          "data": {
            "text/plain": [
              "<matplotlib.axes._subplots.AxesSubplot at 0x7f291a4232d0>"
            ]
          },
          "metadata": {},
          "execution_count": 56
        },
        {
          "output_type": "display_data",
          "data": {
            "text/plain": [
              "<Figure size 432x288 with 1 Axes>"
            ],
            "image/png": "[encoded data removed]"
          },
          "metadata": {
            "needs_background": "light"
          }
        }
      ],
      "source": [
        "# Visualize learning (training loss)\n",
        "import seaborn as sns\n",
        "losses_float = [float(loss.cpu().detach().numpy()) for loss in losses] \n",
        "loss_indices = [i for i,l in enumerate(losses_float)] \n",
        "plt = sns.lineplot(loss_indices, losses_float)\n",
        "plt"
      ]
    },
    {
      "cell_type": "code",
      "execution_count": null,
      "metadata": {
        "id": "g7zMZ_OZnzqU"
      },
      "outputs": [],
      "source": [
        ""
      ]
    },
    {
      "cell_type": "code",
      "execution_count": null,
      "metadata": {
        "id": "ZiazZ2qe8zVT",
        "colab": {
          "base_uri": "https://localhost:8080/"
        },
        "outputId": "6d65f107-04b9-421a-f726-dcfd01a24e63"
      },
      "outputs": [
        {
          "output_type": "execute_result",
          "data": {
            "text/plain": [
              "16234"
            ]
          },
          "metadata": {},
          "execution_count": 57
        }
      ],
      "source": [
        "\n",
        "\n",
        "class TestDataset(Dataset):\n",
        "    def __init__(self,filename):\n",
        "        datat = dftest\n",
        "        #datat = datat.tail(tailpp).reset_index(drop=True)\n",
        "       \n",
        "        self.samples = list(range(len(datat)))\n",
        "        self.label = list(range(len(datat)))\n",
        "        self.sz = 0\n",
        "        idx = 0\n",
        "        for index in range(len(datat)) :\n",
        "          str1 = datat['Drug1_ID'][index]\n",
        "          str2 = datat['Drug2_ID'][index]\n",
        "\n",
        "          \n",
        "          if (str1 in dictval) and (str2 in dictval) :\n",
        "            mat1 = dictval[str1][0]\n",
        "            mat2 = dictval[str2][0]\n",
        "            mean1 = torch.mean(mat1, axis = 0)\n",
        "            std1 = torch.std(mat1, axis = 0)\n",
        "            mean2 = torch.mean(mat2, axis = 0)\n",
        "            std2 = torch.std(mat2, axis = 0)\n",
        "            vect = torch.cat([mean1, mean2, std1, std2], dim=0)\n",
        "            self.samples[idx] = vect.detach().cpu()\n",
        "            self.label[idx] = datat['label'][index]\n",
        "            self.label[idx] = torch.tensor(self.label[idx], dtype=torch.int64)\n",
        "            idx+=1\n",
        "        self.sz = idx\n",
        "\n",
        "\n",
        "    def __len__(self):\n",
        "        return self.sz\n",
        "\n",
        "    def __getitem__(self, idx):\n",
        "        return self.samples[idx],self.label[idx]\n",
        "\n",
        "datatest = TestDataset(\"sup_test.csv\")\n",
        "len(datatest)"
      ]
    },
    {
      "cell_type": "code",
      "execution_count": null,
      "metadata": {
        "id": "6E5qdBNtRew3",
        "colab": {
          "base_uri": "https://localhost:8080/",
          "height": 221
        },
        "outputId": "2a2a5900-e6c6-45de-fc06-2af693ea0a55"
      },
      "outputs": [
        {
          "output_type": "stream",
          "name": "stdout",
          "text": [
            "0.8848100805002301\n"
          ]
        },
        {
          "output_type": "execute_result",
          "data": {
            "text/plain": [
              "      y_real y_pred  y_predfrac0   y_predfrac1\n",
              "16229      0      0     0.999772  2.275815e-04\n",
              "16230      1      1     0.000768  9.992323e-01\n",
              "16231      0      0     0.998953  1.047230e-03\n",
              "16232      0      0     1.000000  1.543902e-11\n",
              "16233      0      0     0.903987  9.601291e-02"
            ],
            "text/html": [
              "\n",
              "  <div id=\"df-1e5b9a3e-261d-4161-8f0c-b3ad45042d68\">\n",
              "    <div class=\"colab-df-container\">\n",
              "      <div>\n",
              "<style scoped>\n",
              "    .dataframe tbody tr th:only-of-type {\n",
              "        vertical-align: middle;\n",
              "    }\n",
              "\n",
              "    .dataframe tbody tr th {\n",
              "        vertical-align: top;\n",
              "    }\n",
              "\n",
              "    .dataframe thead th {\n",
              "        text-align: right;\n",
              "    }\n",
              "</style>\n",
              "<table border=\"1\" class=\"dataframe\">\n",
              "  <thead>\n",
              "    <tr style=\"text-align: right;\">\n",
              "      <th></th>\n",
              "      <th>y_real</th>\n",
              "      <th>y_pred</th>\n",
              "      <th>y_predfrac0</th>\n",
              "      <th>y_predfrac1</th>\n",
              "    </tr>\n",
              "  </thead>\n",
              "  <tbody>\n",
              "    <tr>\n",
              "      <th>16229</th>\n",
              "      <td>0</td>\n",
              "      <td>0</td>\n",
              "      <td>0.999772</td>\n",
              "      <td>2.275815e-04</td>\n",
              "    </tr>\n",
              "    <tr>\n",
              "      <th>16230</th>\n",
              "      <td>1</td>\n",
              "      <td>1</td>\n",
              "      <td>0.000768</td>\n",
              "      <td>9.992323e-01</td>\n",
              "    </tr>\n",
              "    <tr>\n",
              "      <th>16231</th>\n",
              "      <td>0</td>\n",
              "      <td>0</td>\n",
              "      <td>0.998953</td>\n",
              "      <td>1.047230e-03</td>\n",
              "    </tr>\n",
              "    <tr>\n",
              "      <th>16232</th>\n",
              "      <td>0</td>\n",
              "      <td>0</td>\n",
              "      <td>1.000000</td>\n",
              "      <td>1.543902e-11</td>\n",
              "    </tr>\n",
              "    <tr>\n",
              "      <th>16233</th>\n",
              "      <td>0</td>\n",
              "      <td>0</td>\n",
              "      <td>0.903987</td>\n",
              "      <td>9.601291e-02</td>\n",
              "    </tr>\n",
              "  </tbody>\n",
              "</table>\n",
              "</div>\n",
              "      <button class=\"colab-df-convert\" onclick=\"convertToInteractive('df-1e5b9a3e-261d-4161-8f0c-b3ad45042d68')\"\n",
              "              title=\"Convert this dataframe to an interactive table.\"\n",
              "              style=\"display:none;\">\n",
              "        \n",
              "  <svg xmlns=\"http://www.w3.org/2000/svg\" height=\"24px\"viewBox=\"0 0 24 24\"\n",
              "       width=\"24px\">\n",
              "    <path d=\"M0 0h24v24H0V0z\" fill=\"none\"/>\n",
              "    <path d=\"M18.56 5.44l.94 2.06.94-2.06 2.06-.94-2.06-.94-.94-2.06-.94 2.06-2.06.94zm-11 1L8.5 8.5l.94-2.06 2.06-.94-2.06-.94L8.5 2.5l-.94 2.06-2.06.94zm10 10l.94 2.06.94-2.06 2.06-.94-2.06-.94-.94-2.06-.94 2.06-2.06.94z\"/><path d=\"M17.41 7.96l-1.37-1.37c-.4-.4-.92-.59-1.43-.59-.52 0-1.04.2-1.43.59L10.3 9.45l-7.72 7.72c-.78.78-.78 2.05 0 2.83L4 21.41c.39.39.9.59 1.41.59.51 0 1.02-.2 1.41-.59l7.78-7.78 2.81-2.81c.8-.78.8-2.07 0-2.86zM5.41 20L4 18.59l7.72-7.72 1.47 1.35L5.41 20z\"/>\n",
              "  </svg>\n",
              "      </button>\n",
              "      \n",
              "  <style>\n",
              "    .colab-df-container {\n",
              "      display:flex;\n",
              "      flex-wrap:wrap;\n",
              "      gap: 12px;\n",
              "    }\n",
              "\n",
              "    .colab-df-convert {\n",
              "      background-color: #E8F0FE;\n",
              "      border: none;\n",
              "      border-radius: 50%;\n",
              "      cursor: pointer;\n",
              "      display: none;\n",
              "      fill: #1967D2;\n",
              "      height: 32px;\n",
              "      padding: 0 0 0 0;\n",
              "      width: 32px;\n",
              "    }\n",
              "\n",
              "    .colab-df-convert:hover {\n",
              "      background-color: #E2EBFA;\n",
              "      box-shadow: 0px 1px 2px rgba(60, 64, 67, 0.3), 0px 1px 3px 1px rgba(60, 64, 67, 0.15);\n",
              "      fill: #174EA6;\n",
              "    }\n",
              "\n",
              "    [theme=dark] .colab-df-convert {\n",
              "      background-color: #3B4455;\n",
              "      fill: #D2E3FC;\n",
              "    }\n",
              "\n",
              "    [theme=dark] .colab-df-convert:hover {\n",
              "      background-color: #434B5C;\n",
              "      box-shadow: 0px 1px 3px 1px rgba(0, 0, 0, 0.15);\n",
              "      filter: drop-shadow(0px 1px 2px rgba(0, 0, 0, 0.3));\n",
              "      fill: #FFFFFF;\n",
              "    }\n",
              "  </style>\n",
              "\n",
              "      <script>\n",
              "        const buttonEl =\n",
              "          document.querySelector('#df-1e5b9a3e-261d-4161-8f0c-b3ad45042d68 button.colab-df-convert');\n",
              "        buttonEl.style.display =\n",
              "          google.colab.kernel.accessAllowed ? 'block' : 'none';\n",
              "\n",
              "        async function convertToInteractive(key) {\n",
              "          const element = document.querySelector('#df-1e5b9a3e-261d-4161-8f0c-b3ad45042d68');\n",
              "          const dataTable =\n",
              "            await google.colab.kernel.invokeFunction('convertToInteractive',\n",
              "                                                     [key], {});\n",
              "          if (!dataTable) return;\n",
              "\n",
              "          const docLinkHtml = 'Like what you see? Visit the ' +\n",
              "            '<a target=\"_blank\" href=https://colab.research.google.com/notebooks/data_table.ipynb>data table notebook</a>'\n",
              "            + ' to learn more about interactive tables.';\n",
              "          element.innerHTML = '';\n",
              "          dataTable['output_type'] = 'display_data';\n",
              "          await google.colab.output.renderOutput(dataTable, element);\n",
              "          const docLink = document.createElement('div');\n",
              "          docLink.innerHTML = docLinkHtml;\n",
              "          element.appendChild(docLink);\n",
              "        }\n",
              "      </script>\n",
              "    </div>\n",
              "  </div>\n",
              "  "
            ]
          },
          "metadata": {},
          "execution_count": 58
        }
      ],
      "source": [
        "import pandas as pd \n",
        "from sklearn.metrics import f1_score\n",
        "from sklearn.metrics import confusion_matrix\n",
        "import math\n",
        "\n",
        "test_loader = DataLoader(datatest,batch_size=len(datatest), shuffle=True)\n",
        "dffull = pd.DataFrame(columns = ['y_real','y_pred'])\n",
        "with torch.no_grad():\n",
        "    for test_batch in test_loader : \n",
        "      test_batch[0] = test_batch[0].to(device)\n",
        "      test_batch[1] = test_batch[1].to(device)\n",
        "      pred = model_ff(test_batch[0]) \n",
        "      pred_frac0 = pred[:,0]\n",
        "      pred_frac1 = pred[:,1]\n",
        "      if n_classes == 3 : \n",
        "        pred_frac2 = pred[:,2]\n",
        "      pred = pred.argmax(dim=1)  \n",
        "      dftt = pd.DataFrame()\n",
        "      dftt[\"y_real\"] = test_batch[1].tolist()\n",
        "      dftt[\"y_pred\"] = pred.tolist()\n",
        "      dftt[\"y_predfrac0\"] = pred_frac0.tolist()\n",
        "      dftt[\"y_predfrac1\"] = pred_frac1.tolist()\n",
        "      if n_classes == 3 : \n",
        "        dftt[\"y_predfrac2\"] = pred_frac2.tolist()\n",
        "      dffull = dffull.append(dftt)\n",
        "      print(f1_score(dftt['y_real'], dftt['y_pred'],average='macro'))\n",
        "\n",
        "dffull.to_csv('tt.csv')\n",
        "dffull.tail()"
      ]
    },
    {
      "cell_type": "code",
      "execution_count": null,
      "metadata": {
        "id": "pvUqpVggR0ZN",
        "colab": {
          "base_uri": "https://localhost:8080/"
        },
        "outputId": "60ffac8a-c6d0-429b-f92e-3dd2d55a0a9b"
      },
      "outputs": [
        {
          "output_type": "stream",
          "name": "stdout",
          "text": [
            "0.8848100805002301\n",
            "0.8849328569668596\n",
            "0.8849328569668596\n"
          ]
        },
        {
          "output_type": "execute_result",
          "data": {
            "text/plain": [
              "array([[7448,  661],\n",
              "       [1207, 6918]])"
            ]
          },
          "metadata": {},
          "execution_count": 59
        }
      ],
      "source": [
        "from sklearn.metrics import accuracy_score,balanced_accuracy_score\n",
        "\n",
        "datahead = pd.read_csv('tt.csv')\n",
        "print(f1_score(datahead['y_real'], datahead['y_pred'],average='macro'))\n",
        "print(f1_score(datahead['y_real'], datahead['y_pred'],average='micro'))\n",
        "print(accuracy_score(datahead['y_real'], datahead['y_pred']))\n",
        "\n",
        "confusion_matrix(datahead['y_real'], datahead['y_pred'])"
      ]
    },
    {
      "cell_type": "code",
      "execution_count": null,
      "metadata": {
        "id": "c50ifLwqB9iM",
        "colab": {
          "base_uri": "https://localhost:8080/",
          "height": 204
        },
        "outputId": "8c3eb088-a246-4fe1-d12f-c7bfc3caad23"
      },
      "outputs": [
        {
          "output_type": "execute_result",
          "data": {
            "text/plain": [
              "   Unnamed: 0  y_real  y_pred  y_predfrac0   y_predfrac1\n",
              "0           0       1       1     0.005667  9.943333e-01\n",
              "1           1       0       0     1.000000  1.800673e-09\n",
              "2           2       0       0     1.000000  5.543688e-11\n",
              "3           3       1       1     0.054236  9.457642e-01\n",
              "4           4       0       0     0.999689  3.106170e-04"
            ],
            "text/html": [
              "\n",
              "  <div id=\"df-900b07b4-a3e9-49f5-9827-450ac7f5683e\">\n",
              "    <div class=\"colab-df-container\">\n",
              "      <div>\n",
              "<style scoped>\n",
              "    .dataframe tbody tr th:only-of-type {\n",
              "        vertical-align: middle;\n",
              "    }\n",
              "\n",
              "    .dataframe tbody tr th {\n",
              "        vertical-align: top;\n",
              "    }\n",
              "\n",
              "    .dataframe thead th {\n",
              "        text-align: right;\n",
              "    }\n",
              "</style>\n",
              "<table border=\"1\" class=\"dataframe\">\n",
              "  <thead>\n",
              "    <tr style=\"text-align: right;\">\n",
              "      <th></th>\n",
              "      <th>Unnamed: 0</th>\n",
              "      <th>y_real</th>\n",
              "      <th>y_pred</th>\n",
              "      <th>y_predfrac0</th>\n",
              "      <th>y_predfrac1</th>\n",
              "    </tr>\n",
              "  </thead>\n",
              "  <tbody>\n",
              "    <tr>\n",
              "      <th>0</th>\n",
              "      <td>0</td>\n",
              "      <td>1</td>\n",
              "      <td>1</td>\n",
              "      <td>0.005667</td>\n",
              "      <td>9.943333e-01</td>\n",
              "    </tr>\n",
              "    <tr>\n",
              "      <th>1</th>\n",
              "      <td>1</td>\n",
              "      <td>0</td>\n",
              "      <td>0</td>\n",
              "      <td>1.000000</td>\n",
              "      <td>1.800673e-09</td>\n",
              "    </tr>\n",
              "    <tr>\n",
              "      <th>2</th>\n",
              "      <td>2</td>\n",
              "      <td>0</td>\n",
              "      <td>0</td>\n",
              "      <td>1.000000</td>\n",
              "      <td>5.543688e-11</td>\n",
              "    </tr>\n",
              "    <tr>\n",
              "      <th>3</th>\n",
              "      <td>3</td>\n",
              "      <td>1</td>\n",
              "      <td>1</td>\n",
              "      <td>0.054236</td>\n",
              "      <td>9.457642e-01</td>\n",
              "    </tr>\n",
              "    <tr>\n",
              "      <th>4</th>\n",
              "      <td>4</td>\n",
              "      <td>0</td>\n",
              "      <td>0</td>\n",
              "      <td>0.999689</td>\n",
              "      <td>3.106170e-04</td>\n",
              "    </tr>\n",
              "  </tbody>\n",
              "</table>\n",
              "</div>\n",
              "      <button class=\"colab-df-convert\" onclick=\"convertToInteractive('df-900b07b4-a3e9-49f5-9827-450ac7f5683e')\"\n",
              "              title=\"Convert this dataframe to an interactive table.\"\n",
              "              style=\"display:none;\">\n",
              "        \n",
              "  <svg xmlns=\"http://www.w3.org/2000/svg\" height=\"24px\"viewBox=\"0 0 24 24\"\n",
              "       width=\"24px\">\n",
              "    <path d=\"M0 0h24v24H0V0z\" fill=\"none\"/>\n",
              "    <path d=\"M18.56 5.44l.94 2.06.94-2.06 2.06-.94-2.06-.94-.94-2.06-.94 2.06-2.06.94zm-11 1L8.5 8.5l.94-2.06 2.06-.94-2.06-.94L8.5 2.5l-.94 2.06-2.06.94zm10 10l.94 2.06.94-2.06 2.06-.94-2.06-.94-.94-2.06-.94 2.06-2.06.94z\"/><path d=\"M17.41 7.96l-1.37-1.37c-.4-.4-.92-.59-1.43-.59-.52 0-1.04.2-1.43.59L10.3 9.45l-7.72 7.72c-.78.78-.78 2.05 0 2.83L4 21.41c.39.39.9.59 1.41.59.51 0 1.02-.2 1.41-.59l7.78-7.78 2.81-2.81c.8-.78.8-2.07 0-2.86zM5.41 20L4 18.59l7.72-7.72 1.47 1.35L5.41 20z\"/>\n",
              "  </svg>\n",
              "      </button>\n",
              "      \n",
              "  <style>\n",
              "    .colab-df-container {\n",
              "      display:flex;\n",
              "      flex-wrap:wrap;\n",
              "      gap: 12px;\n",
              "    }\n",
              "\n",
              "    .colab-df-convert {\n",
              "      background-color: #E8F0FE;\n",
              "      border: none;\n",
              "      border-radius: 50%;\n",
              "      cursor: pointer;\n",
              "      display: none;\n",
              "      fill: #1967D2;\n",
              "      height: 32px;\n",
              "      padding: 0 0 0 0;\n",
              "      width: 32px;\n",
              "    }\n",
              "\n",
              "    .colab-df-convert:hover {\n",
              "      background-color: #E2EBFA;\n",
              "      box-shadow: 0px 1px 2px rgba(60, 64, 67, 0.3), 0px 1px 3px 1px rgba(60, 64, 67, 0.15);\n",
              "      fill: #174EA6;\n",
              "    }\n",
              "\n",
              "    [theme=dark] .colab-df-convert {\n",
              "      background-color: #3B4455;\n",
              "      fill: #D2E3FC;\n",
              "    }\n",
              "\n",
              "    [theme=dark] .colab-df-convert:hover {\n",
              "      background-color: #434B5C;\n",
              "      box-shadow: 0px 1px 3px 1px rgba(0, 0, 0, 0.15);\n",
              "      filter: drop-shadow(0px 1px 2px rgba(0, 0, 0, 0.3));\n",
              "      fill: #FFFFFF;\n",
              "    }\n",
              "  </style>\n",
              "\n",
              "      <script>\n",
              "        const buttonEl =\n",
              "          document.querySelector('#df-900b07b4-a3e9-49f5-9827-450ac7f5683e button.colab-df-convert');\n",
              "        buttonEl.style.display =\n",
              "          google.colab.kernel.accessAllowed ? 'block' : 'none';\n",
              "\n",
              "        async function convertToInteractive(key) {\n",
              "          const element = document.querySelector('#df-900b07b4-a3e9-49f5-9827-450ac7f5683e');\n",
              "          const dataTable =\n",
              "            await google.colab.kernel.invokeFunction('convertToInteractive',\n",
              "                                                     [key], {});\n",
              "          if (!dataTable) return;\n",
              "\n",
              "          const docLinkHtml = 'Like what you see? Visit the ' +\n",
              "            '<a target=\"_blank\" href=https://colab.research.google.com/notebooks/data_table.ipynb>data table notebook</a>'\n",
              "            + ' to learn more about interactive tables.';\n",
              "          element.innerHTML = '';\n",
              "          dataTable['output_type'] = 'display_data';\n",
              "          await google.colab.output.renderOutput(dataTable, element);\n",
              "          const docLink = document.createElement('div');\n",
              "          docLink.innerHTML = docLinkHtml;\n",
              "          element.appendChild(docLink);\n",
              "        }\n",
              "      </script>\n",
              "    </div>\n",
              "  </div>\n",
              "  "
            ]
          },
          "metadata": {},
          "execution_count": 60
        }
      ],
      "source": [
        "datahead.head()"
      ]
    },
    {
      "cell_type": "code",
      "execution_count": null,
      "metadata": {
        "id": "3j0Vt_6rTU4F"
      },
      "outputs": [],
      "source": [
        "from sklearn.metrics import roc_curve\n",
        "from sklearn.metrics import roc_auc_score\n",
        "from sklearn.metrics import precision_recall_curve\n",
        "from matplotlib import pyplot\n",
        "from sklearn import metrics"
      ]
    },
    {
      "cell_type": "code",
      "execution_count": null,
      "metadata": {
        "id": "eLtbd3M3lacF",
        "colab": {
          "base_uri": "https://localhost:8080/",
          "height": 204
        },
        "outputId": "210e9693-4047-4ca5-ae9d-b537ce835e53"
      },
      "outputs": [
        {
          "output_type": "execute_result",
          "data": {
            "text/plain": [
              "   y_predfrac0   y_predfrac1\n",
              "0     0.005667  9.943333e-01\n",
              "1     1.000000  1.800673e-09\n",
              "2     1.000000  5.543688e-11\n",
              "3     0.054236  9.457642e-01\n",
              "4     0.999689  3.106170e-04"
            ],
            "text/html": [
              "\n",
              "  <div id=\"df-3f67c6b6-381e-4c62-baab-b46ea78ecaa3\">\n",
              "    <div class=\"colab-df-container\">\n",
              "      <div>\n",
              "<style scoped>\n",
              "    .dataframe tbody tr th:only-of-type {\n",
              "        vertical-align: middle;\n",
              "    }\n",
              "\n",
              "    .dataframe tbody tr th {\n",
              "        vertical-align: top;\n",
              "    }\n",
              "\n",
              "    .dataframe thead th {\n",
              "        text-align: right;\n",
              "    }\n",
              "</style>\n",
              "<table border=\"1\" class=\"dataframe\">\n",
              "  <thead>\n",
              "    <tr style=\"text-align: right;\">\n",
              "      <th></th>\n",
              "      <th>y_predfrac0</th>\n",
              "      <th>y_predfrac1</th>\n",
              "    </tr>\n",
              "  </thead>\n",
              "  <tbody>\n",
              "    <tr>\n",
              "      <th>0</th>\n",
              "      <td>0.005667</td>\n",
              "      <td>9.943333e-01</td>\n",
              "    </tr>\n",
              "    <tr>\n",
              "      <th>1</th>\n",
              "      <td>1.000000</td>\n",
              "      <td>1.800673e-09</td>\n",
              "    </tr>\n",
              "    <tr>\n",
              "      <th>2</th>\n",
              "      <td>1.000000</td>\n",
              "      <td>5.543688e-11</td>\n",
              "    </tr>\n",
              "    <tr>\n",
              "      <th>3</th>\n",
              "      <td>0.054236</td>\n",
              "      <td>9.457642e-01</td>\n",
              "    </tr>\n",
              "    <tr>\n",
              "      <th>4</th>\n",
              "      <td>0.999689</td>\n",
              "      <td>3.106170e-04</td>\n",
              "    </tr>\n",
              "  </tbody>\n",
              "</table>\n",
              "</div>\n",
              "      <button class=\"colab-df-convert\" onclick=\"convertToInteractive('df-3f67c6b6-381e-4c62-baab-b46ea78ecaa3')\"\n",
              "              title=\"Convert this dataframe to an interactive table.\"\n",
              "              style=\"display:none;\">\n",
              "        \n",
              "  <svg xmlns=\"http://www.w3.org/2000/svg\" height=\"24px\"viewBox=\"0 0 24 24\"\n",
              "       width=\"24px\">\n",
              "    <path d=\"M0 0h24v24H0V0z\" fill=\"none\"/>\n",
              "    <path d=\"M18.56 5.44l.94 2.06.94-2.06 2.06-.94-2.06-.94-.94-2.06-.94 2.06-2.06.94zm-11 1L8.5 8.5l.94-2.06 2.06-.94-2.06-.94L8.5 2.5l-.94 2.06-2.06.94zm10 10l.94 2.06.94-2.06 2.06-.94-2.06-.94-.94-2.06-.94 2.06-2.06.94z\"/><path d=\"M17.41 7.96l-1.37-1.37c-.4-.4-.92-.59-1.43-.59-.52 0-1.04.2-1.43.59L10.3 9.45l-7.72 7.72c-.78.78-.78 2.05 0 2.83L4 21.41c.39.39.9.59 1.41.59.51 0 1.02-.2 1.41-.59l7.78-7.78 2.81-2.81c.8-.78.8-2.07 0-2.86zM5.41 20L4 18.59l7.72-7.72 1.47 1.35L5.41 20z\"/>\n",
              "  </svg>\n",
              "      </button>\n",
              "      \n",
              "  <style>\n",
              "    .colab-df-container {\n",
              "      display:flex;\n",
              "      flex-wrap:wrap;\n",
              "      gap: 12px;\n",
              "    }\n",
              "\n",
              "    .colab-df-convert {\n",
              "      background-color: #E8F0FE;\n",
              "      border: none;\n",
              "      border-radius: 50%;\n",
              "      cursor: pointer;\n",
              "      display: none;\n",
              "      fill: #1967D2;\n",
              "      height: 32px;\n",
              "      padding: 0 0 0 0;\n",
              "      width: 32px;\n",
              "    }\n",
              "\n",
              "    .colab-df-convert:hover {\n",
              "      background-color: #E2EBFA;\n",
              "      box-shadow: 0px 1px 2px rgba(60, 64, 67, 0.3), 0px 1px 3px 1px rgba(60, 64, 67, 0.15);\n",
              "      fill: #174EA6;\n",
              "    }\n",
              "\n",
              "    [theme=dark] .colab-df-convert {\n",
              "      background-color: #3B4455;\n",
              "      fill: #D2E3FC;\n",
              "    }\n",
              "\n",
              "    [theme=dark] .colab-df-convert:hover {\n",
              "      background-color: #434B5C;\n",
              "      box-shadow: 0px 1px 3px 1px rgba(0, 0, 0, 0.15);\n",
              "      filter: drop-shadow(0px 1px 2px rgba(0, 0, 0, 0.3));\n",
              "      fill: #FFFFFF;\n",
              "    }\n",
              "  </style>\n",
              "\n",
              "      <script>\n",
              "        const buttonEl =\n",
              "          document.querySelector('#df-3f67c6b6-381e-4c62-baab-b46ea78ecaa3 button.colab-df-convert');\n",
              "        buttonEl.style.display =\n",
              "          google.colab.kernel.accessAllowed ? 'block' : 'none';\n",
              "\n",
              "        async function convertToInteractive(key) {\n",
              "          const element = document.querySelector('#df-3f67c6b6-381e-4c62-baab-b46ea78ecaa3');\n",
              "          const dataTable =\n",
              "            await google.colab.kernel.invokeFunction('convertToInteractive',\n",
              "                                                     [key], {});\n",
              "          if (!dataTable) return;\n",
              "\n",
              "          const docLinkHtml = 'Like what you see? Visit the ' +\n",
              "            '<a target=\"_blank\" href=https://colab.research.google.com/notebooks/data_table.ipynb>data table notebook</a>'\n",
              "            + ' to learn more about interactive tables.';\n",
              "          element.innerHTML = '';\n",
              "          dataTable['output_type'] = 'display_data';\n",
              "          await google.colab.output.renderOutput(dataTable, element);\n",
              "          const docLink = document.createElement('div');\n",
              "          docLink.innerHTML = docLinkHtml;\n",
              "          element.appendChild(docLink);\n",
              "        }\n",
              "      </script>\n",
              "    </div>\n",
              "  </div>\n",
              "  "
            ]
          },
          "metadata": {},
          "execution_count": 62
        }
      ],
      "source": [
        "dfttt = datahead.iloc[:,3:]\n",
        "dfttt.head()"
      ]
    },
    {
      "cell_type": "code",
      "execution_count": null,
      "metadata": {
        "id": "FHdLh88KlIVh"
      },
      "outputs": [],
      "source": [
        "probab = dfttt.to_numpy()"
      ]
    },
    {
      "cell_type": "code",
      "execution_count": null,
      "metadata": {
        "id": "cnZRP13Bb_8T"
      },
      "outputs": [],
      "source": [
        "if n_classes==3 : \n",
        "  macro_roc_auc_ovo = roc_auc_score(datahead['y_real'],probab, multi_class=\"ovo\", average=\"macro\")\n",
        "  print(macro_roc_auc_ovo)\n",
        "  macro_roc_auc_ovo = roc_auc_score(datahead['y_real'],probab, multi_class=\"ovr\", average=\"weighted\")\n",
        "  print(macro_roc_auc_ovo)"
      ]
    },
    {
      "cell_type": "code",
      "execution_count": null,
      "metadata": {
        "id": "XKrM0UZBfgNj"
      },
      "outputs": [],
      "source": [
        "from sklearn.preprocessing import label_binarize\n",
        "from sklearn.metrics import precision_recall_curve\n",
        "from sklearn.metrics import average_precision_score\n",
        "if n_classes == 3 : \n",
        "  Y_test = datahead['y_real']\n",
        "  y_score = probab\n",
        "  # Use label_binarize to be multi-label like settings\n",
        "  Y = label_binarize(Y_test, classes=[0, 1, 2])\n",
        "  n_classes = Y.shape[1]\n",
        "\n",
        "  Y_test = Y\n",
        "\n",
        "\n",
        "  # For each class\n",
        "  precision = dict()\n",
        "  recall = dict()\n",
        "  average_precision = dict()\n",
        "  for i in range(n_classes):\n",
        "      precision[i], recall[i], _ = precision_recall_curve(Y_test[:, i], y_score[:, i])\n",
        "      average_precision[i] = average_precision_score(Y_test[:, i], y_score[:, i])\n",
        "\n",
        "  # A \"micro-average\": quantifying score on all classes jointly\n",
        "  precision[\"micro\"], recall[\"micro\"], _ = precision_recall_curve(\n",
        "      Y_test.ravel(), y_score.ravel()\n",
        "  )\n",
        "  average_precision[\"micro\"] = average_precision_score(Y_test, y_score, average=\"micro\")\n",
        "  average_precision[\"macro\"] = average_precision_score(Y_test, y_score, average=\"macro\")\n",
        "  print(average_precision[\"micro\"])\n",
        "  print(average_precision[\"macro\"])"
      ]
    },
    {
      "cell_type": "code",
      "execution_count": null,
      "metadata": {
        "id": "xODurCa8eDB9"
      },
      "outputs": [],
      "source": [
        "from sklearn.metrics import PrecisionRecallDisplay\n",
        "if n_classes == 3 :\n",
        "  display = PrecisionRecallDisplay(\n",
        "      recall=recall[\"micro\"],\n",
        "      precision=precision[\"micro\"],\n",
        "      average_precision=average_precision[\"micro\"],\n",
        "  )\n",
        "  display.plot()\n",
        "  _ = display.ax_.set_title(\"Micro-averaged over all classes\")"
      ]
    },
    {
      "cell_type": "code",
      "execution_count": null,
      "metadata": {
        "id": "XfHifRsEeNC4"
      },
      "outputs": [],
      "source": [
        ""
      ]
    },
    {
      "cell_type": "code",
      "execution_count": null,
      "metadata": {
        "id": "uiDe7UINd8v3"
      },
      "outputs": [],
      "source": [
        ""
      ]
    },
    {
      "cell_type": "code",
      "execution_count": null,
      "metadata": {
        "id": "O8qSxp8vgWYS"
      },
      "outputs": [],
      "source": [
        "#NEXT CELLS FOR NUMBER OF CLASSES = 2"
      ]
    },
    {
      "cell_type": "code",
      "execution_count": null,
      "metadata": {
        "id": "zF6w3Y4kSUMo",
        "colab": {
          "base_uri": "https://localhost:8080/"
        },
        "outputId": "70485940-a267-4af9-80dd-bff4b5f25cd4"
      },
      "outputs": [
        {
          "output_type": "stream",
          "name": "stdout",
          "text": [
            "AUC: 0.937\n"
          ]
        }
      ],
      "source": [
        "auc = roc_auc_score(datahead['y_real'],datahead['y_predfrac1'])\n",
        "print('AUC: %.3f' % auc)"
      ]
    },
    {
      "cell_type": "code",
      "execution_count": null,
      "metadata": {
        "id": "Y2SNYvsMSokW",
        "colab": {
          "base_uri": "https://localhost:8080/",
          "height": 296
        },
        "outputId": "7cf6e2d7-cfdc-4c13-85e1-c0f245934278"
      },
      "outputs": [
        {
          "output_type": "stream",
          "name": "stdout",
          "text": [
            "Model: ROC AUC=0.937\n"
          ]
        },
        {
          "output_type": "display_data",
          "data": {
            "text/plain": [
              "<Figure size 432x288 with 1 Axes>"
            ],
            "image/png": "[encoded data removed]"
          },
          "metadata": {
            "needs_background": "light"
          }
        }
      ],
      "source": [
        "\n",
        "lr_auc = roc_auc_score(datahead['y_real'],datahead['y_predfrac1'])\n",
        "# summarize scores\n",
        "\n",
        "print('Model: ROC AUC=%.3f' % (lr_auc))\n",
        "# calculate roc curves\n",
        "\n",
        "lr_fpr, lr_tpr, _ = roc_curve(datahead['y_real'],datahead['y_predfrac1'])\n",
        "# plot the roc curve for the model\n",
        "pyplot.plot(lr_fpr, lr_tpr, marker='.', label='Model')\n",
        "# axis labels\n",
        "pyplot.xlabel('False Positive Rate')\n",
        "pyplot.ylabel('True Positive Rate')\n",
        "# show the legend\n",
        "pyplot.legend()\n",
        "# show the plot\n",
        "pyplot.show()"
      ]
    },
    {
      "cell_type": "code",
      "execution_count": null,
      "metadata": {
        "id": "X9Zg9xlbS6kv",
        "colab": {
          "base_uri": "https://localhost:8080/",
          "height": 296
        },
        "outputId": "61b2d260-fbbb-459c-a991-aab8b5bab41a"
      },
      "outputs": [
        {
          "output_type": "stream",
          "name": "stdout",
          "text": [
            "Logistic: f1=0.881 auc=0.937\n"
          ]
        },
        {
          "output_type": "display_data",
          "data": {
            "text/plain": [
              "<Figure size 432x288 with 1 Axes>"
            ],
            "image/png": "[encoded data removed]"
          },
          "metadata": {
            "needs_background": "light"
          }
        }
      ],
      "source": [
        "lr_precision, lr_recall, _ = precision_recall_curve(datahead['y_real'],datahead['y_predfrac1'])\n",
        "lr_f1, lr_auc = f1_score(datahead['y_real'], datahead['y_pred']), metrics.auc(lr_recall, lr_precision)\n",
        "# summarize scores\n",
        "print('Logistic: f1=%.3f auc=%.3f' % (lr_f1, lr_auc))\n",
        "# plot the precision-recall curves\n",
        "no_skill = len(datahead['y_real'][datahead['y_real']==1]) / len(datahead['y_real'])\n",
        "pyplot.plot([0, 1], [no_skill, no_skill], linestyle='--', label='No Skill')\n",
        "pyplot.plot(lr_recall, lr_precision, marker='.', label='Logistic')\n",
        "# axis labels\n",
        "pyplot.xlabel('Recall')\n",
        "pyplot.ylabel('Precision')\n",
        "# show the legend\n",
        "pyplot.legend()\n",
        "# show the plot\n",
        "pyplot.show()"
      ]
    },
    {
      "cell_type": "code",
      "execution_count": null,
      "metadata": {
        "id": "Lah0flI3B5-H",
        "colab": {
          "base_uri": "https://localhost:8080/"
        },
        "outputId": "a9a8c259-9b77-443e-f2a2-1497fd693736"
      },
      "outputs": [
        {
          "output_type": "execute_result",
          "data": {
            "text/plain": [
              "0.9367521054020822"
            ]
          },
          "metadata": {},
          "execution_count": 71
        }
      ],
      "source": [
        "precision, recall, thresholds  = precision_recall_curve(datahead['y_real'], datahead['y_predfrac1'])\n",
        "auc_score = metrics.auc(recall, precision)\n",
        "auc_score"
      ]
    },
    {
      "cell_type": "code",
      "execution_count": null,
      "metadata": {
        "id": "t9bJ4uvNDF0n"
      },
      "outputs": [],
      "source": [
        ""
      ]
    },
    {
      "cell_type": "code",
      "execution_count": null,
      "metadata": {
        "id": "elmQGbThtjkR"
      },
      "outputs": [],
      "source": [
        ""
      ]
    }
  ],
  "metadata": {
    "accelerator": "GPU",
    "colab": {
      "collapsed_sections": [],
      "machine_shape": "hm",
      "name": "encod-dict(gcn).ipynb",
      "provenance": []
    },
    "kernelspec": {
      "display_name": "Python 3",
      "name": "python3"
    },
    "language_info": {
      "name": "python"
    }
  },
  "nbformat": 4,
  "nbformat_minor": 0
}